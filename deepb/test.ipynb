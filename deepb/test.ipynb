{
 "cells": [
  {
   "cell_type": "code",
   "execution_count": 1,
   "metadata": {
    "collapsed": false
   },
   "outputs": [],
   "source": [
    "gene_file_path = 'input/input_genes.txt'\n",
    "phenotype_file_path = 'input/input_phenotype.txt'"
   ]
  },
  {
   "cell_type": "code",
   "execution_count": 2,
   "metadata": {
    "collapsed": false
   },
   "outputs": [
    {
     "ename": "ValueError",
     "evalue": "too many values to unpack",
     "output_type": "error",
     "traceback": [
      "\u001b[0;31m---------------------------------------------------------------------------\u001b[0m",
      "\u001b[0;31mValueError\u001b[0m                                Traceback (most recent call last)",
      "\u001b[0;32m<ipython-input-2-392b0178f70f>\u001b[0m in \u001b[0;36m<module>\u001b[0;34m()\u001b[0m\n\u001b[1;32m    198\u001b[0m \u001b[0mdf_hpo_ranking_genes\u001b[0m \u001b[0;34m=\u001b[0m \u001b[0mpd\u001b[0m\u001b[0;34m.\u001b[0m\u001b[0mDataFrame\u001b[0m\u001b[0;34m(\u001b[0m\u001b[0mranking_genes\u001b[0m\u001b[0;34m,\u001b[0m \u001b[0mcolumns\u001b[0m\u001b[0;34m=\u001b[0m\u001b[0;34m[\u001b[0m\u001b[0;34m'gene'\u001b[0m\u001b[0;34m,\u001b[0m \u001b[0;34m'score'\u001b[0m\u001b[0;34m,\u001b[0m \u001b[0;34m'hits'\u001b[0m\u001b[0;34m]\u001b[0m\u001b[0;34m)\u001b[0m\u001b[0;34m\u001b[0m\u001b[0m\n\u001b[1;32m    199\u001b[0m \u001b[0mdf_hpo_ranking_genes\u001b[0m \u001b[0;34m=\u001b[0m \u001b[0mdf_hpo_ranking_genes\u001b[0m\u001b[0;34m[\u001b[0m\u001b[0;34m[\u001b[0m\u001b[0;34m'gene'\u001b[0m\u001b[0;34m,\u001b[0m \u001b[0;34m'score'\u001b[0m\u001b[0;34m]\u001b[0m\u001b[0;34m]\u001b[0m\u001b[0;34m\u001b[0m\u001b[0m\n\u001b[0;32m--> 200\u001b[0;31m \u001b[0mACMG_result\u001b[0m\u001b[0;34m,\u001b[0m \u001b[0mvariant_ACMG_interpretation\u001b[0m\u001b[0;34m,\u001b[0m \u001b[0mvariant_ACMG_interpret_chinese\u001b[0m \u001b[0;34m=\u001b[0m \u001b[0mACMG\u001b[0m\u001b[0;34m.\u001b[0m\u001b[0mGet_ACMG_result\u001b[0m\u001b[0;34m(\u001b[0m\u001b[0mdf_hpo_ranking_genes\u001b[0m\u001b[0;34m,\u001b[0m \u001b[0mvariants\u001b[0m\u001b[0;34m,\u001b[0m \u001b[0mdf_pubmed\u001b[0m\u001b[0;34m)\u001b[0m\u001b[0;34m\u001b[0m\u001b[0m\n\u001b[0m\u001b[1;32m    201\u001b[0m \u001b[0;34m\u001b[0m\u001b[0m\n\u001b[1;32m    202\u001b[0m \u001b[0;31m# filter variant on phenotype\u001b[0m\u001b[0;34m\u001b[0m\u001b[0;34m\u001b[0m\u001b[0m\n",
      "\u001b[0;31mValueError\u001b[0m: too many values to unpack"
     ]
    }
   ],
   "source": [
    "import map_phenotype_to_gene\n",
    "import collectVariantInfo\n",
    "import pubmed\n",
    "import ACMG\n",
    "import filterVariantOnPhenotype\n",
    "import csv\n",
    "\n",
    "import pandas as pd\n",
    "import numpy as np\n",
    "import re\n",
    "import myvariant\n",
    "# from deepb.models import Main_table, Raw_input_table\n",
    "from io import StringIO\n",
    "from collections import Counter\n",
    "\n",
    "\n",
    "# input_phenotype = 'data/sample_patient_phenotype.txt'\n",
    "# input_genes = 'data/sample_genes.txt'\n",
    "\n",
    "def format_hgvs(chrom, pos, ref, alt):\n",
    "    '''get a valid hgvs name from VCF-style \"chrom, pos, ref, alt\" data.\n",
    "\n",
    "    Example:\n",
    "\n",
    "        >>> myvariant.format_hgvs(\"1\", 35366, \"C\", \"T\")\n",
    "        >>> myvariant.format_hgvs(\"2\", 17142, \"G\", \"GA\")\n",
    "        >>> myvariant.format_hgvs(\"MT\", 8270, \"CACCCCCTCT\", \"C\")\n",
    "        >>> myvariant.format_hgvs(\"X\", 107930849, \"GGA\", \"C\")\n",
    "\n",
    "    '''\n",
    "    chrom = str(chrom)\n",
    "    if chrom.lower().startswith('chr'):\n",
    "        # trim off leading \"chr\" if any\n",
    "        chrom = chrom[3:]\n",
    "    if len(ref) == len(alt) == 1:\n",
    "        # this is a SNP\n",
    "        hgvs = 'chr{0}:g.{1}{2}>{3}'.format(chrom, pos, ref, alt)\n",
    "    elif len(ref) > 1 and len(alt) == 1:\n",
    "        # this is a deletion:\n",
    "        if ref[0] == alt:\n",
    "            start = int(pos) + 1\n",
    "            end = int(pos) + len(ref) - 1\n",
    "            hgvs = 'chr{0}:g.{1}_{2}del'.format(chrom, start, end)\n",
    "        else:\n",
    "            end = int(pos) + len(ref) - 1\n",
    "            hgvs = 'chr{0}:g.{1}_{2}delins{3}'.format(chrom, pos, end, alt)\n",
    "    elif len(ref) == 1 and len(alt) > 1:\n",
    "        # this is a insertion\n",
    "        if alt[0] == ref:\n",
    "            hgvs = 'chr{0}:g.{1}_{2}ins'.format(chrom, pos, int(pos) + 1)\n",
    "            ins_seq = alt[1:]\n",
    "            hgvs += ins_seq\n",
    "        else:\n",
    "            hgvs = 'chr{0}:g.{1}delins{2}'.format(chrom, pos, alt)\n",
    "    elif len(ref) > 1 and len(alt) > 1:\n",
    "        end = int(pos) + len(alt) - 1\n",
    "        hgvs = 'chr{0}:g.{1}_{2}delins{3}'.format(chrom, pos, end, alt)\n",
    "    else:\n",
    "        raise ValueError(\"Cannot convert {} into HGVS id.\".format((chrom, pos, ref, alt)))\n",
    "    return hgvs\n",
    "\n",
    "def read_input_pheno_file(input_phenotype):\n",
    "    if not input_phenotype:\n",
    "        return '', ''\n",
    "    text = StringIO(unicode(input_phenotype), newline=None)\n",
    "    lines = text.readlines()\n",
    "    lines = [line.strip() for line in lines]\n",
    "    phenos = []\n",
    "    for line in lines:\n",
    "        if not line:\n",
    "            continue\n",
    "        phenos_each_line = re.split(r'  +|\\t+|,|;|\\.|\\|', line.strip())\n",
    "        phenos_each_line = [re.sub(r'^\\W+|\\W+$', '', s) for s in phenos_each_line]\n",
    "        phenos_each_line = [s.lower() for s in phenos_each_line if s]\n",
    "        phenos += phenos_each_line\n",
    "\n",
    "    corner_cases = dict()\n",
    "    for pheno in phenos:\n",
    "        if re.search('development', pheno) and re.search('delay', pheno) and not re.search('growth', pheno):\n",
    "            phenos.append('growth delay')\n",
    "            corner_cases['growth delay'] = pheno.strip()\n",
    "    for pheno in phenos:\n",
    "        if re.search('growth', pheno) and re.search('delay', pheno) and not re.search('development', pheno):\n",
    "            phenos.append('developmental delay')\n",
    "            corner_cases['developmental delay'] = pheno.strip()\n",
    "    return phenos, corner_cases\n",
    "\n",
    "def read_input_gene_file(input_gene):\n",
    "\tcandidate_vars = []\n",
    "\tinput_gene = input_gene.split('\\n')\n",
    "\theader = input_gene[0]\n",
    "\tsniffer = csv.Sniffer()\n",
    "\tdialect = sniffer.sniff(header)\n",
    "\tdelimiter =  dialect.delimiter\n",
    "\tfield_names = header.split(delimiter)\n",
    "\tchrom_idx, pos_idx, ref_idx, alt_idx, gene_idx = None, None, None, None, 0 \n",
    "\n",
    "\tfor idx in xrange(len(field_names)):\n",
    "\t\tfield = field_names[idx]\n",
    "\t\tif re.match(r'chrom', field, re.I): chrom_idx = idx\n",
    "\t\tif re.match(r'pos|start', field, re.I): pos_idx = idx\n",
    "\t\tif re.match(r'ref', field, re.I): ref_idx = idx\n",
    "\t\tif re.match(r'alt|allele 1', field, re.I): alt_idx = idx\n",
    "\t\tif re.match(r'gene (gene)|gene', field, re.I): gene_idx = idx\n",
    "\n",
    "\tinput_gene_list = []\n",
    "\tCANDIDATE_GENES = []\n",
    "\tfor line in input_gene[1:]:\n",
    "\t\tif not line:\n",
    "\t\t\tcontinue\n",
    "\t\tline = line.rstrip()\n",
    "\t\tparts = re.split(r'%s' % delimiter, line)\n",
    "\t\tinput_gene_list.append(parts)\n",
    "\t\tgene = parts[gene_idx]\n",
    "\t\tCANDIDATE_GENES.append(gene)\n",
    "\t\ttranscript, variant, variant_id = '', '', ''\n",
    "\t\tfor part in parts:\n",
    "\t\t\tif re.search(r'_.*:c\\.', part):\n",
    "\t\t\t\ttranscript, variant = part.split(':')\n",
    "\t\t\telse:\n",
    "\t\t\t\tif re.search(r'c\\.', part):\n",
    "\t\t\t\t\tvariant = part\n",
    "\t\t\t\tif re.search(r'NM_', part, re.I):\n",
    "\t\t\t\t\ttranscript = part.split(':')[0]\n",
    "\t\t\tif re.search(r'_.*:g\\.', part):\n",
    "\t\t\t\tvariant_id = 'chr' + part.split(':')[0].split('.')[-1] + part.split(':')[-1]\n",
    "\t\t\tif re.search(r'chr.*:g\\.', part, re.I):\n",
    "\t\t\t\tvariant_id = part\n",
    "\t\tif not variant_id and (chrom_idx and pos_idx and ref_idx and alt_idx):\n",
    "\t\t\tchrome, pos, ref, alt = parts[chrom_idx], parts[pos_idx], parts[ref_idx], parts[alt_idx]\n",
    "\t\t\tvariant_id = format_hgvs(chrome, pos, ref, alt)\n",
    "\t\tcandidate_vars.append((gene, variant, transcript, variant_id))\n",
    "\n",
    "        # remove lines in the input file which has wrong number of fields\n",
    "        field_nums = []\n",
    "        for line in input_gene_list:\n",
    "\t\t\tfield_nums.append(len(line))\n",
    "        count = Counter(field_nums)\n",
    "        correct_field_num = count.most_common()[0][0]\n",
    "        correct_input_gene_list = []\n",
    "        for line in input_gene_list:\n",
    "\t\t\tif len(line) == correct_field_num:\n",
    "\t\t\t\tcorrect_input_gene_list.append(line)\n",
    "        df_genes = pd.DataFrame(correct_input_gene_list, columns = field_names)\n",
    "        return candidate_vars, CANDIDATE_GENES, df_genes, field_names \n",
    "\n",
    "def map_phenotype2gene(CANDIDATE_GENES, phenos, corner_cases, candidate_vars):\n",
    "\tranking_genes, ranking_disease = map_phenotype_to_gene.generate_score(phenos, CANDIDATE_GENES, corner_cases)\n",
    "\t# collect variant info\n",
    "\thpo_filtered_genes = np.unique([i[0] for i in ranking_genes]).tolist()\n",
    "\n",
    "\ttmp_candidate_vars = []\n",
    "\tfor var in candidate_vars:\n",
    "\t\tif var[0] in hpo_filtered_genes:\n",
    "\t\t\ttmp_candidate_vars.append(var)\n",
    "\tcandidate_vars = tmp_candidate_vars\n",
    "\treturn ranking_genes, candidate_vars\n",
    "\n",
    "# \tstatus_step = \"generating candidate variants ...\" \n",
    "# \traw_input = Raw_input_table.objects.get(id=raw_input_id)\n",
    "# \tinput_gene = raw_input.raw_input_gene\n",
    "# \tinput_phenotype = raw_input.raw_input_phenotype\n",
    "input_gene = open(\"/Users/Tianqi/Desktop/xiaonantest1_g.txt\",'rU').read()\n",
    "input_phenotype = open(\"/Users/Tianqi/Desktop/xiaonantest1_p.txt\",'rU').read()\n",
    "\n",
    "# Read input pheno file and generate phenos and corner_cases \n",
    "phenos, corner_cases = read_input_pheno_file(input_phenotype)\n",
    "\n",
    "\n",
    "# Read input gene file and generate candidate_vars. candidate_vars are (gene, variant, transcript, variant_id); CANDIDATE_GENES is a list of gene symbols; df_genes is a dataframe that keeps all the data that user uploaded; field_names are header of the input gene file \n",
    "candidate_vars, CANDIDATE_GENES, df_genes, field_names = read_input_gene_file(input_gene)\n",
    "\n",
    "# map phenotype to gene; the candidate_vars was filtered: if it is a gene associated with phenos, then keep it.\n",
    "\n",
    "if phenos:\n",
    "#     raw_input.status = \"Maping phenotypes to genes\"\n",
    "#     raw_input.save()\n",
    "    ranking_genes, candidate_vars = map_phenotype2gene(CANDIDATE_GENES, phenos, corner_cases, candidate_vars)\n",
    "else:\n",
    "    ranking_genes = []\n",
    "    for gene in CANDIDATE_GENES:\n",
    "        ranking_genes.append((gene, 1.0, 1))\n",
    "\n",
    "# collect variant info\n",
    "# raw_input.status = \"Annotating variants using genomic databases\"\n",
    "# raw_input.save()\n",
    "mv = myvariant.MyVariantInfo()\n",
    "final_res, variants = collectVariantInfo.get_variants(candidate_vars)\n",
    "\n",
    "# pubmed\n",
    "# raw_input.status = \"Searching biomedical literatures\"\n",
    "# raw_input.save()\n",
    "df_pubmed = pubmed.queryPubmedDB(final_res)\n",
    "\n",
    "# ACMG\n",
    "# raw_input.status = \"Checking ACMG standard\"\n",
    "# raw_input.save()\n",
    "df_hpo_ranking_genes = pd.DataFrame(ranking_genes, columns=['gene', 'score', 'hits'])\n",
    "df_hpo_ranking_genes = df_hpo_ranking_genes[['gene', 'score']]\n",
    "ACMG_result, variant_ACMG_interpretation, variant_ACMG_interpret_chinese = ACMG.Get_ACMG_result(df_hpo_ranking_genes, variants, df_pubmed)\n",
    "\n",
    "# filter variant on phenotype\n",
    "\n",
    "# if phenos:\n",
    "# #     raw_input.status = \"Filtering variants based on phenotypes\"\n",
    "# #     raw_input.save()\n",
    "#     df_final_res, variant_ACMG_interpretation, variant_ACMG_interpret_chinese = filterVariantOnPhenotype.generateOutput(variants, ACMG_result, phenos, variant_ACMG_interpretation, variant_ACMG_interpret_chinese)\n",
    "# else:\n",
    "#     df_final_res = ACMG_result"
   ]
  },
  {
   "cell_type": "code",
   "execution_count": 4,
   "metadata": {
    "collapsed": false
   },
   "outputs": [
    {
     "ename": "TypeError",
     "evalue": "not enough arguments for format string",
     "output_type": "error",
     "traceback": [
      "\u001b[0;31m---------------------------------------------------------------------------\u001b[0m",
      "\u001b[0;31mTypeError\u001b[0m                                 Traceback (most recent call last)",
      "\u001b[0;32m<ipython-input-4-f1eb3f93d918>\u001b[0m in \u001b[0;36m<module>\u001b[0;34m()\u001b[0m\n\u001b[0;32m----> 1\u001b[0;31m \u001b[0;34m[\u001b[0m\u001b[0;34m\"<a href='https://www.ncbi.nlm.nih.gov/pubmed/%s'> %s </a>\"\u001b[0m \u001b[0;34m%\u001b[0m\u001b[0mi\u001b[0m \u001b[0;32mfor\u001b[0m \u001b[0mi\u001b[0m \u001b[0;32min\u001b[0m \u001b[0;34m[\u001b[0m\u001b[0;34m'a'\u001b[0m\u001b[0;34m,\u001b[0m\u001b[0;34m'b'\u001b[0m\u001b[0;34m]\u001b[0m\u001b[0;34m]\u001b[0m\u001b[0;34m\u001b[0m\u001b[0m\n\u001b[0m",
      "\u001b[0;31mTypeError\u001b[0m: not enough arguments for format string"
     ]
    }
   ],
   "source": [
    "[\"<a href='https://www.ncbi.nlm.nih.gov/pubmed/%s'> %s </a>\" %(i,i) for i in ['a','b']]\n"
   ]
  },
  {
   "cell_type": "code",
   "execution_count": 11,
   "metadata": {
    "collapsed": false
   },
   "outputs": [
    {
     "data": {
      "text/html": [
       "<div>\n",
       "<table border=\"1\" class=\"dataframe\">\n",
       "  <thead>\n",
       "    <tr style=\"text-align: right;\">\n",
       "      <th></th>\n",
       "      <th>gene</th>\n",
       "      <th>variant</th>\n",
       "      <th>id</th>\n",
       "      <th>final_score</th>\n",
       "      <th>pathogenicity_score</th>\n",
       "      <th>pathogenicity</th>\n",
       "      <th>hit_criteria</th>\n",
       "      <th>hpo_hit_score</th>\n",
       "    </tr>\n",
       "  </thead>\n",
       "  <tbody>\n",
       "    <tr>\n",
       "      <th>0</th>\n",
       "      <td>BBS10</td>\n",
       "      <td>c.145C&gt;T</td>\n",
       "      <td>chr12:g.76741994G&gt;A</td>\n",
       "      <td>8.24</td>\n",
       "      <td>3.875000</td>\n",
       "      <td>Likely pathogenic</td>\n",
       "      <td>PS1|PM1|PP3|PP5</td>\n",
       "      <td>5.666667</td>\n",
       "    </tr>\n",
       "    <tr>\n",
       "      <th>1</th>\n",
       "      <td>HBB</td>\n",
       "      <td>c.208G&gt;A</td>\n",
       "      <td>chr11:g.5247914C&gt;T</td>\n",
       "      <td>8.11</td>\n",
       "      <td>2.625000</td>\n",
       "      <td>Uncertain significance</td>\n",
       "      <td>PM5|PM1|PP3|PP5</td>\n",
       "      <td>19.213095</td>\n",
       "    </tr>\n",
       "    <tr>\n",
       "      <th>2</th>\n",
       "      <td>DLX3</td>\n",
       "      <td>c.335A&gt;G</td>\n",
       "      <td>chr17:g.48070945T&gt;C</td>\n",
       "      <td>6.15</td>\n",
       "      <td>3.961200</td>\n",
       "      <td>Uncertain significance</td>\n",
       "      <td>PS1|PM1|PM2|PP3|BP1</td>\n",
       "      <td>2.000000</td>\n",
       "    </tr>\n",
       "    <tr>\n",
       "      <th>3</th>\n",
       "      <td>PROP1</td>\n",
       "      <td>c.652A&gt;C</td>\n",
       "      <td>chr5:g.177419739T&gt;G</td>\n",
       "      <td>5.23</td>\n",
       "      <td>2.250000</td>\n",
       "      <td>Uncertain significance</td>\n",
       "      <td>PM1|PM2|PP3</td>\n",
       "      <td>7.500000</td>\n",
       "    </tr>\n",
       "    <tr>\n",
       "      <th>4</th>\n",
       "      <td>SOX3</td>\n",
       "      <td>c.818C&gt;T</td>\n",
       "      <td>chrX:g.139586408G&gt;A</td>\n",
       "      <td>5.19</td>\n",
       "      <td>2.250000</td>\n",
       "      <td>Uncertain significance</td>\n",
       "      <td>PM1|PM2|PP3</td>\n",
       "      <td>7.333333</td>\n",
       "    </tr>\n",
       "    <tr>\n",
       "      <th>5</th>\n",
       "      <td>CEP152</td>\n",
       "      <td>c.3530A&gt;G</td>\n",
       "      <td>chr15:g.49040744T&gt;C</td>\n",
       "      <td>4.97</td>\n",
       "      <td>2.250000</td>\n",
       "      <td>Uncertain significance</td>\n",
       "      <td>PM1|PM2|PP3</td>\n",
       "      <td>6.404762</td>\n",
       "    </tr>\n",
       "    <tr>\n",
       "      <th>6</th>\n",
       "      <td>PRKDC</td>\n",
       "      <td>c.3278A&gt;T</td>\n",
       "      <td>chr8:g.48813019T&gt;A</td>\n",
       "      <td>4.45</td>\n",
       "      <td>2.250000</td>\n",
       "      <td>Uncertain significance</td>\n",
       "      <td>PM1|PM2|PP3</td>\n",
       "      <td>4.500000</td>\n",
       "    </tr>\n",
       "    <tr>\n",
       "      <th>7</th>\n",
       "      <td>PCDH15</td>\n",
       "      <td>c.4793G&gt;A</td>\n",
       "      <td>chr10:g.55582714C&gt;T</td>\n",
       "      <td>3.99</td>\n",
       "      <td>2.250000</td>\n",
       "      <td>Uncertain significance</td>\n",
       "      <td>PM1|PM2|PP3</td>\n",
       "      <td>3.166667</td>\n",
       "    </tr>\n",
       "    <tr>\n",
       "      <th>8</th>\n",
       "      <td>PLEC</td>\n",
       "      <td>c.1712G&gt;A</td>\n",
       "      <td>chr8:g.145007482C&gt;T</td>\n",
       "      <td>3.92</td>\n",
       "      <td>1.750000</td>\n",
       "      <td>Uncertain significance</td>\n",
       "      <td>PM1|PM2|PP3|BP1</td>\n",
       "      <td>6.666667</td>\n",
       "    </tr>\n",
       "    <tr>\n",
       "      <th>9</th>\n",
       "      <td>FOXRED1</td>\n",
       "      <td>c.286G&gt;T</td>\n",
       "      <td>chr11:g.126141532G&gt;T</td>\n",
       "      <td>3.47</td>\n",
       "      <td>1.500000</td>\n",
       "      <td>Uncertain significance</td>\n",
       "      <td>PM1|PP3</td>\n",
       "      <td>7.400000</td>\n",
       "    </tr>\n",
       "    <tr>\n",
       "      <th>10</th>\n",
       "      <td>GLYCTK</td>\n",
       "      <td>c.1313C&gt;T</td>\n",
       "      <td>chr3:g.52326883C&gt;T</td>\n",
       "      <td>3.34</td>\n",
       "      <td>1.625000</td>\n",
       "      <td>Uncertain significance</td>\n",
       "      <td>PM1|PP3|PP2</td>\n",
       "      <td>5.100000</td>\n",
       "    </tr>\n",
       "    <tr>\n",
       "      <th>11</th>\n",
       "      <td>PIEZO1</td>\n",
       "      <td>c.1387G&gt;A</td>\n",
       "      <td>chr16:g.88802726C&gt;T</td>\n",
       "      <td>3.21</td>\n",
       "      <td>2.750000</td>\n",
       "      <td>Uncertain significance</td>\n",
       "      <td>PM1|PM2|PP3|PP2</td>\n",
       "      <td>0.500000</td>\n",
       "    </tr>\n",
       "    <tr>\n",
       "      <th>12</th>\n",
       "      <td>COL5A2</td>\n",
       "      <td>c.1976C&gt;T</td>\n",
       "      <td>chr2:g.189927592G&gt;A</td>\n",
       "      <td>3.10</td>\n",
       "      <td>1.500000</td>\n",
       "      <td>Uncertain significance</td>\n",
       "      <td>PM1|PP3</td>\n",
       "      <td>5.166667</td>\n",
       "    </tr>\n",
       "    <tr>\n",
       "      <th>13</th>\n",
       "      <td>MTPAP</td>\n",
       "      <td>c.1533G&gt;C</td>\n",
       "      <td>chr10:g.30602754C&gt;G</td>\n",
       "      <td>2.95</td>\n",
       "      <td>2.250000</td>\n",
       "      <td>Uncertain significance</td>\n",
       "      <td>PM1|PM2|PP3</td>\n",
       "      <td>1.000000</td>\n",
       "    </tr>\n",
       "    <tr>\n",
       "      <th>14</th>\n",
       "      <td>SCN5A</td>\n",
       "      <td>c.1982G&gt;A</td>\n",
       "      <td>chr3:g.38640450C&gt;T</td>\n",
       "      <td>2.92</td>\n",
       "      <td>2.500000</td>\n",
       "      <td>Uncertain significance</td>\n",
       "      <td>PM1|PM2|PP3</td>\n",
       "      <td>0.500000</td>\n",
       "    </tr>\n",
       "    <tr>\n",
       "      <th>15</th>\n",
       "      <td>PYGL</td>\n",
       "      <td>c.1900G&gt;C</td>\n",
       "      <td>chr14:g.51378517C&gt;G</td>\n",
       "      <td>2.88</td>\n",
       "      <td>2.000000</td>\n",
       "      <td>Uncertain significance</td>\n",
       "      <td>PM1|PP3|PP5</td>\n",
       "      <td>1.500000</td>\n",
       "    </tr>\n",
       "    <tr>\n",
       "      <th>16</th>\n",
       "      <td>CCBE1</td>\n",
       "      <td>c.1174A&gt;T</td>\n",
       "      <td>chr18:g.57103187T&gt;A</td>\n",
       "      <td>2.82</td>\n",
       "      <td>1.500000</td>\n",
       "      <td>Uncertain significance</td>\n",
       "      <td>PM2|PP3</td>\n",
       "      <td>3.833333</td>\n",
       "    </tr>\n",
       "    <tr>\n",
       "      <th>17</th>\n",
       "      <td>SLC13A5</td>\n",
       "      <td>c.1163A&gt;G</td>\n",
       "      <td>chr17:g.6596475T&gt;C</td>\n",
       "      <td>2.63</td>\n",
       "      <td>2.250000</td>\n",
       "      <td>Uncertain significance</td>\n",
       "      <td>PM1|PM2|PP3</td>\n",
       "      <td>0.500000</td>\n",
       "    </tr>\n",
       "    <tr>\n",
       "      <th>18</th>\n",
       "      <td>PRSS1</td>\n",
       "      <td>c.502C&gt;A</td>\n",
       "      <td>chr7:g.142460329C&gt;A</td>\n",
       "      <td>2.52</td>\n",
       "      <td>1.750000</td>\n",
       "      <td>Uncertain significance</td>\n",
       "      <td>PM1|PP3|PP2</td>\n",
       "      <td>1.500000</td>\n",
       "    </tr>\n",
       "    <tr>\n",
       "      <th>19</th>\n",
       "      <td>ZSWIM6</td>\n",
       "      <td>c.1472A&gt;G</td>\n",
       "      <td>chr5:g.60817228A&gt;G</td>\n",
       "      <td>2.38</td>\n",
       "      <td>1.250000</td>\n",
       "      <td>Uncertain significance</td>\n",
       "      <td>PM1|PP3</td>\n",
       "      <td>4.000000</td>\n",
       "    </tr>\n",
       "    <tr>\n",
       "      <th>20</th>\n",
       "      <td>PLEC</td>\n",
       "      <td>c.11402A&gt;G</td>\n",
       "      <td>chr8:g.144992998T&gt;C</td>\n",
       "      <td>2.24</td>\n",
       "      <td>1.000000</td>\n",
       "      <td>Likely benign</td>\n",
       "      <td>PM1|PM2|BP1|BP4</td>\n",
       "      <td>6.666667</td>\n",
       "    </tr>\n",
       "    <tr>\n",
       "      <th>21</th>\n",
       "      <td>EGFR</td>\n",
       "      <td>c.1973G&gt;A</td>\n",
       "      <td>chr7:g.55238092G&gt;A</td>\n",
       "      <td>2.16</td>\n",
       "      <td>1.500000</td>\n",
       "      <td>Uncertain significance</td>\n",
       "      <td>PM1|PM2|BP4</td>\n",
       "      <td>1.500000</td>\n",
       "    </tr>\n",
       "    <tr>\n",
       "      <th>22</th>\n",
       "      <td>CTGF</td>\n",
       "      <td>c.172C&gt;G</td>\n",
       "      <td>chr6:g.132272027G&gt;C</td>\n",
       "      <td>2.10</td>\n",
       "      <td>1.250000</td>\n",
       "      <td>Uncertain significance</td>\n",
       "      <td>PM1|PP3</td>\n",
       "      <td>2.666667</td>\n",
       "    </tr>\n",
       "    <tr>\n",
       "      <th>23</th>\n",
       "      <td>COL13A1</td>\n",
       "      <td>c.770G&gt;A</td>\n",
       "      <td>chr10:g.71658508G&gt;A</td>\n",
       "      <td>1.98</td>\n",
       "      <td>1.000000</td>\n",
       "      <td>Uncertain significance</td>\n",
       "      <td>PM1|PP3|BP1</td>\n",
       "      <td>4.500000</td>\n",
       "    </tr>\n",
       "    <tr>\n",
       "      <th>24</th>\n",
       "      <td>DNAJB6</td>\n",
       "      <td>c.365T&gt;A</td>\n",
       "      <td>chr7:g.157174958T&gt;A</td>\n",
       "      <td>1.90</td>\n",
       "      <td>1.625000</td>\n",
       "      <td>Uncertain significance</td>\n",
       "      <td>PM1|PP3|PP2</td>\n",
       "      <td>0.500000</td>\n",
       "    </tr>\n",
       "    <tr>\n",
       "      <th>25</th>\n",
       "      <td>ACAD9</td>\n",
       "      <td>c.1414C&gt;T</td>\n",
       "      <td>chr3:g.128627871C&gt;T</td>\n",
       "      <td>1.64</td>\n",
       "      <td>1.250000</td>\n",
       "      <td>Uncertain significance</td>\n",
       "      <td>PM1|PP3</td>\n",
       "      <td>1.000000</td>\n",
       "    </tr>\n",
       "    <tr>\n",
       "      <th>26</th>\n",
       "      <td>TGM5</td>\n",
       "      <td>c.23C&gt;T</td>\n",
       "      <td>chr15:g.43552765G&gt;A</td>\n",
       "      <td>1.49</td>\n",
       "      <td>1.250000</td>\n",
       "      <td>Uncertain significance</td>\n",
       "      <td>PM2|PP3</td>\n",
       "      <td>0.571429</td>\n",
       "    </tr>\n",
       "    <tr>\n",
       "      <th>27</th>\n",
       "      <td>PCK2</td>\n",
       "      <td>c.1354G&gt;A</td>\n",
       "      <td>chr14:g.24573006G&gt;A</td>\n",
       "      <td>1.46</td>\n",
       "      <td>1.250000</td>\n",
       "      <td>Uncertain significance</td>\n",
       "      <td>PM1|PP3</td>\n",
       "      <td>0.500000</td>\n",
       "    </tr>\n",
       "    <tr>\n",
       "      <th>28</th>\n",
       "      <td>TTN</td>\n",
       "      <td>c.57332G&gt;A</td>\n",
       "      <td>chr2:g.179462477C&gt;T</td>\n",
       "      <td>1.31</td>\n",
       "      <td>0.750000</td>\n",
       "      <td>Uncertain significance</td>\n",
       "      <td>PM2|PP3|BP1</td>\n",
       "      <td>3.000000</td>\n",
       "    </tr>\n",
       "    <tr>\n",
       "      <th>29</th>\n",
       "      <td>CEP135</td>\n",
       "      <td>c.1528C&gt;T</td>\n",
       "      <td>chr4:g.56846363C&gt;T</td>\n",
       "      <td>1.22</td>\n",
       "      <td>1.000000</td>\n",
       "      <td>Likely benign</td>\n",
       "      <td>PM1|PM2|BP1|BP4</td>\n",
       "      <td>0.666667</td>\n",
       "    </tr>\n",
       "    <tr>\n",
       "      <th>...</th>\n",
       "      <td>...</td>\n",
       "      <td>...</td>\n",
       "      <td>...</td>\n",
       "      <td>...</td>\n",
       "      <td>...</td>\n",
       "      <td>...</td>\n",
       "      <td>...</td>\n",
       "      <td>...</td>\n",
       "    </tr>\n",
       "    <tr>\n",
       "      <th>82</th>\n",
       "      <td>AICDA</td>\n",
       "      <td>c.428-5_428-4insTT</td>\n",
       "      <td></td>\n",
       "      <td>0.00</td>\n",
       "      <td>0.000000</td>\n",
       "      <td>Uncertain significance</td>\n",
       "      <td></td>\n",
       "      <td>1.500000</td>\n",
       "    </tr>\n",
       "    <tr>\n",
       "      <th>83</th>\n",
       "      <td>SOS2</td>\n",
       "      <td>c.2786-6_2786-5insT</td>\n",
       "      <td></td>\n",
       "      <td>0.00</td>\n",
       "      <td>0.000000</td>\n",
       "      <td>Uncertain significance</td>\n",
       "      <td></td>\n",
       "      <td>7.000000</td>\n",
       "    </tr>\n",
       "    <tr>\n",
       "      <th>84</th>\n",
       "      <td>PTEN</td>\n",
       "      <td>c.211-18_211-17insT</td>\n",
       "      <td></td>\n",
       "      <td>0.00</td>\n",
       "      <td>0.000000</td>\n",
       "      <td>Uncertain significance</td>\n",
       "      <td></td>\n",
       "      <td>17.071429</td>\n",
       "    </tr>\n",
       "    <tr>\n",
       "      <th>85</th>\n",
       "      <td>DCTN1</td>\n",
       "      <td>c.3746C&gt;T</td>\n",
       "      <td>chr2:g.74588717G&gt;A</td>\n",
       "      <td>-0.47</td>\n",
       "      <td>-0.250000</td>\n",
       "      <td>Uncertain significance</td>\n",
       "      <td>PM1|BS2|PP3|PP2</td>\n",
       "      <td>3.833333</td>\n",
       "    </tr>\n",
       "    <tr>\n",
       "      <th>86</th>\n",
       "      <td>CAT</td>\n",
       "      <td>c.1057-5T&gt;C</td>\n",
       "      <td>chr11:g.34482793T&gt;C</td>\n",
       "      <td>-0.58</td>\n",
       "      <td>-0.500000</td>\n",
       "      <td>Uncertain significance</td>\n",
       "      <td>BP4</td>\n",
       "      <td>0.500000</td>\n",
       "    </tr>\n",
       "    <tr>\n",
       "      <th>87</th>\n",
       "      <td>SYNE1</td>\n",
       "      <td>c.17203-6delT</td>\n",
       "      <td></td>\n",
       "      <td>-0.58</td>\n",
       "      <td>-0.500000</td>\n",
       "      <td>Uncertain significance</td>\n",
       "      <td>BP6</td>\n",
       "      <td>0.500000</td>\n",
       "    </tr>\n",
       "    <tr>\n",
       "      <th>88</th>\n",
       "      <td>PFKM</td>\n",
       "      <td>c.1340+6G&gt;T</td>\n",
       "      <td>chr12:g.48533138G&gt;T</td>\n",
       "      <td>-0.63</td>\n",
       "      <td>-0.500000</td>\n",
       "      <td>Uncertain significance</td>\n",
       "      <td>BP4</td>\n",
       "      <td>0.833333</td>\n",
       "    </tr>\n",
       "    <tr>\n",
       "      <th>89</th>\n",
       "      <td>PON1</td>\n",
       "      <td>c.380T&gt;G</td>\n",
       "      <td>chr7:g.94940880A&gt;C</td>\n",
       "      <td>-0.81</td>\n",
       "      <td>-0.696000</td>\n",
       "      <td>Uncertain significance</td>\n",
       "      <td>PS1|PM1|BS2|PP3</td>\n",
       "      <td>0.500000</td>\n",
       "    </tr>\n",
       "    <tr>\n",
       "      <th>90</th>\n",
       "      <td>EYS</td>\n",
       "      <td>c.6079-4_6079-3delTC</td>\n",
       "      <td></td>\n",
       "      <td>-0.84</td>\n",
       "      <td>-0.500000</td>\n",
       "      <td>Uncertain significance</td>\n",
       "      <td>BP6</td>\n",
       "      <td>2.666667</td>\n",
       "    </tr>\n",
       "    <tr>\n",
       "      <th>91</th>\n",
       "      <td>ABCC6</td>\n",
       "      <td>c.3207C&gt;T</td>\n",
       "      <td>chr16:g.16259579G&gt;A</td>\n",
       "      <td>-0.99</td>\n",
       "      <td>-0.500000</td>\n",
       "      <td>Uncertain significance</td>\n",
       "      <td>BP7</td>\n",
       "      <td>4.571429</td>\n",
       "    </tr>\n",
       "    <tr>\n",
       "      <th>92</th>\n",
       "      <td>PMS2</td>\n",
       "      <td>c.706-4delT</td>\n",
       "      <td></td>\n",
       "      <td>-1.01</td>\n",
       "      <td>-0.500000</td>\n",
       "      <td>Uncertain significance</td>\n",
       "      <td>BP6</td>\n",
       "      <td>4.833333</td>\n",
       "    </tr>\n",
       "    <tr>\n",
       "      <th>93</th>\n",
       "      <td>SMARCA2</td>\n",
       "      <td>c.705_707delGCA</td>\n",
       "      <td></td>\n",
       "      <td>-1.06</td>\n",
       "      <td>-0.500000</td>\n",
       "      <td>Uncertain significance</td>\n",
       "      <td>BP6</td>\n",
       "      <td>5.666667</td>\n",
       "    </tr>\n",
       "    <tr>\n",
       "      <th>94</th>\n",
       "      <td>NEB</td>\n",
       "      <td>c.11077-5delT</td>\n",
       "      <td></td>\n",
       "      <td>-1.12</td>\n",
       "      <td>-0.500000</td>\n",
       "      <td>Uncertain significance</td>\n",
       "      <td>BP6</td>\n",
       "      <td>6.666667</td>\n",
       "    </tr>\n",
       "    <tr>\n",
       "      <th>95</th>\n",
       "      <td>TSC1</td>\n",
       "      <td>c.2626-4delT</td>\n",
       "      <td></td>\n",
       "      <td>-1.18</td>\n",
       "      <td>-0.500000</td>\n",
       "      <td>Uncertain significance</td>\n",
       "      <td>BP6</td>\n",
       "      <td>7.833333</td>\n",
       "    </tr>\n",
       "    <tr>\n",
       "      <th>96</th>\n",
       "      <td>ABCC9</td>\n",
       "      <td>c.1165-6delT</td>\n",
       "      <td></td>\n",
       "      <td>-1.25</td>\n",
       "      <td>-0.500000</td>\n",
       "      <td>Uncertain significance</td>\n",
       "      <td>BP6</td>\n",
       "      <td>9.571429</td>\n",
       "    </tr>\n",
       "    <tr>\n",
       "      <th>97</th>\n",
       "      <td>LRP5</td>\n",
       "      <td>c.58_60delCTG</td>\n",
       "      <td></td>\n",
       "      <td>-1.36</td>\n",
       "      <td>-0.500000</td>\n",
       "      <td>Uncertain significance</td>\n",
       "      <td>BP6</td>\n",
       "      <td>12.500000</td>\n",
       "    </tr>\n",
       "    <tr>\n",
       "      <th>98</th>\n",
       "      <td>WFS1</td>\n",
       "      <td>c.1760G&gt;A</td>\n",
       "      <td>chr4:g.6303282G&gt;A</td>\n",
       "      <td>-1.44</td>\n",
       "      <td>-0.625000</td>\n",
       "      <td>Uncertain significance</td>\n",
       "      <td>PM1|PM2|BS2|PP3|BP6</td>\n",
       "      <td>7.333333</td>\n",
       "    </tr>\n",
       "    <tr>\n",
       "      <th>99</th>\n",
       "      <td>SMPD1</td>\n",
       "      <td>c.107_118delTGCTGGCGCTGG</td>\n",
       "      <td></td>\n",
       "      <td>-1.58</td>\n",
       "      <td>-0.750000</td>\n",
       "      <td>Uncertain significance</td>\n",
       "      <td>BP6</td>\n",
       "      <td>5.500000</td>\n",
       "    </tr>\n",
       "    <tr>\n",
       "      <th>100</th>\n",
       "      <td>EIF2AK3</td>\n",
       "      <td>c.61_63delCTG</td>\n",
       "      <td></td>\n",
       "      <td>-1.91</td>\n",
       "      <td>-0.750000</td>\n",
       "      <td>Uncertain significance</td>\n",
       "      <td>BP6</td>\n",
       "      <td>10.041667</td>\n",
       "    </tr>\n",
       "    <tr>\n",
       "      <th>101</th>\n",
       "      <td>KIF1A</td>\n",
       "      <td>c.2751_2753delGGA</td>\n",
       "      <td></td>\n",
       "      <td>-2.03</td>\n",
       "      <td>-0.750000</td>\n",
       "      <td>Uncertain significance</td>\n",
       "      <td>BP6</td>\n",
       "      <td>12.166667</td>\n",
       "    </tr>\n",
       "    <tr>\n",
       "      <th>102</th>\n",
       "      <td>ANK1</td>\n",
       "      <td>c.1096G&gt;A</td>\n",
       "      <td>chr8:g.41577289C&gt;T</td>\n",
       "      <td>-2.61</td>\n",
       "      <td>-1.250000</td>\n",
       "      <td>Likely benign</td>\n",
       "      <td>PM1|BS2|PP3|BP1</td>\n",
       "      <td>5.375000</td>\n",
       "    </tr>\n",
       "    <tr>\n",
       "      <th>103</th>\n",
       "      <td>KAT6A</td>\n",
       "      <td>c.5597C&gt;G</td>\n",
       "      <td>chr8:g.41790141G&gt;C</td>\n",
       "      <td>-2.81</td>\n",
       "      <td>-1.375000</td>\n",
       "      <td>Likely benign</td>\n",
       "      <td>PM1|BS2|PP3|BP1</td>\n",
       "      <td>5.000000</td>\n",
       "    </tr>\n",
       "    <tr>\n",
       "      <th>104</th>\n",
       "      <td>CDH23</td>\n",
       "      <td>c.2263C&gt;T</td>\n",
       "      <td>chr10:g.73453990C&gt;T</td>\n",
       "      <td>-2.91</td>\n",
       "      <td>-1.666667</td>\n",
       "      <td>Uncertain significance</td>\n",
       "      <td>BS2|PP3</td>\n",
       "      <td>3.000000</td>\n",
       "    </tr>\n",
       "    <tr>\n",
       "      <th>105</th>\n",
       "      <td>HBB</td>\n",
       "      <td>c.316-125A&gt;G</td>\n",
       "      <td>chr11:g.5247081T&gt;C</td>\n",
       "      <td>-3.09</td>\n",
       "      <td>-1.000000</td>\n",
       "      <td>Uncertain significance</td>\n",
       "      <td>PM2|BS2</td>\n",
       "      <td>19.213095</td>\n",
       "    </tr>\n",
       "    <tr>\n",
       "      <th>106</th>\n",
       "      <td>PCLO</td>\n",
       "      <td>c.1501T&gt;C</td>\n",
       "      <td>chr7:g.82784456_82784486delinsGTGGGGGCTTTGCTGAGCCAGGCTGTTGAGG</td>\n",
       "      <td>-8.51</td>\n",
       "      <td>-4.000000</td>\n",
       "      <td>Benign</td>\n",
       "      <td>PM1|BS1|BA1</td>\n",
       "      <td>5.666667</td>\n",
       "    </tr>\n",
       "    <tr>\n",
       "      <th>107</th>\n",
       "      <td>HLA-DQB1</td>\n",
       "      <td>c.85C&gt;G</td>\n",
       "      <td>chr6:g.32634300G&gt;C</td>\n",
       "      <td>-8.57</td>\n",
       "      <td>-4.500000</td>\n",
       "      <td>Benign</td>\n",
       "      <td>PM1|BS1|BA1|BP4</td>\n",
       "      <td>4.000000</td>\n",
       "    </tr>\n",
       "    <tr>\n",
       "      <th>108</th>\n",
       "      <td>ERAP1</td>\n",
       "      <td>c.380G&gt;C</td>\n",
       "      <td>chr5:g.96139250C&gt;G</td>\n",
       "      <td>-8.91</td>\n",
       "      <td>-4.875000</td>\n",
       "      <td>Benign</td>\n",
       "      <td>BS1|PP3|BA1</td>\n",
       "      <td>3.500000</td>\n",
       "    </tr>\n",
       "    <tr>\n",
       "      <th>109</th>\n",
       "      <td>PROC</td>\n",
       "      <td>c.399C&gt;T</td>\n",
       "      <td>chr2:g.128180746C&gt;T</td>\n",
       "      <td>-8.97</td>\n",
       "      <td>-3.500000</td>\n",
       "      <td>Likely benign</td>\n",
       "      <td>BS2|BP4|BP7|BP6</td>\n",
       "      <td>10.266667</td>\n",
       "    </tr>\n",
       "    <tr>\n",
       "      <th>110</th>\n",
       "      <td>B3GAT3</td>\n",
       "      <td>c.910-3C&gt;G</td>\n",
       "      <td>chr11:g.62383715G&gt;C</td>\n",
       "      <td>-12.40</td>\n",
       "      <td>-5.500000</td>\n",
       "      <td>Benign</td>\n",
       "      <td>BS1|BA1|BP4</td>\n",
       "      <td>6.804762</td>\n",
       "    </tr>\n",
       "    <tr>\n",
       "      <th>111</th>\n",
       "      <td>ASPA</td>\n",
       "      <td>c.693C&gt;T</td>\n",
       "      <td>chr17:g.3397702C&gt;T</td>\n",
       "      <td>-14.57</td>\n",
       "      <td>-6.250000</td>\n",
       "      <td>Benign</td>\n",
       "      <td>BS1|BA1|BP7|BP6</td>\n",
       "      <td>7.566667</td>\n",
       "    </tr>\n",
       "  </tbody>\n",
       "</table>\n",
       "<p>112 rows × 8 columns</p>\n",
       "</div>"
      ],
      "text/plain": [
       "         gene                   variant  \\\n",
       "0       BBS10                  c.145C>T   \n",
       "1         HBB                  c.208G>A   \n",
       "2        DLX3                  c.335A>G   \n",
       "3       PROP1                  c.652A>C   \n",
       "4        SOX3                  c.818C>T   \n",
       "5      CEP152                 c.3530A>G   \n",
       "6       PRKDC                 c.3278A>T   \n",
       "7      PCDH15                 c.4793G>A   \n",
       "8        PLEC                 c.1712G>A   \n",
       "9     FOXRED1                  c.286G>T   \n",
       "10     GLYCTK                 c.1313C>T   \n",
       "11     PIEZO1                 c.1387G>A   \n",
       "12     COL5A2                 c.1976C>T   \n",
       "13      MTPAP                 c.1533G>C   \n",
       "14      SCN5A                 c.1982G>A   \n",
       "15       PYGL                 c.1900G>C   \n",
       "16      CCBE1                 c.1174A>T   \n",
       "17    SLC13A5                 c.1163A>G   \n",
       "18      PRSS1                  c.502C>A   \n",
       "19     ZSWIM6                 c.1472A>G   \n",
       "20       PLEC                c.11402A>G   \n",
       "21       EGFR                 c.1973G>A   \n",
       "22       CTGF                  c.172C>G   \n",
       "23    COL13A1                  c.770G>A   \n",
       "24     DNAJB6                  c.365T>A   \n",
       "25      ACAD9                 c.1414C>T   \n",
       "26       TGM5                   c.23C>T   \n",
       "27       PCK2                 c.1354G>A   \n",
       "28        TTN                c.57332G>A   \n",
       "29     CEP135                 c.1528C>T   \n",
       "..        ...                       ...   \n",
       "82      AICDA        c.428-5_428-4insTT   \n",
       "83       SOS2       c.2786-6_2786-5insT   \n",
       "84       PTEN       c.211-18_211-17insT   \n",
       "85      DCTN1                 c.3746C>T   \n",
       "86        CAT               c.1057-5T>C   \n",
       "87      SYNE1             c.17203-6delT   \n",
       "88       PFKM               c.1340+6G>T   \n",
       "89       PON1                  c.380T>G   \n",
       "90        EYS      c.6079-4_6079-3delTC   \n",
       "91      ABCC6                 c.3207C>T   \n",
       "92       PMS2               c.706-4delT   \n",
       "93    SMARCA2           c.705_707delGCA   \n",
       "94        NEB             c.11077-5delT   \n",
       "95       TSC1              c.2626-4delT   \n",
       "96      ABCC9              c.1165-6delT   \n",
       "97       LRP5             c.58_60delCTG   \n",
       "98       WFS1                 c.1760G>A   \n",
       "99      SMPD1  c.107_118delTGCTGGCGCTGG   \n",
       "100   EIF2AK3             c.61_63delCTG   \n",
       "101     KIF1A         c.2751_2753delGGA   \n",
       "102      ANK1                 c.1096G>A   \n",
       "103     KAT6A                 c.5597C>G   \n",
       "104     CDH23                 c.2263C>T   \n",
       "105       HBB              c.316-125A>G   \n",
       "106      PCLO                 c.1501T>C   \n",
       "107  HLA-DQB1                   c.85C>G   \n",
       "108     ERAP1                  c.380G>C   \n",
       "109      PROC                  c.399C>T   \n",
       "110    B3GAT3                c.910-3C>G   \n",
       "111      ASPA                  c.693C>T   \n",
       "\n",
       "                                                                id  \\\n",
       "0                                              chr12:g.76741994G>A   \n",
       "1                                               chr11:g.5247914C>T   \n",
       "2                                              chr17:g.48070945T>C   \n",
       "3                                              chr5:g.177419739T>G   \n",
       "4                                              chrX:g.139586408G>A   \n",
       "5                                              chr15:g.49040744T>C   \n",
       "6                                               chr8:g.48813019T>A   \n",
       "7                                              chr10:g.55582714C>T   \n",
       "8                                              chr8:g.145007482C>T   \n",
       "9                                             chr11:g.126141532G>T   \n",
       "10                                              chr3:g.52326883C>T   \n",
       "11                                             chr16:g.88802726C>T   \n",
       "12                                             chr2:g.189927592G>A   \n",
       "13                                             chr10:g.30602754C>G   \n",
       "14                                              chr3:g.38640450C>T   \n",
       "15                                             chr14:g.51378517C>G   \n",
       "16                                             chr18:g.57103187T>A   \n",
       "17                                              chr17:g.6596475T>C   \n",
       "18                                             chr7:g.142460329C>A   \n",
       "19                                              chr5:g.60817228A>G   \n",
       "20                                             chr8:g.144992998T>C   \n",
       "21                                              chr7:g.55238092G>A   \n",
       "22                                             chr6:g.132272027G>C   \n",
       "23                                             chr10:g.71658508G>A   \n",
       "24                                             chr7:g.157174958T>A   \n",
       "25                                             chr3:g.128627871C>T   \n",
       "26                                             chr15:g.43552765G>A   \n",
       "27                                             chr14:g.24573006G>A   \n",
       "28                                             chr2:g.179462477C>T   \n",
       "29                                              chr4:g.56846363C>T   \n",
       "..                                                             ...   \n",
       "82                                                                   \n",
       "83                                                                   \n",
       "84                                                                   \n",
       "85                                              chr2:g.74588717G>A   \n",
       "86                                             chr11:g.34482793T>C   \n",
       "87                                                                   \n",
       "88                                             chr12:g.48533138G>T   \n",
       "89                                              chr7:g.94940880A>C   \n",
       "90                                                                   \n",
       "91                                             chr16:g.16259579G>A   \n",
       "92                                                                   \n",
       "93                                                                   \n",
       "94                                                                   \n",
       "95                                                                   \n",
       "96                                                                   \n",
       "97                                                                   \n",
       "98                                               chr4:g.6303282G>A   \n",
       "99                                                                   \n",
       "100                                                                  \n",
       "101                                                                  \n",
       "102                                             chr8:g.41577289C>T   \n",
       "103                                             chr8:g.41790141G>C   \n",
       "104                                            chr10:g.73453990C>T   \n",
       "105                                             chr11:g.5247081T>C   \n",
       "106  chr7:g.82784456_82784486delinsGTGGGGGCTTTGCTGAGCCAGGCTGTTGAGG   \n",
       "107                                             chr6:g.32634300G>C   \n",
       "108                                             chr5:g.96139250C>G   \n",
       "109                                            chr2:g.128180746C>T   \n",
       "110                                            chr11:g.62383715G>C   \n",
       "111                                             chr17:g.3397702C>T   \n",
       "\n",
       "     final_score  pathogenicity_score           pathogenicity  \\\n",
       "0           8.24             3.875000       Likely pathogenic   \n",
       "1           8.11             2.625000  Uncertain significance   \n",
       "2           6.15             3.961200  Uncertain significance   \n",
       "3           5.23             2.250000  Uncertain significance   \n",
       "4           5.19             2.250000  Uncertain significance   \n",
       "5           4.97             2.250000  Uncertain significance   \n",
       "6           4.45             2.250000  Uncertain significance   \n",
       "7           3.99             2.250000  Uncertain significance   \n",
       "8           3.92             1.750000  Uncertain significance   \n",
       "9           3.47             1.500000  Uncertain significance   \n",
       "10          3.34             1.625000  Uncertain significance   \n",
       "11          3.21             2.750000  Uncertain significance   \n",
       "12          3.10             1.500000  Uncertain significance   \n",
       "13          2.95             2.250000  Uncertain significance   \n",
       "14          2.92             2.500000  Uncertain significance   \n",
       "15          2.88             2.000000  Uncertain significance   \n",
       "16          2.82             1.500000  Uncertain significance   \n",
       "17          2.63             2.250000  Uncertain significance   \n",
       "18          2.52             1.750000  Uncertain significance   \n",
       "19          2.38             1.250000  Uncertain significance   \n",
       "20          2.24             1.000000           Likely benign   \n",
       "21          2.16             1.500000  Uncertain significance   \n",
       "22          2.10             1.250000  Uncertain significance   \n",
       "23          1.98             1.000000  Uncertain significance   \n",
       "24          1.90             1.625000  Uncertain significance   \n",
       "25          1.64             1.250000  Uncertain significance   \n",
       "26          1.49             1.250000  Uncertain significance   \n",
       "27          1.46             1.250000  Uncertain significance   \n",
       "28          1.31             0.750000  Uncertain significance   \n",
       "29          1.22             1.000000           Likely benign   \n",
       "..           ...                  ...                     ...   \n",
       "82          0.00             0.000000  Uncertain significance   \n",
       "83          0.00             0.000000  Uncertain significance   \n",
       "84          0.00             0.000000  Uncertain significance   \n",
       "85         -0.47            -0.250000  Uncertain significance   \n",
       "86         -0.58            -0.500000  Uncertain significance   \n",
       "87         -0.58            -0.500000  Uncertain significance   \n",
       "88         -0.63            -0.500000  Uncertain significance   \n",
       "89         -0.81            -0.696000  Uncertain significance   \n",
       "90         -0.84            -0.500000  Uncertain significance   \n",
       "91         -0.99            -0.500000  Uncertain significance   \n",
       "92         -1.01            -0.500000  Uncertain significance   \n",
       "93         -1.06            -0.500000  Uncertain significance   \n",
       "94         -1.12            -0.500000  Uncertain significance   \n",
       "95         -1.18            -0.500000  Uncertain significance   \n",
       "96         -1.25            -0.500000  Uncertain significance   \n",
       "97         -1.36            -0.500000  Uncertain significance   \n",
       "98         -1.44            -0.625000  Uncertain significance   \n",
       "99         -1.58            -0.750000  Uncertain significance   \n",
       "100        -1.91            -0.750000  Uncertain significance   \n",
       "101        -2.03            -0.750000  Uncertain significance   \n",
       "102        -2.61            -1.250000           Likely benign   \n",
       "103        -2.81            -1.375000           Likely benign   \n",
       "104        -2.91            -1.666667  Uncertain significance   \n",
       "105        -3.09            -1.000000  Uncertain significance   \n",
       "106        -8.51            -4.000000                  Benign   \n",
       "107        -8.57            -4.500000                  Benign   \n",
       "108        -8.91            -4.875000                  Benign   \n",
       "109        -8.97            -3.500000           Likely benign   \n",
       "110       -12.40            -5.500000                  Benign   \n",
       "111       -14.57            -6.250000                  Benign   \n",
       "\n",
       "            hit_criteria  hpo_hit_score  \n",
       "0        PS1|PM1|PP3|PP5       5.666667  \n",
       "1        PM5|PM1|PP3|PP5      19.213095  \n",
       "2    PS1|PM1|PM2|PP3|BP1       2.000000  \n",
       "3            PM1|PM2|PP3       7.500000  \n",
       "4            PM1|PM2|PP3       7.333333  \n",
       "5            PM1|PM2|PP3       6.404762  \n",
       "6            PM1|PM2|PP3       4.500000  \n",
       "7            PM1|PM2|PP3       3.166667  \n",
       "8        PM1|PM2|PP3|BP1       6.666667  \n",
       "9                PM1|PP3       7.400000  \n",
       "10           PM1|PP3|PP2       5.100000  \n",
       "11       PM1|PM2|PP3|PP2       0.500000  \n",
       "12               PM1|PP3       5.166667  \n",
       "13           PM1|PM2|PP3       1.000000  \n",
       "14           PM1|PM2|PP3       0.500000  \n",
       "15           PM1|PP3|PP5       1.500000  \n",
       "16               PM2|PP3       3.833333  \n",
       "17           PM1|PM2|PP3       0.500000  \n",
       "18           PM1|PP3|PP2       1.500000  \n",
       "19               PM1|PP3       4.000000  \n",
       "20       PM1|PM2|BP1|BP4       6.666667  \n",
       "21           PM1|PM2|BP4       1.500000  \n",
       "22               PM1|PP3       2.666667  \n",
       "23           PM1|PP3|BP1       4.500000  \n",
       "24           PM1|PP3|PP2       0.500000  \n",
       "25               PM1|PP3       1.000000  \n",
       "26               PM2|PP3       0.571429  \n",
       "27               PM1|PP3       0.500000  \n",
       "28           PM2|PP3|BP1       3.000000  \n",
       "29       PM1|PM2|BP1|BP4       0.666667  \n",
       "..                   ...            ...  \n",
       "82                             1.500000  \n",
       "83                             7.000000  \n",
       "84                            17.071429  \n",
       "85       PM1|BS2|PP3|PP2       3.833333  \n",
       "86                   BP4       0.500000  \n",
       "87                   BP6       0.500000  \n",
       "88                   BP4       0.833333  \n",
       "89       PS1|PM1|BS2|PP3       0.500000  \n",
       "90                   BP6       2.666667  \n",
       "91                   BP7       4.571429  \n",
       "92                   BP6       4.833333  \n",
       "93                   BP6       5.666667  \n",
       "94                   BP6       6.666667  \n",
       "95                   BP6       7.833333  \n",
       "96                   BP6       9.571429  \n",
       "97                   BP6      12.500000  \n",
       "98   PM1|PM2|BS2|PP3|BP6       7.333333  \n",
       "99                   BP6       5.500000  \n",
       "100                  BP6      10.041667  \n",
       "101                  BP6      12.166667  \n",
       "102      PM1|BS2|PP3|BP1       5.375000  \n",
       "103      PM1|BS2|PP3|BP1       5.000000  \n",
       "104              BS2|PP3       3.000000  \n",
       "105              PM2|BS2      19.213095  \n",
       "106          PM1|BS1|BA1       5.666667  \n",
       "107      PM1|BS1|BA1|BP4       4.000000  \n",
       "108          BS1|PP3|BA1       3.500000  \n",
       "109      BS2|BP4|BP7|BP6      10.266667  \n",
       "110          BS1|BA1|BP4       6.804762  \n",
       "111      BS1|BA1|BP7|BP6       7.566667  \n",
       "\n",
       "[112 rows x 8 columns]"
      ]
     },
     "execution_count": 11,
     "metadata": {},
     "output_type": "execute_result"
    }
   ],
   "source": [
    "ACMG_result"
   ]
  },
  {
   "cell_type": "code",
   "execution_count": 29,
   "metadata": {
    "collapsed": false
   },
   "outputs": [],
   "source": [
    "gene_list = list(ACMG_result['gene'])\n",
    "variant_list = list(ACMG_result['variant'])\n",
    "gene_variant_list = [(gene_list[i], variant_list[i]) for i in range(len(gene_list))]\n",
    "\n",
    "df_variant_ACMG_interpret = pd.DataFrame()\n",
    "df_variant_ACMG_interpret_chinese = pd.DataFrame() \n",
    "for key in gene_variant_list:\n",
    "    tmp_df = pd.DataFrame(variant_ACMG_interpretation[key], columns = ['criteria', 'interpretation'])\n",
    "    tmp_df['gene'] = key[0]\n",
    "    tmp_df['variant'] = key[1]\n",
    "    tmp_df = tmp_df[['gene', 'variant', 'criteria', 'interpretation']] \n",
    "    df_variant_ACMG_interpret = pd.concat([df_variant_ACMG_interpret, tmp_df])\n",
    "\n",
    "    tmp_df = pd.DataFrame(variant_ACMG_interpret_chinese[key], columns = ['criteria', 'interpretation'])\n",
    "    tmp_df['gene'] = key[0]\n",
    "    tmp_df['variant'] = key[1]\n",
    "    tmp_df = tmp_df[['gene', 'variant', 'criteria', 'interpretation']] \n",
    "    df_variant_ACMG_interpret_chinese = pd.concat([df_variant_ACMG_interpret_chinese, tmp_df])"
   ]
  },
  {
   "cell_type": "code",
   "execution_count": 32,
   "metadata": {
    "collapsed": false
   },
   "outputs": [
    {
     "data": {
      "text/html": [
       "<div>\n",
       "<table border=\"1\" class=\"dataframe\">\n",
       "  <thead>\n",
       "    <tr style=\"text-align: right;\">\n",
       "      <th></th>\n",
       "      <th>gene</th>\n",
       "      <th>variant</th>\n",
       "      <th>criteria</th>\n",
       "      <th>interpretation</th>\n",
       "    </tr>\n",
       "  </thead>\n",
       "  <tbody>\n",
       "    <tr>\n",
       "      <th>0</th>\n",
       "      <td>BBS10</td>\n",
       "      <td>c.145C&gt;T</td>\n",
       "      <td>变异注释</td>\n",
       "      <td>突变类型: missense_variant.&lt;br/&gt;蛋白功能区: GroEL-like equatorial domain.&lt;br/&gt;HGVS ID: chr12:g.76741994G&gt;A.&lt;br/&gt;RefSeq ID: rs768933093.&lt;br/&gt;外显子: 1.&lt;br/&gt;ExAC 最小等位基因频率(MAF): 5.052e-05.&lt;br/&gt;DANN致病性分数: 0.999117068756.&lt;br/&gt;FATHMM致病性分数: 0.79186.&lt;br/&gt;MetaSVM致病性分数: 0.84564.&lt;br/&gt;GERP++序列保守性预测分数: 4.27.&lt;br/&gt;Clinvar数据库ID: 225010.&lt;br/&gt;Clinvar数据库记录的变异致病性: Pathogenic|Pathogenic.&lt;br/&gt;Clinvar数据库记录审核状态: criteria provided, single submitter.&lt;br/&gt;Clinvar数据库记录的Pubmed相关生物医学文献: ['25356970', '20120035', '16582908', '21044901', '20876674', '21642631', '20498079', '21517826', '20177705', '24746959', '25982971'].</td>\n",
       "    </tr>\n",
       "    <tr>\n",
       "      <th>1</th>\n",
       "      <td>BBS10</td>\n",
       "      <td>c.145C&gt;T</td>\n",
       "      <td>PVS1</td>\n",
       "      <td>基因变异类型不是无效变异(null variant). 变异位点所在基因的功能丢失(loss of function)是已知的致病机制. 此变异不具有害的剪接效应(splicing effect). 不符合PVS1标准.</td>\n",
       "    </tr>\n",
       "    <tr>\n",
       "      <th>2</th>\n",
       "      <td>BBS10</td>\n",
       "      <td>c.145C&gt;T</td>\n",
       "      <td>PS1和PM5</td>\n",
       "      <td>变异为错义突变. 之前报道导致相同氨基酸改变的基因变异被证明是致病的 (Clinvar数据库参考: 225010). 未发现导致相同氨基酸残基错义突变（不同氨基酸改变）导致的致病基因变异. 此变异不具有害的剪接效应(splicing effect). 符合PS1标准. 不符合PM5标准.</td>\n",
       "    </tr>\n",
       "    <tr>\n",
       "      <th>3</th>\n",
       "      <td>BBS10</td>\n",
       "      <td>c.145C&gt;T</td>\n",
       "      <td>PS3和BS3</td>\n",
       "      <td>[未发现针对此基因变异的完善的体内或体外功能性研究., 不符合PS3标准., 不符合BS3标准.]</td>\n",
       "    </tr>\n",
       "    <tr>\n",
       "      <th>4</th>\n",
       "      <td>BBS10</td>\n",
       "      <td>c.145C&gt;T</td>\n",
       "      <td>PS4</td>\n",
       "      <td>具有此基因变异的人群患病率并未显著升高，相对风险(Relative Risk)小于5.0.. 不符合PS4标准.</td>\n",
       "    </tr>\n",
       "    <tr>\n",
       "      <th>5</th>\n",
       "      <td>BBS10</td>\n",
       "      <td>c.145C&gt;T</td>\n",
       "      <td>PM2</td>\n",
       "      <td>此基因变异的最小等位基因频率(MAF)极低(&lt; 0.5%)，但并不引发隐性遗传病. 不符合PM2标准.</td>\n",
       "    </tr>\n",
       "    <tr>\n",
       "      <th>6</th>\n",
       "      <td>BBS10</td>\n",
       "      <td>c.145C&gt;T</td>\n",
       "      <td>BA1和BS1</td>\n",
       "      <td>等位基因频率 &lt;= 1%. 不符合BS1标准.</td>\n",
       "    </tr>\n",
       "    <tr>\n",
       "      <th>7</th>\n",
       "      <td>BBS10</td>\n",
       "      <td>c.145C&gt;T</td>\n",
       "      <td>BS2</td>\n",
       "      <td>此基因变异在健康人中既不以隐性(纯合子)也不以显性(杂合子)状态存在. 不符合BS2标准.</td>\n",
       "    </tr>\n",
       "    <tr>\n",
       "      <th>8</th>\n",
       "      <td>BBS10</td>\n",
       "      <td>c.145C&gt;T</td>\n",
       "      <td>PM1</td>\n",
       "      <td>此基因变异位于突变热点和/或关键的功能域(例如酶的活性部位)，且在这些区域不存在良性变异. 符合PM1标准.</td>\n",
       "    </tr>\n",
       "    <tr>\n",
       "      <th>9</th>\n",
       "      <td>BBS10</td>\n",
       "      <td>c.145C&gt;T</td>\n",
       "      <td>PM4和BP3</td>\n",
       "      <td>变异位点在重复区域(repeat region). 不符合PM4标准. 不符合BP3标准.</td>\n",
       "    </tr>\n",
       "    <tr>\n",
       "      <th>10</th>\n",
       "      <td>BBS10</td>\n",
       "      <td>c.145C&gt;T</td>\n",
       "      <td>PP2和BP1</td>\n",
       "      <td>此基因变异类型是错义突变，但并非发生在以下两种类型的基因上：(1) 良性错义突变在基因上的频率低，且在这个基因上的错义突变是致病的常见原因；(2) 基因的截短(truncating)变异是致病的主要原因. 不符合PP2标准. 不符合BP1标准.</td>\n",
       "    </tr>\n",
       "    <tr>\n",
       "      <th>11</th>\n",
       "      <td>BBS10</td>\n",
       "      <td>c.145C&gt;T</td>\n",
       "      <td>PP3和BP4</td>\n",
       "      <td>各致病性算法的致病分数阈值是：DANN:0.96, FATHMM:0.81415, MetaSVM:0.83357, GERP++:2.0, dbscSNV_rf_score:0.6, dbscSNV_ada_score:0.6. 部分符合PP3标准(部分致病性算法预测此变异致病). 不符合BP4标准.</td>\n",
       "    </tr>\n",
       "    <tr>\n",
       "      <th>12</th>\n",
       "      <td>BBS10</td>\n",
       "      <td>c.145C&gt;T</td>\n",
       "      <td>PP5和BP6</td>\n",
       "      <td>Clinvar报道此基因变异致病(Clinvar IDs: 225010). 符合PP5标准. 不符合BP6标准.</td>\n",
       "    </tr>\n",
       "    <tr>\n",
       "      <th>13</th>\n",
       "      <td>BBS10</td>\n",
       "      <td>c.145C&gt;T</td>\n",
       "      <td>BP7</td>\n",
       "      <td>变异类型非同义（沉默）变异. 不符合BP7标准.</td>\n",
       "    </tr>\n",
       "    <tr>\n",
       "      <th>0</th>\n",
       "      <td>HBB</td>\n",
       "      <td>c.208G&gt;A</td>\n",
       "      <td>变异注释</td>\n",
       "      <td>突变类型: missense_variant.&lt;br/&gt;蛋白功能区: Globin|Globin-like|Globin/Protoglobin.&lt;br/&gt;HGVS ID: chr11:g.5247914C&gt;T.&lt;br/&gt;RefSeq ID: rs33947415.&lt;br/&gt;外显子: 2.&lt;br/&gt;ExAC 最小等位基因频率(MAF): 0.0008402.&lt;br/&gt;Exome Sequencing Project(ESP) 6500 最小等位基因频率(MAF): 0.001.&lt;br/&gt;DANN致病性分数: 0.644724000156.&lt;br/&gt;FATHMM致病性分数: 0.93934.&lt;br/&gt;MetaSVM致病性分数: 0.65183.&lt;br/&gt;GERP++序列保守性预测分数: -10.2.&lt;br/&gt;Clinvar数据库ID: 15138.&lt;br/&gt;Clinvar数据库记录的变异致病性: other|Uncertain significance|Likely pathogenic.&lt;br/&gt;Clinvar数据库记录审核状态: no assertion criteria provided|criteria provided, single submitter.&lt;br/&gt;Clinvar数据库记录的Pubmed相关生物医学文献: ['25113778', '2467892'].</td>\n",
       "    </tr>\n",
       "    <tr>\n",
       "      <th>1</th>\n",
       "      <td>HBB</td>\n",
       "      <td>c.208G&gt;A</td>\n",
       "      <td>PVS1</td>\n",
       "      <td>基因变异类型不是无效变异(null variant). 变异位点所在基因的功能丢失(loss of function)是已知的致病机制. 此变异不具有害的剪接效应(splicing effect). 不符合PVS1标准.</td>\n",
       "    </tr>\n",
       "    <tr>\n",
       "      <th>2</th>\n",
       "      <td>HBB</td>\n",
       "      <td>c.208G&gt;A</td>\n",
       "      <td>PS1和PM5</td>\n",
       "      <td>变异为错义突变. 此错义突变发生在的氨基酸残基在之前发现过致病错义突变(p.Gly70Asp)，尽管是不同氨基酸改变 (Clinvar数据库参考: 15226). 未发现之前报道导致相同氨基酸改变的致病基因变异. 此变异不具有害的剪接效应(splicing effect). 不符合PS1标准. 符合PM5标准.</td>\n",
       "    </tr>\n",
       "    <tr>\n",
       "      <th>3</th>\n",
       "      <td>HBB</td>\n",
       "      <td>c.208G&gt;A</td>\n",
       "      <td>PS3和BS3</td>\n",
       "      <td>[未发现针对此基因变异的完善的体内或体外功能性研究., 不符合PS3标准., 不符合BS3标准.]</td>\n",
       "    </tr>\n",
       "    <tr>\n",
       "      <th>4</th>\n",
       "      <td>HBB</td>\n",
       "      <td>c.208G&gt;A</td>\n",
       "      <td>PS4</td>\n",
       "      <td>具有此基因变异的人群患病率并未显著升高，相对风险(Relative Risk)小于5.0.. 不符合PS4标准.</td>\n",
       "    </tr>\n",
       "    <tr>\n",
       "      <th>5</th>\n",
       "      <td>HBB</td>\n",
       "      <td>c.208G&gt;A</td>\n",
       "      <td>PM2</td>\n",
       "      <td>此基因变异的最小等位基因频率(MAF)较高(&gt;= 0.5%)，且并不引发隐性遗传病. 不符合PM2标准.</td>\n",
       "    </tr>\n",
       "    <tr>\n",
       "      <th>6</th>\n",
       "      <td>HBB</td>\n",
       "      <td>c.208G&gt;A</td>\n",
       "      <td>BA1和BS1</td>\n",
       "      <td>等位基因频率 &lt;= 1%. 不符合BS1标准.</td>\n",
       "    </tr>\n",
       "    <tr>\n",
       "      <th>7</th>\n",
       "      <td>HBB</td>\n",
       "      <td>c.208G&gt;A</td>\n",
       "      <td>BS2</td>\n",
       "      <td>此基因变异在健康人中既不以隐性(纯合子)也不以显性(杂合子)状态存在. 不符合BS2标准.</td>\n",
       "    </tr>\n",
       "    <tr>\n",
       "      <th>8</th>\n",
       "      <td>HBB</td>\n",
       "      <td>c.208G&gt;A</td>\n",
       "      <td>PM1</td>\n",
       "      <td>此基因变异位于突变热点和/或关键的功能域(例如酶的活性部位)，且在这些区域不存在良性变异. 符合PM1标准.</td>\n",
       "    </tr>\n",
       "    <tr>\n",
       "      <th>9</th>\n",
       "      <td>HBB</td>\n",
       "      <td>c.208G&gt;A</td>\n",
       "      <td>PM4和BP3</td>\n",
       "      <td>变异位点在非重复区域(nonrepeat region). 不符合PM4标准. 不符合BP3标准.</td>\n",
       "    </tr>\n",
       "    <tr>\n",
       "      <th>10</th>\n",
       "      <td>HBB</td>\n",
       "      <td>c.208G&gt;A</td>\n",
       "      <td>PP2和BP1</td>\n",
       "      <td>此基因变异类型是错义突变，但并非发生在以下两种类型的基因上：(1) 良性错义突变在基因上的频率低，且在这个基因上的错义突变是致病的常见原因；(2) 基因的截短(truncating)变异是致病的主要原因. 不符合PP2标准. 不符合BP1标准.</td>\n",
       "    </tr>\n",
       "    <tr>\n",
       "      <th>11</th>\n",
       "      <td>HBB</td>\n",
       "      <td>c.208G&gt;A</td>\n",
       "      <td>PP3和BP4</td>\n",
       "      <td>各致病性算法的致病分数阈值是：DANN:0.96, FATHMM:0.81415, MetaSVM:0.83357, GERP++:2.0, dbscSNV_rf_score:0.6, dbscSNV_ada_score:0.6. 部分符合PP3标准(部分致病性算法预测此变异致病). 不符合BP4标准.</td>\n",
       "    </tr>\n",
       "    <tr>\n",
       "      <th>12</th>\n",
       "      <td>HBB</td>\n",
       "      <td>c.208G&gt;A</td>\n",
       "      <td>PP5和BP6</td>\n",
       "      <td>Clinvar报道此基因变异致病(Clinvar IDs: 15138). 符合PP5标准. 不符合BP6标准.</td>\n",
       "    </tr>\n",
       "    <tr>\n",
       "      <th>13</th>\n",
       "      <td>HBB</td>\n",
       "      <td>c.208G&gt;A</td>\n",
       "      <td>BP7</td>\n",
       "      <td>变异类型非同义（沉默）变异. 不符合BP7标准.</td>\n",
       "    </tr>\n",
       "    <tr>\n",
       "      <th>0</th>\n",
       "      <td>DLX3</td>\n",
       "      <td>c.335A&gt;G</td>\n",
       "      <td>变异注释</td>\n",
       "      <td>突变类型: missense_variant.&lt;br/&gt;HGVS ID: chr17:g.48070945T&gt;C.&lt;br/&gt;外显子: 2.&lt;br/&gt;DANN致病性分数: 0.993674333469.&lt;br/&gt;FATHMM致病性分数: 0.91543.&lt;br/&gt;MetaSVM致病性分数: 0.91694.&lt;br/&gt;GERP++序列保守性预测分数: 3.59.</td>\n",
       "    </tr>\n",
       "    <tr>\n",
       "      <th>1</th>\n",
       "      <td>DLX3</td>\n",
       "      <td>c.335A&gt;G</td>\n",
       "      <td>PVS1</td>\n",
       "      <td>基因变异类型不是无效变异(null variant). 变异位点所在基因的功能丢失(loss of function)是已知的致病机制. 此变异不具有害的剪接效应(splicing effect). 不符合PVS1标准.</td>\n",
       "    </tr>\n",
       "    <tr>\n",
       "      <th>...</th>\n",
       "      <td>...</td>\n",
       "      <td>...</td>\n",
       "      <td>...</td>\n",
       "      <td>...</td>\n",
       "    </tr>\n",
       "    <tr>\n",
       "      <th>12</th>\n",
       "      <td>PROC</td>\n",
       "      <td>c.399C&gt;T</td>\n",
       "      <td>PP5和BP6</td>\n",
       "      <td>Clinvar报道此基因变异良性(Clinvar IDs: 331103). 不符合PP5标准. 符合BP6标准.</td>\n",
       "    </tr>\n",
       "    <tr>\n",
       "      <th>13</th>\n",
       "      <td>PROC</td>\n",
       "      <td>c.399C&gt;T</td>\n",
       "      <td>BP7</td>\n",
       "      <td>变异类型为同义（沉默）变异，剪接预测算法预测此变异对剪接序列没有影响，核苷酸不是高度保守的. 符合BP7标准.</td>\n",
       "    </tr>\n",
       "    <tr>\n",
       "      <th>0</th>\n",
       "      <td>B3GAT3</td>\n",
       "      <td>c.910-3C&gt;G</td>\n",
       "      <td>变异注释</td>\n",
       "      <td>突变类型: splice_region_variant&amp;intron_variant.&lt;br/&gt;HGVS ID: chr11:g.62383715G&gt;C.&lt;br/&gt;RefSeq ID: rs12794886.&lt;br/&gt;1000Genomes 最小等位基因频率(MAF): 0.72.&lt;br/&gt;基于随机森林算法的dbscSNV剪接效应预测分数: 0.004.&lt;br/&gt;基于AdaBoost算法的dbscSNV剪接效应预测分数: 1.42005417025298E-5.</td>\n",
       "    </tr>\n",
       "    <tr>\n",
       "      <th>1</th>\n",
       "      <td>B3GAT3</td>\n",
       "      <td>c.910-3C&gt;G</td>\n",
       "      <td>PVS1</td>\n",
       "      <td>基因变异类型不是无效变异(null variant). 变异位点所在基因的功能丢失(loss of function)不是已知的致病机制. 此变异具有有害的剪接效应(splicing effect). 不符合PVS1标准.</td>\n",
       "    </tr>\n",
       "    <tr>\n",
       "      <th>2</th>\n",
       "      <td>B3GAT3</td>\n",
       "      <td>c.910-3C&gt;G</td>\n",
       "      <td>PS1和PM5</td>\n",
       "      <td>变异非错义突变. 未发现之前报道导致相同氨基酸改变的致病基因变异. 未发现导致相同氨基酸残基错义突变（不同氨基酸改变）导致的致病基因变异. 此变异不具有害的剪接效应(splicing effect). 不符合PS1标准. 不符合PM5标准.</td>\n",
       "    </tr>\n",
       "    <tr>\n",
       "      <th>3</th>\n",
       "      <td>B3GAT3</td>\n",
       "      <td>c.910-3C&gt;G</td>\n",
       "      <td>PS3和BS3</td>\n",
       "      <td>[未发现针对此基因变异的完善的体内或体外功能性研究., 不符合PS3标准., 不符合BS3标准.]</td>\n",
       "    </tr>\n",
       "    <tr>\n",
       "      <th>4</th>\n",
       "      <td>B3GAT3</td>\n",
       "      <td>c.910-3C&gt;G</td>\n",
       "      <td>PS4</td>\n",
       "      <td>具有此基因变异的人群患病率并未显著升高，相对风险(Relative Risk)小于5.0.. 不符合PS4标准.</td>\n",
       "    </tr>\n",
       "    <tr>\n",
       "      <th>5</th>\n",
       "      <td>B3GAT3</td>\n",
       "      <td>c.910-3C&gt;G</td>\n",
       "      <td>PM2</td>\n",
       "      <td>此基因变异的最小等位基因频率(MAF)较高(&gt;= 0.5%)，且并不引发隐性遗传病. 不符合PM2标准.</td>\n",
       "    </tr>\n",
       "    <tr>\n",
       "      <th>6</th>\n",
       "      <td>B3GAT3</td>\n",
       "      <td>c.910-3C&gt;G</td>\n",
       "      <td>BA1和BS1</td>\n",
       "      <td>等位基因频率 &gt; 5%. 等位基因频率 &gt; 1%. 符合BA1标准. 符合BS1标准.</td>\n",
       "    </tr>\n",
       "    <tr>\n",
       "      <th>7</th>\n",
       "      <td>B3GAT3</td>\n",
       "      <td>c.910-3C&gt;G</td>\n",
       "      <td>BS2</td>\n",
       "      <td>此基因变异在健康人中既不以隐性(纯合子)也不以显性(杂合子)状态存在. 不符合BS2标准.</td>\n",
       "    </tr>\n",
       "    <tr>\n",
       "      <th>8</th>\n",
       "      <td>B3GAT3</td>\n",
       "      <td>c.910-3C&gt;G</td>\n",
       "      <td>PM1</td>\n",
       "      <td>此基因变异不是错义突变.</td>\n",
       "    </tr>\n",
       "    <tr>\n",
       "      <th>9</th>\n",
       "      <td>B3GAT3</td>\n",
       "      <td>c.910-3C&gt;G</td>\n",
       "      <td>PM4和BP3</td>\n",
       "      <td>变异位点在重复区域(repeat region). 不符合PM4标准. 不符合BP3标准.</td>\n",
       "    </tr>\n",
       "    <tr>\n",
       "      <th>10</th>\n",
       "      <td>B3GAT3</td>\n",
       "      <td>c.910-3C&gt;G</td>\n",
       "      <td>PP2和BP1</td>\n",
       "      <td>此基因变异类型不是错义突变. 不符合PP2标准. 不符合BP1标准.</td>\n",
       "    </tr>\n",
       "    <tr>\n",
       "      <th>11</th>\n",
       "      <td>B3GAT3</td>\n",
       "      <td>c.910-3C&gt;G</td>\n",
       "      <td>PP3和BP4</td>\n",
       "      <td>各致病性算法的致病分数阈值是：DANN:0.96, FATHMM:0.81415, MetaSVM:0.83357, GERP++:2.0, dbscSNV_rf_score:0.6, dbscSNV_ada_score:0.6. 不符合PP3标准. 符合BP4标准.</td>\n",
       "    </tr>\n",
       "    <tr>\n",
       "      <th>12</th>\n",
       "      <td>B3GAT3</td>\n",
       "      <td>c.910-3C&gt;G</td>\n",
       "      <td>PP5和BP6</td>\n",
       "      <td>未在数据库中发现关于此基因变异致病性的报道. 不符合PP5标准. 不符合BP6标准.</td>\n",
       "    </tr>\n",
       "    <tr>\n",
       "      <th>13</th>\n",
       "      <td>B3GAT3</td>\n",
       "      <td>c.910-3C&gt;G</td>\n",
       "      <td>BP7</td>\n",
       "      <td>变异类型非同义（沉默）变异. 不符合BP7标准.</td>\n",
       "    </tr>\n",
       "    <tr>\n",
       "      <th>0</th>\n",
       "      <td>ASPA</td>\n",
       "      <td>c.693C&gt;T</td>\n",
       "      <td>变异注释</td>\n",
       "      <td>突变类型: synonymous_variant.&lt;br/&gt;HGVS ID: chr17:g.3397702C&gt;T.&lt;br/&gt;RefSeq ID: rs12948217.&lt;br/&gt;外显子: 5.&lt;br/&gt;ExAC 最小等位基因频率(MAF): 0.265550752376.&lt;br/&gt;1000Genomes 最小等位基因频率(MAF): 0.21.&lt;br/&gt;Exome Sequencing Project(ESP) 6500 最小等位基因频率(MAF): 0.289.&lt;br/&gt;Clinvar数据库ID: 197621.&lt;br/&gt;Clinvar数据库记录的变异致病性: Benign|Likely benign.&lt;br/&gt;Clinvar数据库记录审核状态: criteria provided, multiple submitters, no conflicts|criteria provided, single submitter.&lt;br/&gt;Clinvar数据库记录的Pubmed相关生物医学文献: ['8023850'].</td>\n",
       "    </tr>\n",
       "    <tr>\n",
       "      <th>1</th>\n",
       "      <td>ASPA</td>\n",
       "      <td>c.693C&gt;T</td>\n",
       "      <td>PVS1</td>\n",
       "      <td>基因变异类型不是无效变异(null variant). 变异位点所在基因的功能丢失(loss of function)是已知的致病机制. 此变异不具有害的剪接效应(splicing effect). 不符合PVS1标准.</td>\n",
       "    </tr>\n",
       "    <tr>\n",
       "      <th>2</th>\n",
       "      <td>ASPA</td>\n",
       "      <td>c.693C&gt;T</td>\n",
       "      <td>PS1和PM5</td>\n",
       "      <td>变异非错义突变. 此错义突变发生在的氨基酸残基在之前发现过致病错义突变(p.Tyr231Cys)，尽管是不同氨基酸改变 (Clinvar数据库参考: 2612). 未发现之前报道导致相同氨基酸改变的致病基因变异. 此变异不具有害的剪接效应(splicing effect). 不符合PS1标准. 不符合PM5标准.</td>\n",
       "    </tr>\n",
       "    <tr>\n",
       "      <th>3</th>\n",
       "      <td>ASPA</td>\n",
       "      <td>c.693C&gt;T</td>\n",
       "      <td>PS3和BS3</td>\n",
       "      <td>[未发现针对此基因变异的完善的体内或体外功能性研究., 不符合PS3标准., 不符合BS3标准.]</td>\n",
       "    </tr>\n",
       "    <tr>\n",
       "      <th>4</th>\n",
       "      <td>ASPA</td>\n",
       "      <td>c.693C&gt;T</td>\n",
       "      <td>PS4</td>\n",
       "      <td>具有此基因变异的人群患病率并未显著升高，相对风险(Relative Risk)小于5.0.. 不符合PS4标准.</td>\n",
       "    </tr>\n",
       "    <tr>\n",
       "      <th>5</th>\n",
       "      <td>ASPA</td>\n",
       "      <td>c.693C&gt;T</td>\n",
       "      <td>PM2</td>\n",
       "      <td>此基因变异的最小等位基因频率(MAF)较高(&gt;= 0.5%)，且并不引发隐性遗传病. 不符合PM2标准.</td>\n",
       "    </tr>\n",
       "    <tr>\n",
       "      <th>6</th>\n",
       "      <td>ASPA</td>\n",
       "      <td>c.693C&gt;T</td>\n",
       "      <td>BA1和BS1</td>\n",
       "      <td>等位基因频率 &gt; 5%. 等位基因频率 &gt; 1%. 符合BA1标准. 符合BS1标准.</td>\n",
       "    </tr>\n",
       "    <tr>\n",
       "      <th>7</th>\n",
       "      <td>ASPA</td>\n",
       "      <td>c.693C&gt;T</td>\n",
       "      <td>BS2</td>\n",
       "      <td>此基因变异在健康人中既不以隐性(纯合子)也不以显性(杂合子)状态存在. 不符合BS2标准.</td>\n",
       "    </tr>\n",
       "    <tr>\n",
       "      <th>8</th>\n",
       "      <td>ASPA</td>\n",
       "      <td>c.693C&gt;T</td>\n",
       "      <td>PM1</td>\n",
       "      <td>此基因变异不是错义突变.</td>\n",
       "    </tr>\n",
       "    <tr>\n",
       "      <th>9</th>\n",
       "      <td>ASPA</td>\n",
       "      <td>c.693C&gt;T</td>\n",
       "      <td>PM4和BP3</td>\n",
       "      <td>变异位点在重复区域(repeat region). 不符合PM4标准. 不符合BP3标准.</td>\n",
       "    </tr>\n",
       "    <tr>\n",
       "      <th>10</th>\n",
       "      <td>ASPA</td>\n",
       "      <td>c.693C&gt;T</td>\n",
       "      <td>PP2和BP1</td>\n",
       "      <td>此基因变异类型不是错义突变. 不符合PP2标准. 不符合BP1标准.</td>\n",
       "    </tr>\n",
       "    <tr>\n",
       "      <th>11</th>\n",
       "      <td>ASPA</td>\n",
       "      <td>c.693C&gt;T</td>\n",
       "      <td>PP3和BP4</td>\n",
       "      <td>各致病性算法的致病分数阈值是：DANN:0.96, FATHMM:0.81415, MetaSVM:0.83357, GERP++:2.0, dbscSNV_rf_score:0.6, dbscSNV_ada_score:0.6. 不符合PP3标准. 不符合BP4标准.</td>\n",
       "    </tr>\n",
       "    <tr>\n",
       "      <th>12</th>\n",
       "      <td>ASPA</td>\n",
       "      <td>c.693C&gt;T</td>\n",
       "      <td>PP5和BP6</td>\n",
       "      <td>Clinvar报道此基因变异良性(Clinvar IDs: 197621). 生物医学参考文献Pubmed: 8023850. 不符合PP5标准. 符合BP6标准.</td>\n",
       "    </tr>\n",
       "    <tr>\n",
       "      <th>13</th>\n",
       "      <td>ASPA</td>\n",
       "      <td>c.693C&gt;T</td>\n",
       "      <td>BP7</td>\n",
       "      <td>变异类型为同义（沉默）变异，剪接预测算法预测此变异对剪接序列没有影响，核苷酸不是高度保守的. 符合BP7标准.</td>\n",
       "    </tr>\n",
       "  </tbody>\n",
       "</table>\n",
       "<p>1278 rows × 4 columns</p>\n",
       "</div>"
      ],
      "text/plain": [
       "      gene     variant criteria  \\\n",
       "0    BBS10    c.145C>T     变异注释   \n",
       "1    BBS10    c.145C>T     PVS1   \n",
       "2    BBS10    c.145C>T  PS1和PM5   \n",
       "3    BBS10    c.145C>T  PS3和BS3   \n",
       "4    BBS10    c.145C>T      PS4   \n",
       "5    BBS10    c.145C>T      PM2   \n",
       "6    BBS10    c.145C>T  BA1和BS1   \n",
       "7    BBS10    c.145C>T      BS2   \n",
       "8    BBS10    c.145C>T      PM1   \n",
       "9    BBS10    c.145C>T  PM4和BP3   \n",
       "10   BBS10    c.145C>T  PP2和BP1   \n",
       "11   BBS10    c.145C>T  PP3和BP4   \n",
       "12   BBS10    c.145C>T  PP5和BP6   \n",
       "13   BBS10    c.145C>T      BP7   \n",
       "0      HBB    c.208G>A     变异注释   \n",
       "1      HBB    c.208G>A     PVS1   \n",
       "2      HBB    c.208G>A  PS1和PM5   \n",
       "3      HBB    c.208G>A  PS3和BS3   \n",
       "4      HBB    c.208G>A      PS4   \n",
       "5      HBB    c.208G>A      PM2   \n",
       "6      HBB    c.208G>A  BA1和BS1   \n",
       "7      HBB    c.208G>A      BS2   \n",
       "8      HBB    c.208G>A      PM1   \n",
       "9      HBB    c.208G>A  PM4和BP3   \n",
       "10     HBB    c.208G>A  PP2和BP1   \n",
       "11     HBB    c.208G>A  PP3和BP4   \n",
       "12     HBB    c.208G>A  PP5和BP6   \n",
       "13     HBB    c.208G>A      BP7   \n",
       "0     DLX3    c.335A>G     变异注释   \n",
       "1     DLX3    c.335A>G     PVS1   \n",
       "..     ...         ...      ...   \n",
       "12    PROC    c.399C>T  PP5和BP6   \n",
       "13    PROC    c.399C>T      BP7   \n",
       "0   B3GAT3  c.910-3C>G     变异注释   \n",
       "1   B3GAT3  c.910-3C>G     PVS1   \n",
       "2   B3GAT3  c.910-3C>G  PS1和PM5   \n",
       "3   B3GAT3  c.910-3C>G  PS3和BS3   \n",
       "4   B3GAT3  c.910-3C>G      PS4   \n",
       "5   B3GAT3  c.910-3C>G      PM2   \n",
       "6   B3GAT3  c.910-3C>G  BA1和BS1   \n",
       "7   B3GAT3  c.910-3C>G      BS2   \n",
       "8   B3GAT3  c.910-3C>G      PM1   \n",
       "9   B3GAT3  c.910-3C>G  PM4和BP3   \n",
       "10  B3GAT3  c.910-3C>G  PP2和BP1   \n",
       "11  B3GAT3  c.910-3C>G  PP3和BP4   \n",
       "12  B3GAT3  c.910-3C>G  PP5和BP6   \n",
       "13  B3GAT3  c.910-3C>G      BP7   \n",
       "0     ASPA    c.693C>T     变异注释   \n",
       "1     ASPA    c.693C>T     PVS1   \n",
       "2     ASPA    c.693C>T  PS1和PM5   \n",
       "3     ASPA    c.693C>T  PS3和BS3   \n",
       "4     ASPA    c.693C>T      PS4   \n",
       "5     ASPA    c.693C>T      PM2   \n",
       "6     ASPA    c.693C>T  BA1和BS1   \n",
       "7     ASPA    c.693C>T      BS2   \n",
       "8     ASPA    c.693C>T      PM1   \n",
       "9     ASPA    c.693C>T  PM4和BP3   \n",
       "10    ASPA    c.693C>T  PP2和BP1   \n",
       "11    ASPA    c.693C>T  PP3和BP4   \n",
       "12    ASPA    c.693C>T  PP5和BP6   \n",
       "13    ASPA    c.693C>T      BP7   \n",
       "\n",
       "                                                                                                                                                                                                                                                                                                                                                                                                                                                                                                                                                                                                            interpretation  \n",
       "0                  突变类型: missense_variant.<br/>蛋白功能区: GroEL-like equatorial domain.<br/>HGVS ID: chr12:g.76741994G>A.<br/>RefSeq ID: rs768933093.<br/>外显子: 1.<br/>ExAC 最小等位基因频率(MAF): 5.052e-05.<br/>DANN致病性分数: 0.999117068756.<br/>FATHMM致病性分数: 0.79186.<br/>MetaSVM致病性分数: 0.84564.<br/>GERP++序列保守性预测分数: 4.27.<br/>Clinvar数据库ID: 225010.<br/>Clinvar数据库记录的变异致病性: Pathogenic|Pathogenic.<br/>Clinvar数据库记录审核状态: criteria provided, single submitter.<br/>Clinvar数据库记录的Pubmed相关生物医学文献: ['25356970', '20120035', '16582908', '21044901', '20876674', '21642631', '20498079', '21517826', '20177705', '24746959', '25982971'].  \n",
       "1                                                                                                                                                                                                                                                                                                                                                                                                                                                                                                           基因变异类型不是无效变异(null variant). 变异位点所在基因的功能丢失(loss of function)是已知的致病机制. 此变异不具有害的剪接效应(splicing effect). 不符合PVS1标准.  \n",
       "2                                                                                                                                                                                                                                                                                                                                                                                                                                                                         变异为错义突变. 之前报道导致相同氨基酸改变的基因变异被证明是致病的 (Clinvar数据库参考: 225010). 未发现导致相同氨基酸残基错义突变（不同氨基酸改变）导致的致病基因变异. 此变异不具有害的剪接效应(splicing effect). 符合PS1标准. 不符合PM5标准.  \n",
       "3                                                                                                                                                                                                                                                                                                                                                                                                                                                                                                                                                                        [未发现针对此基因变异的完善的体内或体外功能性研究., 不符合PS3标准., 不符合BS3标准.]  \n",
       "4                                                                                                                                                                                                                                                                                                                                                                                                                                                                                                                                                                 具有此基因变异的人群患病率并未显著升高，相对风险(Relative Risk)小于5.0.. 不符合PS4标准.  \n",
       "5                                                                                                                                                                                                                                                                                                                                                                                                                                                                                                                                                                      此基因变异的最小等位基因频率(MAF)极低(< 0.5%)，但并不引发隐性遗传病. 不符合PM2标准.  \n",
       "6                                                                                                                                                                                                                                                                                                                                                                                                                                                                                                                                                                                                  等位基因频率 <= 1%. 不符合BS1标准.  \n",
       "7                                                                                                                                                                                                                                                                                                                                                                                                                                                                                                                                                                            此基因变异在健康人中既不以隐性(纯合子)也不以显性(杂合子)状态存在. 不符合BS2标准.  \n",
       "8                                                                                                                                                                                                                                                                                                                                                                                                                                                                                                                                                                   此基因变异位于突变热点和/或关键的功能域(例如酶的活性部位)，且在这些区域不存在良性变异. 符合PM1标准.  \n",
       "9                                                                                                                                                                                                                                                                                                                                                                                                                                                                                                                                                                            变异位点在重复区域(repeat region). 不符合PM4标准. 不符合BP3标准.  \n",
       "10                                                                                                                                                                                                                                                                                                                                                                                                                                                                                              此基因变异类型是错义突变，但并非发生在以下两种类型的基因上：(1) 良性错义突变在基因上的频率低，且在这个基因上的错义突变是致病的常见原因；(2) 基因的截短(truncating)变异是致病的主要原因. 不符合PP2标准. 不符合BP1标准.  \n",
       "11                                                                                                                                                                                                                                                                                                                                                                                                                                                                各致病性算法的致病分数阈值是：DANN:0.96, FATHMM:0.81415, MetaSVM:0.83357, GERP++:2.0, dbscSNV_rf_score:0.6, dbscSNV_ada_score:0.6. 部分符合PP3标准(部分致病性算法预测此变异致病). 不符合BP4标准.  \n",
       "12                                                                                                                                                                                                                                                                                                                                                                                                                                                                                                                                                               Clinvar报道此基因变异致病(Clinvar IDs: 225010). 符合PP5标准. 不符合BP6标准.  \n",
       "13                                                                                                                                                                                                                                                                                                                                                                                                                                                                                                                                                                                                变异类型非同义（沉默）变异. 不符合BP7标准.  \n",
       "0   突变类型: missense_variant.<br/>蛋白功能区: Globin|Globin-like|Globin/Protoglobin.<br/>HGVS ID: chr11:g.5247914C>T.<br/>RefSeq ID: rs33947415.<br/>外显子: 2.<br/>ExAC 最小等位基因频率(MAF): 0.0008402.<br/>Exome Sequencing Project(ESP) 6500 最小等位基因频率(MAF): 0.001.<br/>DANN致病性分数: 0.644724000156.<br/>FATHMM致病性分数: 0.93934.<br/>MetaSVM致病性分数: 0.65183.<br/>GERP++序列保守性预测分数: -10.2.<br/>Clinvar数据库ID: 15138.<br/>Clinvar数据库记录的变异致病性: other|Uncertain significance|Likely pathogenic.<br/>Clinvar数据库记录审核状态: no assertion criteria provided|criteria provided, single submitter.<br/>Clinvar数据库记录的Pubmed相关生物医学文献: ['25113778', '2467892'].  \n",
       "1                                                                                                                                                                                                                                                                                                                                                                                                                                                                                                           基因变异类型不是无效变异(null variant). 变异位点所在基因的功能丢失(loss of function)是已知的致病机制. 此变异不具有害的剪接效应(splicing effect). 不符合PVS1标准.  \n",
       "2                                                                                                                                                                                                                                                                                                                                                                                                                                                             变异为错义突变. 此错义突变发生在的氨基酸残基在之前发现过致病错义突变(p.Gly70Asp)，尽管是不同氨基酸改变 (Clinvar数据库参考: 15226). 未发现之前报道导致相同氨基酸改变的致病基因变异. 此变异不具有害的剪接效应(splicing effect). 不符合PS1标准. 符合PM5标准.  \n",
       "3                                                                                                                                                                                                                                                                                                                                                                                                                                                                                                                                                                        [未发现针对此基因变异的完善的体内或体外功能性研究., 不符合PS3标准., 不符合BS3标准.]  \n",
       "4                                                                                                                                                                                                                                                                                                                                                                                                                                                                                                                                                                 具有此基因变异的人群患病率并未显著升高，相对风险(Relative Risk)小于5.0.. 不符合PS4标准.  \n",
       "5                                                                                                                                                                                                                                                                                                                                                                                                                                                                                                                                                                     此基因变异的最小等位基因频率(MAF)较高(>= 0.5%)，且并不引发隐性遗传病. 不符合PM2标准.  \n",
       "6                                                                                                                                                                                                                                                                                                                                                                                                                                                                                                                                                                                                  等位基因频率 <= 1%. 不符合BS1标准.  \n",
       "7                                                                                                                                                                                                                                                                                                                                                                                                                                                                                                                                                                            此基因变异在健康人中既不以隐性(纯合子)也不以显性(杂合子)状态存在. 不符合BS2标准.  \n",
       "8                                                                                                                                                                                                                                                                                                                                                                                                                                                                                                                                                                   此基因变异位于突变热点和/或关键的功能域(例如酶的活性部位)，且在这些区域不存在良性变异. 符合PM1标准.  \n",
       "9                                                                                                                                                                                                                                                                                                                                                                                                                                                                                                                                                                        变异位点在非重复区域(nonrepeat region). 不符合PM4标准. 不符合BP3标准.  \n",
       "10                                                                                                                                                                                                                                                                                                                                                                                                                                                                                              此基因变异类型是错义突变，但并非发生在以下两种类型的基因上：(1) 良性错义突变在基因上的频率低，且在这个基因上的错义突变是致病的常见原因；(2) 基因的截短(truncating)变异是致病的主要原因. 不符合PP2标准. 不符合BP1标准.  \n",
       "11                                                                                                                                                                                                                                                                                                                                                                                                                                                                各致病性算法的致病分数阈值是：DANN:0.96, FATHMM:0.81415, MetaSVM:0.83357, GERP++:2.0, dbscSNV_rf_score:0.6, dbscSNV_ada_score:0.6. 部分符合PP3标准(部分致病性算法预测此变异致病). 不符合BP4标准.  \n",
       "12                                                                                                                                                                                                                                                                                                                                                                                                                                                                                                                                                                Clinvar报道此基因变异致病(Clinvar IDs: 15138). 符合PP5标准. 不符合BP6标准.  \n",
       "13                                                                                                                                                                                                                                                                                                                                                                                                                                                                                                                                                                                                变异类型非同义（沉默）变异. 不符合BP7标准.  \n",
       "0                                                                                                                                                                                                                                                                                                                                                                                                                                     突变类型: missense_variant.<br/>HGVS ID: chr17:g.48070945T>C.<br/>外显子: 2.<br/>DANN致病性分数: 0.993674333469.<br/>FATHMM致病性分数: 0.91543.<br/>MetaSVM致病性分数: 0.91694.<br/>GERP++序列保守性预测分数: 3.59.  \n",
       "1                                                                                                                                                                                                                                                                                                                                                                                                                                                                                                           基因变异类型不是无效变异(null variant). 变异位点所在基因的功能丢失(loss of function)是已知的致病机制. 此变异不具有害的剪接效应(splicing effect). 不符合PVS1标准.  \n",
       "..                                                                                                                                                                                                                                                                                                                                                                                                                                                                                                                                                                                                                     ...  \n",
       "12                                                                                                                                                                                                                                                                                                                                                                                                                                                                                                                                                               Clinvar报道此基因变异良性(Clinvar IDs: 331103). 不符合PP5标准. 符合BP6标准.  \n",
       "13                                                                                                                                                                                                                                                                                                                                                                                                                                                                                                                                                                 变异类型为同义（沉默）变异，剪接预测算法预测此变异对剪接序列没有影响，核苷酸不是高度保守的. 符合BP7标准.  \n",
       "0                                                                                                                                                                                                                                                                                                                                                                                突变类型: splice_region_variant&intron_variant.<br/>HGVS ID: chr11:g.62383715G>C.<br/>RefSeq ID: rs12794886.<br/>1000Genomes 最小等位基因频率(MAF): 0.72.<br/>基于随机森林算法的dbscSNV剪接效应预测分数: 0.004.<br/>基于AdaBoost算法的dbscSNV剪接效应预测分数: 1.42005417025298E-5.  \n",
       "1                                                                                                                                                                                                                                                                                                                                                                                                                                                                                                          基因变异类型不是无效变异(null variant). 变异位点所在基因的功能丢失(loss of function)不是已知的致病机制. 此变异具有有害的剪接效应(splicing effect). 不符合PVS1标准.  \n",
       "2                                                                                                                                                                                                                                                                                                                                                                                                                                                                                                 变异非错义突变. 未发现之前报道导致相同氨基酸改变的致病基因变异. 未发现导致相同氨基酸残基错义突变（不同氨基酸改变）导致的致病基因变异. 此变异不具有害的剪接效应(splicing effect). 不符合PS1标准. 不符合PM5标准.  \n",
       "3                                                                                                                                                                                                                                                                                                                                                                                                                                                                                                                                                                        [未发现针对此基因变异的完善的体内或体外功能性研究., 不符合PS3标准., 不符合BS3标准.]  \n",
       "4                                                                                                                                                                                                                                                                                                                                                                                                                                                                                                                                                                 具有此基因变异的人群患病率并未显著升高，相对风险(Relative Risk)小于5.0.. 不符合PS4标准.  \n",
       "5                                                                                                                                                                                                                                                                                                                                                                                                                                                                                                                                                                     此基因变异的最小等位基因频率(MAF)较高(>= 0.5%)，且并不引发隐性遗传病. 不符合PM2标准.  \n",
       "6                                                                                                                                                                                                                                                                                                                                                                                                                                                                                                                                                                              等位基因频率 > 5%. 等位基因频率 > 1%. 符合BA1标准. 符合BS1标准.  \n",
       "7                                                                                                                                                                                                                                                                                                                                                                                                                                                                                                                                                                            此基因变异在健康人中既不以隐性(纯合子)也不以显性(杂合子)状态存在. 不符合BS2标准.  \n",
       "8                                                                                                                                                                                                                                                                                                                                                                                                                                                                                                                                                                                                             此基因变异不是错义突变.  \n",
       "9                                                                                                                                                                                                                                                                                                                                                                                                                                                                                                                                                                            变异位点在重复区域(repeat region). 不符合PM4标准. 不符合BP3标准.  \n",
       "10                                                                                                                                                                                                                                                                                                                                                                                                                                                                                                                                                                                      此基因变异类型不是错义突变. 不符合PP2标准. 不符合BP1标准.  \n",
       "11                                                                                                                                                                                                                                                                                                                                                                                                                                                                                  各致病性算法的致病分数阈值是：DANN:0.96, FATHMM:0.81415, MetaSVM:0.83357, GERP++:2.0, dbscSNV_rf_score:0.6, dbscSNV_ada_score:0.6. 不符合PP3标准. 符合BP4标准.  \n",
       "12                                                                                                                                                                                                                                                                                                                                                                                                                                                                                                                                                                              未在数据库中发现关于此基因变异致病性的报道. 不符合PP5标准. 不符合BP6标准.  \n",
       "13                                                                                                                                                                                                                                                                                                                                                                                                                                                                                                                                                                                                变异类型非同义（沉默）变异. 不符合BP7标准.  \n",
       "0                                                                                                                                        突变类型: synonymous_variant.<br/>HGVS ID: chr17:g.3397702C>T.<br/>RefSeq ID: rs12948217.<br/>外显子: 5.<br/>ExAC 最小等位基因频率(MAF): 0.265550752376.<br/>1000Genomes 最小等位基因频率(MAF): 0.21.<br/>Exome Sequencing Project(ESP) 6500 最小等位基因频率(MAF): 0.289.<br/>Clinvar数据库ID: 197621.<br/>Clinvar数据库记录的变异致病性: Benign|Likely benign.<br/>Clinvar数据库记录审核状态: criteria provided, multiple submitters, no conflicts|criteria provided, single submitter.<br/>Clinvar数据库记录的Pubmed相关生物医学文献: ['8023850'].  \n",
       "1                                                                                                                                                                                                                                                                                                                                                                                                                                                                                                           基因变异类型不是无效变异(null variant). 变异位点所在基因的功能丢失(loss of function)是已知的致病机制. 此变异不具有害的剪接效应(splicing effect). 不符合PVS1标准.  \n",
       "2                                                                                                                                                                                                                                                                                                                                                                                                                                                            变异非错义突变. 此错义突变发生在的氨基酸残基在之前发现过致病错义突变(p.Tyr231Cys)，尽管是不同氨基酸改变 (Clinvar数据库参考: 2612). 未发现之前报道导致相同氨基酸改变的致病基因变异. 此变异不具有害的剪接效应(splicing effect). 不符合PS1标准. 不符合PM5标准.  \n",
       "3                                                                                                                                                                                                                                                                                                                                                                                                                                                                                                                                                                        [未发现针对此基因变异的完善的体内或体外功能性研究., 不符合PS3标准., 不符合BS3标准.]  \n",
       "4                                                                                                                                                                                                                                                                                                                                                                                                                                                                                                                                                                 具有此基因变异的人群患病率并未显著升高，相对风险(Relative Risk)小于5.0.. 不符合PS4标准.  \n",
       "5                                                                                                                                                                                                                                                                                                                                                                                                                                                                                                                                                                     此基因变异的最小等位基因频率(MAF)较高(>= 0.5%)，且并不引发隐性遗传病. 不符合PM2标准.  \n",
       "6                                                                                                                                                                                                                                                                                                                                                                                                                                                                                                                                                                              等位基因频率 > 5%. 等位基因频率 > 1%. 符合BA1标准. 符合BS1标准.  \n",
       "7                                                                                                                                                                                                                                                                                                                                                                                                                                                                                                                                                                            此基因变异在健康人中既不以隐性(纯合子)也不以显性(杂合子)状态存在. 不符合BS2标准.  \n",
       "8                                                                                                                                                                                                                                                                                                                                                                                                                                                                                                                                                                                                             此基因变异不是错义突变.  \n",
       "9                                                                                                                                                                                                                                                                                                                                                                                                                                                                                                                                                                            变异位点在重复区域(repeat region). 不符合PM4标准. 不符合BP3标准.  \n",
       "10                                                                                                                                                                                                                                                                                                                                                                                                                                                                                                                                                                                      此基因变异类型不是错义突变. 不符合PP2标准. 不符合BP1标准.  \n",
       "11                                                                                                                                                                                                                                                                                                                                                                                                                                                                                 各致病性算法的致病分数阈值是：DANN:0.96, FATHMM:0.81415, MetaSVM:0.83357, GERP++:2.0, dbscSNV_rf_score:0.6, dbscSNV_ada_score:0.6. 不符合PP3标准. 不符合BP4标准.  \n",
       "12                                                                                                                                                                                                                                                                                                                                                                                                                                                                                                                                      Clinvar报道此基因变异良性(Clinvar IDs: 197621). 生物医学参考文献Pubmed: 8023850. 不符合PP5标准. 符合BP6标准.  \n",
       "13                                                                                                                                                                                                                                                                                                                                                                                                                                                                                                                                                                 变异类型为同义（沉默）变异，剪接预测算法预测此变异对剪接序列没有影响，核苷酸不是高度保守的. 符合BP7标准.  \n",
       "\n",
       "[1278 rows x 4 columns]"
      ]
     },
     "execution_count": 32,
     "metadata": {},
     "output_type": "execute_result"
    }
   ],
   "source": [
    "df_variant_ACMG_interpret_chinese"
   ]
  },
  {
   "cell_type": "code",
   "execution_count": 31,
   "metadata": {
    "collapsed": false
   },
   "outputs": [
    {
     "data": {
      "text/html": [
       "<div>\n",
       "<table border=\"1\" class=\"dataframe\">\n",
       "  <thead>\n",
       "    <tr style=\"text-align: right;\">\n",
       "      <th></th>\n",
       "      <th>gene</th>\n",
       "      <th>variant</th>\n",
       "      <th>criteria</th>\n",
       "      <th>interpretation</th>\n",
       "    </tr>\n",
       "  </thead>\n",
       "  <tbody>\n",
       "    <tr>\n",
       "      <th>0</th>\n",
       "      <td>BBS10</td>\n",
       "      <td>c.145C&gt;T</td>\n",
       "      <td>变异注释</td>\n",
       "      <td>突变类型: missense_variant.&lt;br/&gt;蛋白功能区: GroEL-like equatorial domain.&lt;br/&gt;HGVS ID: chr12:g.76741994G&gt;A.&lt;br/&gt;RefSeq ID: rs768933093.&lt;br/&gt;外显子: 1.&lt;br/&gt;ExAC 最小等位基因频率(MAF): 5.052e-05.&lt;br/&gt;DANN致病性分数: 0.999117068756.&lt;br/&gt;FATHMM致病性分数: 0.79186.&lt;br/&gt;MetaSVM致病性分数: 0.84564.&lt;br/&gt;GERP++序列保守性预测分数: 4.27.&lt;br/&gt;Clinvar数据库ID: 225010.&lt;br/&gt;Clinvar数据库记录的变异致病性: Pathogenic|Pathogenic.&lt;br/&gt;Clinvar数据库记录审核状态: criteria provided, single submitter.&lt;br/&gt;Clinvar数据库记录的Pubmed相关生物医学文献: ['25356970', '20120035', '16582908', '21044901', '20876674', '21642631', '20498079', '21517826', '20177705', '24746959', '25982971'].</td>\n",
       "    </tr>\n",
       "    <tr>\n",
       "      <th>1</th>\n",
       "      <td>BBS10</td>\n",
       "      <td>c.145C&gt;T</td>\n",
       "      <td>PVS1</td>\n",
       "      <td>基因变异类型不是无效变异(null variant). 变异位点所在基因的功能丢失(loss of function)是已知的致病机制. 此变异不具有害的剪接效应(splicing effect). 不符合PVS1标准.</td>\n",
       "    </tr>\n",
       "    <tr>\n",
       "      <th>2</th>\n",
       "      <td>BBS10</td>\n",
       "      <td>c.145C&gt;T</td>\n",
       "      <td>PS1和PM5</td>\n",
       "      <td>变异为错义突变. 之前报道导致相同氨基酸改变的基因变异被证明是致病的 (Clinvar数据库参考: 225010). 未发现导致相同氨基酸残基错义突变（不同氨基酸改变）导致的致病基因变异. 此变异不具有害的剪接效应(splicing effect). 符合PS1标准. 不符合PM5标准.</td>\n",
       "    </tr>\n",
       "    <tr>\n",
       "      <th>3</th>\n",
       "      <td>BBS10</td>\n",
       "      <td>c.145C&gt;T</td>\n",
       "      <td>PS3和BS3</td>\n",
       "      <td>[未发现针对此基因变异的完善的体内或体外功能性研究., 不符合PS3标准., 不符合BS3标准.]</td>\n",
       "    </tr>\n",
       "    <tr>\n",
       "      <th>4</th>\n",
       "      <td>BBS10</td>\n",
       "      <td>c.145C&gt;T</td>\n",
       "      <td>PS4</td>\n",
       "      <td>具有此基因变异的人群患病率并未显著升高，相对风险(Relative Risk)小于5.0.. 不符合PS4标准.</td>\n",
       "    </tr>\n",
       "    <tr>\n",
       "      <th>5</th>\n",
       "      <td>BBS10</td>\n",
       "      <td>c.145C&gt;T</td>\n",
       "      <td>PM2</td>\n",
       "      <td>此基因变异的最小等位基因频率(MAF)极低(&lt; 0.5%)，但并不引发隐性遗传病. 不符合PM2标准.</td>\n",
       "    </tr>\n",
       "    <tr>\n",
       "      <th>6</th>\n",
       "      <td>BBS10</td>\n",
       "      <td>c.145C&gt;T</td>\n",
       "      <td>BA1和BS1</td>\n",
       "      <td>等位基因频率 &lt;= 1%. 不符合BS1标准.</td>\n",
       "    </tr>\n",
       "    <tr>\n",
       "      <th>7</th>\n",
       "      <td>BBS10</td>\n",
       "      <td>c.145C&gt;T</td>\n",
       "      <td>BS2</td>\n",
       "      <td>此基因变异在健康人中既不以隐性(纯合子)也不以显性(杂合子)状态存在. 不符合BS2标准.</td>\n",
       "    </tr>\n",
       "    <tr>\n",
       "      <th>8</th>\n",
       "      <td>BBS10</td>\n",
       "      <td>c.145C&gt;T</td>\n",
       "      <td>PM1</td>\n",
       "      <td>此基因变异位于突变热点和/或关键的功能域(例如酶的活性部位)，且在这些区域不存在良性变异. 符合PM1标准.</td>\n",
       "    </tr>\n",
       "    <tr>\n",
       "      <th>9</th>\n",
       "      <td>BBS10</td>\n",
       "      <td>c.145C&gt;T</td>\n",
       "      <td>PM4和BP3</td>\n",
       "      <td>变异位点在重复区域(repeat region). 不符合PM4标准. 不符合BP3标准.</td>\n",
       "    </tr>\n",
       "    <tr>\n",
       "      <th>10</th>\n",
       "      <td>BBS10</td>\n",
       "      <td>c.145C&gt;T</td>\n",
       "      <td>PP2和BP1</td>\n",
       "      <td>此基因变异类型是错义突变，但并非发生在以下两种类型的基因上：(1) 良性错义突变在基因上的频率低，且在这个基因上的错义突变是致病的常见原因；(2) 基因的截短(truncating)变异是致病的主要原因. 不符合PP2标准. 不符合BP1标准.</td>\n",
       "    </tr>\n",
       "    <tr>\n",
       "      <th>11</th>\n",
       "      <td>BBS10</td>\n",
       "      <td>c.145C&gt;T</td>\n",
       "      <td>PP3和BP4</td>\n",
       "      <td>各致病性算法的致病分数阈值是：DANN:0.96, FATHMM:0.81415, MetaSVM:0.83357, GERP++:2.0, dbscSNV_rf_score:0.6, dbscSNV_ada_score:0.6. 部分符合PP3标准(部分致病性算法预测此变异致病). 不符合BP4标准.</td>\n",
       "    </tr>\n",
       "    <tr>\n",
       "      <th>12</th>\n",
       "      <td>BBS10</td>\n",
       "      <td>c.145C&gt;T</td>\n",
       "      <td>PP5和BP6</td>\n",
       "      <td>Clinvar报道此基因变异致病(Clinvar IDs: 225010). 符合PP5标准. 不符合BP6标准.</td>\n",
       "    </tr>\n",
       "    <tr>\n",
       "      <th>13</th>\n",
       "      <td>BBS10</td>\n",
       "      <td>c.145C&gt;T</td>\n",
       "      <td>BP7</td>\n",
       "      <td>变异类型非同义（沉默）变异. 不符合BP7标准.</td>\n",
       "    </tr>\n",
       "    <tr>\n",
       "      <th>0</th>\n",
       "      <td>HBB</td>\n",
       "      <td>c.208G&gt;A</td>\n",
       "      <td>变异注释</td>\n",
       "      <td>突变类型: missense_variant.&lt;br/&gt;蛋白功能区: Globin|Globin-like|Globin/Protoglobin.&lt;br/&gt;HGVS ID: chr11:g.5247914C&gt;T.&lt;br/&gt;RefSeq ID: rs33947415.&lt;br/&gt;外显子: 2.&lt;br/&gt;ExAC 最小等位基因频率(MAF): 0.0008402.&lt;br/&gt;Exome Sequencing Project(ESP) 6500 最小等位基因频率(MAF): 0.001.&lt;br/&gt;DANN致病性分数: 0.644724000156.&lt;br/&gt;FATHMM致病性分数: 0.93934.&lt;br/&gt;MetaSVM致病性分数: 0.65183.&lt;br/&gt;GERP++序列保守性预测分数: -10.2.&lt;br/&gt;Clinvar数据库ID: 15138.&lt;br/&gt;Clinvar数据库记录的变异致病性: other|Uncertain significance|Likely pathogenic.&lt;br/&gt;Clinvar数据库记录审核状态: no assertion criteria provided|criteria provided, single submitter.&lt;br/&gt;Clinvar数据库记录的Pubmed相关生物医学文献: ['25113778', '2467892'].</td>\n",
       "    </tr>\n",
       "    <tr>\n",
       "      <th>1</th>\n",
       "      <td>HBB</td>\n",
       "      <td>c.208G&gt;A</td>\n",
       "      <td>PVS1</td>\n",
       "      <td>基因变异类型不是无效变异(null variant). 变异位点所在基因的功能丢失(loss of function)是已知的致病机制. 此变异不具有害的剪接效应(splicing effect). 不符合PVS1标准.</td>\n",
       "    </tr>\n",
       "    <tr>\n",
       "      <th>2</th>\n",
       "      <td>HBB</td>\n",
       "      <td>c.208G&gt;A</td>\n",
       "      <td>PS1和PM5</td>\n",
       "      <td>变异为错义突变. 此错义突变发生在的氨基酸残基在之前发现过致病错义突变(p.Gly70Asp)，尽管是不同氨基酸改变 (Clinvar数据库参考: 15226). 未发现之前报道导致相同氨基酸改变的致病基因变异. 此变异不具有害的剪接效应(splicing effect). 不符合PS1标准. 符合PM5标准.</td>\n",
       "    </tr>\n",
       "    <tr>\n",
       "      <th>3</th>\n",
       "      <td>HBB</td>\n",
       "      <td>c.208G&gt;A</td>\n",
       "      <td>PS3和BS3</td>\n",
       "      <td>[未发现针对此基因变异的完善的体内或体外功能性研究., 不符合PS3标准., 不符合BS3标准.]</td>\n",
       "    </tr>\n",
       "    <tr>\n",
       "      <th>4</th>\n",
       "      <td>HBB</td>\n",
       "      <td>c.208G&gt;A</td>\n",
       "      <td>PS4</td>\n",
       "      <td>具有此基因变异的人群患病率并未显著升高，相对风险(Relative Risk)小于5.0.. 不符合PS4标准.</td>\n",
       "    </tr>\n",
       "    <tr>\n",
       "      <th>5</th>\n",
       "      <td>HBB</td>\n",
       "      <td>c.208G&gt;A</td>\n",
       "      <td>PM2</td>\n",
       "      <td>此基因变异的最小等位基因频率(MAF)较高(&gt;= 0.5%)，且并不引发隐性遗传病. 不符合PM2标准.</td>\n",
       "    </tr>\n",
       "    <tr>\n",
       "      <th>6</th>\n",
       "      <td>HBB</td>\n",
       "      <td>c.208G&gt;A</td>\n",
       "      <td>BA1和BS1</td>\n",
       "      <td>等位基因频率 &lt;= 1%. 不符合BS1标准.</td>\n",
       "    </tr>\n",
       "    <tr>\n",
       "      <th>7</th>\n",
       "      <td>HBB</td>\n",
       "      <td>c.208G&gt;A</td>\n",
       "      <td>BS2</td>\n",
       "      <td>此基因变异在健康人中既不以隐性(纯合子)也不以显性(杂合子)状态存在. 不符合BS2标准.</td>\n",
       "    </tr>\n",
       "    <tr>\n",
       "      <th>8</th>\n",
       "      <td>HBB</td>\n",
       "      <td>c.208G&gt;A</td>\n",
       "      <td>PM1</td>\n",
       "      <td>此基因变异位于突变热点和/或关键的功能域(例如酶的活性部位)，且在这些区域不存在良性变异. 符合PM1标准.</td>\n",
       "    </tr>\n",
       "    <tr>\n",
       "      <th>9</th>\n",
       "      <td>HBB</td>\n",
       "      <td>c.208G&gt;A</td>\n",
       "      <td>PM4和BP3</td>\n",
       "      <td>变异位点在非重复区域(nonrepeat region). 不符合PM4标准. 不符合BP3标准.</td>\n",
       "    </tr>\n",
       "    <tr>\n",
       "      <th>10</th>\n",
       "      <td>HBB</td>\n",
       "      <td>c.208G&gt;A</td>\n",
       "      <td>PP2和BP1</td>\n",
       "      <td>此基因变异类型是错义突变，但并非发生在以下两种类型的基因上：(1) 良性错义突变在基因上的频率低，且在这个基因上的错义突变是致病的常见原因；(2) 基因的截短(truncating)变异是致病的主要原因. 不符合PP2标准. 不符合BP1标准.</td>\n",
       "    </tr>\n",
       "    <tr>\n",
       "      <th>11</th>\n",
       "      <td>HBB</td>\n",
       "      <td>c.208G&gt;A</td>\n",
       "      <td>PP3和BP4</td>\n",
       "      <td>各致病性算法的致病分数阈值是：DANN:0.96, FATHMM:0.81415, MetaSVM:0.83357, GERP++:2.0, dbscSNV_rf_score:0.6, dbscSNV_ada_score:0.6. 部分符合PP3标准(部分致病性算法预测此变异致病). 不符合BP4标准.</td>\n",
       "    </tr>\n",
       "    <tr>\n",
       "      <th>12</th>\n",
       "      <td>HBB</td>\n",
       "      <td>c.208G&gt;A</td>\n",
       "      <td>PP5和BP6</td>\n",
       "      <td>Clinvar报道此基因变异致病(Clinvar IDs: 15138). 符合PP5标准. 不符合BP6标准.</td>\n",
       "    </tr>\n",
       "    <tr>\n",
       "      <th>13</th>\n",
       "      <td>HBB</td>\n",
       "      <td>c.208G&gt;A</td>\n",
       "      <td>BP7</td>\n",
       "      <td>变异类型非同义（沉默）变异. 不符合BP7标准.</td>\n",
       "    </tr>\n",
       "    <tr>\n",
       "      <th>0</th>\n",
       "      <td>DLX3</td>\n",
       "      <td>c.335A&gt;G</td>\n",
       "      <td>变异注释</td>\n",
       "      <td>突变类型: missense_variant.&lt;br/&gt;HGVS ID: chr17:g.48070945T&gt;C.&lt;br/&gt;外显子: 2.&lt;br/&gt;DANN致病性分数: 0.993674333469.&lt;br/&gt;FATHMM致病性分数: 0.91543.&lt;br/&gt;MetaSVM致病性分数: 0.91694.&lt;br/&gt;GERP++序列保守性预测分数: 3.59.</td>\n",
       "    </tr>\n",
       "    <tr>\n",
       "      <th>1</th>\n",
       "      <td>DLX3</td>\n",
       "      <td>c.335A&gt;G</td>\n",
       "      <td>PVS1</td>\n",
       "      <td>基因变异类型不是无效变异(null variant). 变异位点所在基因的功能丢失(loss of function)是已知的致病机制. 此变异不具有害的剪接效应(splicing effect). 不符合PVS1标准.</td>\n",
       "    </tr>\n",
       "    <tr>\n",
       "      <th>...</th>\n",
       "      <td>...</td>\n",
       "      <td>...</td>\n",
       "      <td>...</td>\n",
       "      <td>...</td>\n",
       "    </tr>\n",
       "    <tr>\n",
       "      <th>12</th>\n",
       "      <td>PROC</td>\n",
       "      <td>c.399C&gt;T</td>\n",
       "      <td>PP5和BP6</td>\n",
       "      <td>Clinvar报道此基因变异良性(Clinvar IDs: 331103). 不符合PP5标准. 符合BP6标准.</td>\n",
       "    </tr>\n",
       "    <tr>\n",
       "      <th>13</th>\n",
       "      <td>PROC</td>\n",
       "      <td>c.399C&gt;T</td>\n",
       "      <td>BP7</td>\n",
       "      <td>变异类型为同义（沉默）变异，剪接预测算法预测此变异对剪接序列没有影响，核苷酸不是高度保守的. 符合BP7标准.</td>\n",
       "    </tr>\n",
       "    <tr>\n",
       "      <th>0</th>\n",
       "      <td>B3GAT3</td>\n",
       "      <td>c.910-3C&gt;G</td>\n",
       "      <td>变异注释</td>\n",
       "      <td>突变类型: splice_region_variant&amp;intron_variant.&lt;br/&gt;HGVS ID: chr11:g.62383715G&gt;C.&lt;br/&gt;RefSeq ID: rs12794886.&lt;br/&gt;1000Genomes 最小等位基因频率(MAF): 0.72.&lt;br/&gt;基于随机森林算法的dbscSNV剪接效应预测分数: 0.004.&lt;br/&gt;基于AdaBoost算法的dbscSNV剪接效应预测分数: 1.42005417025298E-5.</td>\n",
       "    </tr>\n",
       "    <tr>\n",
       "      <th>1</th>\n",
       "      <td>B3GAT3</td>\n",
       "      <td>c.910-3C&gt;G</td>\n",
       "      <td>PVS1</td>\n",
       "      <td>基因变异类型不是无效变异(null variant). 变异位点所在基因的功能丢失(loss of function)不是已知的致病机制. 此变异具有有害的剪接效应(splicing effect). 不符合PVS1标准.</td>\n",
       "    </tr>\n",
       "    <tr>\n",
       "      <th>2</th>\n",
       "      <td>B3GAT3</td>\n",
       "      <td>c.910-3C&gt;G</td>\n",
       "      <td>PS1和PM5</td>\n",
       "      <td>变异非错义突变. 未发现之前报道导致相同氨基酸改变的致病基因变异. 未发现导致相同氨基酸残基错义突变（不同氨基酸改变）导致的致病基因变异. 此变异不具有害的剪接效应(splicing effect). 不符合PS1标准. 不符合PM5标准.</td>\n",
       "    </tr>\n",
       "    <tr>\n",
       "      <th>3</th>\n",
       "      <td>B3GAT3</td>\n",
       "      <td>c.910-3C&gt;G</td>\n",
       "      <td>PS3和BS3</td>\n",
       "      <td>[未发现针对此基因变异的完善的体内或体外功能性研究., 不符合PS3标准., 不符合BS3标准.]</td>\n",
       "    </tr>\n",
       "    <tr>\n",
       "      <th>4</th>\n",
       "      <td>B3GAT3</td>\n",
       "      <td>c.910-3C&gt;G</td>\n",
       "      <td>PS4</td>\n",
       "      <td>具有此基因变异的人群患病率并未显著升高，相对风险(Relative Risk)小于5.0.. 不符合PS4标准.</td>\n",
       "    </tr>\n",
       "    <tr>\n",
       "      <th>5</th>\n",
       "      <td>B3GAT3</td>\n",
       "      <td>c.910-3C&gt;G</td>\n",
       "      <td>PM2</td>\n",
       "      <td>此基因变异的最小等位基因频率(MAF)较高(&gt;= 0.5%)，且并不引发隐性遗传病. 不符合PM2标准.</td>\n",
       "    </tr>\n",
       "    <tr>\n",
       "      <th>6</th>\n",
       "      <td>B3GAT3</td>\n",
       "      <td>c.910-3C&gt;G</td>\n",
       "      <td>BA1和BS1</td>\n",
       "      <td>等位基因频率 &gt; 5%. 等位基因频率 &gt; 1%. 符合BA1标准. 符合BS1标准.</td>\n",
       "    </tr>\n",
       "    <tr>\n",
       "      <th>7</th>\n",
       "      <td>B3GAT3</td>\n",
       "      <td>c.910-3C&gt;G</td>\n",
       "      <td>BS2</td>\n",
       "      <td>此基因变异在健康人中既不以隐性(纯合子)也不以显性(杂合子)状态存在. 不符合BS2标准.</td>\n",
       "    </tr>\n",
       "    <tr>\n",
       "      <th>8</th>\n",
       "      <td>B3GAT3</td>\n",
       "      <td>c.910-3C&gt;G</td>\n",
       "      <td>PM1</td>\n",
       "      <td>此基因变异不是错义突变.</td>\n",
       "    </tr>\n",
       "    <tr>\n",
       "      <th>9</th>\n",
       "      <td>B3GAT3</td>\n",
       "      <td>c.910-3C&gt;G</td>\n",
       "      <td>PM4和BP3</td>\n",
       "      <td>变异位点在重复区域(repeat region). 不符合PM4标准. 不符合BP3标准.</td>\n",
       "    </tr>\n",
       "    <tr>\n",
       "      <th>10</th>\n",
       "      <td>B3GAT3</td>\n",
       "      <td>c.910-3C&gt;G</td>\n",
       "      <td>PP2和BP1</td>\n",
       "      <td>此基因变异类型不是错义突变. 不符合PP2标准. 不符合BP1标准.</td>\n",
       "    </tr>\n",
       "    <tr>\n",
       "      <th>11</th>\n",
       "      <td>B3GAT3</td>\n",
       "      <td>c.910-3C&gt;G</td>\n",
       "      <td>PP3和BP4</td>\n",
       "      <td>各致病性算法的致病分数阈值是：DANN:0.96, FATHMM:0.81415, MetaSVM:0.83357, GERP++:2.0, dbscSNV_rf_score:0.6, dbscSNV_ada_score:0.6. 不符合PP3标准. 符合BP4标准.</td>\n",
       "    </tr>\n",
       "    <tr>\n",
       "      <th>12</th>\n",
       "      <td>B3GAT3</td>\n",
       "      <td>c.910-3C&gt;G</td>\n",
       "      <td>PP5和BP6</td>\n",
       "      <td>未在数据库中发现关于此基因变异致病性的报道. 不符合PP5标准. 不符合BP6标准.</td>\n",
       "    </tr>\n",
       "    <tr>\n",
       "      <th>13</th>\n",
       "      <td>B3GAT3</td>\n",
       "      <td>c.910-3C&gt;G</td>\n",
       "      <td>BP7</td>\n",
       "      <td>变异类型非同义（沉默）变异. 不符合BP7标准.</td>\n",
       "    </tr>\n",
       "    <tr>\n",
       "      <th>0</th>\n",
       "      <td>ASPA</td>\n",
       "      <td>c.693C&gt;T</td>\n",
       "      <td>变异注释</td>\n",
       "      <td>突变类型: synonymous_variant.&lt;br/&gt;HGVS ID: chr17:g.3397702C&gt;T.&lt;br/&gt;RefSeq ID: rs12948217.&lt;br/&gt;外显子: 5.&lt;br/&gt;ExAC 最小等位基因频率(MAF): 0.265550752376.&lt;br/&gt;1000Genomes 最小等位基因频率(MAF): 0.21.&lt;br/&gt;Exome Sequencing Project(ESP) 6500 最小等位基因频率(MAF): 0.289.&lt;br/&gt;Clinvar数据库ID: 197621.&lt;br/&gt;Clinvar数据库记录的变异致病性: Benign|Likely benign.&lt;br/&gt;Clinvar数据库记录审核状态: criteria provided, multiple submitters, no conflicts|criteria provided, single submitter.&lt;br/&gt;Clinvar数据库记录的Pubmed相关生物医学文献: ['8023850'].</td>\n",
       "    </tr>\n",
       "    <tr>\n",
       "      <th>1</th>\n",
       "      <td>ASPA</td>\n",
       "      <td>c.693C&gt;T</td>\n",
       "      <td>PVS1</td>\n",
       "      <td>基因变异类型不是无效变异(null variant). 变异位点所在基因的功能丢失(loss of function)是已知的致病机制. 此变异不具有害的剪接效应(splicing effect). 不符合PVS1标准.</td>\n",
       "    </tr>\n",
       "    <tr>\n",
       "      <th>2</th>\n",
       "      <td>ASPA</td>\n",
       "      <td>c.693C&gt;T</td>\n",
       "      <td>PS1和PM5</td>\n",
       "      <td>变异非错义突变. 此错义突变发生在的氨基酸残基在之前发现过致病错义突变(p.Tyr231Cys)，尽管是不同氨基酸改变 (Clinvar数据库参考: 2612). 未发现之前报道导致相同氨基酸改变的致病基因变异. 此变异不具有害的剪接效应(splicing effect). 不符合PS1标准. 不符合PM5标准.</td>\n",
       "    </tr>\n",
       "    <tr>\n",
       "      <th>3</th>\n",
       "      <td>ASPA</td>\n",
       "      <td>c.693C&gt;T</td>\n",
       "      <td>PS3和BS3</td>\n",
       "      <td>[未发现针对此基因变异的完善的体内或体外功能性研究., 不符合PS3标准., 不符合BS3标准.]</td>\n",
       "    </tr>\n",
       "    <tr>\n",
       "      <th>4</th>\n",
       "      <td>ASPA</td>\n",
       "      <td>c.693C&gt;T</td>\n",
       "      <td>PS4</td>\n",
       "      <td>具有此基因变异的人群患病率并未显著升高，相对风险(Relative Risk)小于5.0.. 不符合PS4标准.</td>\n",
       "    </tr>\n",
       "    <tr>\n",
       "      <th>5</th>\n",
       "      <td>ASPA</td>\n",
       "      <td>c.693C&gt;T</td>\n",
       "      <td>PM2</td>\n",
       "      <td>此基因变异的最小等位基因频率(MAF)较高(&gt;= 0.5%)，且并不引发隐性遗传病. 不符合PM2标准.</td>\n",
       "    </tr>\n",
       "    <tr>\n",
       "      <th>6</th>\n",
       "      <td>ASPA</td>\n",
       "      <td>c.693C&gt;T</td>\n",
       "      <td>BA1和BS1</td>\n",
       "      <td>等位基因频率 &gt; 5%. 等位基因频率 &gt; 1%. 符合BA1标准. 符合BS1标准.</td>\n",
       "    </tr>\n",
       "    <tr>\n",
       "      <th>7</th>\n",
       "      <td>ASPA</td>\n",
       "      <td>c.693C&gt;T</td>\n",
       "      <td>BS2</td>\n",
       "      <td>此基因变异在健康人中既不以隐性(纯合子)也不以显性(杂合子)状态存在. 不符合BS2标准.</td>\n",
       "    </tr>\n",
       "    <tr>\n",
       "      <th>8</th>\n",
       "      <td>ASPA</td>\n",
       "      <td>c.693C&gt;T</td>\n",
       "      <td>PM1</td>\n",
       "      <td>此基因变异不是错义突变.</td>\n",
       "    </tr>\n",
       "    <tr>\n",
       "      <th>9</th>\n",
       "      <td>ASPA</td>\n",
       "      <td>c.693C&gt;T</td>\n",
       "      <td>PM4和BP3</td>\n",
       "      <td>变异位点在重复区域(repeat region). 不符合PM4标准. 不符合BP3标准.</td>\n",
       "    </tr>\n",
       "    <tr>\n",
       "      <th>10</th>\n",
       "      <td>ASPA</td>\n",
       "      <td>c.693C&gt;T</td>\n",
       "      <td>PP2和BP1</td>\n",
       "      <td>此基因变异类型不是错义突变. 不符合PP2标准. 不符合BP1标准.</td>\n",
       "    </tr>\n",
       "    <tr>\n",
       "      <th>11</th>\n",
       "      <td>ASPA</td>\n",
       "      <td>c.693C&gt;T</td>\n",
       "      <td>PP3和BP4</td>\n",
       "      <td>各致病性算法的致病分数阈值是：DANN:0.96, FATHMM:0.81415, MetaSVM:0.83357, GERP++:2.0, dbscSNV_rf_score:0.6, dbscSNV_ada_score:0.6. 不符合PP3标准. 不符合BP4标准.</td>\n",
       "    </tr>\n",
       "    <tr>\n",
       "      <th>12</th>\n",
       "      <td>ASPA</td>\n",
       "      <td>c.693C&gt;T</td>\n",
       "      <td>PP5和BP6</td>\n",
       "      <td>Clinvar报道此基因变异良性(Clinvar IDs: 197621). 生物医学参考文献Pubmed: 8023850. 不符合PP5标准. 符合BP6标准.</td>\n",
       "    </tr>\n",
       "    <tr>\n",
       "      <th>13</th>\n",
       "      <td>ASPA</td>\n",
       "      <td>c.693C&gt;T</td>\n",
       "      <td>BP7</td>\n",
       "      <td>变异类型为同义（沉默）变异，剪接预测算法预测此变异对剪接序列没有影响，核苷酸不是高度保守的. 符合BP7标准.</td>\n",
       "    </tr>\n",
       "  </tbody>\n",
       "</table>\n",
       "<p>1278 rows × 4 columns</p>\n",
       "</div>"
      ],
      "text/plain": [
       "      gene     variant criteria  \\\n",
       "0    BBS10    c.145C>T     变异注释   \n",
       "1    BBS10    c.145C>T     PVS1   \n",
       "2    BBS10    c.145C>T  PS1和PM5   \n",
       "3    BBS10    c.145C>T  PS3和BS3   \n",
       "4    BBS10    c.145C>T      PS4   \n",
       "5    BBS10    c.145C>T      PM2   \n",
       "6    BBS10    c.145C>T  BA1和BS1   \n",
       "7    BBS10    c.145C>T      BS2   \n",
       "8    BBS10    c.145C>T      PM1   \n",
       "9    BBS10    c.145C>T  PM4和BP3   \n",
       "10   BBS10    c.145C>T  PP2和BP1   \n",
       "11   BBS10    c.145C>T  PP3和BP4   \n",
       "12   BBS10    c.145C>T  PP5和BP6   \n",
       "13   BBS10    c.145C>T      BP7   \n",
       "0      HBB    c.208G>A     变异注释   \n",
       "1      HBB    c.208G>A     PVS1   \n",
       "2      HBB    c.208G>A  PS1和PM5   \n",
       "3      HBB    c.208G>A  PS3和BS3   \n",
       "4      HBB    c.208G>A      PS4   \n",
       "5      HBB    c.208G>A      PM2   \n",
       "6      HBB    c.208G>A  BA1和BS1   \n",
       "7      HBB    c.208G>A      BS2   \n",
       "8      HBB    c.208G>A      PM1   \n",
       "9      HBB    c.208G>A  PM4和BP3   \n",
       "10     HBB    c.208G>A  PP2和BP1   \n",
       "11     HBB    c.208G>A  PP3和BP4   \n",
       "12     HBB    c.208G>A  PP5和BP6   \n",
       "13     HBB    c.208G>A      BP7   \n",
       "0     DLX3    c.335A>G     变异注释   \n",
       "1     DLX3    c.335A>G     PVS1   \n",
       "..     ...         ...      ...   \n",
       "12    PROC    c.399C>T  PP5和BP6   \n",
       "13    PROC    c.399C>T      BP7   \n",
       "0   B3GAT3  c.910-3C>G     变异注释   \n",
       "1   B3GAT3  c.910-3C>G     PVS1   \n",
       "2   B3GAT3  c.910-3C>G  PS1和PM5   \n",
       "3   B3GAT3  c.910-3C>G  PS3和BS3   \n",
       "4   B3GAT3  c.910-3C>G      PS4   \n",
       "5   B3GAT3  c.910-3C>G      PM2   \n",
       "6   B3GAT3  c.910-3C>G  BA1和BS1   \n",
       "7   B3GAT3  c.910-3C>G      BS2   \n",
       "8   B3GAT3  c.910-3C>G      PM1   \n",
       "9   B3GAT3  c.910-3C>G  PM4和BP3   \n",
       "10  B3GAT3  c.910-3C>G  PP2和BP1   \n",
       "11  B3GAT3  c.910-3C>G  PP3和BP4   \n",
       "12  B3GAT3  c.910-3C>G  PP5和BP6   \n",
       "13  B3GAT3  c.910-3C>G      BP7   \n",
       "0     ASPA    c.693C>T     变异注释   \n",
       "1     ASPA    c.693C>T     PVS1   \n",
       "2     ASPA    c.693C>T  PS1和PM5   \n",
       "3     ASPA    c.693C>T  PS3和BS3   \n",
       "4     ASPA    c.693C>T      PS4   \n",
       "5     ASPA    c.693C>T      PM2   \n",
       "6     ASPA    c.693C>T  BA1和BS1   \n",
       "7     ASPA    c.693C>T      BS2   \n",
       "8     ASPA    c.693C>T      PM1   \n",
       "9     ASPA    c.693C>T  PM4和BP3   \n",
       "10    ASPA    c.693C>T  PP2和BP1   \n",
       "11    ASPA    c.693C>T  PP3和BP4   \n",
       "12    ASPA    c.693C>T  PP5和BP6   \n",
       "13    ASPA    c.693C>T      BP7   \n",
       "\n",
       "                                                                                                                                                                                                                                                                                                                                                                                                                                                                                                                                                                                                            interpretation  \n",
       "0                  突变类型: missense_variant.<br/>蛋白功能区: GroEL-like equatorial domain.<br/>HGVS ID: chr12:g.76741994G>A.<br/>RefSeq ID: rs768933093.<br/>外显子: 1.<br/>ExAC 最小等位基因频率(MAF): 5.052e-05.<br/>DANN致病性分数: 0.999117068756.<br/>FATHMM致病性分数: 0.79186.<br/>MetaSVM致病性分数: 0.84564.<br/>GERP++序列保守性预测分数: 4.27.<br/>Clinvar数据库ID: 225010.<br/>Clinvar数据库记录的变异致病性: Pathogenic|Pathogenic.<br/>Clinvar数据库记录审核状态: criteria provided, single submitter.<br/>Clinvar数据库记录的Pubmed相关生物医学文献: ['25356970', '20120035', '16582908', '21044901', '20876674', '21642631', '20498079', '21517826', '20177705', '24746959', '25982971'].  \n",
       "1                                                                                                                                                                                                                                                                                                                                                                                                                                                                                                           基因变异类型不是无效变异(null variant). 变异位点所在基因的功能丢失(loss of function)是已知的致病机制. 此变异不具有害的剪接效应(splicing effect). 不符合PVS1标准.  \n",
       "2                                                                                                                                                                                                                                                                                                                                                                                                                                                                         变异为错义突变. 之前报道导致相同氨基酸改变的基因变异被证明是致病的 (Clinvar数据库参考: 225010). 未发现导致相同氨基酸残基错义突变（不同氨基酸改变）导致的致病基因变异. 此变异不具有害的剪接效应(splicing effect). 符合PS1标准. 不符合PM5标准.  \n",
       "3                                                                                                                                                                                                                                                                                                                                                                                                                                                                                                                                                                        [未发现针对此基因变异的完善的体内或体外功能性研究., 不符合PS3标准., 不符合BS3标准.]  \n",
       "4                                                                                                                                                                                                                                                                                                                                                                                                                                                                                                                                                                 具有此基因变异的人群患病率并未显著升高，相对风险(Relative Risk)小于5.0.. 不符合PS4标准.  \n",
       "5                                                                                                                                                                                                                                                                                                                                                                                                                                                                                                                                                                      此基因变异的最小等位基因频率(MAF)极低(< 0.5%)，但并不引发隐性遗传病. 不符合PM2标准.  \n",
       "6                                                                                                                                                                                                                                                                                                                                                                                                                                                                                                                                                                                                  等位基因频率 <= 1%. 不符合BS1标准.  \n",
       "7                                                                                                                                                                                                                                                                                                                                                                                                                                                                                                                                                                            此基因变异在健康人中既不以隐性(纯合子)也不以显性(杂合子)状态存在. 不符合BS2标准.  \n",
       "8                                                                                                                                                                                                                                                                                                                                                                                                                                                                                                                                                                   此基因变异位于突变热点和/或关键的功能域(例如酶的活性部位)，且在这些区域不存在良性变异. 符合PM1标准.  \n",
       "9                                                                                                                                                                                                                                                                                                                                                                                                                                                                                                                                                                            变异位点在重复区域(repeat region). 不符合PM4标准. 不符合BP3标准.  \n",
       "10                                                                                                                                                                                                                                                                                                                                                                                                                                                                                              此基因变异类型是错义突变，但并非发生在以下两种类型的基因上：(1) 良性错义突变在基因上的频率低，且在这个基因上的错义突变是致病的常见原因；(2) 基因的截短(truncating)变异是致病的主要原因. 不符合PP2标准. 不符合BP1标准.  \n",
       "11                                                                                                                                                                                                                                                                                                                                                                                                                                                                各致病性算法的致病分数阈值是：DANN:0.96, FATHMM:0.81415, MetaSVM:0.83357, GERP++:2.0, dbscSNV_rf_score:0.6, dbscSNV_ada_score:0.6. 部分符合PP3标准(部分致病性算法预测此变异致病). 不符合BP4标准.  \n",
       "12                                                                                                                                                                                                                                                                                                                                                                                                                                                                                                                                                               Clinvar报道此基因变异致病(Clinvar IDs: 225010). 符合PP5标准. 不符合BP6标准.  \n",
       "13                                                                                                                                                                                                                                                                                                                                                                                                                                                                                                                                                                                                变异类型非同义（沉默）变异. 不符合BP7标准.  \n",
       "0   突变类型: missense_variant.<br/>蛋白功能区: Globin|Globin-like|Globin/Protoglobin.<br/>HGVS ID: chr11:g.5247914C>T.<br/>RefSeq ID: rs33947415.<br/>外显子: 2.<br/>ExAC 最小等位基因频率(MAF): 0.0008402.<br/>Exome Sequencing Project(ESP) 6500 最小等位基因频率(MAF): 0.001.<br/>DANN致病性分数: 0.644724000156.<br/>FATHMM致病性分数: 0.93934.<br/>MetaSVM致病性分数: 0.65183.<br/>GERP++序列保守性预测分数: -10.2.<br/>Clinvar数据库ID: 15138.<br/>Clinvar数据库记录的变异致病性: other|Uncertain significance|Likely pathogenic.<br/>Clinvar数据库记录审核状态: no assertion criteria provided|criteria provided, single submitter.<br/>Clinvar数据库记录的Pubmed相关生物医学文献: ['25113778', '2467892'].  \n",
       "1                                                                                                                                                                                                                                                                                                                                                                                                                                                                                                           基因变异类型不是无效变异(null variant). 变异位点所在基因的功能丢失(loss of function)是已知的致病机制. 此变异不具有害的剪接效应(splicing effect). 不符合PVS1标准.  \n",
       "2                                                                                                                                                                                                                                                                                                                                                                                                                                                             变异为错义突变. 此错义突变发生在的氨基酸残基在之前发现过致病错义突变(p.Gly70Asp)，尽管是不同氨基酸改变 (Clinvar数据库参考: 15226). 未发现之前报道导致相同氨基酸改变的致病基因变异. 此变异不具有害的剪接效应(splicing effect). 不符合PS1标准. 符合PM5标准.  \n",
       "3                                                                                                                                                                                                                                                                                                                                                                                                                                                                                                                                                                        [未发现针对此基因变异的完善的体内或体外功能性研究., 不符合PS3标准., 不符合BS3标准.]  \n",
       "4                                                                                                                                                                                                                                                                                                                                                                                                                                                                                                                                                                 具有此基因变异的人群患病率并未显著升高，相对风险(Relative Risk)小于5.0.. 不符合PS4标准.  \n",
       "5                                                                                                                                                                                                                                                                                                                                                                                                                                                                                                                                                                     此基因变异的最小等位基因频率(MAF)较高(>= 0.5%)，且并不引发隐性遗传病. 不符合PM2标准.  \n",
       "6                                                                                                                                                                                                                                                                                                                                                                                                                                                                                                                                                                                                  等位基因频率 <= 1%. 不符合BS1标准.  \n",
       "7                                                                                                                                                                                                                                                                                                                                                                                                                                                                                                                                                                            此基因变异在健康人中既不以隐性(纯合子)也不以显性(杂合子)状态存在. 不符合BS2标准.  \n",
       "8                                                                                                                                                                                                                                                                                                                                                                                                                                                                                                                                                                   此基因变异位于突变热点和/或关键的功能域(例如酶的活性部位)，且在这些区域不存在良性变异. 符合PM1标准.  \n",
       "9                                                                                                                                                                                                                                                                                                                                                                                                                                                                                                                                                                        变异位点在非重复区域(nonrepeat region). 不符合PM4标准. 不符合BP3标准.  \n",
       "10                                                                                                                                                                                                                                                                                                                                                                                                                                                                                              此基因变异类型是错义突变，但并非发生在以下两种类型的基因上：(1) 良性错义突变在基因上的频率低，且在这个基因上的错义突变是致病的常见原因；(2) 基因的截短(truncating)变异是致病的主要原因. 不符合PP2标准. 不符合BP1标准.  \n",
       "11                                                                                                                                                                                                                                                                                                                                                                                                                                                                各致病性算法的致病分数阈值是：DANN:0.96, FATHMM:0.81415, MetaSVM:0.83357, GERP++:2.0, dbscSNV_rf_score:0.6, dbscSNV_ada_score:0.6. 部分符合PP3标准(部分致病性算法预测此变异致病). 不符合BP4标准.  \n",
       "12                                                                                                                                                                                                                                                                                                                                                                                                                                                                                                                                                                Clinvar报道此基因变异致病(Clinvar IDs: 15138). 符合PP5标准. 不符合BP6标准.  \n",
       "13                                                                                                                                                                                                                                                                                                                                                                                                                                                                                                                                                                                                变异类型非同义（沉默）变异. 不符合BP7标准.  \n",
       "0                                                                                                                                                                                                                                                                                                                                                                                                                                     突变类型: missense_variant.<br/>HGVS ID: chr17:g.48070945T>C.<br/>外显子: 2.<br/>DANN致病性分数: 0.993674333469.<br/>FATHMM致病性分数: 0.91543.<br/>MetaSVM致病性分数: 0.91694.<br/>GERP++序列保守性预测分数: 3.59.  \n",
       "1                                                                                                                                                                                                                                                                                                                                                                                                                                                                                                           基因变异类型不是无效变异(null variant). 变异位点所在基因的功能丢失(loss of function)是已知的致病机制. 此变异不具有害的剪接效应(splicing effect). 不符合PVS1标准.  \n",
       "..                                                                                                                                                                                                                                                                                                                                                                                                                                                                                                                                                                                                                     ...  \n",
       "12                                                                                                                                                                                                                                                                                                                                                                                                                                                                                                                                                               Clinvar报道此基因变异良性(Clinvar IDs: 331103). 不符合PP5标准. 符合BP6标准.  \n",
       "13                                                                                                                                                                                                                                                                                                                                                                                                                                                                                                                                                                 变异类型为同义（沉默）变异，剪接预测算法预测此变异对剪接序列没有影响，核苷酸不是高度保守的. 符合BP7标准.  \n",
       "0                                                                                                                                                                                                                                                                                                                                                                                突变类型: splice_region_variant&intron_variant.<br/>HGVS ID: chr11:g.62383715G>C.<br/>RefSeq ID: rs12794886.<br/>1000Genomes 最小等位基因频率(MAF): 0.72.<br/>基于随机森林算法的dbscSNV剪接效应预测分数: 0.004.<br/>基于AdaBoost算法的dbscSNV剪接效应预测分数: 1.42005417025298E-5.  \n",
       "1                                                                                                                                                                                                                                                                                                                                                                                                                                                                                                          基因变异类型不是无效变异(null variant). 变异位点所在基因的功能丢失(loss of function)不是已知的致病机制. 此变异具有有害的剪接效应(splicing effect). 不符合PVS1标准.  \n",
       "2                                                                                                                                                                                                                                                                                                                                                                                                                                                                                                 变异非错义突变. 未发现之前报道导致相同氨基酸改变的致病基因变异. 未发现导致相同氨基酸残基错义突变（不同氨基酸改变）导致的致病基因变异. 此变异不具有害的剪接效应(splicing effect). 不符合PS1标准. 不符合PM5标准.  \n",
       "3                                                                                                                                                                                                                                                                                                                                                                                                                                                                                                                                                                        [未发现针对此基因变异的完善的体内或体外功能性研究., 不符合PS3标准., 不符合BS3标准.]  \n",
       "4                                                                                                                                                                                                                                                                                                                                                                                                                                                                                                                                                                 具有此基因变异的人群患病率并未显著升高，相对风险(Relative Risk)小于5.0.. 不符合PS4标准.  \n",
       "5                                                                                                                                                                                                                                                                                                                                                                                                                                                                                                                                                                     此基因变异的最小等位基因频率(MAF)较高(>= 0.5%)，且并不引发隐性遗传病. 不符合PM2标准.  \n",
       "6                                                                                                                                                                                                                                                                                                                                                                                                                                                                                                                                                                              等位基因频率 > 5%. 等位基因频率 > 1%. 符合BA1标准. 符合BS1标准.  \n",
       "7                                                                                                                                                                                                                                                                                                                                                                                                                                                                                                                                                                            此基因变异在健康人中既不以隐性(纯合子)也不以显性(杂合子)状态存在. 不符合BS2标准.  \n",
       "8                                                                                                                                                                                                                                                                                                                                                                                                                                                                                                                                                                                                             此基因变异不是错义突变.  \n",
       "9                                                                                                                                                                                                                                                                                                                                                                                                                                                                                                                                                                            变异位点在重复区域(repeat region). 不符合PM4标准. 不符合BP3标准.  \n",
       "10                                                                                                                                                                                                                                                                                                                                                                                                                                                                                                                                                                                      此基因变异类型不是错义突变. 不符合PP2标准. 不符合BP1标准.  \n",
       "11                                                                                                                                                                                                                                                                                                                                                                                                                                                                                  各致病性算法的致病分数阈值是：DANN:0.96, FATHMM:0.81415, MetaSVM:0.83357, GERP++:2.0, dbscSNV_rf_score:0.6, dbscSNV_ada_score:0.6. 不符合PP3标准. 符合BP4标准.  \n",
       "12                                                                                                                                                                                                                                                                                                                                                                                                                                                                                                                                                                              未在数据库中发现关于此基因变异致病性的报道. 不符合PP5标准. 不符合BP6标准.  \n",
       "13                                                                                                                                                                                                                                                                                                                                                                                                                                                                                                                                                                                                变异类型非同义（沉默）变异. 不符合BP7标准.  \n",
       "0                                                                                                                                        突变类型: synonymous_variant.<br/>HGVS ID: chr17:g.3397702C>T.<br/>RefSeq ID: rs12948217.<br/>外显子: 5.<br/>ExAC 最小等位基因频率(MAF): 0.265550752376.<br/>1000Genomes 最小等位基因频率(MAF): 0.21.<br/>Exome Sequencing Project(ESP) 6500 最小等位基因频率(MAF): 0.289.<br/>Clinvar数据库ID: 197621.<br/>Clinvar数据库记录的变异致病性: Benign|Likely benign.<br/>Clinvar数据库记录审核状态: criteria provided, multiple submitters, no conflicts|criteria provided, single submitter.<br/>Clinvar数据库记录的Pubmed相关生物医学文献: ['8023850'].  \n",
       "1                                                                                                                                                                                                                                                                                                                                                                                                                                                                                                           基因变异类型不是无效变异(null variant). 变异位点所在基因的功能丢失(loss of function)是已知的致病机制. 此变异不具有害的剪接效应(splicing effect). 不符合PVS1标准.  \n",
       "2                                                                                                                                                                                                                                                                                                                                                                                                                                                            变异非错义突变. 此错义突变发生在的氨基酸残基在之前发现过致病错义突变(p.Tyr231Cys)，尽管是不同氨基酸改变 (Clinvar数据库参考: 2612). 未发现之前报道导致相同氨基酸改变的致病基因变异. 此变异不具有害的剪接效应(splicing effect). 不符合PS1标准. 不符合PM5标准.  \n",
       "3                                                                                                                                                                                                                                                                                                                                                                                                                                                                                                                                                                        [未发现针对此基因变异的完善的体内或体外功能性研究., 不符合PS3标准., 不符合BS3标准.]  \n",
       "4                                                                                                                                                                                                                                                                                                                                                                                                                                                                                                                                                                 具有此基因变异的人群患病率并未显著升高，相对风险(Relative Risk)小于5.0.. 不符合PS4标准.  \n",
       "5                                                                                                                                                                                                                                                                                                                                                                                                                                                                                                                                                                     此基因变异的最小等位基因频率(MAF)较高(>= 0.5%)，且并不引发隐性遗传病. 不符合PM2标准.  \n",
       "6                                                                                                                                                                                                                                                                                                                                                                                                                                                                                                                                                                              等位基因频率 > 5%. 等位基因频率 > 1%. 符合BA1标准. 符合BS1标准.  \n",
       "7                                                                                                                                                                                                                                                                                                                                                                                                                                                                                                                                                                            此基因变异在健康人中既不以隐性(纯合子)也不以显性(杂合子)状态存在. 不符合BS2标准.  \n",
       "8                                                                                                                                                                                                                                                                                                                                                                                                                                                                                                                                                                                                             此基因变异不是错义突变.  \n",
       "9                                                                                                                                                                                                                                                                                                                                                                                                                                                                                                                                                                            变异位点在重复区域(repeat region). 不符合PM4标准. 不符合BP3标准.  \n",
       "10                                                                                                                                                                                                                                                                                                                                                                                                                                                                                                                                                                                      此基因变异类型不是错义突变. 不符合PP2标准. 不符合BP1标准.  \n",
       "11                                                                                                                                                                                                                                                                                                                                                                                                                                                                                 各致病性算法的致病分数阈值是：DANN:0.96, FATHMM:0.81415, MetaSVM:0.83357, GERP++:2.0, dbscSNV_rf_score:0.6, dbscSNV_ada_score:0.6. 不符合PP3标准. 不符合BP4标准.  \n",
       "12                                                                                                                                                                                                                                                                                                                                                                                                                                                                                                                                      Clinvar报道此基因变异良性(Clinvar IDs: 197621). 生物医学参考文献Pubmed: 8023850. 不符合PP5标准. 符合BP6标准.  \n",
       "13                                                                                                                                                                                                                                                                                                                                                                                                                                                                                                                                                                 变异类型为同义（沉默）变异，剪接预测算法预测此变异对剪接序列没有影响，核苷酸不是高度保守的. 符合BP7标准.  \n",
       "\n",
       "[1278 rows x 4 columns]"
      ]
     },
     "execution_count": 31,
     "metadata": {},
     "output_type": "execute_result"
    }
   ],
   "source": [
    "df_variant_ACMG_interpret_chinese"
   ]
  },
  {
   "cell_type": "code",
   "execution_count": 7,
   "metadata": {
    "collapsed": false
   },
   "outputs": [
    {
     "data": {
      "text/plain": [
       "[('variant_annotations',\n",
       "  u\"Effect: missense_variant.<br/>Protein domain: GroEL-like equatorial domain.<br/>HGVS ID: chr12:g.76741994G>A.<br/>RefSeq ID: rs768933093.<br/>exon: 1.<br/>ExAC MAF: 5.052e-05.<br/>DANN pathogenicity score: 0.999117068756.<br/>FATHMM pathogenicity score: 0.79186.<br/>MetaSVM pathogenicity score: 0.84564.<br/>GERP++ conservation score: 4.27.<br/>Clinvar variation ids: 225010.<br/>Pathogenicity reported by Clinvar: Pathogenic|Pathogenic.<br/>Clinvar review status: criteria provided, single submitter.<br/>Pubmed references from Clinvar: ['25356970', '20120035', '16582908', '21044901', '20876674', '21642631', '20498079', '21517826', '20177705', '24746959', '25982971'].\"),\n",
       " ('PVS1',\n",
       "  'Variant effect NOT in null variant type. Allele in a gene where loss of function (LOF) is a known mechanism of disease. The variant does NOT have damaging splicing effect. PVS1 is NOT met.'),\n",
       " ('PS1 and PM5',\n",
       "  'Variant effect is missense. Same amino acid change as a previously established pathogenic variant regardless of nucleotide change (Clinvar references: 225010). Not find missense change at an amino acid residue where a different missense change determined to be pathogenic has been seen before. The variant does NOT have damaging splicing effect. PS1 is met. PM5 is NOT met.'),\n",
       " ('PS3 and BS3',\n",
       "  'Not find well-established functional studies on this variant. PS3 is NOT met. BS3 is NOT met.'),\n",
       " ('PS4',\n",
       "  'Relative risk is smaller than 5. The prevalence of the variant in affected individuals is NOT significantly increased compared with the prevalence in controls. PS4 is NOT met.'),\n",
       " ('PM2',\n",
       "  'The variant has an extremely low frequency with MAF < 0.5%, but NOT causes recessive diseases. PM2 is NOT met.'),\n",
       " ('BA1 and BS1',\n",
       "  'Allele frequeny is <= 1%. BA1 is NOT met. \\xe4\\xb8\\x8d\\xe7\\xac\\xa6\\xe5\\x90\\x88BA1\\xe6\\xa0\\x87\\xe5\\x87\\x86. BS1 is NOT met.'),\n",
       " ('BS2',\n",
       "  'The variant is NOT observed in a healthy adult in the 1000 Genomes Project as a heterozygote (for dominant diseases) nor as a homozygote (for recessive diseases). BS2 is NOT met.'),\n",
       " ('PM1',\n",
       "  'The variant has missense effect in a critical protein domain where all missense variants in the domain identified to date have been shown to be pathogenic. PM1 is met.'),\n",
       " ('PM4 and BP3',\n",
       "  'Allele is in a repeat region. PM4 is NOT met. BP3 is NOT met.'),\n",
       " ('PP2 and BP1',\n",
       "  'The variant effect is missense, but neither in a gene that has a low rate of benign missense variation and in which missense variants are a common mechanism of disease nor in a gene for which primarily truncating variants are known to cause disease. PP2 is NOT met. BP1 is NOT met.'),\n",
       " ('PP3 and BP4',\n",
       "  'The cutoffs for computational pathogenicity predictions are DANN:0.96, FATHMM:0.81415, MetaSVM:0.83357, GERP++:2.0, dbscSNV_rf_score:0.6, dbscSNV_ada_score:0.6. PP3 is partially met. BP4 is NOT met.'),\n",
       " ('PP5 and BP6',\n",
       "  'Clinvar reports the variant as pathogenic (Clinvar: 225010). Pubmed references: 25356970, 20120035, 16582908, 21044901, 20876674, 21642631, 20498079, 21517826, 20177705, 24746959, 25982971. PP5 is met. BP6 is NOT met.'),\n",
       " ('BP7', 'Variant effect is not synonymous. BP7 is NOT met.')]"
      ]
     },
     "execution_count": 7,
     "metadata": {},
     "output_type": "execute_result"
    }
   ],
   "source": [
    "variant_ACMG_interpretation[('BBS10', 'c.145C>T')]"
   ]
  },
  {
   "cell_type": "code",
   "execution_count": 10,
   "metadata": {
    "collapsed": false
   },
   "outputs": [
    {
     "data": {
      "text/html": [
       "<div>\n",
       "<table border=\"1\" class=\"dataframe\">\n",
       "  <thead>\n",
       "    <tr style=\"text-align: right;\">\n",
       "      <th></th>\n",
       "      <th>gene</th>\n",
       "      <th>variant</th>\n",
       "      <th>protein</th>\n",
       "      <th>id</th>\n",
       "      <th>final_score</th>\n",
       "      <th>pathogenicity</th>\n",
       "      <th>hit_criteria</th>\n",
       "      <th>pathogenicity_score</th>\n",
       "      <th>hpo_hit_score</th>\n",
       "      <th>pheno_match_score</th>\n",
       "    </tr>\n",
       "  </thead>\n",
       "  <tbody>\n",
       "    <tr>\n",
       "      <th>76</th>\n",
       "      <td>BBS10</td>\n",
       "      <td>c.145C&gt;T</td>\n",
       "      <td>p.Arg49Trp</td>\n",
       "      <td>chr12:g.76741994G&gt;A</td>\n",
       "      <td>9.511010</td>\n",
       "      <td>Likely pathogenic</td>\n",
       "      <td>PS1|PM1|PP3|PP5</td>\n",
       "      <td>3.8750</td>\n",
       "      <td>5.666667</td>\n",
       "      <td>1.154249</td>\n",
       "    </tr>\n",
       "    <tr>\n",
       "      <th>103</th>\n",
       "      <td>HBB</td>\n",
       "      <td>c.208G&gt;A</td>\n",
       "      <td>p.Gly70Ser</td>\n",
       "      <td>chr11:g.5247914C&gt;T</td>\n",
       "      <td>8.713391</td>\n",
       "      <td>Uncertain significance</td>\n",
       "      <td>PM5|PM1|PP3|PP5</td>\n",
       "      <td>2.6250</td>\n",
       "      <td>19.213095</td>\n",
       "      <td>1.074401</td>\n",
       "    </tr>\n",
       "    <tr>\n",
       "      <th>66</th>\n",
       "      <td>DLX3</td>\n",
       "      <td>c.335A&gt;G</td>\n",
       "      <td>p.Lys112Arg</td>\n",
       "      <td>chr17:g.48070945T&gt;C</td>\n",
       "      <td>6.150000</td>\n",
       "      <td>Uncertain significance</td>\n",
       "      <td>PS1|PM1|PM2|PP3|BP1</td>\n",
       "      <td>3.9612</td>\n",
       "      <td>2.000000</td>\n",
       "      <td>1.000000</td>\n",
       "    </tr>\n",
       "    <tr>\n",
       "      <th>53</th>\n",
       "      <td>PROP1</td>\n",
       "      <td>c.652A&gt;C</td>\n",
       "      <td>p.Ser218Arg</td>\n",
       "      <td>chr5:g.177419739T&gt;G</td>\n",
       "      <td>5.230000</td>\n",
       "      <td>Uncertain significance</td>\n",
       "      <td>PM1|PM2|PP3</td>\n",
       "      <td>2.2500</td>\n",
       "      <td>7.500000</td>\n",
       "      <td>1.000000</td>\n",
       "    </tr>\n",
       "    <tr>\n",
       "      <th>107</th>\n",
       "      <td>SOX3</td>\n",
       "      <td>c.818C&gt;T</td>\n",
       "      <td>p.Ser273Leu</td>\n",
       "      <td>chrX:g.139586408G&gt;A</td>\n",
       "      <td>5.190000</td>\n",
       "      <td>Uncertain significance</td>\n",
       "      <td>PM1|PM2|PP3</td>\n",
       "      <td>2.2500</td>\n",
       "      <td>7.333333</td>\n",
       "      <td>1.000000</td>\n",
       "    </tr>\n",
       "  </tbody>\n",
       "</table>\n",
       "</div>"
      ],
      "text/plain": [
       "      gene   variant      protein                   id  final_score  \\\n",
       "76   BBS10  c.145C>T   p.Arg49Trp  chr12:g.76741994G>A     9.511010   \n",
       "103    HBB  c.208G>A   p.Gly70Ser   chr11:g.5247914C>T     8.713391   \n",
       "66    DLX3  c.335A>G  p.Lys112Arg  chr17:g.48070945T>C     6.150000   \n",
       "53   PROP1  c.652A>C  p.Ser218Arg  chr5:g.177419739T>G     5.230000   \n",
       "107   SOX3  c.818C>T  p.Ser273Leu  chrX:g.139586408G>A     5.190000   \n",
       "\n",
       "              pathogenicity         hit_criteria  pathogenicity_score  \\\n",
       "76        Likely pathogenic      PS1|PM1|PP3|PP5               3.8750   \n",
       "103  Uncertain significance      PM5|PM1|PP3|PP5               2.6250   \n",
       "66   Uncertain significance  PS1|PM1|PM2|PP3|BP1               3.9612   \n",
       "53   Uncertain significance          PM1|PM2|PP3               2.2500   \n",
       "107  Uncertain significance          PM1|PM2|PP3               2.2500   \n",
       "\n",
       "     hpo_hit_score  pheno_match_score  \n",
       "76        5.666667           1.154249  \n",
       "103      19.213095           1.074401  \n",
       "66        2.000000           1.000000  \n",
       "53        7.500000           1.000000  \n",
       "107       7.333333           1.000000  "
      ]
     },
     "execution_count": 10,
     "metadata": {},
     "output_type": "execute_result"
    }
   ],
   "source": [
    "df_final_res.head()"
   ]
  },
  {
   "cell_type": "code",
   "execution_count": 11,
   "metadata": {
    "collapsed": false
   },
   "outputs": [
    {
     "data": {
      "text/html": [
       "<div>\n",
       "<table border=\"1\" class=\"dataframe\">\n",
       "  <thead>\n",
       "    <tr style=\"text-align: right;\">\n",
       "      <th></th>\n",
       "      <th>Chromosome</th>\n",
       "      <th>Start</th>\n",
       "      <th>Stop</th>\n",
       "      <th>Reference</th>\n",
       "      <th>Allele 1</th>\n",
       "      <th>Allele 2</th>\n",
       "      <th>Allele In Scope</th>\n",
       "      <th>Transcript</th>\n",
       "      <th>Gene Profile Report</th>\n",
       "      <th>Gene (gene)</th>\n",
       "      <th>cDNA (cNomen)</th>\n",
       "      <th>Protein (pNomen)</th>\n",
       "      <th>HGVS cDNA-level nomenclature (fullCNomen)</th>\n",
       "    </tr>\n",
       "  </thead>\n",
       "  <tbody>\n",
       "    <tr>\n",
       "      <th>0</th>\n",
       "      <td>1</td>\n",
       "      <td>1635536</td>\n",
       "      <td>1635536</td>\n",
       "      <td>.</td>\n",
       "      <td>.</td>\n",
       "      <td>A</td>\n",
       "      <td>A</td>\n",
       "      <td>NM_024011.2</td>\n",
       "      <td></td>\n",
       "      <td>CDK11A</td>\n",
       "      <td>c.1735dupT</td>\n",
       "      <td>p.Y579Lfs*66</td>\n",
       "      <td>NM_024011.2:c.1735dupT</td>\n",
       "    </tr>\n",
       "    <tr>\n",
       "      <th>1</th>\n",
       "      <td>1</td>\n",
       "      <td>23713843</td>\n",
       "      <td>23713843</td>\n",
       "      <td>T</td>\n",
       "      <td>C</td>\n",
       "      <td>T</td>\n",
       "      <td>C</td>\n",
       "      <td>NM_003196.2</td>\n",
       "      <td></td>\n",
       "      <td>TCEA3</td>\n",
       "      <td>c.889A&gt;G</td>\n",
       "      <td>p.M297V</td>\n",
       "      <td>NM_003196.2:c.889A&gt;G</td>\n",
       "    </tr>\n",
       "    <tr>\n",
       "      <th>2</th>\n",
       "      <td>1</td>\n",
       "      <td>24882663</td>\n",
       "      <td>24882663</td>\n",
       "      <td>A</td>\n",
       "      <td>A</td>\n",
       "      <td>G</td>\n",
       "      <td>G</td>\n",
       "      <td>NM_001010980.4</td>\n",
       "      <td></td>\n",
       "      <td>NCMAP</td>\n",
       "      <td>c.-8+3A&gt;G</td>\n",
       "      <td></td>\n",
       "      <td>NM_001010980.4:c.-8+3A&gt;G</td>\n",
       "    </tr>\n",
       "    <tr>\n",
       "      <th>3</th>\n",
       "      <td>1</td>\n",
       "      <td>26663842</td>\n",
       "      <td>26663842</td>\n",
       "      <td>G</td>\n",
       "      <td>G</td>\n",
       "      <td>A</td>\n",
       "      <td>A</td>\n",
       "      <td>NM_001039775.3</td>\n",
       "      <td></td>\n",
       "      <td>AIM1L</td>\n",
       "      <td>c.3673C&gt;T</td>\n",
       "      <td>p.R1225W</td>\n",
       "      <td>NM_001039775.3:c.3673C&gt;T</td>\n",
       "    </tr>\n",
       "    <tr>\n",
       "      <th>4</th>\n",
       "      <td>1</td>\n",
       "      <td>39896387</td>\n",
       "      <td>39896387</td>\n",
       "      <td>A</td>\n",
       "      <td>C</td>\n",
       "      <td>A</td>\n",
       "      <td>C</td>\n",
       "      <td>NM_012090.5</td>\n",
       "      <td></td>\n",
       "      <td>MACF1</td>\n",
       "      <td>c.10958A&gt;C</td>\n",
       "      <td>p.E3653A</td>\n",
       "      <td>NM_012090.5:c.10958A&gt;C</td>\n",
       "    </tr>\n",
       "  </tbody>\n",
       "</table>\n",
       "</div>"
      ],
      "text/plain": [
       "  Chromosome     Start      Stop Reference Allele 1 Allele 2 Allele In Scope  \\\n",
       "0          1   1635536   1635536         .        .        A               A   \n",
       "1          1  23713843  23713843         T        C        T               C   \n",
       "2          1  24882663  24882663         A        A        G               G   \n",
       "3          1  26663842  26663842         G        G        A               A   \n",
       "4          1  39896387  39896387         A        C        A               C   \n",
       "\n",
       "       Transcript Gene Profile Report Gene (gene) cDNA (cNomen)  \\\n",
       "0     NM_024011.2                          CDK11A    c.1735dupT   \n",
       "1     NM_003196.2                           TCEA3      c.889A>G   \n",
       "2  NM_001010980.4                           NCMAP     c.-8+3A>G   \n",
       "3  NM_001039775.3                           AIM1L     c.3673C>T   \n",
       "4     NM_012090.5                           MACF1    c.10958A>C   \n",
       "\n",
       "  Protein (pNomen) HGVS cDNA-level nomenclature (fullCNomen)  \n",
       "0     p.Y579Lfs*66                    NM_024011.2:c.1735dupT  \n",
       "1          p.M297V                      NM_003196.2:c.889A>G  \n",
       "2                                   NM_001010980.4:c.-8+3A>G  \n",
       "3         p.R1225W                  NM_001039775.3:c.3673C>T  \n",
       "4         p.E3653A                    NM_012090.5:c.10958A>C  "
      ]
     },
     "execution_count": 11,
     "metadata": {},
     "output_type": "execute_result"
    }
   ],
   "source": [
    "df_genes.head()"
   ]
  },
  {
   "cell_type": "code",
   "execution_count": 8,
   "metadata": {
    "collapsed": false
   },
   "outputs": [
    {
     "data": {
      "text/plain": [
       "[u'bilateral post-axial polydactyly of hands and feet',\n",
       " u'macrocephaly',\n",
       " u'tall stature',\n",
       " u'post-natal',\n",
       " u'central hypotonia',\n",
       " u'global developmental delay',\n",
       " u'obstructive sleep apnea',\n",
       " u'delayed cns central nervous myelination',\n",
       " u'white matter',\n",
       " u'corpus callosum',\n",
       " u'mildly ectopic neurohypophys posterior pituitary upslanted palpebral fissures',\n",
       " u'epicanthus',\n",
       " u'arched eyebrows',\n",
       " u'craniofacial asymmetry',\n",
       " u'bronchial stenosis',\n",
       " u'macrosomia',\n",
       " u'recurrent infection',\n",
       " u'gastroesophageal reflux',\n",
       " u'supratentorial perivascular space',\n",
       " u'mucopolysaccharidosis plasma urine creatine',\n",
       " u'purine',\n",
       " u'pyrimidine metabolism',\n",
       " u'gross motor',\n",
       " u'language',\n",
       " u'cognitive',\n",
       " u'ventriculomegaly',\n",
       " u'metatarsal bones',\n",
       " u'proximal phalanges',\n",
       " u'obesity',\n",
       " u'wheeze',\n",
       " u'brachycephaly frontal prominence',\n",
       " u'bitemporal narrowing',\n",
       " u'clinodactyly',\n",
       " u'brachydactyly',\n",
       " u'bardet-biedl',\n",
       " 'growth delay',\n",
       " 'developmental delay']"
      ]
     },
     "execution_count": 8,
     "metadata": {},
     "output_type": "execute_result"
    }
   ],
   "source": [
    "phenos"
   ]
  },
  {
   "cell_type": "code",
   "execution_count": 9,
   "metadata": {
    "collapsed": false
   },
   "outputs": [
    {
     "data": {
      "text/plain": [
       "['Chromosome',\n",
       " 'Start',\n",
       " 'Stop',\n",
       " 'Reference',\n",
       " 'Allele 1',\n",
       " 'Allele 2',\n",
       " 'Allele In Scope',\n",
       " 'Transcript',\n",
       " 'Gene Profile Report',\n",
       " 'Gene (gene)',\n",
       " 'cDNA (cNomen)',\n",
       " 'Protein (pNomen)',\n",
       " 'HGVS cDNA-level nomenclature (fullCNomen)']"
      ]
     },
     "execution_count": 9,
     "metadata": {},
     "output_type": "execute_result"
    }
   ],
   "source": [
    "field_names"
   ]
  },
  {
   "cell_type": "code",
   "execution_count": 17,
   "metadata": {
    "collapsed": false
   },
   "outputs": [
    {
     "data": {
      "text/html": [
       "<div>\n",
       "<table border=\"1\" class=\"dataframe\">\n",
       "  <thead>\n",
       "    <tr style=\"text-align: right;\">\n",
       "      <th></th>\n",
       "      <th>gene</th>\n",
       "      <th>variant</th>\n",
       "      <th>criteria</th>\n",
       "      <th>interpretation</th>\n",
       "    </tr>\n",
       "  </thead>\n",
       "  <tbody>\n",
       "    <tr>\n",
       "      <th>0</th>\n",
       "      <td>BBS10</td>\n",
       "      <td>c.145C&gt;T</td>\n",
       "      <td>variant_annotations</td>\n",
       "      <td>Effect: missense_variant.&lt;br/&gt;Protein domain: GroEL-like equatorial domain.&lt;br/&gt;HGVS ID: chr12:g.76741994G&gt;A.&lt;br/&gt;RefSeq ID: rs768933093.&lt;br/&gt;exon: 1.&lt;br/&gt;ExAC MAF: 5.052e-05.&lt;br/&gt;DANN pathogenicity score: 0.999117068756.&lt;br/&gt;FATHMM pathogenicity score: 0.79186.&lt;br/&gt;MetaSVM pathogenicity score: 0.84564.&lt;br/&gt;GERP++ conservation score: 4.27.&lt;br/&gt;Clinvar variation ids: 225010.&lt;br/&gt;Pathogenicity reported by Clinvar: Pathogenic|Pathogenic.&lt;br/&gt;Clinvar review status: criteria provided, single submitter.&lt;br/&gt;Pubmed references from Clinvar: ['25356970', '20120035', '16582908', '21044901', '20876674', '21642631', '20498079', '21517826', '20177705', '24746959', '25982971'].</td>\n",
       "    </tr>\n",
       "    <tr>\n",
       "      <th>1</th>\n",
       "      <td>BBS10</td>\n",
       "      <td>c.145C&gt;T</td>\n",
       "      <td>PVS1</td>\n",
       "      <td>Variant effect NOT in null variant type. Allele in a gene where loss of function (LOF) is a known mechanism of disease. The variant does NOT have damaging splicing effect. PVS1 is NOT met.</td>\n",
       "    </tr>\n",
       "    <tr>\n",
       "      <th>2</th>\n",
       "      <td>BBS10</td>\n",
       "      <td>c.145C&gt;T</td>\n",
       "      <td>PS1 and PM5</td>\n",
       "      <td>Variant effect is missense. Same amino acid change as a previously established pathogenic variant regardless of nucleotide change (Clinvar references: 225010). Not find missense change at an amino acid residue where a different missense change determined to be pathogenic has been seen before. The variant does NOT have damaging splicing effect. PS1 is met. PM5 is NOT met.</td>\n",
       "    </tr>\n",
       "    <tr>\n",
       "      <th>3</th>\n",
       "      <td>BBS10</td>\n",
       "      <td>c.145C&gt;T</td>\n",
       "      <td>PS3 and BS3</td>\n",
       "      <td>Not find well-established functional studies on this variant. PS3 is NOT met. BS3 is NOT met.</td>\n",
       "    </tr>\n",
       "    <tr>\n",
       "      <th>4</th>\n",
       "      <td>BBS10</td>\n",
       "      <td>c.145C&gt;T</td>\n",
       "      <td>PS4</td>\n",
       "      <td>Relative risk is smaller than 5. The prevalence of the variant in affected individuals is NOT significantly increased compared with the prevalence in controls. PS4 is NOT met.</td>\n",
       "    </tr>\n",
       "  </tbody>\n",
       "</table>\n",
       "</div>"
      ],
      "text/plain": [
       "    gene   variant             criteria  \\\n",
       "0  BBS10  c.145C>T  variant_annotations   \n",
       "1  BBS10  c.145C>T                 PVS1   \n",
       "2  BBS10  c.145C>T          PS1 and PM5   \n",
       "3  BBS10  c.145C>T          PS3 and BS3   \n",
       "4  BBS10  c.145C>T                  PS4   \n",
       "\n",
       "                                                                                                                                                                                                                                                                                                                                                                                                                                                                                                                                                                                                                                                                                     interpretation  \n",
       "0  Effect: missense_variant.<br/>Protein domain: GroEL-like equatorial domain.<br/>HGVS ID: chr12:g.76741994G>A.<br/>RefSeq ID: rs768933093.<br/>exon: 1.<br/>ExAC MAF: 5.052e-05.<br/>DANN pathogenicity score: 0.999117068756.<br/>FATHMM pathogenicity score: 0.79186.<br/>MetaSVM pathogenicity score: 0.84564.<br/>GERP++ conservation score: 4.27.<br/>Clinvar variation ids: 225010.<br/>Pathogenicity reported by Clinvar: Pathogenic|Pathogenic.<br/>Clinvar review status: criteria provided, single submitter.<br/>Pubmed references from Clinvar: ['25356970', '20120035', '16582908', '21044901', '20876674', '21642631', '20498079', '21517826', '20177705', '24746959', '25982971'].  \n",
       "1                                                                                                                                                                                                                                                                                                                                                                                                                                                                                                      Variant effect NOT in null variant type. Allele in a gene where loss of function (LOF) is a known mechanism of disease. The variant does NOT have damaging splicing effect. PVS1 is NOT met.  \n",
       "2                                                                                                                                                                                                                                                                                                             Variant effect is missense. Same amino acid change as a previously established pathogenic variant regardless of nucleotide change (Clinvar references: 225010). Not find missense change at an amino acid residue where a different missense change determined to be pathogenic has been seen before. The variant does NOT have damaging splicing effect. PS1 is met. PM5 is NOT met.  \n",
       "3                                                                                                                                                                                                                                                                                                                                                                                                                                                                                                                                                                                                     Not find well-established functional studies on this variant. PS3 is NOT met. BS3 is NOT met.  \n",
       "4                                                                                                                                                                                                                                                                                                                                                                                                                                                                                                                   Relative risk is smaller than 5. The prevalence of the variant in affected individuals is NOT significantly increased compared with the prevalence in controls. PS4 is NOT met.  "
      ]
     },
     "execution_count": 17,
     "metadata": {},
     "output_type": "execute_result"
    }
   ],
   "source": [
    "variant_ACMG_interpretation.head()"
   ]
  },
  {
   "cell_type": "code",
   "execution_count": 18,
   "metadata": {
    "collapsed": false
   },
   "outputs": [
    {
     "data": {
      "text/html": [
       "<div>\n",
       "<table border=\"1\" class=\"dataframe\">\n",
       "  <thead>\n",
       "    <tr style=\"text-align: right;\">\n",
       "      <th></th>\n",
       "      <th>基因</th>\n",
       "      <th>变异</th>\n",
       "      <th>标准</th>\n",
       "      <th>解读</th>\n",
       "    </tr>\n",
       "  </thead>\n",
       "  <tbody>\n",
       "    <tr>\n",
       "      <th>0</th>\n",
       "      <td>BBS10</td>\n",
       "      <td>c.145C&gt;T</td>\n",
       "      <td>变异注释</td>\n",
       "      <td>突变类型: missense_variant.&lt;br/&gt;蛋白功能区: GroEL-like equatorial domain.&lt;br/&gt;HGVS ID: chr12:g.76741994G&gt;A.&lt;br/&gt;RefSeq ID: rs768933093.&lt;br/&gt;外显子: 1.&lt;br/&gt;ExAC 最小等位基因频率(MAF): 5.052e-05.&lt;br/&gt;DANN致病性分数: 0.999117068756.&lt;br/&gt;FATHMM致病性分数: 0.79186.&lt;br/&gt;MetaSVM致病性分数: 0.84564.&lt;br/&gt;GERP++序列保守性预测分数: 4.27.&lt;br/&gt;Clinvar数据库ID: 225010.&lt;br/&gt;Clinvar数据库记录的变异致病性: 致病|致病.&lt;br/&gt;Clinvar数据库记录审核状态: 提供标准，单个提交者.&lt;br/&gt;Clinvar数据库记录的Pubmed相关生物医学文献: ['25356970', '20120035', '16582908', '21044901', '20876674', '21642631', '20498079', '21517826', '20177705', '24746959', '25982971'].</td>\n",
       "    </tr>\n",
       "    <tr>\n",
       "      <th>1</th>\n",
       "      <td>BBS10</td>\n",
       "      <td>c.145C&gt;T</td>\n",
       "      <td>PVS1</td>\n",
       "      <td>基因变异类型不是无效变异(null variant). 变异位点所在基因的功能丢失(loss of function)是已知的致病机制. 此变异不具有害的剪接效应(splicing effect). 不符合PVS1标准.</td>\n",
       "    </tr>\n",
       "    <tr>\n",
       "      <th>2</th>\n",
       "      <td>BBS10</td>\n",
       "      <td>c.145C&gt;T</td>\n",
       "      <td>PS1和PM5</td>\n",
       "      <td>变异为错义突变. 之前报道导致相同氨基酸改变的基因变异被证明是致病的 (Clinvar数据库参考: 225010). 未发现导致相同氨基酸残基错义突变（不同氨基酸改变）导致的致病基因变异. 此变异不具有害的剪接效应(splicing effect). 符合PS1标准. 不符合PM5标准.</td>\n",
       "    </tr>\n",
       "    <tr>\n",
       "      <th>3</th>\n",
       "      <td>BBS10</td>\n",
       "      <td>c.145C&gt;T</td>\n",
       "      <td>PS3和BS3</td>\n",
       "      <td>未发现针对此基因变异的完善的体内或体外功能性研究. 不符合PS3标准. 不符合BS3标准.</td>\n",
       "    </tr>\n",
       "    <tr>\n",
       "      <th>4</th>\n",
       "      <td>BBS10</td>\n",
       "      <td>c.145C&gt;T</td>\n",
       "      <td>PS4</td>\n",
       "      <td>具有此基因变异的人群患病率并未显著升高，相对风险(Relative Risk)小于5.0.. 不符合PS4标准.</td>\n",
       "    </tr>\n",
       "  </tbody>\n",
       "</table>\n",
       "</div>"
      ],
      "text/plain": [
       "      基因        变异       标准  \\\n",
       "0  BBS10  c.145C>T     变异注释   \n",
       "1  BBS10  c.145C>T     PVS1   \n",
       "2  BBS10  c.145C>T  PS1和PM5   \n",
       "3  BBS10  c.145C>T  PS3和BS3   \n",
       "4  BBS10  c.145C>T      PS4   \n",
       "\n",
       "                                                                                                                                                                                                                                                                                                                                                                                                                                                                                                                                                               解读  \n",
       "0  突变类型: missense_variant.<br/>蛋白功能区: GroEL-like equatorial domain.<br/>HGVS ID: chr12:g.76741994G>A.<br/>RefSeq ID: rs768933093.<br/>外显子: 1.<br/>ExAC 最小等位基因频率(MAF): 5.052e-05.<br/>DANN致病性分数: 0.999117068756.<br/>FATHMM致病性分数: 0.79186.<br/>MetaSVM致病性分数: 0.84564.<br/>GERP++序列保守性预测分数: 4.27.<br/>Clinvar数据库ID: 225010.<br/>Clinvar数据库记录的变异致病性: 致病|致病.<br/>Clinvar数据库记录审核状态: 提供标准，单个提交者.<br/>Clinvar数据库记录的Pubmed相关生物医学文献: ['25356970', '20120035', '16582908', '21044901', '20876674', '21642631', '20498079', '21517826', '20177705', '24746959', '25982971'].  \n",
       "1                                                                                                                                                                                                                                                                                                                                                                                                                                                  基因变异类型不是无效变异(null variant). 变异位点所在基因的功能丢失(loss of function)是已知的致病机制. 此变异不具有害的剪接效应(splicing effect). 不符合PVS1标准.  \n",
       "2                                                                                                                                                                                                                                                                                                                                                                                                                变异为错义突变. 之前报道导致相同氨基酸改变的基因变异被证明是致病的 (Clinvar数据库参考: 225010). 未发现导致相同氨基酸残基错义突变（不同氨基酸改变）导致的致病基因变异. 此变异不具有害的剪接效应(splicing effect). 符合PS1标准. 不符合PM5标准.  \n",
       "3                                                                                                                                                                                                                                                                                                                                                                                                                                                                                                                   未发现针对此基因变异的完善的体内或体外功能性研究. 不符合PS3标准. 不符合BS3标准.  \n",
       "4                                                                                                                                                                                                                                                                                                                                                                                                                                                                                                        具有此基因变异的人群患病率并未显著升高，相对风险(Relative Risk)小于5.0.. 不符合PS4标准.  "
      ]
     },
     "execution_count": 18,
     "metadata": {},
     "output_type": "execute_result"
    }
   ],
   "source": [
    "variant_ACMG_interpret_chinese.head()"
   ]
  },
  {
   "cell_type": "code",
   "execution_count": null,
   "metadata": {
    "collapsed": true
   },
   "outputs": [],
   "source": [
    "df_final_res, df_genes, phenos, field_names, variant_ACMG_interpretation, variant_ACMG_interpret_chinese"
   ]
  },
  {
   "cell_type": "code",
   "execution_count": 14,
   "metadata": {
    "collapsed": true
   },
   "outputs": [],
   "source": [
    "nput_gene = df_genes.to_json(orient='records')\n",
    "input_phenotype = ', '.join(phenos)\n",
    "result_table = ACMG_result.to_json(orient='records')\n",
    "interpretation = variant_ACMG_interpretation.to_json(orient='records')\n",
    "interpretation_chinese = variant_ACMG_interpret_chinese.to_json(orient='records')\n",
    "# logger.info(\"Finish processing data, start writing data to DB in background main task\")\n",
    "\n",
    "\n",
    "# sample = Main_table(\n",
    "#     task_id=raw_input_id,\n",
    "#     input_gene=input_gene,\n",
    "#     input_phenotype=input_phenotype,\n",
    "#     result=result_table,\n",
    "#     interpretation=interpretation,\n",
    "#     interpretation_chinese=interpretation_chinese,\n",
    "#     pub_date=timezone.now(),\n",
    "#     user_name=raw_input.user_name,\n",
    "#     task_name=raw_input.task_name,\n",
    "# )\n",
    "# sample.save()\n",
    "# logger.info(\"Finish writing data to DB in background main task\")\n",
    "# raw_input.status = \"succeed\"\n",
    "# raw_input.save()"
   ]
  },
  {
   "cell_type": "code",
   "execution_count": 16,
   "metadata": {
    "collapsed": false
   },
   "outputs": [
    {
     "data": {
      "text/plain": [
       "'[{\"gene\":\"BBS10\",\"variant\":\"c.145C>T\",\"criteria\":\"variant_annotations\",\"interpretation\":\"Effect: missense_variant.<br\\\\/>Protein domain: GroEL-like equatorial domain.<br\\\\/>HGVS ID: chr12:g.76741994G>A.<br\\\\/>RefSeq ID: rs768933093.<br\\\\/>exon: 1.<br\\\\/>ExAC MAF: 5.052e-05.<br\\\\/>DANN pathogenicity score: 0.999117068756.<br\\\\/>FATHMM pathogenicity score: 0.79186.<br\\\\/>MetaSVM pathogenicity score: 0.84564.<br\\\\/>GERP++ conservation score: 4.27.<br\\\\/>Clinvar variation ids: 225010.<br\\\\/>Pathogenicity reported by Clinvar: Pathogenic|Pathogenic.<br\\\\/>Clinvar review status: criteria provided, single submitter.<br\\\\/>Pubmed references from Clinvar: [\\'25356970\\', \\'20120035\\', \\'16582908\\', \\'21044901\\', \\'20876674\\', \\'21642631\\', \\'20498079\\', \\'21517826\\', \\'20177705\\', \\'24746959\\', \\'25982971\\'].\"},{\"gene\":\"BBS10\",\"variant\":\"c.145C>T\",\"criteria\":\"PVS1\",\"interpretation\":\"Variant effect NOT in null variant type. Allele in a gene where loss of function (LOF) is a known mechanism of disease. The variant does NOT have dama'"
      ]
     },
     "execution_count": 16,
     "metadata": {},
     "output_type": "execute_result"
    }
   ],
   "source": [
    "interpretation[:1000]"
   ]
  },
  {
   "cell_type": "code",
   "execution_count": 21,
   "metadata": {
    "collapsed": false
   },
   "outputs": [
    {
     "data": {
      "text/plain": [
       "'[{\"\\\\u57fa\\\\u56e0\":\"BBS10\",\"\\\\u53d8\\\\u5f02\":\"c.145C>T\",\"\\\\u6807\\\\u51c6\":\"\\\\u53d8\\\\u5f02\\\\u6ce8\\\\u91ca\",\"\\\\u89e3\\\\u8bfb\":\"\\\\u7a81\\\\u53d8\\\\u7c7b\\\\u578b: missense_variant.<br\\\\/>\\\\u86cb\\\\u767d\\\\u529f\\\\u80fd\\\\u533a: GroEL-like equatorial domain.<br\\\\/>HGVS ID: chr12:g.76741994G>A.<br\\\\/>RefSeq ID: rs768933093.<br\\\\/>\\\\u5916\\\\u663e\\\\u5b50: 1.<br\\\\/>ExAC \\\\u6700\\\\u5c0f\\\\u7b49\\\\u4f4d\\\\u57fa\\\\u56e0\\\\u9891\\\\u7387(MAF): 5.052e-05.<br\\\\/>DANN\\\\u81f4\\\\u75c5\\\\u6027\\\\u5206\\\\u6570: 0.999117068756.<br\\\\/>FATHMM\\\\u81f4\\\\u75c5\\\\u6027\\\\u5206\\\\u6570: 0.79186.<br\\\\/>MetaSVM\\\\u81f4\\\\u75c5\\\\u6027\\\\u5206\\\\u6570: 0.84564.<br\\\\/>GERP++\\\\u5e8f\\\\u5217\\\\u4fdd\\\\u5b88\\\\u6027\\\\u9884\\\\u6d4b\\\\u5206\\\\u6570: 4.27.<br\\\\/>Clinvar\\\\u6570\\\\u636e\\\\u5e93ID: 225010.<br\\\\/>Clinvar\\\\u6570\\\\u636e\\\\u5e93\\\\u8bb0\\\\u5f55\\\\u7684\\\\u53d8\\\\u5f02\\\\u81f4\\\\u75c5\\\\u6027: \\\\u81f4\\\\u75c5|\\\\u81f4\\\\u75c5.<br\\\\/>Clinvar\\\\u6570\\\\u636e\\\\u5e93\\\\u8bb0\\\\u5f55\\\\u5ba1\\\\u6838\\\\u72b6\\\\u6001: \\\\u63d0\\\\u4f9b\\\\u6807\\\\u51c6\\\\uff0c\\\\u5355\\\\u4e2a\\\\u63d0\\\\u4ea4\\\\u8005.<br\\\\/>Clinvar\\\\u6570\\\\u636e\\\\u5e93\\\\u8bb0\\\\u5f55\\\\u7684Pubmed\\\\u76f8\\\\u5173\\\\u751f\\\\u7269\\\\u533b\\\\u5b66\\\\u6587\\\\u'"
      ]
     },
     "execution_count": 21,
     "metadata": {},
     "output_type": "execute_result"
    }
   ],
   "source": [
    "interpretation_chinese[:1000]"
   ]
  },
  {
   "cell_type": "code",
   "execution_count": null,
   "metadata": {
    "collapsed": true
   },
   "outputs": [],
   "source": [
    "interpretation_chinese = variant_ACMG_interpret_chinese.to_json(orient='records')"
   ]
  },
  {
   "cell_type": "code",
   "execution_count": 35,
   "metadata": {
    "collapsed": false
   },
   "outputs": [
    {
     "data": {
      "text/plain": [
       "3.0"
      ]
     },
     "execution_count": 35,
     "metadata": {},
     "output_type": "execute_result"
    }
   ],
   "source": [
    "round(2.7)"
   ]
  },
  {
   "cell_type": "code",
   "execution_count": 36,
   "metadata": {
    "collapsed": false
   },
   "outputs": [
    {
     "data": {
      "text/plain": [
       "2"
      ]
     },
     "execution_count": 36,
     "metadata": {},
     "output_type": "execute_result"
    }
   ],
   "source": [
    "8/3"
   ]
  },
  {
   "cell_type": "code",
   "execution_count": 8,
   "metadata": {
    "collapsed": true
   },
   "outputs": [],
   "source": [
    "aa = ''"
   ]
  },
  {
   "cell_type": "code",
   "execution_count": 9,
   "metadata": {
    "collapsed": false
   },
   "outputs": [
    {
     "data": {
      "text/plain": [
       "[\"<a href='https://www.ncbi.nlm.nih.gov/clinvar/variation//'>  </a>\"]"
      ]
     },
     "execution_count": 9,
     "metadata": {},
     "output_type": "execute_result"
    }
   ],
   "source": [
    "[\"<a href='https://www.ncbi.nlm.nih.gov/clinvar/variation/%s/'> %s </a>\" %(i,i) for i in aa.split('|')]"
   ]
  },
  {
   "cell_type": "code",
   "execution_count": 19,
   "metadata": {
    "collapsed": true
   },
   "outputs": [],
   "source": [
    "if bb:\n",
    "    b=1+1"
   ]
  },
  {
   "cell_type": "code",
   "execution_count": 20,
   "metadata": {
    "collapsed": false
   },
   "outputs": [
    {
     "ename": "NameError",
     "evalue": "name 'b' is not defined",
     "output_type": "error",
     "traceback": [
      "\u001b[0;31m---------------------------------------------------------------------------\u001b[0m",
      "\u001b[0;31mNameError\u001b[0m                                 Traceback (most recent call last)",
      "\u001b[0;32m<ipython-input-20-3b5d5c371295>\u001b[0m in \u001b[0;36m<module>\u001b[0;34m()\u001b[0m\n\u001b[0;32m----> 1\u001b[0;31m \u001b[0mb\u001b[0m\u001b[0;34m\u001b[0m\u001b[0m\n\u001b[0m",
      "\u001b[0;31mNameError\u001b[0m: name 'b' is not defined"
     ]
    }
   ],
   "source": [
    "b"
   ]
  },
  {
   "cell_type": "code",
   "execution_count": 17,
   "metadata": {
    "collapsed": true
   },
   "outputs": [],
   "source": [
    "bb = []"
   ]
  },
  {
   "cell_type": "code",
   "execution_count": 18,
   "metadata": {
    "collapsed": false
   },
   "outputs": [
    {
     "data": {
      "text/plain": [
       "[]"
      ]
     },
     "execution_count": 18,
     "metadata": {},
     "output_type": "execute_result"
    }
   ],
   "source": [
    "[\"<a href='https://www.ncbi.nlm.nih.gov/pubmed/%s'> %s </a>\" %(i,i) for i in bb]"
   ]
  },
  {
   "cell_type": "code",
   "execution_count": 10,
   "metadata": {
    "collapsed": false
   },
   "outputs": [],
   "source": [
    "import csv\n",
    "import pandas as pd\n",
    "import numpy as np\n",
    "import re\n",
    "import myvariant\n",
    "from io import StringIO\n",
    "from collections import Counter"
   ]
  },
  {
   "cell_type": "code",
   "execution_count": 2,
   "metadata": {
    "collapsed": true
   },
   "outputs": [],
   "source": [
    "input_gene = open(\"/Users/Tianqi/Desktop/vcfsample.txt\",'rU').read()"
   ]
  },
  {
   "cell_type": "code",
   "execution_count": 3,
   "metadata": {
    "collapsed": false
   },
   "outputs": [],
   "source": [
    "candidate_vars = []\n",
    "input_gene = input_gene.split('\\n')\n",
    "\n",
    "for line in input_gene:\n",
    "    if line and line[:2] != \"##\":\n",
    "        header = line\n",
    "        sniffer = csv.Sniffer()\n",
    "        dialect = sniffer.sniff(header)\n",
    "        delimiter =  dialect.delimiter\n",
    "        field_names = header.split(delimiter)\n",
    "        break\n",
    "        \n",
    "chrom_idx, pos_idx, ref_idx, alt_idx, gene_idx = None, None, None, None, None\n",
    "\n",
    "for idx in xrange(len(field_names)):\n",
    "    field = field_names[idx]\n",
    "    if re.match(r'chrom|#chrom', field, re.I): chrom_idx = idx\n",
    "    if re.match(r'pos|start', field, re.I): pos_idx = idx\n",
    "    if re.match(r'ref', field, re.I): ref_idx = idx\n",
    "    if re.match(r'alt|allele 1', field, re.I): alt_idx = idx\n",
    "    if re.match(r'gene (gene)|gene', field, re.I): gene_idx = idx\n",
    "\n",
    "input_gene_list = []\n",
    "CANDIDATE_GENES = []\n",
    "for line in input_gene[1:]:\n",
    "    if not line:\n",
    "        continue\n",
    "    line = line.rstrip()\n",
    "    parts = re.split(r'%s' % delimiter, line)\n",
    "    if line.startswith('#'):\n",
    "        continue\n",
    "    input_gene_list.append(parts)\n",
    "    gene, transcript, variant, variant_id = '', '', '', ''\n",
    "    if gene_idx:\n",
    "        gene = parts[gene_idx]\n",
    "        CANDIDATE_GENES.append(gene)\n",
    "    for part in parts:\n",
    "        if re.search(r'_.*:c\\.', part):\n",
    "            transcript, variant = part.split(':')\n",
    "        else:\n",
    "            if re.search(r'c\\.', part):\n",
    "                variant = part\n",
    "            if re.search(r'NM_', part, re.I):\n",
    "                transcript = part.split(':')[0]\n",
    "        if re.search(r'_.*:g\\.', part):\n",
    "            variant_id = 'chr' + part.split(':')[0].split('.')[-1] + part.split(':')[-1]\n",
    "        if re.search(r'chr.*:g\\.', part, re.I):\n",
    "            variant_id = part\n",
    "    if not variant_id and (chrom_idx is not None and pos_idx is not None and ref_idx is not None and alt_idx is not None):\n",
    "        chrome, pos, ref, alt = parts[chrom_idx], parts[pos_idx], parts[ref_idx], parts[alt_idx]\n",
    "        variant_id = format_hgvs(chrome, pos, ref, alt)\n",
    "    candidate_vars.append((gene, variant, transcript, variant_id))\n",
    "\n",
    "# remove lines in the input file which has wrong number of fields\n",
    "field_nums = []\n",
    "for line in input_gene_list:\n",
    "    field_nums.append(len(line))\n",
    "count = Counter(field_nums)\n",
    "correct_field_num = count.most_common()[0][0]\n",
    "correct_input_gene_list = []\n",
    "for line in input_gene_list:\n",
    "    if len(line) == correct_field_num:\n",
    "        correct_input_gene_list.append(line)\n",
    "df_genes = pd.DataFrame(correct_input_gene_list, columns = field_names)"
   ]
  },
  {
   "cell_type": "code",
   "execution_count": 4,
   "metadata": {
    "collapsed": false,
    "scrolled": true
   },
   "outputs": [
    {
     "data": {
      "text/html": [
       "<div>\n",
       "<table border=\"1\" class=\"dataframe\">\n",
       "  <thead>\n",
       "    <tr style=\"text-align: right;\">\n",
       "      <th></th>\n",
       "      <th>#CHROM</th>\n",
       "      <th>POS</th>\n",
       "      <th>ID</th>\n",
       "      <th>REF</th>\n",
       "      <th>ALT</th>\n",
       "      <th>QUAL</th>\n",
       "      <th>FILTER</th>\n",
       "      <th>INFO</th>\n",
       "      <th>FORMAT</th>\n",
       "      <th>NA00001</th>\n",
       "      <th>NA00002</th>\n",
       "      <th>NA00003</th>\n",
       "    </tr>\n",
       "  </thead>\n",
       "  <tbody>\n",
       "    <tr>\n",
       "      <th>0</th>\n",
       "      <td>20</td>\n",
       "      <td>14370</td>\n",
       "      <td>rs6054257</td>\n",
       "      <td>G</td>\n",
       "      <td>A</td>\n",
       "      <td>29</td>\n",
       "      <td>PASS</td>\n",
       "      <td>NS=3;DP=14;AF=0.5;DB;H2</td>\n",
       "      <td>GT:GQ:DP:HQ</td>\n",
       "      <td>0|0:48:1:51,51</td>\n",
       "      <td>1|0:48:8:51,51</td>\n",
       "      <td>1/1:43:5:.,.</td>\n",
       "    </tr>\n",
       "  </tbody>\n",
       "</table>\n",
       "</div>"
      ],
      "text/plain": [
       "  #CHROM    POS         ID REF ALT QUAL FILTER                     INFO  \\\n",
       "0     20  14370  rs6054257   G   A   29   PASS  NS=3;DP=14;AF=0.5;DB;H2   \n",
       "\n",
       "        FORMAT         NA00001         NA00002       NA00003  \n",
       "0  GT:GQ:DP:HQ  0|0:48:1:51,51  1|0:48:8:51,51  1/1:43:5:.,.  "
      ]
     },
     "execution_count": 4,
     "metadata": {},
     "output_type": "execute_result"
    }
   ],
   "source": [
    "df_genes"
   ]
  },
  {
   "cell_type": "code",
   "execution_count": 5,
   "metadata": {
    "collapsed": false
   },
   "outputs": [
    {
     "data": {
      "text/plain": [
       "[('', '', '', 'chr20:g.14370G>A')]"
      ]
     },
     "execution_count": 5,
     "metadata": {},
     "output_type": "execute_result"
    }
   ],
   "source": [
    "candidate_vars"
   ]
  },
  {
   "cell_type": "code",
   "execution_count": 1,
   "metadata": {
    "collapsed": false
   },
   "outputs": [
    {
     "ename": "TypeError",
     "evalue": "can't multiply sequence by non-int of type 'float'",
     "output_type": "error",
     "traceback": [
      "\u001b[0;31m---------------------------------------------------------------------------\u001b[0m",
      "\u001b[0;31mTypeError\u001b[0m                                 Traceback (most recent call last)",
      "\u001b[0;32m<ipython-input-1-bcfd7c265b7d>\u001b[0m in \u001b[0;36m<module>\u001b[0;34m()\u001b[0m\n\u001b[1;32m    223\u001b[0m     \u001b[0mdf_hpo_ranking_genes\u001b[0m \u001b[0;34m=\u001b[0m \u001b[0mpd\u001b[0m\u001b[0;34m.\u001b[0m\u001b[0mDataFrame\u001b[0m\u001b[0;34m(\u001b[0m\u001b[0mranking_genes\u001b[0m\u001b[0;34m,\u001b[0m \u001b[0mcolumns\u001b[0m\u001b[0;34m=\u001b[0m\u001b[0;34m[\u001b[0m\u001b[0;34m'gene'\u001b[0m\u001b[0;34m,\u001b[0m \u001b[0;34m'score'\u001b[0m\u001b[0;34m,\u001b[0m \u001b[0;34m'hits'\u001b[0m\u001b[0;34m]\u001b[0m\u001b[0;34m)\u001b[0m\u001b[0;34m\u001b[0m\u001b[0m\n\u001b[1;32m    224\u001b[0m     \u001b[0mdf_hpo_ranking_genes\u001b[0m \u001b[0;34m=\u001b[0m \u001b[0mdf_hpo_ranking_genes\u001b[0m\u001b[0;34m[\u001b[0m\u001b[0;34m[\u001b[0m\u001b[0;34m'gene'\u001b[0m\u001b[0;34m,\u001b[0m \u001b[0;34m'score'\u001b[0m\u001b[0;34m]\u001b[0m\u001b[0;34m]\u001b[0m\u001b[0;34m\u001b[0m\u001b[0m\n\u001b[0;32m--> 225\u001b[0;31m     \u001b[0mACMG_result\u001b[0m\u001b[0;34m,\u001b[0m \u001b[0mvariant_ACMG_interpretation\u001b[0m\u001b[0;34m,\u001b[0m \u001b[0mvariant_ACMG_interpret_chinese\u001b[0m\u001b[0;34m,\u001b[0m \u001b[0mdf_variant_ACMG_interpret\u001b[0m\u001b[0;34m,\u001b[0m \u001b[0mdf_variant_ACMG_interpret_chinese\u001b[0m \u001b[0;34m=\u001b[0m \u001b[0mACMG\u001b[0m\u001b[0;34m.\u001b[0m\u001b[0mGet_ACMG_result\u001b[0m\u001b[0;34m(\u001b[0m\u001b[0mdf_hpo_ranking_genes\u001b[0m\u001b[0;34m,\u001b[0m \u001b[0mvariants\u001b[0m\u001b[0;34m,\u001b[0m \u001b[0mdf_pubmed\u001b[0m\u001b[0;34m)\u001b[0m\u001b[0;34m\u001b[0m\u001b[0m\n\u001b[0m\u001b[1;32m    226\u001b[0m \u001b[0;34m\u001b[0m\u001b[0m\n\u001b[1;32m    227\u001b[0m     \u001b[0;31m# filter variant on phenotype\u001b[0m\u001b[0;34m\u001b[0m\u001b[0;34m\u001b[0m\u001b[0m\n",
      "\u001b[0;32m/Users/Tianqi/Keep_Learning/bio-nlp/deepbrain/deepb/ACMG.pyc\u001b[0m in \u001b[0;36mGet_ACMG_result\u001b[0;34m(df_hpo_ranking_genes, variants, df_pubmed)\u001b[0m\n\u001b[1;32m   1019\u001b[0m                                    \u001b[0mPP1\u001b[0m\u001b[0;34m,\u001b[0m \u001b[0mPP2\u001b[0m\u001b[0;34m,\u001b[0m \u001b[0mPP3\u001b[0m\u001b[0;34m,\u001b[0m \u001b[0mPP4\u001b[0m\u001b[0;34m,\u001b[0m \u001b[0mPP5\u001b[0m\u001b[0;34m,\u001b[0m \u001b[0mBA1\u001b[0m\u001b[0;34m,\u001b[0m \u001b[0mBS1\u001b[0m\u001b[0;34m,\u001b[0m \u001b[0mBS2\u001b[0m\u001b[0;34m,\u001b[0m \u001b[0mBS3\u001b[0m\u001b[0;34m,\u001b[0m \u001b[0mBS4\u001b[0m\u001b[0;34m,\u001b[0m\u001b[0;34m\u001b[0m\u001b[0m\n\u001b[1;32m   1020\u001b[0m     \t\t\t\t   BP1, BP2, BP3, BP4, BP5, BP6, BP7])\n\u001b[0;32m-> 1021\u001b[0;31m         \u001b[0mclassification_result\u001b[0m\u001b[0;34m,\u001b[0m \u001b[0mACMG_weighted_score\u001b[0m\u001b[0;34m,\u001b[0m \u001b[0mhit_criteria\u001b[0m \u001b[0;34m=\u001b[0m \u001b[0mclassify\u001b[0m\u001b[0;34m(\u001b[0m\u001b[0mvariant_ACMG_score\u001b[0m\u001b[0;34m[\u001b[0m\u001b[0mkey\u001b[0m\u001b[0;34m]\u001b[0m\u001b[0;34m)\u001b[0m\u001b[0;34m\u001b[0m\u001b[0m\n\u001b[0m\u001b[1;32m   1022\u001b[0m         \u001b[0mvariant_ACMG_result\u001b[0m\u001b[0;34m[\u001b[0m\u001b[0mkey\u001b[0m\u001b[0;34m]\u001b[0m \u001b[0;34m=\u001b[0m \u001b[0mclassification_result\u001b[0m\u001b[0;34m\u001b[0m\u001b[0m\n\u001b[1;32m   1023\u001b[0m         \u001b[0mvariant_ACMG_weighted_score\u001b[0m\u001b[0;34m[\u001b[0m\u001b[0mkey\u001b[0m\u001b[0;34m]\u001b[0m \u001b[0;34m=\u001b[0m \u001b[0mACMG_weighted_score\u001b[0m\u001b[0;34m\u001b[0m\u001b[0m\n",
      "\u001b[0;32m/Users/Tianqi/Keep_Learning/bio-nlp/deepbrain/deepb/ACMG.pyc\u001b[0m in \u001b[0;36mclassify\u001b[0;34m(ACMG_score_list)\u001b[0m\n\u001b[1;32m    859\u001b[0m         \u001b[0mscore\u001b[0m \u001b[0;34m=\u001b[0m \u001b[0mACMG_score\u001b[0m\u001b[0;34m[\u001b[0m\u001b[0mcriteria\u001b[0m\u001b[0;34m]\u001b[0m\u001b[0;34m\u001b[0m\u001b[0m\n\u001b[1;32m    860\u001b[0m         \u001b[0mweight\u001b[0m \u001b[0;34m=\u001b[0m \u001b[0mgetWeight\u001b[0m\u001b[0;34m(\u001b[0m\u001b[0mcriteria\u001b[0m\u001b[0;34m)\u001b[0m\u001b[0;34m\u001b[0m\u001b[0m\n\u001b[0;32m--> 861\u001b[0;31m         \u001b[0mscore\u001b[0m \u001b[0;34m=\u001b[0m \u001b[0mscore\u001b[0m \u001b[0;34m*\u001b[0m \u001b[0mweight\u001b[0m\u001b[0;34m\u001b[0m\u001b[0m\n\u001b[0m\u001b[1;32m    862\u001b[0m         \u001b[0mACMG_weighted_score\u001b[0m \u001b[0;34m+=\u001b[0m \u001b[0mscore\u001b[0m\u001b[0;34m\u001b[0m\u001b[0m\n\u001b[1;32m    863\u001b[0m         \u001b[0;32mif\u001b[0m \u001b[0mscore\u001b[0m\u001b[0;34m:\u001b[0m \u001b[0mhit_criteria\u001b[0m\u001b[0;34m.\u001b[0m\u001b[0mappend\u001b[0m\u001b[0;34m(\u001b[0m\u001b[0mcriteria\u001b[0m\u001b[0;34m)\u001b[0m\u001b[0;34m\u001b[0m\u001b[0m\n",
      "\u001b[0;31mTypeError\u001b[0m: can't multiply sequence by non-int of type 'float'"
     ]
    }
   ],
   "source": [
    "import map_phenotype_to_gene\n",
    "import collectVariantInfo\n",
    "import pubmed\n",
    "import ACMG\n",
    "import filterVariantOnPhenotype\n",
    "import csv\n",
    "\n",
    "import pandas as pd\n",
    "import numpy as np\n",
    "import re\n",
    "import myvariant\n",
    "# from deepb.models import Main_table, Raw_input_table\n",
    "from io import StringIO\n",
    "from collections import Counter\n",
    "\n",
    "\n",
    "# input_phenotype = 'data/sample_patient_phenotype.txt'\n",
    "# input_genes = 'data/sample_genes.txt'\n",
    "\n",
    "def format_hgvs(chrom, pos, ref, alt):\n",
    "    '''get a valid hgvs name from VCF-style \"chrom, pos, ref, alt\" data.\n",
    "\n",
    "    Example:\n",
    "\n",
    "        >>> myvariant.format_hgvs(\"1\", 35366, \"C\", \"T\")\n",
    "        >>> myvariant.format_hgvs(\"2\", 17142, \"G\", \"GA\")\n",
    "        >>> myvariant.format_hgvs(\"MT\", 8270, \"CACCCCCTCT\", \"C\")\n",
    "        >>> myvariant.format_hgvs(\"X\", 107930849, \"GGA\", \"C\")\n",
    "\n",
    "    '''\n",
    "    chrom = str(chrom)\n",
    "    if chrom.lower().startswith('chr'):\n",
    "        # trim off leading \"chr\" if any\n",
    "        chrom = chrom[3:]\n",
    "    if len(ref) == len(alt) == 1:\n",
    "        # this is a SNP\n",
    "        hgvs = 'chr{0}:g.{1}{2}>{3}'.format(chrom, pos, ref, alt)\n",
    "    elif len(ref) > 1 and len(alt) == 1:\n",
    "        # this is a deletion:\n",
    "        if ref[0] == alt:\n",
    "            start = int(pos) + 1\n",
    "            end = int(pos) + len(ref) - 1\n",
    "            hgvs = 'chr{0}:g.{1}_{2}del'.format(chrom, start, end)\n",
    "        else:\n",
    "            end = int(pos) + len(ref) - 1\n",
    "            hgvs = 'chr{0}:g.{1}_{2}delins{3}'.format(chrom, pos, end, alt)\n",
    "    elif len(ref) == 1 and len(alt) > 1:\n",
    "        # this is a insertion\n",
    "        if alt[0] == ref:\n",
    "            hgvs = 'chr{0}:g.{1}_{2}ins'.format(chrom, pos, int(pos) + 1)\n",
    "            ins_seq = alt[1:]\n",
    "            hgvs += ins_seq\n",
    "        else:\n",
    "            hgvs = 'chr{0}:g.{1}delins{2}'.format(chrom, pos, alt)\n",
    "    elif len(ref) > 1 and len(alt) > 1:\n",
    "        end = int(pos) + len(alt) - 1\n",
    "        hgvs = 'chr{0}:g.{1}_{2}delins{3}'.format(chrom, pos, end, alt)\n",
    "    else:\n",
    "        raise ValueError(\"Cannot convert {} into HGVS id.\".format((chrom, pos, ref, alt)))\n",
    "    return hgvs\n",
    "\n",
    "def read_input_pheno_file(input_phenotype):\n",
    "    if not input_phenotype:\n",
    "        return '', ''\n",
    "    text = StringIO(unicode(input_phenotype), newline=None)\n",
    "    lines = text.readlines()\n",
    "    lines = [line.strip() for line in lines]\n",
    "    phenos = []\n",
    "    for line in lines:\n",
    "        if not line:\n",
    "            continue\n",
    "        phenos_each_line = re.split(r'  +|\\t+|,|;|\\.|\\|', line.strip())\n",
    "        phenos_each_line = [re.sub(r'^\\W+|\\W+$', '', s) for s in phenos_each_line]\n",
    "        phenos_each_line = [s.lower() for s in phenos_each_line if s]\n",
    "        phenos += phenos_each_line\n",
    "\n",
    "    corner_cases = dict()\n",
    "    for pheno in phenos:\n",
    "        if re.search('development', pheno) and re.search('delay', pheno) and not re.search('growth', pheno):\n",
    "            phenos.append('growth delay')\n",
    "            corner_cases['growth delay'] = pheno.strip()\n",
    "    for pheno in phenos:\n",
    "        if re.search('growth', pheno) and re.search('delay', pheno) and not re.search('development', pheno):\n",
    "            phenos.append('developmental delay')\n",
    "            corner_cases['developmental delay'] = pheno.strip()\n",
    "    return phenos, corner_cases\n",
    "\n",
    "def read_input_gene_file(input_gene):\n",
    "    candidate_vars = []\n",
    "    input_gene = input_gene.split('\\n')\n",
    "\n",
    "    for line in input_gene:\n",
    "        if line and line[:2] != \"##\":\n",
    "            header = line\n",
    "            sniffer = csv.Sniffer()\n",
    "            dialect = sniffer.sniff(header)\n",
    "            delimiter =  dialect.delimiter\n",
    "            field_names = header.split(delimiter)\n",
    "            break\n",
    "http://localhost:8888/notebooks/Keep_Learning/bio-nlp/deepbrain/deepb/test.ipynb#\n",
    "    chrom_idx, pos_idx, ref_idx, alt_idx, gene_idx = None, None, None, None, None\n",
    "\n",
    "    for idx in xrange(len(field_names)):\n",
    "        field = field_names[idx]\n",
    "        if re.match(r'chrom|#chrom', field, re.I): chrom_idx = idx\n",
    "        if re.match(r'pos|start', field, re.I): pos_idx = idx\n",
    "        if re.match(r'ref', field, re.I): ref_idx = idx\n",
    "        if re.match(r'alt|allele 1', field, re.I): alt_idx = idx\n",
    "        if re.match(r'gene (gene)|gene', field, re.I): gene_idx = idx\n",
    "\n",
    "    input_gene_list = []\n",
    "    CANDIDATE_GENES = []\n",
    "    for line in input_gene[1:]:\n",
    "        if not line:\n",
    "            continue\n",
    "        line = line.rstrip()\n",
    "        parts = re.split(r'%s' % delimiter, line)\n",
    "        if line.startswith('#'):\n",
    "            continue\n",
    "        input_gene_list.append(parts)\n",
    "        gene, transcript, variant, variant_id = '', '', '', ''\n",
    "        if gene_idx:\n",
    "            gene = parts[gene_idx]\n",
    "            CANDIDATE_GENES.append(gene)\n",
    "        for part in parts:\n",
    "            if re.search(r'_.*:c\\.', part):\n",
    "                transcript, variant = part.split(':')\n",
    "            else:\n",
    "                if re.search(r'c\\.', part):\n",
    "                    variant = part\n",
    "                if re.search(r'NM_', part, re.I):\n",
    "                    transcript = part.split(':')[0]\n",
    "            if re.search(r'_.*:g\\.', part):\n",
    "                variant_id = 'chr' + part.split(':')[0].split('.')[-1] + part.split(':')[-1]\n",
    "            if re.search(r'chr.*:g\\.', part, re.I):\n",
    "                variant_id = part\n",
    "        if not variant_id and (chrom_idx is not None and pos_idx is not None and ref_idx is not None and alt_idx is not None):\n",
    "            chrome, pos, ref, alt = parts[chrom_idx], parts[pos_idx], parts[ref_idx], parts[alt_idx]\n",
    "            variant_id = format_hgvs(chrome, pos, ref, alt)\n",
    "        candidate_vars.append((gene, variant, transcript, variant_id))\n",
    "\n",
    "    # remove lines in the input file which has wrong number of fields\n",
    "    field_nums = []\n",
    "    for line in input_gene_list:\n",
    "        field_nums.append(len(line))\n",
    "    count = Counter(field_nums)\n",
    "    correct_field_num = count.most_common()[0][0]\n",
    "    correct_input_gene_list = []\n",
    "    for line in input_gene_list:\n",
    "        if len(line) == correct_field_num:\n",
    "            correct_input_gene_list.append(line)\n",
    "    df_genes = pd.DataFrame(correct_input_gene_list, columns = field_names)\n",
    "    return candidate_vars, CANDIDATE_GENES, df_genes, field_names \n",
    "\n",
    "def map_phenotype2gene(CANDIDATE_GENES, phenos, corner_cases, candidate_vars):\n",
    "\tranking_genes, ranking_disease = map_phenotype_to_gene.generate_score(phenos, CANDIDATE_GENES, corner_cases)\n",
    "\t# collect variant info\n",
    "\thpo_filtered_genes = np.unique([i[0] for i in ranking_genes]).tolist()\n",
    "\n",
    "\ttmp_candidate_vars = []\n",
    "\tfor var in candidate_vars:\n",
    "\t\tif var[0] in hpo_filtered_genes:\n",
    "\t\t\ttmp_candidate_vars.append(var)\n",
    "\tcandidate_vars = tmp_candidate_vars\n",
    "\treturn ranking_genes, candidate_vars\n",
    "\n",
    "# def master_function(raw_input_id):\n",
    "# \tstatus_step = \"generating candidate variants ...\" \n",
    "# \traw_input = Raw_input_table.objects.get(id=raw_input_id)\n",
    "# \tinput_gene = raw_input.raw_input_gene\n",
    "# \tinput_phenotype = raw_input.raw_input_phenotype\n",
    "input_gene = open(\"/Users/Tianqi/Desktop/vcfsample.txt\",'rU').read()\n",
    "input_phenotype = ''\n",
    "# Read input pheno file and generate phenos and corner_cases \n",
    "phenos, corner_cases = read_input_pheno_file(input_phenotype)\n",
    "\n",
    "\n",
    "# Read input gene file and generate candidate_vars. candidate_vars are (gene, variant, transcript, variant_id); CANDIDATE_GENES is a list of gene symbols; df_genes is a dataframe that keeps all the data that user uploaded; field_names are header of the input gene file \n",
    "candidate_vars, CANDIDATE_GENES, df_genes, field_names = read_input_gene_file(input_gene)\n",
    "\n",
    "if not CANDIDATE_GENES:\n",
    "    # collect variant info\n",
    "#     raw_input.status = \"Annotating variants using genomic databases\"\n",
    "#     raw_input.save()\n",
    "    final_res, variants = collectVariantInfo.get_variants_from_vcf(candidate_vars)\n",
    "    CANDIDATE_GENES = [_[0] for _ in final_res]\n",
    "    # map phenotype to gene; the candidate_vars was filtered: if it is a gene associated with phenos, then keep it.\n",
    "    if phenos:\n",
    "#         raw_input.status = \"Maping phenotypes to genes\"\n",
    "#         raw_input.save()\n",
    "        ranking_genes, candidate_vars = map_phenotype2gene(CANDIDATE_GENES, phenos, corner_cases, candidate_vars)\n",
    "    else:\n",
    "        ranking_genes = []\n",
    "        for gene in CANDIDATE_GENES:\n",
    "            ranking_genes.append((gene, 1.0, 1))\n",
    "else:\n",
    "    # map phenotype to gene; the candidate_vars was filtered: if it is a gene associated with phenos, then keep it.\n",
    "    if phenos:\n",
    "#         raw_input.status = \"Maping phenotypes to genes\"\n",
    "#         raw_input.save()\n",
    "        ranking_genes, candidate_vars = map_phenotype2gene(CANDIDATE_GENES, phenos, corner_cases, candidate_vars)\n",
    "    else:\n",
    "        ranking_genes = []\n",
    "        for gene in CANDIDATE_GENES:\n",
    "            ranking_genes.append((gene, 1.0, 1))\n",
    "    # collect variant info\n",
    "#     raw_input.status = \"Annotating variants using genomic databases\"\n",
    "#     raw_input.save()\n",
    "    final_res, variants = collectVariantInfo.get_variants(candidate_vars)\n",
    "\n",
    "if final_res == [] and variants == defaultdict(dict):\n",
    "#     return None, df_genes, phenos, field_names, None, None\n",
    "    1\n",
    "else:\n",
    "    # pubmed\n",
    "    # raw_input.status = \"Searching biomedical literatures\"\n",
    "    # raw_input.save()\n",
    "    df_pubmed = pubmed.queryPubmedDB(final_res)\n",
    "\n",
    "    # ACMG\n",
    "    # raw_input.status = \"Checking ACMG standard\"\n",
    "    # raw_input.save()\n",
    "    df_hpo_ranking_genes = pd.DataFrame(ranking_genes, columns=['gene', 'score', 'hits'])\n",
    "    df_hpo_ranking_genes = df_hpo_ranking_genes[['gene', 'score']]\n",
    "    ACMG_result, variant_ACMG_interpretation, variant_ACMG_interpret_chinese, df_variant_ACMG_interpret, df_variant_ACMG_interpret_chinese = ACMG.Get_ACMG_result(df_hpo_ranking_genes, variants, df_pubmed)\n",
    "\n",
    "    # filter variant on phenotype\n",
    "\n",
    "    if phenos:\n",
    "    #     raw_input.status = \"Filtering variants based on phenotypes\"\n",
    "    #     raw_input.save()\n",
    "        df_final_res, variant_ACMG_interpretation, variant_ACMG_interpret_chinese = filterVariantOnPhenotype.generateOutput(variants, ACMG_result, phenos, variant_ACMG_interpretation, variant_ACMG_interpret_chinese)\n",
    "    #     return df_final_res, df_genes, phenos, field_names, variant_ACMG_interpretation, variant_ACMG_interpret_chinese\n",
    "\n",
    "    # else:\n",
    "    #     return ACMG_result, df_genes, phenos, field_names, df_variant_ACMG_interpret, df_variant_ACMG_interpret_chinese"
   ]
  },
  {
   "cell_type": "code",
   "execution_count": null,
   "metadata": {
    "collapsed": true
   },
   "outputs": [],
   "source": [
    "final_res, variants = collectVariantInfo.get_variants_from_vcf(candidate_vars)"
   ]
  },
  {
   "cell_type": "code",
   "execution_count": 23,
   "metadata": {
    "collapsed": false
   },
   "outputs": [
    {
     "data": {
      "text/plain": [
       "[('', '', '', 'chr20:g.14370G>A')]"
      ]
     },
     "execution_count": 23,
     "metadata": {},
     "output_type": "execute_result"
    }
   ],
   "source": [
    "candidate_vars"
   ]
  },
  {
   "cell_type": "code",
   "execution_count": 2,
   "metadata": {
    "collapsed": false
   },
   "outputs": [
    {
     "data": {
      "text/plain": [
       "[(u'PTPN11', u'c.923A>G', u'p.Asn308Ser')]"
      ]
     },
     "execution_count": 2,
     "metadata": {},
     "output_type": "execute_result"
    }
   ],
   "source": [
    "final_res"
   ]
  },
  {
   "cell_type": "code",
   "execution_count": 21,
   "metadata": {
    "collapsed": true
   },
   "outputs": [],
   "source": [
    "from collections import defaultdict"
   ]
  },
  {
   "cell_type": "code",
   "execution_count": 4,
   "metadata": {
    "collapsed": false
   },
   "outputs": [
    {
     "data": {
      "text/plain": [
       "defaultdict(dict,\n",
       "            {(u'PTPN11', u'c.923A>G'): {'alt': u'G',\n",
       "              'clinvar_pathogenicity': u'Pathogenic|Pathogenic|Pathogenic|Pathogenic',\n",
       "              'clinvar_pmids': [],\n",
       "              'clinvar_review_status': '',\n",
       "              'clinvar_variation_ids': '',\n",
       "              'dann': '0.998400682813',\n",
       "              'dbscSNV_ada_score': '',\n",
       "              'dbscSNV_rf_score': '',\n",
       "              'effect': u'missense_variant',\n",
       "              'exon': u'8',\n",
       "              'fathmm': '0.99101',\n",
       "              'gene': u'PTPN11',\n",
       "              'gerp++': '5.64',\n",
       "              'id': u'chr12:g.112915524A>G',\n",
       "              'interpro_domain': [u'PTP type protein phosphatase|Protein-tyrosine phosphatase-like'],\n",
       "              'maf_1000g': '',\n",
       "              'maf_esp6500': '',\n",
       "              'maf_exac': '',\n",
       "              'metasvm': '0.99878',\n",
       "              'protein': u'p.Asn308Ser',\n",
       "              'ref': u'A',\n",
       "              'rsid': u'rs121918455',\n",
       "              'transcript': u'NM_002834.3',\n",
       "              'variant': u'c.923A>G'}})"
      ]
     },
     "execution_count": 4,
     "metadata": {},
     "output_type": "execute_result"
    }
   ],
   "source": [
    "variants"
   ]
  },
  {
   "cell_type": "code",
   "execution_count": 11,
   "metadata": {
    "collapsed": false,
    "scrolled": true
   },
   "outputs": [
    {
     "ename": "KeyError",
     "evalue": "('CD59', 'c.146delA')",
     "output_type": "error",
     "traceback": [
      "\u001b[0;31m---------------------------------------------------------------------------\u001b[0m",
      "\u001b[0;31mKeyError\u001b[0m                                  Traceback (most recent call last)",
      "\u001b[0;32m<ipython-input-11-4318910d39b6>\u001b[0m in \u001b[0;36m<module>\u001b[0;34m()\u001b[0m\n\u001b[0;32m----> 1\u001b[0;31m \u001b[0mpubmed\u001b[0m\u001b[0;34m.\u001b[0m\u001b[0mqueryPubmedDB\u001b[0m\u001b[0;34m(\u001b[0m\u001b[0mfinal_res\u001b[0m\u001b[0;34m)\u001b[0m\u001b[0;34m\u001b[0m\u001b[0m\n\u001b[0m",
      "\u001b[0;32m/Users/Tianqi/Keep_Learning/bio-nlp/deepbrain/deepb/pubmed.pyc\u001b[0m in \u001b[0;36mqueryPubmedDB\u001b[0;34m(candidate_vars)\u001b[0m\n\u001b[1;32m     48\u001b[0m       \u001b[0mvariant\u001b[0m\u001b[0;34m,\u001b[0m \u001b[0mprotein\u001b[0m \u001b[0;34m=\u001b[0m \u001b[0mgeneprotein2var\u001b[0m\u001b[0;34m[\u001b[0m\u001b[0;34m(\u001b[0m\u001b[0mgene\u001b[0m\u001b[0;34m,\u001b[0m \u001b[0mprotein_variant\u001b[0m\u001b[0;34m)\u001b[0m\u001b[0;34m]\u001b[0m\u001b[0;34m,\u001b[0m \u001b[0mprotein_variant\u001b[0m\u001b[0;34m\u001b[0m\u001b[0m\n\u001b[1;32m     49\u001b[0m     \u001b[0;32melse\u001b[0m\u001b[0;34m:\u001b[0m\u001b[0;34m\u001b[0m\u001b[0m\n\u001b[0;32m---> 50\u001b[0;31m       \u001b[0mvariant\u001b[0m\u001b[0;34m,\u001b[0m \u001b[0mprotein\u001b[0m \u001b[0;34m=\u001b[0m \u001b[0mprotein_variant\u001b[0m\u001b[0;34m,\u001b[0m \u001b[0mgenevar2protein\u001b[0m\u001b[0;34m[\u001b[0m\u001b[0;34m(\u001b[0m\u001b[0mgene\u001b[0m\u001b[0;34m,\u001b[0m \u001b[0mprotein_variant\u001b[0m\u001b[0;34m)\u001b[0m\u001b[0;34m]\u001b[0m\u001b[0;34m\u001b[0m\u001b[0m\n\u001b[0m\u001b[1;32m     51\u001b[0m     \u001b[0mres\u001b[0m\u001b[0;34m.\u001b[0m\u001b[0mappend\u001b[0m\u001b[0;34m(\u001b[0m\u001b[0;34m[\u001b[0m\u001b[0mgene\u001b[0m\u001b[0;34m,\u001b[0m \u001b[0mvariant\u001b[0m\u001b[0;34m,\u001b[0m \u001b[0mprotein\u001b[0m\u001b[0;34m,\u001b[0m \u001b[0mpmid\u001b[0m\u001b[0;34m,\u001b[0m \u001b[0mtitle\u001b[0m\u001b[0;34m,\u001b[0m \u001b[0mjournal\u001b[0m\u001b[0;34m,\u001b[0m \u001b[0myear\u001b[0m\u001b[0;34m,\u001b[0m \u001b[0mimpact_factor\u001b[0m\u001b[0;34m,\u001b[0m \u001b[0mabstract\u001b[0m\u001b[0;34m,\u001b[0m \u001b[0mpathogenicity_score\u001b[0m\u001b[0;34m]\u001b[0m\u001b[0;34m)\u001b[0m\u001b[0;34m\u001b[0m\u001b[0m\n\u001b[1;32m     52\u001b[0m   \u001b[0mdf\u001b[0m \u001b[0;34m=\u001b[0m \u001b[0mpd\u001b[0m\u001b[0;34m.\u001b[0m\u001b[0mDataFrame\u001b[0m\u001b[0;34m(\u001b[0m\u001b[0mres\u001b[0m\u001b[0;34m,\u001b[0m \u001b[0mcolumns\u001b[0m \u001b[0;34m=\u001b[0m \u001b[0;34m[\u001b[0m\u001b[0;34m'Gene'\u001b[0m\u001b[0;34m,\u001b[0m \u001b[0;34m'Variant'\u001b[0m\u001b[0;34m,\u001b[0m \u001b[0;34m'Protein'\u001b[0m\u001b[0;34m,\u001b[0m \u001b[0;34m'PMID'\u001b[0m\u001b[0;34m,\u001b[0m \u001b[0;34m'Title'\u001b[0m\u001b[0;34m,\u001b[0m \u001b[0;34m'Journal'\u001b[0m\u001b[0;34m,\u001b[0m \u001b[0;34m'Year'\u001b[0m\u001b[0;34m,\u001b[0m \u001b[0;34m'Impact_Factor'\u001b[0m\u001b[0;34m,\u001b[0m \u001b[0;34m'Abstract'\u001b[0m\u001b[0;34m,\u001b[0m \u001b[0;34m'pathogenicity_score'\u001b[0m\u001b[0;34m]\u001b[0m\u001b[0;34m)\u001b[0m\u001b[0;34m\u001b[0m\u001b[0m\n",
      "\u001b[0;31mKeyError\u001b[0m: ('CD59', 'c.146delA')"
     ]
    }
   ],
   "source": [
    "pubmed.queryPubmedDB(final_res)"
   ]
  },
  {
   "cell_type": "code",
   "execution_count": 7,
   "metadata": {
    "collapsed": false
   },
   "outputs": [
    {
     "data": {
      "text/html": [
       "<div>\n",
       "<table border=\"1\" class=\"dataframe\">\n",
       "  <thead>\n",
       "    <tr style=\"text-align: right;\">\n",
       "      <th></th>\n",
       "      <th>#CHROM</th>\n",
       "      <th>POS</th>\n",
       "      <th>ID</th>\n",
       "      <th>REF</th>\n",
       "      <th>ALT</th>\n",
       "      <th>QUAL</th>\n",
       "      <th>FILTER</th>\n",
       "      <th>INFO</th>\n",
       "      <th>FORMAT</th>\n",
       "      <th>NA00001</th>\n",
       "      <th>NA00002</th>\n",
       "      <th>NA00003</th>\n",
       "    </tr>\n",
       "  </thead>\n",
       "  <tbody>\n",
       "    <tr>\n",
       "      <th>0</th>\n",
       "      <td>12</td>\n",
       "      <td>112915524</td>\n",
       "      <td>rs6054257</td>\n",
       "      <td>A</td>\n",
       "      <td>G</td>\n",
       "      <td>29</td>\n",
       "      <td>PASS</td>\n",
       "      <td>NS=3;DP=14;AF=0.5;DB;H2</td>\n",
       "      <td>GT:GQ:DP:HQ</td>\n",
       "      <td>0|0:48:1:51,51</td>\n",
       "      <td>1|0:48:8:51,51</td>\n",
       "      <td>1/1:43:5:.,.</td>\n",
       "    </tr>\n",
       "  </tbody>\n",
       "</table>\n",
       "</div>"
      ],
      "text/plain": [
       "  #CHROM        POS         ID REF ALT QUAL FILTER                     INFO  \\\n",
       "0     12  112915524  rs6054257   A   G   29   PASS  NS=3;DP=14;AF=0.5;DB;H2   \n",
       "\n",
       "        FORMAT         NA00001         NA00002       NA00003  \n",
       "0  GT:GQ:DP:HQ  0|0:48:1:51,51  1|0:48:8:51,51  1/1:43:5:.,.  "
      ]
     },
     "execution_count": 7,
     "metadata": {},
     "output_type": "execute_result"
    }
   ],
   "source": [
    "df_genes"
   ]
  },
  {
   "cell_type": "code",
   "execution_count": 4,
   "metadata": {
    "collapsed": true
   },
   "outputs": [],
   "source": [
    "a = '[{\"#CHROM\":\"16\",\"POS\":\"50745926\",\"ID\":\"rs2066844\",\"REF\":\"C\",\"ALT\":\"T\",\"QUAL\":\"80\",\"FILTER\":\"PASS\",\"INFO\":\"NS=3;DP=14;AF=0.5;DB;H2\",\"FORMAT\":\"GT:GQ:DP:HQ\",\"NA00001\":\"0|0:48:1:51,51\",\"NA00002\":\"1|0:48:8:51,51\",\"NA00003\":\"1\\/1:43:5:.,.\"},{\"#CHROM\":\"20\",\"POS\":\"14370\",\"ID\":\"rs6054257\",\"REF\":\"G\",\"ALT\":\"A\",\"QUAL\":\"29\",\"FILTER\":\"PASS\",\"INFO\":\"NS=3;DP=14;AF=0.5;DB;H2\",\"FORMAT\":\"GT:GQ:DP:HQ\",\"NA00001\":\"0|0:48:1:51,51\",\"NA00002\":\"1|0:48:8:51,51\",\"NA00003\":\"1\\/1:43:5:.,.\"},{\"#CHROM\":\"20\",\"POS\":\"17330\",\"ID\":\".\",\"REF\":\"T\",\"ALT\":\"A\",\"QUAL\":\"3\",\"FILTER\":\"q10\",\"INFO\":\"NS=3;DP=11;AF=0.017\",\"FORMAT\":\"GT:GQ:DP:HQ\",\"NA00001\":\"0|0:49:3:58,50\",\"NA00002\":\"0|1:3:5:65,3\",\"NA00003\":\"0\\/0:41:3\"},{\"#CHROM\":\"20\",\"POS\":\"1110696\",\"ID\":\"rs6040355\",\"REF\":\"A\",\"ALT\":\"G,T\",\"QUAL\":\"67\",\"FILTER\":\"PASS\",\"INFO\":\"NS=2;DP=10;AF=0.333,0.667;AA=T;DB\",\"FORMAT\":\"GT:GQ:DP:HQ\",\"NA00001\":\"1|2:21:6:23,27\",\"NA00002\":\"2|1:2:0:18,2\",\"NA00003\":\"2\\/2:35:4\"},{\"#CHROM\":\"20\",\"POS\":\"1230237\",\"ID\":\".\",\"REF\":\"T\",\"ALT\":\"G\",\"QUAL\":\"47\",\"FILTER\":\"PASS\",\"INFO\":\"NS=3;DP=13;AA=T\",\"FORMAT\":\"GT:GQ:DP:HQ\",\"NA00001\":\"0|0:54:7:56,60\",\"NA00002\":\"0|0:48:4:51,51\",\"NA00003\":\"0\\/0:61:2\"},{\"#CHROM\":\"20\",\"POS\":\"1230288\",\"ID\":\".\",\"REF\":\"T\",\"ALT\":\".\",\"QUAL\":\"50\",\"FILTER\":\"PASS\",\"INFO\":\"NS=3;DP=13;AA=T\",\"FORMAT\":\"GT:GQ:DP:HQ\",\"NA00001\":\"0|0:54:7:56,60\",\"NA00002\":\"0|0:48:4:51,51\",\"NA00003\":\"0\\/0:61:2\"},{\"#CHROM\":\"20\",\"POS\":\"1234567\",\"ID\":\"microsat1\",\"REF\":\"GTCT\",\"ALT\":\"G,GTACT\",\"QUAL\":\"50\",\"FILTER\":\"PASS\",\"INFO\":\"NS=3;DP=9;AA=G\",\"FORMAT\":\"GT:GQ:DP\",\"NA00001\":\"0\\/1:35:4\",\"NA00002\":\"0\\/2:17:2\",\"NA00003\":\"1\\/1:40:3\"}]'"
   ]
  },
  {
   "cell_type": "code",
   "execution_count": 7,
   "metadata": {
    "collapsed": false
   },
   "outputs": [
    {
     "data": {
      "text/plain": [
       "['[{\"#CHROM\":\"16\",\"POS\":\"50745926\",\"ID\":\"rs2066844\",\"REF\":\"C\",\"ALT\":\"T\",\"QUAL\":\"80\",\"FILTER\":\"PASS\",\"INFO\":\"NS=3;DP=14;AF=0.5;DB;H2\",\"FORMAT\":\"GT:GQ:DP:HQ\",\"NA00001\":\"0|0:48:1:51,51\",\"NA00002\":\"1|0:48:8:51,51\",\"NA00003\":\"1\\\\/1:43:5:.,.\"',\n",
       " '\"#CHROM\":\"20\",\"POS\":\"14370\",\"ID\":\"rs6054257\",\"REF\":\"G\",\"ALT\":\"A\",\"QUAL\":\"29\",\"FILTER\":\"PASS\",\"INFO\":\"NS=3;DP=14;AF=0.5;DB;H2\",\"FORMAT\":\"GT:GQ:DP:HQ\",\"NA00001\":\"0|0:48:1:51,51\",\"NA00002\":\"1|0:48:8:51,51\",\"NA00003\":\"1\\\\/1:43:5:.,.\"',\n",
       " '\"#CHROM\":\"20\",\"POS\":\"17330\",\"ID\":\".\",\"REF\":\"T\",\"ALT\":\"A\",\"QUAL\":\"3\",\"FILTER\":\"q10\",\"INFO\":\"NS=3;DP=11;AF=0.017\",\"FORMAT\":\"GT:GQ:DP:HQ\",\"NA00001\":\"0|0:49:3:58,50\",\"NA00002\":\"0|1:3:5:65,3\",\"NA00003\":\"0\\\\/0:41:3\"',\n",
       " '\"#CHROM\":\"20\",\"POS\":\"1110696\",\"ID\":\"rs6040355\",\"REF\":\"A\",\"ALT\":\"G,T\",\"QUAL\":\"67\",\"FILTER\":\"PASS\",\"INFO\":\"NS=2;DP=10;AF=0.333,0.667;AA=T;DB\",\"FORMAT\":\"GT:GQ:DP:HQ\",\"NA00001\":\"1|2:21:6:23,27\",\"NA00002\":\"2|1:2:0:18,2\",\"NA00003\":\"2\\\\/2:35:4\"',\n",
       " '\"#CHROM\":\"20\",\"POS\":\"1230237\",\"ID\":\".\",\"REF\":\"T\",\"ALT\":\"G\",\"QUAL\":\"47\",\"FILTER\":\"PASS\",\"INFO\":\"NS=3;DP=13;AA=T\",\"FORMAT\":\"GT:GQ:DP:HQ\",\"NA00001\":\"0|0:54:7:56,60\",\"NA00002\":\"0|0:48:4:51,51\",\"NA00003\":\"0\\\\/0:61:2\"',\n",
       " '\"#CHROM\":\"20\",\"POS\":\"1230288\",\"ID\":\".\",\"REF\":\"T\",\"ALT\":\".\",\"QUAL\":\"50\",\"FILTER\":\"PASS\",\"INFO\":\"NS=3;DP=13;AA=T\",\"FORMAT\":\"GT:GQ:DP:HQ\",\"NA00001\":\"0|0:54:7:56,60\",\"NA00002\":\"0|0:48:4:51,51\",\"NA00003\":\"0\\\\/0:61:2\"',\n",
       " '\"#CHROM\":\"20\",\"POS\":\"1234567\",\"ID\":\"microsat1\",\"REF\":\"GTCT\",\"ALT\":\"G,GTACT\",\"QUAL\":\"50\",\"FILTER\":\"PASS\",\"INFO\":\"NS=3;DP=9;AA=G\",\"FORMAT\":\"GT:GQ:DP\",\"NA00001\":\"0\\\\/1:35:4\",\"NA00002\":\"0\\\\/2:17:2\",\"NA00003\":\"1\\\\/1:40:3\"}]']"
      ]
     },
     "execution_count": 7,
     "metadata": {},
     "output_type": "execute_result"
    }
   ],
   "source": [
    "a.split(\"},{\")"
   ]
  },
  {
   "cell_type": "code",
   "execution_count": 50,
   "metadata": {
    "collapsed": true
   },
   "outputs": [],
   "source": [
    "b='[{\"Gene\":\"AARS\",\"Transcript\":\"NM_001605.2\",\"cDNA (cNomen)\":\"c.1786-5T>C\",\"Protein (pNomen)\":\"\",\"Target Position\":\"chr16:70293094-70293094\"},{\"Gene\":\"AP4E1\",\"Transcript\":\"NM_007347.4\",\"cDNA (cNomen)\":\"c.2553A>T\",\"Protein (pNomen)\":\"p.Glu851Asp\",\"Target Position\":\"chr15:51289729-51289729\"},{\"Gene\":\"ARFGEF2\",\"Transcript\":\"NM_006420.2\",\"cDNA (cNomen)\":\"c.3120C>T\",\"Protein (pNomen)\":\"p.Leu1040Leu\",\"Target Position\":\"chr20:47611134-47611134\"},{\"Gene\":\"ARL2BP\",\"Transcript\":\"NM_012106.3\",\"cDNA (cNomen)\":\"c.207C>T\",\"Protein (pNomen)\":\"p.Tyr69Tyr\",\"Target Position\":\"chr16:57282555-57282555\"},{\"Gene\":\"ASPM\",\"Transcript\":\"NM_018136.4\",\"cDNA (cNomen)\":\"c.7812A>T\",\"Protein (pNomen)\":\"p.Lys2604Asn\",\"Target Position\":\"chr1:197070569-197070569\"},{\"Gene\":\"CD96\",\"Transcript\":\"NM_198196.2\",\"cDNA (cNomen)\":\"c.1295A>T\",\"Protein (pNomen)\":\"p.Gln432Leu\",\"Target Position\":\"chr3:111342667-111342667\"},{\"Gene\":\"CHAMP1\",\"Transcript\":\"NM_001164144.1\",\"cDNA (cNomen)\":\"c.449_451delCTC\",\"Protein (pNomen)\":\"p.Pro150del\",\"Target Position\":\"chr13:115089762-115089766\"},{\"Gene\":\"CREBBP\",\"Transcript\":\"NM_004380.2\",\"cDNA (cNomen)\":\"c.5354G>A\",\"Protein (pNomen)\":\"p.Cys1785Tyr\",\"Target Position\":\"chr16:3779694-3779694\"},{\"Gene\":\"DYNC1H1\",\"Transcript\":\"NM_001376.4\",\"cDNA (cNomen)\":\"c.634A>G\",\"Protein (pNomen)\":\"p.Met212Val\",\"Target Position\":\"chr14:102446171-102446171\"},{\"Gene\":\"DYNC2H1\",\"Transcript\":\"NM_001080463.1\",\"cDNA (cNomen)\":\"c.2479A>G\",\"Protein (pNomen)\":\"p.Ile827Val\",\"Target Position\":\"chr11:103006582-103006582\"},{\"Gene\":\"ERCC6L2\",\"Transcript\":\"NM_020207.4\",\"cDNA (cNomen)\":\"c.4123A>C\",\"Protein (pNomen)\":\"p.Thr1375Pro\",\"Target Position\":\"chr9:98774922-98774922\"},{\"Gene\":\"FRAS1\",\"Transcript\":\"NM_025074.6\",\"cDNA (cNomen)\":\"c.3065A>C\",\"Protein (pNomen)\":\"p.Lys1022Thr\",\"Target Position\":\"chr4:79295319-79295319\"},{\"Gene\":\"GBA2\",\"Transcript\":\"NM_020944.2\",\"cDNA (cNomen)\":\"c.379C>T\",\"Protein (pNomen)\":\"p.Arg127Trp\",\"Target Position\":\"chr9:35744684-35744684\"},{\"Gene\":\"KAT6B\",\"Transcript\":\"NM_012330.3\",\"cDNA (cNomen)\":\"c.4097_4105dupAAGAGGAAG\",\"Protein (pNomen)\":\"p.Glu1366_Glu1368dup\",\"Target Position\":\"chr10:76788659-76788660\"},{\"Gene\":\"KLLN\",\"Transcript\":\"NM_001126049.1\",\"cDNA (cNomen)\":\"c.17C>T\",\"Protein (pNomen)\":\"p.Pro6Leu\",\"Target Position\":\"chr10:89622228-89622228\"},{\"Gene\":\"LARP7\",\"Transcript\":\"NM_016648.3\",\"cDNA (cNomen)\":\"c.-2-4A>G\",\"Protein (pNomen)\":\"\",\"Target Position\":\"chr4:113565820-113565820\"},{\"Gene\":\"LIFR\",\"Transcript\":\"NM_002310.5\",\"cDNA (cNomen)\":\"c.46G>A\",\"Protein (pNomen)\":\"p.Asp16Asn\",\"Target Position\":\"chr5:38530704-38530704\"},{\"Gene\":\"MC1R\",\"Transcript\":\"NM_002386.3\",\"cDNA (cNomen)\":\"c.892T>C\",\"Protein (pNomen)\":\"p.Tyr298His\",\"Target Position\":\"chr16:89986558-89986558\"},{\"Gene\":\"MCM4\",\"Transcript\":\"NM_005914.3\",\"cDNA (cNomen)\":\"c.2102G>A\",\"Protein (pNomen)\":\"p.Arg701Gln\",\"Target Position\":\"chr8:48885590-48885590\"},{\"Gene\":\"NBAS\",\"Transcript\":\"NM_015909.3\",\"cDNA (cNomen)\":\"c.5110C>T\",\"Protein (pNomen)\":\"p.His1704Tyr\",\"Target Position\":\"chr2:15427225-15427225\"},{\"Gene\":\"NBAS\",\"Transcript\":\"NM_015909.3\",\"cDNA (cNomen)\":\"c.2290C>T\",\"Protein (pNomen)\":\"p.Pro764Ser\",\"Target Position\":\"chr2:15601374-15601374\"},{\"Gene\":\"NFKB1\",\"Transcript\":\"NM_003998.3\",\"cDNA (cNomen)\":\"c.1601G>A\",\"Protein (pNomen)\":\"p.Arg534His\",\"Target Position\":\"chr4:103518782-103518782\"},{\"Gene\":\"PAH\",\"Transcript\":\"NM_000277.1\",\"cDNA (cNomen)\":\"c.1208C>T\",\"Protein (pNomen)\":\"p.Ala403Val\",\"Target Position\":\"chr12:103234285-103234285\"},{\"Gene\":\"PDE6C\",\"Transcript\":\"NM_006204.3\",\"cDNA (cNomen)\":\"c.2087C>T\",\"Protein (pNomen)\":\"p.Thr696Met\",\"Target Position\":\"chr10:95418708-95418708\"},{\"Gene\":\"PIGN\",\"Transcript\":\"NM_176787.4\",\"cDNA (cNomen)\":\"c.1372G>A\",\"Protein (pNomen)\":\"p.Ala458Thr\",\"Target Position\":\"chr18:59780429-59780429\"},{\"Gene\":\"POC1B\",\"Transcript\":\"NM_172240.2\",\"cDNA (cNomen)\":\"c.179A>G\",\"Protein (pNomen)\":\"p.Lys60Arg\",\"Target Position\":\"chr12:89891041-89891041\"},{\"Gene\":\"PRF1\",\"Transcript\":\"NM_001083116.1\",\"cDNA (cNomen)\":\"c.1528T>C\",\"Protein (pNomen)\":\"p.Cys510Arg\",\"Target Position\":\"chr10:72357949-72357949\"},{\"Gene\":\"PROP1\",\"Transcript\":\"NM_006261.4\",\"cDNA (cNomen)\":\"c.652A>C\",\"Protein (pNomen)\":\"p.Ser218Arg\",\"Target Position\":\"chr5:177419739-177419739\"},{\"Gene\":\"RELN\",\"Transcript\":\"NM_005045.3\",\"cDNA (cNomen)\":\"c.8795C>A\",\"Protein (pNomen)\":\"p.Ser2932Tyr\",\"Target Position\":\"chr7:103138572-103138572\"},{\"Gene\":\"RYR1\",\"Transcript\":\"NM_000540.2\",\"cDNA (cNomen)\":\"c.8959G>C\",\"Protein (pNomen)\":\"p.Glu2987Gln\",\"Target Position\":\"chr19:39001164-39001164\"},{\"Gene\":\"SH3PXD2B\",\"Transcript\":\"NM_001017995.2\",\"cDNA (cNomen)\":\"c.921G>C\",\"Protein (pNomen)\":\"p.Gln307His\",\"Target Position\":\"chr5:171777458-171777458\"},{\"Gene\":\"SLC39A4\",\"Transcript\":\"NM_130849.3\",\"cDNA (cNomen)\":\"c.1126G>A\",\"Protein (pNomen)\":\"p.Ala376Thr\",\"Target Position\":\"chr8:145639669-145639669\"},{\"Gene\":\"SLC4A4\",\"Transcript\":\"NM_003759.3\",\"cDNA (cNomen)\":\"c.2542T>C\",\"Protein (pNomen)\":\"p.Phe848Leu\",\"Target Position\":\"chr4:72413417-72413417\"},{\"Gene\":\"SMPD1\",\"Transcript\":\"NM_000543.4\",\"cDNA (cNomen)\":\"c.108_109insGCG\",\"Protein (pNomen)\":\"p.Val36_Leu37insAla\",\"Target Position\":\"chr11:6411935-6411936\"},{\"Gene\":\"SRCAP\",\"Transcript\":\"NM_006662.2\",\"cDNA (cNomen)\":\"c.7853A>G\",\"Protein (pNomen)\":\"p.Asn2618Ser\",\"Target Position\":\"chr16:30749214-30749214\"},{\"Gene\":\"TCOF1\",\"Transcript\":\"NM_001135243.1\",\"cDNA (cNomen)\":\"c.925G>C\",\"Protein (pNomen)\":\"p.Gly309Arg\",\"Target Position\":\"chr5:149753791-149753791\"},{\"Gene\":\"TG\",\"Transcript\":\"NM_003235.4\",\"cDNA (cNomen)\":\"c.2222C>T\",\"Protein (pNomen)\":\"p.Thr741Met\",\"Target Position\":\"chr8:133900274-133900274\"},{\"Gene\":\"TMPRSS15\",\"Transcript\":\"NM_002772.2\",\"cDNA (cNomen)\":\"c.687T>G\",\"Protein (pNomen)\":\"p.Phe229Leu\",\"Target Position\":\"chr21:19737543-19737543\"},{\"Gene\":\"UBR1\",\"Transcript\":\"NM_174916.2\",\"cDNA (cNomen)\":\"c.3959T>C\",\"Protein (pNomen)\":\"p.Leu1320Pro\",\"Target Position\":\"chr15:43281055-43281055\"},{\"Gene\":\"ZNF513\",\"Transcript\":\"NM_144631.5\",\"cDNA (cNomen)\":\"c.901G>A\",\"Protein (pNomen)\":\"p.Gly301Arg\",\"Target Position\":\"chr2:27601137-27601137\"}]'"
   ]
  },
  {
   "cell_type": "code",
   "execution_count": 51,
   "metadata": {
    "collapsed": false
   },
   "outputs": [
    {
     "data": {
      "text/plain": [
       "['Gene', 'Transcript', 'cDNA (cNomen)', 'Protein (pNomen)', 'Target Position']"
      ]
     },
     "execution_count": 51,
     "metadata": {},
     "output_type": "execute_result"
    }
   ],
   "source": [
    "[i.split(\":\")[0][1:-1] for i in b.split(\"},{\")[0][2:].split(',')]"
   ]
  },
  {
   "cell_type": "code",
   "execution_count": 52,
   "metadata": {
    "collapsed": false
   },
   "outputs": [
    {
     "data": {
      "text/plain": [
       "['#CHRO',\n",
       " 'O',\n",
       " '',\n",
       " 'E',\n",
       " 'L',\n",
       " 'UA',\n",
       " 'ILTE',\n",
       " 'NF',\n",
       " 'ORMA',\n",
       " 'A0000',\n",
       " 'A0000',\n",
       " 'A0000']"
      ]
     },
     "execution_count": 52,
     "metadata": {},
     "output_type": "execute_result"
    }
   ],
   "source": [
    "[i.split('\":\"')[0][1:-1] for i in a.split(\"},{\")[0][2:].split('\",\"')]"
   ]
  },
  {
   "cell_type": "code",
   "execution_count": 38,
   "metadata": {
    "collapsed": false
   },
   "outputs": [
    {
     "data": {
      "text/plain": [
       "['#CHRO',\n",
       " 'O',\n",
       " '',\n",
       " 'E',\n",
       " 'L',\n",
       " 'UA',\n",
       " 'ILTE',\n",
       " 'NF',\n",
       " 'ORMA',\n",
       " 'A0000',\n",
       " 'A0000',\n",
       " 'A0000']"
      ]
     },
     "execution_count": 38,
     "metadata": {},
     "output_type": "execute_result"
    }
   ],
   "source": [
    "input_gene_field"
   ]
  },
  {
   "cell_type": "code",
   "execution_count": 94,
   "metadata": {
    "collapsed": false
   },
   "outputs": [
    {
     "data": {
      "text/plain": [
       "['#CHROM',\n",
       " 'POS',\n",
       " 'ID',\n",
       " 'REF',\n",
       " 'ALT',\n",
       " 'QUAL',\n",
       " 'FILTER',\n",
       " 'INFO',\n",
       " 'FORMAT',\n",
       " 'NA00001',\n",
       " '1',\n",
       " 'NA00002',\n",
       " '1',\n",
       " 'NA00003',\n",
       " '']"
      ]
     },
     "execution_count": 94,
     "metadata": {},
     "output_type": "execute_result"
    }
   ],
   "source": [
    "[i.split(\":\")[0][1:-1] for i in a.split(\"},{\")[0][2:].split(',')]"
   ]
  },
  {
   "cell_type": "code",
   "execution_count": 93,
   "metadata": {
    "collapsed": false
   },
   "outputs": [
    {
     "data": {
      "text/plain": [
       "['#CHROM',\n",
       " 'POS',\n",
       " 'ID',\n",
       " 'REF',\n",
       " 'ALT',\n",
       " 'QUAL',\n",
       " 'FILTER',\n",
       " 'INFO',\n",
       " 'FORMAT',\n",
       " 'NA00001',\n",
       " 'NA00002',\n",
       " 'NA00003']"
      ]
     },
     "execution_count": 93,
     "metadata": {},
     "output_type": "execute_result"
    }
   ],
   "source": [
    "[i.split('\":\"')[0] for i in a.split(\"},{\")[0][3:].split('\",\"')]"
   ]
  },
  {
   "cell_type": "code",
   "execution_count": 88,
   "metadata": {
    "collapsed": false
   },
   "outputs": [
    {
     "data": {
      "text/plain": [
       "'Gene\":\"AARS\",\"Transcript\":\"NM_001605.2\",\"cDNA (cNomen)\":\"c.1786-5T>C\",\"Protein (pNomen)\":\"\",\"Target Position\":\"chr16:70293094-70293094\"'"
      ]
     },
     "execution_count": 88,
     "metadata": {},
     "output_type": "execute_result"
    }
   ],
   "source": [
    "b.split(\"},{\")[0][3:]"
   ]
  },
  {
   "cell_type": "code",
   "execution_count": 4,
   "metadata": {
    "collapsed": true
   },
   "outputs": [],
   "source": [
    "from langdetect import detect"
   ]
  },
  {
   "cell_type": "code",
   "execution_count": 7,
   "metadata": {
    "collapsed": false,
    "scrolled": true
   },
   "outputs": [
    {
     "data": {
      "text/plain": [
       "'zh-cn'"
      ]
     },
     "execution_count": 7,
     "metadata": {},
     "output_type": "execute_result"
    }
   ],
   "source": [
    "detect(u\"任务1\")"
   ]
  },
  {
   "cell_type": "code",
   "execution_count": 20,
   "metadata": {
    "collapsed": false
   },
   "outputs": [],
   "source": [
    "from oauth2client.service_account import ServiceAccountCredentials\n",
    "\n",
    "# scopes = ['https://www.googleapis.com/auth/translateservice.admin']\n",
    "\n",
    "credentials = ServiceAccountCredentials.from_json_keyfile_name(\n",
    "    '/Users/Tianqi/Keep_Learning/google_api/translate-7696ad4e40b3.json')"
   ]
  },
  {
   "cell_type": "code",
   "execution_count": 21,
   "metadata": {
    "collapsed": true
   },
   "outputs": [],
   "source": [
    "from httplib2 import Http\n",
    "\n",
    "http_auth = credentials.authorize(Http())"
   ]
  },
  {
   "cell_type": "code",
   "execution_count": 22,
   "metadata": {
    "collapsed": false
   },
   "outputs": [
    {
     "name": "stderr",
     "output_type": "stream",
     "text": [
      "WARNING:googleapiclient.discovery_cache:file_cache is unavailable when using oauth2client >= 4.0.0\n",
      "Traceback (most recent call last):\n",
      "  File \"/Users/Tianqi/anaconda/lib/python2.7/site-packages/googleapiclient/discovery_cache/__init__.py\", line 41, in autodetect\n",
      "    from . import file_cache\n",
      "  File \"/Users/Tianqi/anaconda/lib/python2.7/site-packages/googleapiclient/discovery_cache/file_cache.py\", line 41, in <module>\n",
      "    'file_cache is unavailable when using oauth2client >= 4.0.0')\n",
      "ImportError: file_cache is unavailable when using oauth2client >= 4.0.0\n"
     ]
    },
    {
     "ename": "TypeError",
     "evalue": "cannot instantiate ctype 'EVP_MD_CTX' of unknown size",
     "output_type": "error",
     "traceback": [
      "\u001b[0;31m---------------------------------------------------------------------------\u001b[0m",
      "\u001b[0;31mTypeError\u001b[0m                                 Traceback (most recent call last)",
      "\u001b[0;32m<ipython-input-22-f54006658921>\u001b[0m in \u001b[0;36m<module>\u001b[0;34m()\u001b[0m\n\u001b[1;32m      1\u001b[0m \u001b[0;32mfrom\u001b[0m \u001b[0mapiclient\u001b[0m\u001b[0;34m.\u001b[0m\u001b[0mdiscovery\u001b[0m \u001b[0;32mimport\u001b[0m \u001b[0mbuild\u001b[0m\u001b[0;34m\u001b[0m\u001b[0m\n\u001b[0;32m----> 2\u001b[0;31m \u001b[0mservice\u001b[0m \u001b[0;34m=\u001b[0m \u001b[0mbuild\u001b[0m\u001b[0;34m(\u001b[0m\u001b[0;34m'translate'\u001b[0m\u001b[0;34m,\u001b[0m \u001b[0;34m'v2'\u001b[0m\u001b[0;34m,\u001b[0m \u001b[0mhttp\u001b[0m\u001b[0;34m=\u001b[0m\u001b[0mhttp_auth\u001b[0m\u001b[0;34m)\u001b[0m\u001b[0;34m\u001b[0m\u001b[0m\n\u001b[0m",
      "\u001b[0;32m/Users/Tianqi/anaconda/lib/python2.7/site-packages/oauth2client/_helpers.pyc\u001b[0m in \u001b[0;36mpositional_wrapper\u001b[0;34m(*args, **kwargs)\u001b[0m\n\u001b[1;32m    131\u001b[0m                 \u001b[0;32melif\u001b[0m \u001b[0mpositional_parameters_enforcement\u001b[0m \u001b[0;34m==\u001b[0m \u001b[0mPOSITIONAL_WARNING\u001b[0m\u001b[0;34m:\u001b[0m\u001b[0;34m\u001b[0m\u001b[0m\n\u001b[1;32m    132\u001b[0m                     \u001b[0mlogger\u001b[0m\u001b[0;34m.\u001b[0m\u001b[0mwarning\u001b[0m\u001b[0;34m(\u001b[0m\u001b[0mmessage\u001b[0m\u001b[0;34m)\u001b[0m\u001b[0;34m\u001b[0m\u001b[0m\n\u001b[0;32m--> 133\u001b[0;31m             \u001b[0;32mreturn\u001b[0m \u001b[0mwrapped\u001b[0m\u001b[0;34m(\u001b[0m\u001b[0;34m*\u001b[0m\u001b[0margs\u001b[0m\u001b[0;34m,\u001b[0m \u001b[0;34m**\u001b[0m\u001b[0mkwargs\u001b[0m\u001b[0;34m)\u001b[0m\u001b[0;34m\u001b[0m\u001b[0m\n\u001b[0m\u001b[1;32m    134\u001b[0m         \u001b[0;32mreturn\u001b[0m \u001b[0mpositional_wrapper\u001b[0m\u001b[0;34m\u001b[0m\u001b[0m\n\u001b[1;32m    135\u001b[0m \u001b[0;34m\u001b[0m\u001b[0m\n",
      "\u001b[0;32m/Users/Tianqi/anaconda/lib/python2.7/site-packages/googleapiclient/discovery.pyc\u001b[0m in \u001b[0;36mbuild\u001b[0;34m(serviceName, version, http, discoveryServiceUrl, developerKey, model, requestBuilder, credentials, cache_discovery, cache)\u001b[0m\n\u001b[1;32m    226\u001b[0m     \u001b[0;32mtry\u001b[0m\u001b[0;34m:\u001b[0m\u001b[0;34m\u001b[0m\u001b[0m\n\u001b[1;32m    227\u001b[0m       content = _retrieve_discovery_doc(\n\u001b[0;32m--> 228\u001b[0;31m         requested_url, discovery_http, cache_discovery, cache)\n\u001b[0m\u001b[1;32m    229\u001b[0m       return build_from_document(content, base=discovery_url, http=http,\n\u001b[1;32m    230\u001b[0m           \u001b[0mdeveloperKey\u001b[0m\u001b[0;34m=\u001b[0m\u001b[0mdeveloperKey\u001b[0m\u001b[0;34m,\u001b[0m \u001b[0mmodel\u001b[0m\u001b[0;34m=\u001b[0m\u001b[0mmodel\u001b[0m\u001b[0;34m,\u001b[0m \u001b[0mrequestBuilder\u001b[0m\u001b[0;34m=\u001b[0m\u001b[0mrequestBuilder\u001b[0m\u001b[0;34m,\u001b[0m\u001b[0;34m\u001b[0m\u001b[0m\n",
      "\u001b[0;32m/Users/Tianqi/anaconda/lib/python2.7/site-packages/googleapiclient/discovery.pyc\u001b[0m in \u001b[0;36m_retrieve_discovery_doc\u001b[0;34m(url, http, cache_discovery, cache)\u001b[0m\n\u001b[1;32m    273\u001b[0m   \u001b[0mlogger\u001b[0m\u001b[0;34m.\u001b[0m\u001b[0minfo\u001b[0m\u001b[0;34m(\u001b[0m\u001b[0;34m'URL being requested: GET %s'\u001b[0m\u001b[0;34m,\u001b[0m \u001b[0mactual_url\u001b[0m\u001b[0;34m)\u001b[0m\u001b[0;34m\u001b[0m\u001b[0m\n\u001b[1;32m    274\u001b[0m \u001b[0;34m\u001b[0m\u001b[0m\n\u001b[0;32m--> 275\u001b[0;31m   \u001b[0mresp\u001b[0m\u001b[0;34m,\u001b[0m \u001b[0mcontent\u001b[0m \u001b[0;34m=\u001b[0m \u001b[0mhttp\u001b[0m\u001b[0;34m.\u001b[0m\u001b[0mrequest\u001b[0m\u001b[0;34m(\u001b[0m\u001b[0mactual_url\u001b[0m\u001b[0;34m)\u001b[0m\u001b[0;34m\u001b[0m\u001b[0m\n\u001b[0m\u001b[1;32m    276\u001b[0m \u001b[0;34m\u001b[0m\u001b[0m\n\u001b[1;32m    277\u001b[0m   \u001b[0;32mif\u001b[0m \u001b[0mresp\u001b[0m\u001b[0;34m.\u001b[0m\u001b[0mstatus\u001b[0m \u001b[0;34m>=\u001b[0m \u001b[0;36m400\u001b[0m\u001b[0;34m:\u001b[0m\u001b[0;34m\u001b[0m\u001b[0m\n",
      "\u001b[0;32m/Users/Tianqi/anaconda/lib/python2.7/site-packages/oauth2client/transport.pyc\u001b[0m in \u001b[0;36mnew_request\u001b[0;34m(uri, method, body, headers, redirections, connection_type)\u001b[0m\n\u001b[1;32m    157\u001b[0m             _LOGGER.info('Attempting refresh to obtain '\n\u001b[1;32m    158\u001b[0m                          'initial access_token')\n\u001b[0;32m--> 159\u001b[0;31m             \u001b[0mcredentials\u001b[0m\u001b[0;34m.\u001b[0m\u001b[0m_refresh\u001b[0m\u001b[0;34m(\u001b[0m\u001b[0morig_request_method\u001b[0m\u001b[0;34m)\u001b[0m\u001b[0;34m\u001b[0m\u001b[0m\n\u001b[0m\u001b[1;32m    160\u001b[0m \u001b[0;34m\u001b[0m\u001b[0m\n\u001b[1;32m    161\u001b[0m         \u001b[0;31m# Clone and modify the request headers to add the appropriate\u001b[0m\u001b[0;34m\u001b[0m\u001b[0;34m\u001b[0m\u001b[0m\n",
      "\u001b[0;32m/Users/Tianqi/anaconda/lib/python2.7/site-packages/oauth2client/client.pyc\u001b[0m in \u001b[0;36m_refresh\u001b[0;34m(self, http)\u001b[0m\n\u001b[1;32m    747\u001b[0m         \"\"\"\n\u001b[1;32m    748\u001b[0m         \u001b[0;32mif\u001b[0m \u001b[0;32mnot\u001b[0m \u001b[0mself\u001b[0m\u001b[0;34m.\u001b[0m\u001b[0mstore\u001b[0m\u001b[0;34m:\u001b[0m\u001b[0;34m\u001b[0m\u001b[0m\n\u001b[0;32m--> 749\u001b[0;31m             \u001b[0mself\u001b[0m\u001b[0;34m.\u001b[0m\u001b[0m_do_refresh_request\u001b[0m\u001b[0;34m(\u001b[0m\u001b[0mhttp\u001b[0m\u001b[0;34m)\u001b[0m\u001b[0;34m\u001b[0m\u001b[0m\n\u001b[0m\u001b[1;32m    750\u001b[0m         \u001b[0;32melse\u001b[0m\u001b[0;34m:\u001b[0m\u001b[0;34m\u001b[0m\u001b[0m\n\u001b[1;32m    751\u001b[0m             \u001b[0mself\u001b[0m\u001b[0;34m.\u001b[0m\u001b[0mstore\u001b[0m\u001b[0;34m.\u001b[0m\u001b[0macquire_lock\u001b[0m\u001b[0;34m(\u001b[0m\u001b[0;34m)\u001b[0m\u001b[0;34m\u001b[0m\u001b[0m\n",
      "\u001b[0;32m/Users/Tianqi/anaconda/lib/python2.7/site-packages/oauth2client/client.pyc\u001b[0m in \u001b[0;36m_do_refresh_request\u001b[0;34m(self, http)\u001b[0m\n\u001b[1;32m    772\u001b[0m             \u001b[0mHttpAccessTokenRefreshError\u001b[0m\u001b[0;34m:\u001b[0m \u001b[0mWhen\u001b[0m \u001b[0mthe\u001b[0m \u001b[0mrefresh\u001b[0m \u001b[0mfails\u001b[0m\u001b[0;34m.\u001b[0m\u001b[0;34m\u001b[0m\u001b[0m\n\u001b[1;32m    773\u001b[0m         \"\"\"\n\u001b[0;32m--> 774\u001b[0;31m         \u001b[0mbody\u001b[0m \u001b[0;34m=\u001b[0m \u001b[0mself\u001b[0m\u001b[0;34m.\u001b[0m\u001b[0m_generate_refresh_request_body\u001b[0m\u001b[0;34m(\u001b[0m\u001b[0;34m)\u001b[0m\u001b[0;34m\u001b[0m\u001b[0m\n\u001b[0m\u001b[1;32m    775\u001b[0m         \u001b[0mheaders\u001b[0m \u001b[0;34m=\u001b[0m \u001b[0mself\u001b[0m\u001b[0;34m.\u001b[0m\u001b[0m_generate_refresh_request_headers\u001b[0m\u001b[0;34m(\u001b[0m\u001b[0;34m)\u001b[0m\u001b[0;34m\u001b[0m\u001b[0m\n\u001b[1;32m    776\u001b[0m \u001b[0;34m\u001b[0m\u001b[0m\n",
      "\u001b[0;32m/Users/Tianqi/anaconda/lib/python2.7/site-packages/oauth2client/client.pyc\u001b[0m in \u001b[0;36m_generate_refresh_request_body\u001b[0;34m(self)\u001b[0m\n\u001b[1;32m   1482\u001b[0m \u001b[0;34m\u001b[0m\u001b[0m\n\u001b[1;32m   1483\u001b[0m     \u001b[0;32mdef\u001b[0m \u001b[0m_generate_refresh_request_body\u001b[0m\u001b[0;34m(\u001b[0m\u001b[0mself\u001b[0m\u001b[0;34m)\u001b[0m\u001b[0;34m:\u001b[0m\u001b[0;34m\u001b[0m\u001b[0m\n\u001b[0;32m-> 1484\u001b[0;31m         \u001b[0massertion\u001b[0m \u001b[0;34m=\u001b[0m \u001b[0mself\u001b[0m\u001b[0;34m.\u001b[0m\u001b[0m_generate_assertion\u001b[0m\u001b[0;34m(\u001b[0m\u001b[0;34m)\u001b[0m\u001b[0;34m\u001b[0m\u001b[0m\n\u001b[0m\u001b[1;32m   1485\u001b[0m \u001b[0;34m\u001b[0m\u001b[0m\n\u001b[1;32m   1486\u001b[0m         body = urllib.parse.urlencode({\n",
      "\u001b[0;32m/Users/Tianqi/anaconda/lib/python2.7/site-packages/oauth2client/service_account.pyc\u001b[0m in \u001b[0;36m_generate_assertion\u001b[0;34m(self)\u001b[0m\n\u001b[1;32m    383\u001b[0m         \u001b[0mpayload\u001b[0m\u001b[0;34m.\u001b[0m\u001b[0mupdate\u001b[0m\u001b[0;34m(\u001b[0m\u001b[0mself\u001b[0m\u001b[0;34m.\u001b[0m\u001b[0m_kwargs\u001b[0m\u001b[0;34m)\u001b[0m\u001b[0;34m\u001b[0m\u001b[0m\n\u001b[1;32m    384\u001b[0m         return crypt.make_signed_jwt(self._signer, payload,\n\u001b[0;32m--> 385\u001b[0;31m                                      key_id=self._private_key_id)\n\u001b[0m\u001b[1;32m    386\u001b[0m \u001b[0;34m\u001b[0m\u001b[0m\n\u001b[1;32m    387\u001b[0m     \u001b[0;32mdef\u001b[0m \u001b[0msign_blob\u001b[0m\u001b[0;34m(\u001b[0m\u001b[0mself\u001b[0m\u001b[0;34m,\u001b[0m \u001b[0mblob\u001b[0m\u001b[0;34m)\u001b[0m\u001b[0;34m:\u001b[0m\u001b[0;34m\u001b[0m\u001b[0m\n",
      "\u001b[0;32m/Users/Tianqi/anaconda/lib/python2.7/site-packages/oauth2client/crypt.pyc\u001b[0m in \u001b[0;36mmake_signed_jwt\u001b[0;34m(signer, payload, key_id)\u001b[0m\n\u001b[1;32m     95\u001b[0m     \u001b[0msigning_input\u001b[0m \u001b[0;34m=\u001b[0m \u001b[0;34mb'.'\u001b[0m\u001b[0;34m.\u001b[0m\u001b[0mjoin\u001b[0m\u001b[0;34m(\u001b[0m\u001b[0msegments\u001b[0m\u001b[0;34m)\u001b[0m\u001b[0;34m\u001b[0m\u001b[0m\n\u001b[1;32m     96\u001b[0m \u001b[0;34m\u001b[0m\u001b[0m\n\u001b[0;32m---> 97\u001b[0;31m     \u001b[0msignature\u001b[0m \u001b[0;34m=\u001b[0m \u001b[0msigner\u001b[0m\u001b[0;34m.\u001b[0m\u001b[0msign\u001b[0m\u001b[0;34m(\u001b[0m\u001b[0msigning_input\u001b[0m\u001b[0;34m)\u001b[0m\u001b[0;34m\u001b[0m\u001b[0m\n\u001b[0m\u001b[1;32m     98\u001b[0m     \u001b[0msegments\u001b[0m\u001b[0;34m.\u001b[0m\u001b[0mappend\u001b[0m\u001b[0;34m(\u001b[0m\u001b[0m_helpers\u001b[0m\u001b[0;34m.\u001b[0m\u001b[0m_urlsafe_b64encode\u001b[0m\u001b[0;34m(\u001b[0m\u001b[0msignature\u001b[0m\u001b[0;34m)\u001b[0m\u001b[0;34m)\u001b[0m\u001b[0;34m\u001b[0m\u001b[0m\n\u001b[1;32m     99\u001b[0m \u001b[0;34m\u001b[0m\u001b[0m\n",
      "\u001b[0;32m/Users/Tianqi/anaconda/lib/python2.7/site-packages/oauth2client/_openssl_crypt.pyc\u001b[0m in \u001b[0;36msign\u001b[0;34m(self, message)\u001b[0m\n\u001b[1;32m     95\u001b[0m         \"\"\"\n\u001b[1;32m     96\u001b[0m         \u001b[0mmessage\u001b[0m \u001b[0;34m=\u001b[0m \u001b[0m_helpers\u001b[0m\u001b[0;34m.\u001b[0m\u001b[0m_to_bytes\u001b[0m\u001b[0;34m(\u001b[0m\u001b[0mmessage\u001b[0m\u001b[0;34m,\u001b[0m \u001b[0mencoding\u001b[0m\u001b[0;34m=\u001b[0m\u001b[0;34m'utf-8'\u001b[0m\u001b[0;34m)\u001b[0m\u001b[0;34m\u001b[0m\u001b[0m\n\u001b[0;32m---> 97\u001b[0;31m         \u001b[0;32mreturn\u001b[0m \u001b[0mcrypto\u001b[0m\u001b[0;34m.\u001b[0m\u001b[0msign\u001b[0m\u001b[0;34m(\u001b[0m\u001b[0mself\u001b[0m\u001b[0;34m.\u001b[0m\u001b[0m_key\u001b[0m\u001b[0;34m,\u001b[0m \u001b[0mmessage\u001b[0m\u001b[0;34m,\u001b[0m \u001b[0;34m'sha256'\u001b[0m\u001b[0;34m)\u001b[0m\u001b[0;34m\u001b[0m\u001b[0m\n\u001b[0m\u001b[1;32m     98\u001b[0m \u001b[0;34m\u001b[0m\u001b[0m\n\u001b[1;32m     99\u001b[0m     \u001b[0;34m@\u001b[0m\u001b[0mstaticmethod\u001b[0m\u001b[0;34m\u001b[0m\u001b[0m\n",
      "\u001b[0;32m/Users/Tianqi/anaconda/lib/python2.7/site-packages/OpenSSL/crypto.pyc\u001b[0m in \u001b[0;36msign\u001b[0;34m(pkey, data, digest)\u001b[0m\n\u001b[1;32m   2401\u001b[0m         \u001b[0;32mraise\u001b[0m \u001b[0mValueError\u001b[0m\u001b[0;34m(\u001b[0m\u001b[0;34m\"No such digest method\"\u001b[0m\u001b[0;34m)\u001b[0m\u001b[0;34m\u001b[0m\u001b[0m\n\u001b[1;32m   2402\u001b[0m \u001b[0;34m\u001b[0m\u001b[0m\n\u001b[0;32m-> 2403\u001b[0;31m     \u001b[0mmd_ctx\u001b[0m \u001b[0;34m=\u001b[0m \u001b[0m_ffi\u001b[0m\u001b[0;34m.\u001b[0m\u001b[0mnew\u001b[0m\u001b[0;34m(\u001b[0m\u001b[0;34m\"EVP_MD_CTX*\"\u001b[0m\u001b[0;34m)\u001b[0m\u001b[0;34m\u001b[0m\u001b[0m\n\u001b[0m\u001b[1;32m   2404\u001b[0m     \u001b[0mmd_ctx\u001b[0m \u001b[0;34m=\u001b[0m \u001b[0m_ffi\u001b[0m\u001b[0;34m.\u001b[0m\u001b[0mgc\u001b[0m\u001b[0;34m(\u001b[0m\u001b[0mmd_ctx\u001b[0m\u001b[0;34m,\u001b[0m \u001b[0m_lib\u001b[0m\u001b[0;34m.\u001b[0m\u001b[0mEVP_MD_CTX_cleanup\u001b[0m\u001b[0;34m)\u001b[0m\u001b[0;34m\u001b[0m\u001b[0m\n\u001b[1;32m   2405\u001b[0m \u001b[0;34m\u001b[0m\u001b[0m\n",
      "\u001b[0;31mTypeError\u001b[0m: cannot instantiate ctype 'EVP_MD_CTX' of unknown size"
     ]
    }
   ],
   "source": [
    "from apiclient.discovery import build\n",
    "service = build('translate', 'v2', http=http_auth)"
   ]
  },
  {
   "cell_type": "code",
   "execution_count": null,
   "metadata": {
    "collapsed": true
   },
   "outputs": [],
   "source": [
    "service = build('translate', 'v2',\n",
    "        developerKey='e37b6a3f5406868430b2b58d7b65825e4cb21082')\n",
    "service.translations().list(\n",
    "  source='en',\n",
    "  target='fr',\n",
    "  q=['flower', 'car']\n",
    ").execute()"
   ]
  },
  {
   "cell_type": "code",
   "execution_count": 64,
   "metadata": {
    "collapsed": false
   },
   "outputs": [
    {
     "name": "stderr",
     "output_type": "stream",
     "text": [
      "WARNING:google.auth._default:No project ID could be determined from the Cloud SDK configuration. Consider running `gcloud config set project` or setting the GOOGLE_CLOUD_PROJECT environment variable\n"
     ]
    },
    {
     "ename": "Forbidden",
     "evalue": "403 Daily Limit Exceeded (GET https://translation.googleapis.com/language/translate/v2?target=ru&q=Hello%2C+world%21)",
     "output_type": "error",
     "traceback": [
      "\u001b[0;31m---------------------------------------------------------------------------\u001b[0m",
      "\u001b[0;31mForbidden\u001b[0m                                 Traceback (most recent call last)",
      "\u001b[0;32m<ipython-input-64-509d0d57ae64>\u001b[0m in \u001b[0;36m<module>\u001b[0;34m()\u001b[0m\n\u001b[1;32m     13\u001b[0m translation = translate_client.translate(\n\u001b[1;32m     14\u001b[0m     \u001b[0mtext\u001b[0m\u001b[0;34m,\u001b[0m\u001b[0;34m\u001b[0m\u001b[0m\n\u001b[0;32m---> 15\u001b[0;31m     target_language=target)\n\u001b[0m\u001b[1;32m     16\u001b[0m \u001b[0;34m\u001b[0m\u001b[0m\n\u001b[1;32m     17\u001b[0m \u001b[0;32mprint\u001b[0m\u001b[0;34m(\u001b[0m\u001b[0;34mu'Text: {}'\u001b[0m\u001b[0;34m.\u001b[0m\u001b[0mformat\u001b[0m\u001b[0;34m(\u001b[0m\u001b[0mtext\u001b[0m\u001b[0;34m)\u001b[0m\u001b[0;34m)\u001b[0m\u001b[0;34m\u001b[0m\u001b[0m\n",
      "\u001b[0;32m/Users/Tianqi/anaconda/lib/python2.7/site-packages/google/cloud/translate/client.pyc\u001b[0m in \u001b[0;36mtranslate\u001b[0;34m(self, values, target_language, format_, source_language, customization_ids, model)\u001b[0m\n\u001b[1;32m    232\u001b[0m \u001b[0;34m\u001b[0m\u001b[0m\n\u001b[1;32m    233\u001b[0m         response = self._connection.api_request(\n\u001b[0;32m--> 234\u001b[0;31m             method='GET', path='', query_params=query_params)\n\u001b[0m\u001b[1;32m    235\u001b[0m \u001b[0;34m\u001b[0m\u001b[0m\n\u001b[1;32m    236\u001b[0m         \u001b[0mtranslations\u001b[0m \u001b[0;34m=\u001b[0m \u001b[0mresponse\u001b[0m\u001b[0;34m.\u001b[0m\u001b[0mget\u001b[0m\u001b[0;34m(\u001b[0m\u001b[0;34m'data'\u001b[0m\u001b[0;34m,\u001b[0m \u001b[0;34m{\u001b[0m\u001b[0;34m}\u001b[0m\u001b[0;34m)\u001b[0m\u001b[0;34m.\u001b[0m\u001b[0mget\u001b[0m\u001b[0;34m(\u001b[0m\u001b[0;34m'translations'\u001b[0m\u001b[0;34m,\u001b[0m \u001b[0;34m(\u001b[0m\u001b[0;34m)\u001b[0m\u001b[0;34m)\u001b[0m\u001b[0;34m\u001b[0m\u001b[0m\n",
      "\u001b[0;32m/Users/Tianqi/anaconda/lib/python2.7/site-packages/google/cloud/_http.pyc\u001b[0m in \u001b[0;36mapi_request\u001b[0;34m(self, method, path, query_params, data, content_type, headers, api_base_url, api_version, expect_json, _target_object)\u001b[0m\n\u001b[1;32m    301\u001b[0m         \u001b[0;32mif\u001b[0m \u001b[0;32mnot\u001b[0m \u001b[0;36m200\u001b[0m \u001b[0;34m<=\u001b[0m \u001b[0mresponse\u001b[0m\u001b[0;34m.\u001b[0m\u001b[0mstatus\u001b[0m \u001b[0;34m<\u001b[0m \u001b[0;36m300\u001b[0m\u001b[0;34m:\u001b[0m\u001b[0;34m\u001b[0m\u001b[0m\n\u001b[1;32m    302\u001b[0m             raise make_exception(response, content,\n\u001b[0;32m--> 303\u001b[0;31m                                  error_info=method + ' ' + url)\n\u001b[0m\u001b[1;32m    304\u001b[0m \u001b[0;34m\u001b[0m\u001b[0m\n\u001b[1;32m    305\u001b[0m         \u001b[0mstring_or_bytes\u001b[0m \u001b[0;34m=\u001b[0m \u001b[0;34m(\u001b[0m\u001b[0msix\u001b[0m\u001b[0;34m.\u001b[0m\u001b[0mbinary_type\u001b[0m\u001b[0;34m,\u001b[0m \u001b[0msix\u001b[0m\u001b[0;34m.\u001b[0m\u001b[0mtext_type\u001b[0m\u001b[0;34m)\u001b[0m\u001b[0;34m\u001b[0m\u001b[0m\n",
      "\u001b[0;31mForbidden\u001b[0m: 403 Daily Limit Exceeded (GET https://translation.googleapis.com/language/translate/v2?target=ru&q=Hello%2C+world%21)"
     ]
    }
   ],
   "source": [
    "# Imports the Google Cloud client library\n",
    "from google.cloud import translate\n",
    "\n",
    "# Instantiates a client\n",
    "translate_client = translate.Client()\n",
    "\n",
    "# The text to translate\n",
    "text = u'Hello, world!'\n",
    "# The target language\n",
    "target = 'ru'\n",
    "\n",
    "# Translates some text into Russian\n",
    "translation = translate_client.translate(\n",
    "    text,\n",
    "    target_language=target)\n",
    "\n",
    "print(u'Text: {}'.format(text))\n",
    "print(u'Translation: {}'.format(translation['translatedText']))"
   ]
  },
  {
   "cell_type": "code",
   "execution_count": 13,
   "metadata": {
    "collapsed": false
   },
   "outputs": [
    {
     "name": "stderr",
     "output_type": "stream",
     "text": [
      "WARNING:google.auth._default:No project ID could be determined from the Cloud SDK configuration. Consider running `gcloud config set project` or setting the GOOGLE_CLOUD_PROJECT environment variable\n"
     ]
    },
    {
     "name": "stdout",
     "output_type": "stream",
     "text": [
      "Translation: 你好\n"
     ]
    }
   ],
   "source": [
    "from google.cloud import translate\n",
    "\n",
    "translate_client = translate.Client()\n",
    "text = u'Hello'\n",
    "target = 'zh'\n",
    "\n",
    "translation = translate_client.translate(text,target_language=target)\n",
    "print(u'Translation: {}'.format(translation['translatedText']))"
   ]
  },
  {
   "cell_type": "code",
   "execution_count": 15,
   "metadata": {
    "collapsed": false
   },
   "outputs": [
    {
     "data": {
      "text/plain": [
       "u'Why sometimes easy to use and sometimes easy to use'"
      ]
     },
     "execution_count": 15,
     "metadata": {},
     "output_type": "execute_result"
    }
   ],
   "source": [
    "text = u'为什么时而好用时而不好用'\n",
    "target = 'en'\n",
    "translation = translate_client.translate(text,target_language=target)\n",
    "translation['translatedText']"
   ]
  },
  {
   "cell_type": "code",
   "execution_count": 24,
   "metadata": {
    "collapsed": false
   },
   "outputs": [],
   "source": [
    "sourceLang = 'zh-Hans'\n",
    "targetLang = 'en'\n",
    "sourceText = '你好啊'\n",
    "\n",
    "url = \"https://translate.googleapis.com/translate_a/single?client=gtx&sl=\" + sourceLang + \"&tl=\" + targetLang + \"&dt=t&q=\" + sourceText"
   ]
  },
  {
   "cell_type": "code",
   "execution_count": 22,
   "metadata": {
    "collapsed": false
   },
   "outputs": [
    {
     "data": {
      "text/plain": [
       "'https://translate.googleapis.com/translate_a/single?client=gtx&sl=zh-Hans&tl=en&dt=t&q=\\xe4\\xbd\\xa0\\xe5\\xa5\\xbd\\xe5\\x95\\x8a'"
      ]
     },
     "execution_count": 22,
     "metadata": {},
     "output_type": "execute_result"
    }
   ],
   "source": [
    "url"
   ]
  },
  {
   "cell_type": "code",
   "execution_count": 35,
   "metadata": {
    "collapsed": false
   },
   "outputs": [],
   "source": [
    "url = 'response'"
   ]
  },
  {
   "cell_type": "code",
   "execution_count": null,
   "metadata": {
    "collapsed": true
   },
   "outputs": [],
   "source": [
    "https://translate.googleapis.com/translate_a/single?client=gtx&sl=zh-Hans&tl=en&dt=t&q=%E4%BD%A0%E5%A5%BD"
   ]
  },
  {
   "cell_type": "code",
   "execution_count": 31,
   "metadata": {
    "collapsed": false
   },
   "outputs": [
    {
     "name": "stdout",
     "output_type": "stream",
     "text": [
      "<!DOCTYPE html><html lang=en><meta charset=utf-8><meta name=viewport content=\"initial-scale=1, minimum-scale=1, width=device-width\"><title>Error 403 (Forbidden)!!1</title><style>*{margin:0;padding:0}html,code{font:15px/22px arial,sans-serif}html{background:#fff;color:#222;padding:15px}body{margin:7% auto 0;max-width:390px;min-height:180px;padding:30px 0 15px}* > body{background:url(//www.google.com/images/errors/robot.png) 100% 5px no-repeat;padding-right:205px}p{margin:11px 0 22px;overflow:hidden}ins{color:#777;text-decoration:none}a img{border:0}@media screen and (max-width:772px){body{background:none;margin-top:0;max-width:none;padding-right:0}}#logo{background:url(//www.google.com/images/branding/googlelogo/1x/googlelogo_color_150x54dp.png) no-repeat;margin-left:-5px}@media only screen and (min-resolution:192dpi){#logo{background:url(//www.google.com/images/branding/googlelogo/2x/googlelogo_color_150x54dp.png) no-repeat 0% 0%/100% 100%;-moz-border-image:url(//www.google.com/images/branding/googlelogo/2x/googlelogo_color_150x54dp.png) 0}}@media only screen and (-webkit-min-device-pixel-ratio:2){#logo{background:url(//www.google.com/images/branding/googlelogo/2x/googlelogo_color_150x54dp.png) no-repeat;-webkit-background-size:100% 100%}}#logo{display:inline-block;height:54px;width:150px}</style><a href=//www.google.com/><span id=logo aria-label=Google></span></a><p><b>403.</b> <ins>That’s an error.</ins><p>Your client does not have permission to get URL <code>/translate_a/single?client=gtx&amp;sl=zh-Hans&amp;tl=en&amp;dt=t&amp;q=%E4%BD%A0%E5%A5%BD</code> from this server.  (Client IP address: 216.174.124.181)<br><br>\n",
      "\n",
      "                                                                                                                                                                                                                                                                                                                                                                                                                                                                                                                                        \r\n",
      "  <ins>That’s all we know.</ins>\n"
     ]
    }
   ],
   "source": [
    "import urllib\n",
    "\n",
    "f = urllib.urlopen(url)\n",
    "myfile = f.read()\n",
    "print myfile"
   ]
  },
  {
   "cell_type": "code",
   "execution_count": 140,
   "metadata": {
    "collapsed": false
   },
   "outputs": [
    {
     "name": "stdout",
     "output_type": "stream",
     "text": [
      "Non-developed, severe global growth retardation, short stature, high blood pressure, small head deformity, cortical visual impairment, phalanx smooth muscle, overlapping toes, ball nose, nasal inactivity, delayed toothbrush, frontal lobelia, scleral uveitis, \n"
     ]
    }
   ],
   "source": [
    "import urllib2\n",
    "site = \"https://translate.googleapis.com/translate_a/single?client=gtx&sl=zh-Hans&tl=en&dt=t&q=\"+iput_text\n",
    "hdr = {'User-Agent': 'Mozilla/5.0 (X11; Linux x86_64) AppleWebKit/537.11 (KHTML, like Gecko) Chrome/23.0.1271.64 Safari/537.11',\n",
    "        'Accept': 'text/html,application/xhtml+xml,application/xml;q=0.9,*/*;q=0.8',\n",
    "        'Accept-Charset': 'ISO-8859-1,utf-8;q=0.7,*;q=0.3',\n",
    "        'Accept-Encoding': 'none',\n",
    "        'Accept-Language': 'en-US,en;q=0.8',\n",
    "        'Connection': 'keep-alive'}\n",
    "req = urllib2.Request(site, headers=hdr)\n",
    "try:\n",
    "    page = urllib2.urlopen(req)\n",
    "except urllib2.HTTPError, e:\n",
    "    print e\n",
    "\n",
    "content = page.read()\n",
    "translate = json.loads(content)[0][0][0]\n",
    "print translate"
   ]
  },
  {
   "cell_type": "code",
   "execution_count": 141,
   "metadata": {
    "collapsed": false
   },
   "outputs": [
    {
     "data": {
      "text/plain": [
       "[[[u'Non-developed, severe global growth retardation, short stature, high blood pressure, small head deformity, cortical visual impairment, phalanx smooth muscle, overlapping toes, ball nose, nasal inactivity, delayed toothbrush, frontal lobelia, scleral uveitis, ',\n",
       "   u'\\u4e0d\\u53d1\\u80b2\\uff0c\\u4e25\\u91cd\\u7684\\u5168\\u7403\\u53d1\\u80b2\\u8fdf\\u7f13\\uff0c\\u8eab\\u6750\\u77ee\\u5c0f\\uff0c\\u9ad8\\u8840\\u538b\\uff0c\\u5c0f\\u5934\\u7578\\u5f62\\uff0c\\u76ae\\u5c42\\u89c6\\u89c9\\u969c\\u788d\\uff0c\\u8dbe\\u9aa8\\u5e73\\u6ed1\\u808c\\uff0c\\u91cd\\u53e0\\u8dbe\\uff0c\\u7403\\u9f3b\\uff0c\\u9f3b\\u8154\\u4e0d\\u53d1\\u8fbe\\uff0c\\u5ef6\\u8fdf\\u7259\\u55b7\\uff0c\\u989d\\u53f6\\u591a\\u6bdb\\u75c7\\uff0c\\u5de9\\u819c\\u8461\\u8404\\u819c\\u708e\\uff0c',\n",
       "   None,\n",
       "   None,\n",
       "   3],\n",
       "  [u'Vertical, low tension, temporal disc, loose esophageal sphincter, club foot, malformations, malnutrition, congenital CMV, denervated gyrus, lower hippocampus, corpuscles, body, hemangioma, birthmark, forehead hirsutism, eye, hearing',\n",
       "   u'\\u5782\\u76f4\\u6027\\u4f4e\\u5f20\\u529b\\uff0c\\u989e\\u89c6\\u76d8\\uff0c\\u677e\\u6563\\u7684\\u98df\\u7ba1\\u62ec\\u7ea6\\u808c\\uff0c\\u4ff1\\u4e50\\u90e8\\u811a\\uff0c\\u7578\\u5f62\\u7279\\u5f81\\uff0c\\u8425\\u517b\\u4e0d\\u826f\\uff0c\\u5148\\u5929\\u6027CMV\\uff0c\\u5931\\u795e\\u7ecf\\u6ce8\\u89c6\\uff0c\\u4e0b\\u65cb\\u8f6c\\u6d77\\u9a6c\\uff0c\\u80fc\\uff0c\\u4f53\\uff0c\\u8840\\u7ba1\\u7624\\uff0c\\u80ce\\u8bb0\\uff0c\\u989d\\u5934\\u591a\\u6bdb\\u75c7\\uff0c\\u773c\\u775b\\uff0c\\u542c\\u89c9',\n",
       "   None,\n",
       "   None,\n",
       "   3]],\n",
       " None,\n",
       " u'zh-CN']"
      ]
     },
     "execution_count": 141,
     "metadata": {},
     "output_type": "execute_result"
    }
   ],
   "source": [
    "json.loads(content)"
   ]
  },
  {
   "cell_type": "code",
   "execution_count": 147,
   "metadata": {
    "collapsed": true
   },
   "outputs": [],
   "source": [
    "import map_phenotype_to_gene\n",
    "import collectVariantInfo\n",
    "import pubmed\n",
    "import ACMG\n",
    "import filterVariantOnPhenotype\n",
    "import csv\n",
    "\n",
    "import pandas as pd\n",
    "import numpy as np\n",
    "import re\n",
    "import myvariant\n",
    "# from deepb.models import Main_table, Raw_input_table\n",
    "from io import StringIO\n",
    "from collections import Counter\n",
    "from collections import defaultdict\n",
    "from langdetect import detect\n",
    "import urllib2\n",
    "import json\n"
   ]
  },
  {
   "cell_type": "code",
   "execution_count": 148,
   "metadata": {
    "collapsed": true
   },
   "outputs": [],
   "source": [
    "def read_input_pheno_file(input_phenotype):\n",
    "\tif not input_phenotype:\n",
    "\t\treturn '', '', ''\n",
    "\tlanguage = detect(unicode(input_phenotype))\n",
    "\tif language == \"zh-cn\":\n",
    "\t\tsite = \"https://translate.googleapis.com/translate_a/single?client=gtx&sl=zh-Hans&tl=en&dt=t&q=\"+input_phenotype\n",
    "\t\thdr = {'User-Agent': 'Mozilla/5.0 (X11; Linux x86_64) AppleWebKit/537.11 (KHTML, like Gecko) Chrome/23.0.1271.64 Safari/537.11',\n",
    "\t\t\t\t'Accept': 'text/html,application/xhtml+xml,application/xml;q=0.9,*/*;q=0.8',\n",
    "\t\t\t\t'Accept-Charset': 'ISO-8859-1,utf-8;q=0.7,*;q=0.3',\n",
    "\t\t\t\t'Accept-Encoding': 'none',\n",
    "\t\t\t\t'Accept-Language': 'en-US,en;q=0.8',\n",
    "\t\t\t\t'Connection': 'keep-alive'}\n",
    "\t\treq = urllib2.Request(site, headers=hdr)\n",
    "\t\ttry:\n",
    "\t\t\tpage = urllib2.urlopen(req)\n",
    "\t\t\tcontent = page.read()\n",
    "\t\t\tinput_phenotype = json.loads(content)[0][0][0]\n",
    "\t\texcept urllib2.HTTPError, e:\n",
    "\t\t\treturn '', '', ''\n",
    "\ttext = StringIO(unicode(input_phenotype), newline=None)\n",
    "\tlines = text.readlines()\n",
    "\tlines = [line.strip() for line in lines]\n",
    "\tphenos = []\n",
    "\tfor line in lines:\n",
    "\t\tif not line:\n",
    "\t\t\tcontinue\n",
    "        phenos_each_line = re.split(r'  +|\\t+|,|;|\\.|\\|', line.strip())\n",
    "        phenos_each_line = [re.sub(r'^\\W+|\\W+$', '', s) for s in phenos_each_line]\n",
    "        phenos_each_line = [s.lower() for s in phenos_each_line if s]\n",
    "        phenos += phenos_each_line\n",
    "\n",
    "\tcorner_cases = dict()\n",
    "\toriginal_phenos = [_.strip() for _ in phenos]\n",
    "\tfor pheno in phenos:\n",
    "\t\tif re.search('development', pheno) and re.search('delay', pheno) and not re.search('growth', pheno):\n",
    "\t\t\tphenos.append('growth delay')\n",
    "\t\t\torner_cases['growth delay'] = pheno.strip()\n",
    "\t\tfor pheno in phenos:\n",
    "\t\t\tif re.search('growth', pheno) and re.search('delay', pheno) and not re.search('development', pheno):\n",
    "\t\t\t\tphenos.append('developmental delay')\n",
    "\t\t\t\tcorner_cases['developmental delay'] = pheno.strip()\n",
    "\t\tphenos = [_.strip() for _ in phenos]\n",
    "\t\tphenos = list(set(phenos))\n",
    "\t\treturn phenos, corner_cases, original_phenos"
   ]
  },
  {
   "cell_type": "code",
   "execution_count": 149,
   "metadata": {
    "collapsed": false
   },
   "outputs": [
    {
     "data": {
      "text/plain": [
       "([u'short stature',\n",
       "  u'craniosynostosis',\n",
       "  u'ventriculomegaly',\n",
       "  u'metopic',\n",
       "  u'growth hormone deficiency',\n",
       "  u'anetoderma',\n",
       "  u'lamdoid',\n",
       "  u'macular atrophy',\n",
       "  u'developmental delay',\n",
       "  u'sagittal'],\n",
       " {},\n",
       " [u'lamdoid',\n",
       "  u'sagittal',\n",
       "  u'craniosynostosis',\n",
       "  u'metopic',\n",
       "  u'macular atrophy',\n",
       "  u'anetoderma',\n",
       "  u'short stature',\n",
       "  u'developmental delay',\n",
       "  u'ventriculomegaly',\n",
       "  u'growth hormone deficiency'])"
      ]
     },
     "execution_count": 149,
     "metadata": {},
     "output_type": "execute_result"
    }
   ],
   "source": [
    "read_input_pheno_file('Lamdoid, Sagittal, Craniosynostosis, Metopic, macular atrophy, anetoderma, short stature, developmental delay, Ventriculomegaly, growth hormone deficiency')"
   ]
  },
  {
   "cell_type": "code",
   "execution_count": 116,
   "metadata": {
    "collapsed": true
   },
   "outputs": [],
   "source": [
    "import sys\n",
    "reload(sys)\n",
    "sys.setdefaultencoding(\"utf-8\")"
   ]
  },
  {
   "cell_type": "code",
   "execution_count": 117,
   "metadata": {
    "collapsed": true
   },
   "outputs": [],
   "source": [
    "import urllib2\n",
    "import json"
   ]
  },
  {
   "cell_type": "code",
   "execution_count": 118,
   "metadata": {
    "collapsed": true
   },
   "outputs": [],
   "source": [
    "from langdetect import detect"
   ]
  },
  {
   "cell_type": "code",
   "execution_count": 218,
   "metadata": {
    "collapsed": true
   },
   "outputs": [],
   "source": [
    "input_phenotype = '老年痴呆'"
   ]
  },
  {
   "cell_type": "code",
   "execution_count": 219,
   "metadata": {
    "collapsed": false
   },
   "outputs": [],
   "source": [
    "# language = detect(unicode(input_phenotype))\n",
    "# if language == \"zh-cn\" or language == \"ko\":\n",
    "site = \"https://translate.googleapis.com/translate_a/single?client=gtx&sl=zh-Hans&tl=en&dt=t&q=\"+input_phenotype\n",
    "hdr = {'User-Agent': 'Mozilla/5.0 (X11; Linux x86_64) AppleWebKit/537.11 (KHTML, like Gecko) Chrome/23.0.1271.64 Safari/537.11',\n",
    "        'Accept': 'text/html,application/xhtml+xml,application/xml;q=0.9,*/*;q=0.8',\n",
    "        'Accept-Charset': 'ISO-8859-1,utf-8;q=0.7,*;q=0.3',\n",
    "        'Accept-Encoding': 'none',\n",
    "        'Accept-Language': 'en-US,en;q=0.8',\n",
    "        'Connection': 'keep-alive'}\n",
    "req = urllib2.Request(site, headers=hdr)\n",
    "try:\n",
    "    page = urllib2.urlopen(req)\n",
    "    content = page.read()\n",
    "    input_phenotype = json.loads(content)[0][0][0]\n",
    "except urllib2.HTTPError, e:\n",
    "    print e\n",
    "        \n",
    "\n",
    "# match_result = map2hpoWithPhenoSynonyms(input_phenotype)\n",
    "# match_result = sorted(match_result, key = lambda x: x[2], reverse = True)\n",
    "# if match_result==[]:\n",
    "#     match_result = ''\n",
    "# elif match_result[0][0] == 'Familial  hyperprolactinemia':\n",
    "#     match_result = ''\n",
    "# else:\n",
    "#     if match_result[0][2] == 1.0:\n",
    "#         match_result = match_result[:1]\n",
    "#     match_id = [i[1] for i in match_result]\n",
    "#     for indx,i in enumerate(match_id):\n",
    "#         if i[-7:]=='synonym':\n",
    "#             match_id[indx] = match_id[indx][:-8]\n",
    "#     match_table = chpo[chpo['编号'].isin(match_id)].iloc[:,[3,2,1,0,5]].reset_index(drop=True)"
   ]
  },
  {
   "cell_type": "code",
   "execution_count": 220,
   "metadata": {
    "collapsed": false
   },
   "outputs": [
    {
     "data": {
      "text/plain": [
       "u\"Alzheimer's disease\""
      ]
     },
     "execution_count": 220,
     "metadata": {},
     "output_type": "execute_result"
    }
   ],
   "source": [
    "input_phenotype"
   ]
  },
  {
   "cell_type": "code",
   "execution_count": 122,
   "metadata": {
    "collapsed": true
   },
   "outputs": [],
   "source": [
    "input_pheno = input_phenotype"
   ]
  },
  {
   "cell_type": "code",
   "execution_count": 134,
   "metadata": {
    "collapsed": true
   },
   "outputs": [],
   "source": [
    "from map_phenotype_to_gene import map2hpoWithPhenoSynonyms"
   ]
  },
  {
   "cell_type": "code",
   "execution_count": 158,
   "metadata": {
    "collapsed": true
   },
   "outputs": [],
   "source": [
    "def smart_match(input_en, chpo):\n",
    "    search_results = google.search(input_en, 1)\n",
    "    wiki = list(set([i.name[:-12] for i in search_results if i.name[-9:]=='Wikipedia']))\n",
    "    for i in wiki:\n",
    "        try:\n",
    "            wiki_match = chpo[chpo['表型英文名']==i]\n",
    "            return wiki_match.to_json(orient='records')\n",
    "        except:\n",
    "            pass\n",
    "\n",
    "    match_result = map2hpoWithPhenoSynonyms(input_en)\n",
    "    match_result = sorted(match_result, key = lambda x: x[2], reverse = True)\n",
    "    if match_result == []:\n",
    "        match_result = []\n",
    "    else:\n",
    "        if match_result[0][2] == 1.0:\n",
    "            match_result = match_result[:1]\n",
    "        match_id = [i[1] for i in match_result]\n",
    "        for indx,i in enumerate(match_id):\n",
    "            if i[-7:]=='synonym':\n",
    "                match_id[indx] = match_id[indx][:-8]\n",
    "        match_table = chpo[chpo.iloc[:,2].isin(match_id)].iloc[:7,:].reset_index(drop=True)\n",
    "        match_result = match_table.to_json(orient='records')\n",
    "    return match_result"
   ]
  },
  {
   "cell_type": "code",
   "execution_count": 159,
   "metadata": {
    "collapsed": false
   },
   "outputs": [],
   "source": [
    "chpo = pd.read_excel(\"data/chpo.2016-10.xls\")\n",
    "chpo.columns = ['类别','HPO编号','表型英文名','表型中文名','英文释义','释义']\n",
    "chpo = chpo.iloc[:,[3,2,1,0,5]]\n",
    "match_result = smart_match(input_pheno, chpo)"
   ]
  },
  {
   "cell_type": "code",
   "execution_count": 160,
   "metadata": {
    "collapsed": false
   },
   "outputs": [
    {
     "data": {
      "text/plain": [
       "u'Heartbeat'"
      ]
     },
     "execution_count": 160,
     "metadata": {},
     "output_type": "execute_result"
    }
   ],
   "source": [
    "input_pheno"
   ]
  },
  {
   "cell_type": "code",
   "execution_count": 161,
   "metadata": {
    "collapsed": false
   },
   "outputs": [
    {
     "data": {
      "text/plain": [
       "'[]'"
      ]
     },
     "execution_count": 161,
     "metadata": {},
     "output_type": "execute_result"
    }
   ],
   "source": [
    "match_result"
   ]
  },
  {
   "cell_type": "code",
   "execution_count": 162,
   "metadata": {
    "collapsed": false
   },
   "outputs": [],
   "source": [
    "match_result = map2hpoWithPhenoSynonyms('Heartbeat')"
   ]
  },
  {
   "cell_type": "code",
   "execution_count": 163,
   "metadata": {
    "collapsed": false
   },
   "outputs": [
    {
     "data": {
      "text/plain": [
       "[('Irregular heartbeat', 'HP:0011675-synonym', 0.5)]"
      ]
     },
     "execution_count": 163,
     "metadata": {},
     "output_type": "execute_result"
    }
   ],
   "source": [
    "match_result"
   ]
  },
  {
   "cell_type": "code",
   "execution_count": 164,
   "metadata": {
    "collapsed": true
   },
   "outputs": [],
   "source": [
    "match_id = [i[1] for i in match_result]"
   ]
  },
  {
   "cell_type": "code",
   "execution_count": 165,
   "metadata": {
    "collapsed": false
   },
   "outputs": [
    {
     "data": {
      "text/plain": [
       "['HP:0011675-synonym']"
      ]
     },
     "execution_count": 165,
     "metadata": {},
     "output_type": "execute_result"
    }
   ],
   "source": [
    "match_id"
   ]
  },
  {
   "cell_type": "code",
   "execution_count": 166,
   "metadata": {
    "collapsed": true
   },
   "outputs": [],
   "source": [
    "for indx,i in enumerate(match_id):\n",
    "    if i[-7:]=='synonym':\n",
    "        match_id[indx] = match_id[indx][:-8]\n",
    "match_table = chpo[chpo.iloc[:,2].isin(match_id)].iloc[:7,:].reset_index(drop=True)"
   ]
  },
  {
   "cell_type": "code",
   "execution_count": 167,
   "metadata": {
    "collapsed": false
   },
   "outputs": [
    {
     "data": {
      "text/html": [
       "<div>\n",
       "<table border=\"1\" class=\"dataframe\">\n",
       "  <thead>\n",
       "    <tr style=\"text-align: right;\">\n",
       "      <th></th>\n",
       "      <th>表型中文名</th>\n",
       "      <th>表型英文名</th>\n",
       "      <th>HPO编号</th>\n",
       "      <th>类别</th>\n",
       "      <th>释义</th>\n",
       "    </tr>\n",
       "  </thead>\n",
       "  <tbody>\n",
       "    <tr>\n",
       "      <th>0</th>\n",
       "      <td>心律失常</td>\n",
       "      <td>Arrhythmia</td>\n",
       "      <td>HP:0011675</td>\n",
       "      <td>心血管系统的异常</td>\n",
       "      <td>非正常窦性心律的其他心律。这样的心律可能是窦或异位的起源，有的规律有的不规律。心律失常由心脏...</td>\n",
       "    </tr>\n",
       "  </tbody>\n",
       "</table>\n",
       "</div>"
      ],
      "text/plain": [
       "  表型中文名       表型英文名       HPO编号        类别  \\\n",
       "0  心律失常  Arrhythmia  HP:0011675  心血管系统的异常   \n",
       "\n",
       "                                                  释义  \n",
       "0  非正常窦性心律的其他心律。这样的心律可能是窦或异位的起源，有的规律有的不规律。心律失常由心脏...  "
      ]
     },
     "execution_count": 167,
     "metadata": {},
     "output_type": "execute_result"
    }
   ],
   "source": [
    "match_table"
   ]
  },
  {
   "cell_type": "code",
   "execution_count": 168,
   "metadata": {
    "collapsed": false
   },
   "outputs": [
    {
     "data": {
      "text/plain": [
       "'ko'"
      ]
     },
     "execution_count": 168,
     "metadata": {},
     "output_type": "execute_result"
    }
   ],
   "source": [
    "detect(unicode('心率不齐'))"
   ]
  },
  {
   "cell_type": "code",
   "execution_count": 169,
   "metadata": {
    "collapsed": false
   },
   "outputs": [
    {
     "data": {
      "text/plain": [
       "<generator object cut_for_search at 0x1262e7500>"
      ]
     },
     "execution_count": 169,
     "metadata": {},
     "output_type": "execute_result"
    }
   ],
   "source": [
    "jieba.cut_for_search('心率不齐')"
   ]
  },
  {
   "cell_type": "code",
   "execution_count": 129,
   "metadata": {
    "collapsed": false
   },
   "outputs": [],
   "source": [
    "import google"
   ]
  },
  {
   "cell_type": "code",
   "execution_count": 136,
   "metadata": {
    "collapsed": false
   },
   "outputs": [],
   "source": [
    "from google import google"
   ]
  },
  {
   "cell_type": "code",
   "execution_count": 18,
   "metadata": {
    "collapsed": false
   },
   "outputs": [],
   "source": [
    "num_page = 1\n",
    "search_results = google.search(\"afraid of light\", 1)"
   ]
  },
  {
   "cell_type": "code",
   "execution_count": 14,
   "metadata": {
    "collapsed": false
   },
   "outputs": [
    {
     "data": {
      "text/plain": [
       "u'Photophobia - Wikipedia'"
      ]
     },
     "execution_count": 14,
     "metadata": {},
     "output_type": "execute_result"
    }
   ],
   "source": [
    "search_results[1].name"
   ]
  },
  {
   "cell_type": "code",
   "execution_count": 24,
   "metadata": {
    "collapsed": false
   },
   "outputs": [
    {
     "data": {
      "text/plain": [
       "[u'Photophobia', u'Heliophobia']"
      ]
     },
     "execution_count": 24,
     "metadata": {},
     "output_type": "execute_result"
    }
   ],
   "source": [
    "list(set([i.name[:-12] for i in search_results if i.name[-9:]=='Wikipedia']))"
   ]
  },
  {
   "cell_type": "code",
   "execution_count": 61,
   "metadata": {
    "collapsed": false
   },
   "outputs": [
    {
     "name": "stdout",
     "output_type": "stream",
     "text": [
      "胎儿\n",
      "宫内\n",
      "发育\n",
      "迟缓\n"
     ]
    }
   ],
   "source": [
    "import json\n",
    "import requests\n",
    "\n",
    "\n",
    "TAG_URL = 'http://api.bosonnlp.com/tag/analysis?oov_level=0'\n",
    "# 如果某个选项采用默认设置，可以在TAG_URL中省略，完整的TAG_URL如下：\n",
    "# 'http://api.bosonnlp.com/tag/analysis?space_mode=0&oov_level=3&t2s=0&special_char_conv=0'\n",
    "# 修改space_mode选项为1\n",
    "# TAG_URL = \\\n",
    "#   'http://api.bosonnlp.com/tag/analysis?space_mode=1'\n",
    "# 修改oov_level选项为1\n",
    "# TAG_URL = \\\n",
    "#    'http://api.bosonnlp.com/tag/analysis?oov_level=1'\n",
    "# 修改t2s选项为1\n",
    "# TAG_URL= \\\n",
    "#     'http://api.bosonnlp.com/tag/analysis?t2s=1'\n",
    "# 修改special_char_conv选项为1\n",
    "# TAG_URL= \\\n",
    "# 'http://api.bosonnlp.com/tag/analysis?special_char_conv=1'\n",
    "\n",
    "s = ['胎儿宫内发育迟缓']\n",
    "data = json.dumps(s)\n",
    "headers = {'X-Token': '2PDrt-DP.16040.4IrgHXFf8JDy'}\n",
    "resp = requests.post(TAG_URL, headers=headers, data=data.encode('utf-8'))\n",
    "\n",
    "\n",
    "for i in [i for i in resp.json()[0]['word']]:\n",
    "    print i"
   ]
  },
  {
   "cell_type": "code",
   "execution_count": 6,
   "metadata": {
    "collapsed": false
   },
   "outputs": [
    {
     "data": {
      "text/plain": [
       "[{u'tag': [u'n', u'vi', u'a'],\n",
       "  u'word': [u'\\u4e73\\u5934', u'\\u53d1\\u80b2', u'\\u4e0d\\u826f']}]"
      ]
     },
     "execution_count": 6,
     "metadata": {},
     "output_type": "execute_result"
    }
   ],
   "source": [
    "resp.json()"
   ]
  },
  {
   "cell_type": "code",
   "execution_count": 12,
   "metadata": {
    "collapsed": false
   },
   "outputs": [
    {
     "name": "stdout",
     "output_type": "stream",
     "text": [
      "乳头\n",
      "发育\n",
      "不良\n"
     ]
    }
   ],
   "source": [
    "for i in [i for i in resp.json()[0]['word']]:\n",
    "    print i"
   ]
  },
  {
   "cell_type": "code",
   "execution_count": 3,
   "metadata": {
    "collapsed": false
   },
   "outputs": [
    {
     "name": "stdout",
     "output_type": "stream",
     "text": [
      "Full Mode: 我/ 来到/ 北京/ 清华/ 清华大学/ 华大/ 大学\n",
      "Default Mode: 我/ 来到/ 北京/ 清华大学\n",
      "他, 来到, 了, 网易, 杭研, 大厦\n",
      "小明, 硕士, 毕业, 于, 中国, 科学, 学院, 科学院, 中国科学院, 计算, 计算所, ，, 后, 在, 日本, 京都, 大学, 日本京都大学, 深造\n"
     ]
    }
   ],
   "source": [
    "# encoding=utf-8\n",
    "import jieba\n",
    "\n",
    "seg_list = jieba.cut(\"我来到北京清华大学\", cut_all=True)\n",
    "print(\"Full Mode: \" + \"/ \".join(seg_list))  # 全模式\n",
    "\n",
    "seg_list = jieba.cut(\"我来到北京清华大学\", cut_all=False)\n",
    "print(\"Default Mode: \" + \"/ \".join(seg_list))  # 精确模式\n",
    "\n",
    "seg_list = jieba.cut(\"他来到了网易杭研大厦\")  # 默认是精确模式\n",
    "print(\", \".join(seg_list))\n",
    "\n",
    "seg_list = jieba.cut_for_search(\"小明硕士毕业于中国科学院计算所，后在日本京都大学深造\")  # 搜索引擎模式\n",
    "print(\", \".join(seg_list))"
   ]
  },
  {
   "cell_type": "code",
   "execution_count": 172,
   "metadata": {
    "collapsed": false
   },
   "outputs": [],
   "source": [
    "for i in list(jieba.cut(\"癫痫\")):\n",
    "    print i"
   ]
  },
  {
   "cell_type": "code",
   "execution_count": 81,
   "metadata": {
    "collapsed": false
   },
   "outputs": [
    {
     "data": {
      "text/plain": [
       "True"
      ]
     },
     "execution_count": 81,
     "metadata": {},
     "output_type": "execute_result"
    }
   ],
   "source": [
    "'hello' in 'hello'"
   ]
  },
  {
   "cell_type": "code",
   "execution_count": 80,
   "metadata": {
    "collapsed": true
   },
   "outputs": [],
   "source": [
    "input_pheno = '愣神'"
   ]
  },
  {
   "cell_type": "code",
   "execution_count": 72,
   "metadata": {
    "collapsed": false
   },
   "outputs": [],
   "source": [
    "manual_dir = {'愣神': '癫痫'}\n",
    "if input_pheno in manual_dir.keys():\n",
    "    input_pheno = manual_dir[input_pheno]"
   ]
  },
  {
   "cell_type": "code",
   "execution_count": 78,
   "metadata": {
    "collapsed": false
   },
   "outputs": [
    {
     "name": "stdout",
     "output_type": "stream",
     "text": [
      "None\n"
     ]
    }
   ],
   "source": [
    "print manual_dir.get('愣')"
   ]
  },
  {
   "cell_type": "code",
   "execution_count": 81,
   "metadata": {
    "collapsed": false
   },
   "outputs": [
    {
     "data": {
      "text/plain": [
       "True"
      ]
     },
     "execution_count": 81,
     "metadata": {},
     "output_type": "execute_result"
    }
   ],
   "source": [
    "input_pheno in manual_dir.keys()"
   ]
  },
  {
   "cell_type": "code",
   "execution_count": 171,
   "metadata": {
    "collapsed": false
   },
   "outputs": [],
   "source": [
    "for i in list(jieba.cut_for_search('心率不齐')):\n",
    "    print i"
   ]
  },
  {
   "cell_type": "code",
   "execution_count": 174,
   "metadata": {
    "collapsed": true
   },
   "outputs": [],
   "source": [
    "input_pheno = '心率不齐'"
   ]
  },
  {
   "cell_type": "code",
   "execution_count": 182,
   "metadata": {
    "collapsed": true
   },
   "outputs": [],
   "source": [
    "if not input_pheno:\n",
    "    match_result = ''\n",
    "else:\n",
    "    chpo = pd.read_excel(\"data/chpo.2016-10.xls\")\n",
    "    chpo.columns = ['类别','HPO编号','表型英文名','表型中文名','英文释义','释义']\n",
    "    chpo = chpo.iloc[:,[3,2,1,0,5]]\n",
    "    word_cant_be_detected = ['癫痫']\n",
    "    manual_dir = {u'愣神': u'癫痫'}\n",
    "    if input_pheno in manual_dir.keys():\n",
    "        input_pheno = manual_dir[input_pheno]\n",
    "    if input_pheno in word_cant_be_detected or detect(unicode(input_pheno)) in [\"zh-cn\",\"ko\"]:\n",
    "        direct_match = chpo[chpo['表型中文名']==input_pheno]\n",
    "        substring_match = [i for i,j in enumerate(list(chpo['表型中文名'])) if set(list(jieba.cut_for_search(input_pheno))).issubset(set(list(jieba.cut_for_search(j))))]\n",
    "        if len(direct_match) > 0:\n",
    "            match_result = direct_match.to_json(orient='records')\n",
    "        elif len(substring_match) > 0:\n",
    "            match_table = chpo.iloc[substring_match,:].reset_index(drop=True)\n",
    "            match_result = match_table.to_json(orient='records')\n",
    "        else:\n",
    "            site = \"https://translate.googleapis.com/translate_a/single?client=gtx&sl=zh-Hans&tl=en&dt=t&q=\"+input_phenotype\n",
    "            hdr = {'User-Agent': 'Mozilla/5.0 (X11; Linux x86_64) AppleWebKit/537.11 (KHTML, like Gecko) Chrome/23.0.1271.64 Safari/537.11',\n",
    "                    'Accept': 'text/html,application/xhtml+xml,application/xml;q=0.9,*/*;q=0.8',\n",
    "                    'Accept-Charset': 'ISO-8859-1,utf-8;q=0.7,*;q=0.3',\n",
    "                    'Accept-Encoding': 'none',\n",
    "                    'Accept-Language': 'en-US,en;q=0.8',\n",
    "                    'Connection': 'keep-alive'}\n",
    "            req = urllib2.Request(site, headers=hdr)\n",
    "            page = urllib2.urlopen(req)\n",
    "            content = page.read()\n",
    "            input_phenotype = json.loads(content)[0][0][0]\n",
    "            match_result = smart_match(input_phenotype, chpo)\n",
    "#     else:\n",
    "#         match_result = smart_match(input_pheno, chpo)"
   ]
  },
  {
   "cell_type": "code",
   "execution_count": 217,
   "metadata": {
    "collapsed": false
   },
   "outputs": [
    {
     "data": {
      "text/plain": [
       "'[{\"\\\\u8868\\\\u578b\\\\u4e2d\\\\u6587\\\\u540d\":\"\\\\u5fc3\\\\u5f8b\\\\u5931\\\\u5e38\",\"\\\\u8868\\\\u578b\\\\u82f1\\\\u6587\\\\u540d\":\"Arrhythmia\",\"HPO\\\\u7f16\\\\u53f7\":\"HP:0011675\",\"\\\\u7c7b\\\\u522b\":\"\\\\u5fc3\\\\u8840\\\\u7ba1\\\\u7cfb\\\\u7edf\\\\u7684\\\\u5f02\\\\u5e38\",\"\\\\u91ca\\\\u4e49\":\"\\\\u975e\\\\u6b63\\\\u5e38\\\\u7aa6\\\\u6027\\\\u5fc3\\\\u5f8b\\\\u7684\\\\u5176\\\\u4ed6\\\\u5fc3\\\\u5f8b\\\\u3002\\\\u8fd9\\\\u6837\\\\u7684\\\\u5fc3\\\\u5f8b\\\\u53ef\\\\u80fd\\\\u662f\\\\u7aa6\\\\u6216\\\\u5f02\\\\u4f4d\\\\u7684\\\\u8d77\\\\u6e90\\\\uff0c\\\\u6709\\\\u7684\\\\u89c4\\\\u5f8b\\\\u6709\\\\u7684\\\\u4e0d\\\\u89c4\\\\u5f8b\\\\u3002\\\\u5fc3\\\\u5f8b\\\\u5931\\\\u5e38\\\\u7531\\\\u5fc3\\\\u810f\\\\u640f\\\\u52a8\\\\u7684\\\\u8d77\\\\u6e90\\\\u6216\\\\u4f20\\\\u5bfc\\\\u7d0a\\\\u4e71\\\\u5f15\\\\u8d77\\\\u3002\"}]'"
      ]
     },
     "execution_count": 217,
     "metadata": {},
     "output_type": "execute_result"
    }
   ],
   "source": [
    "smart_match(input_phenotype, chpo)"
   ]
  },
  {
   "cell_type": "code",
   "execution_count": 223,
   "metadata": {
    "collapsed": false
   },
   "outputs": [],
   "source": [
    "input_en = input_phenotype"
   ]
  },
  {
   "cell_type": "code",
   "execution_count": 226,
   "metadata": {
    "collapsed": false
   },
   "outputs": [],
   "source": [
    "# def smart_match(input_en, chpo):\n",
    "search_results = google.search(input_en, 1)\n",
    "wiki = list(set([i.name[:-12] for i in search_results if i.name[-9:]=='Wikipedia']))\n",
    "for i in wiki:\n",
    "    try:\n",
    "        wiki_match = chpo[chpo['表型英文名']==i]\n",
    "        if len(wiki_match) > 0:\n",
    "            match_table = wiki_match\n",
    "#             return wiki_match.to_json(orient='records')\n",
    "    except:\n",
    "        pass\n",
    "\n",
    "match_result = map2hpoWithPhenoSynonyms(input_en)\n",
    "match_result = sorted(match_result, key = lambda x: x[2], reverse = True)\n",
    "if match_result == []:\n",
    "    match_result = []\n",
    "else:\n",
    "    if match_result[0][2] == 1.0:\n",
    "        match_result = match_result[:1]\n",
    "    match_id = [i[1] for i in match_result]\n",
    "    for indx,i in enumerate(match_id):\n",
    "        if i[-7:]=='synonym':\n",
    "            match_id[indx] = match_id[indx][:-8]\n",
    "    match_table = chpo[chpo.iloc[:,2].isin(match_id)].iloc[:7,:].reset_index(drop=True)\n",
    "    match_result = match_table.to_json(orient='records')\n",
    "#     return match_result"
   ]
  },
  {
   "cell_type": "code",
   "execution_count": 228,
   "metadata": {
    "collapsed": false
   },
   "outputs": [
    {
     "data": {
      "text/html": [
       "<div>\n",
       "<table border=\"1\" class=\"dataframe\">\n",
       "  <thead>\n",
       "    <tr style=\"text-align: right;\">\n",
       "      <th></th>\n",
       "      <th>表型中文名</th>\n",
       "      <th>表型英文名</th>\n",
       "      <th>HPO编号</th>\n",
       "      <th>类别</th>\n",
       "      <th>释义</th>\n",
       "    </tr>\n",
       "  </thead>\n",
       "  <tbody>\n",
       "  </tbody>\n",
       "</table>\n",
       "</div>"
      ],
      "text/plain": [
       "Empty DataFrame\n",
       "Columns: [表型中文名, 表型英文名, HPO编号, 类别, 释义]\n",
       "Index: []"
      ]
     },
     "execution_count": 228,
     "metadata": {},
     "output_type": "execute_result"
    }
   ],
   "source": [
    "wiki_match"
   ]
  },
  {
   "cell_type": "code",
   "execution_count": 229,
   "metadata": {
    "collapsed": false
   },
   "outputs": [
    {
     "data": {
      "text/plain": [
       "u\"Alzheimer's disease\""
      ]
     },
     "execution_count": 229,
     "metadata": {},
     "output_type": "execute_result"
    }
   ],
   "source": [
    "input_phenotype"
   ]
  },
  {
   "cell_type": "code",
   "execution_count": 230,
   "metadata": {
    "collapsed": false
   },
   "outputs": [
    {
     "data": {
      "text/plain": [
       "[u\"Alzheimer's disease\"]"
      ]
     },
     "execution_count": 230,
     "metadata": {},
     "output_type": "execute_result"
    }
   ],
   "source": [
    "wiki"
   ]
  },
  {
   "cell_type": "code",
   "execution_count": 7,
   "metadata": {
    "collapsed": true
   },
   "outputs": [],
   "source": [
    "# import map_phenotype_to_gene\n",
    "# import collectVariantInfo\n",
    "# import pubmed\n",
    "# import ACMG\n",
    "# import filterVariantOnPhenotype\n",
    "import csv\n",
    "\n",
    "import pandas as pd\n",
    "import numpy as np\n",
    "import re\n",
    "import myvariant\n",
    "# from deepb.models import Main_table, Raw_input_table\n",
    "from io import StringIO\n",
    "from collections import Counter\n",
    "from collections import defaultdict\n",
    "from langdetect import detect\n",
    "import urllib2\n",
    "import json\n",
    "import sys\n",
    "\n",
    "\n",
    "# reload(sys)\n",
    "# sys.setdefaultencoding('utf-8')"
   ]
  },
  {
   "cell_type": "code",
   "execution_count": 48,
   "metadata": {
    "collapsed": false
   },
   "outputs": [],
   "source": [
    "def read_input_gene_file(input_gene):\n",
    "    candidate_vars = []\n",
    "    input_gene = input_gene.split('\\n')\n",
    "\n",
    "    for line in input_gene:\n",
    "        if line and line[:2] != \"##\":\n",
    "            header = line\n",
    "            sniffer = csv.Sniffer()\n",
    "            dialect = sniffer.sniff(header)\n",
    "            delimiter =  dialect.delimiter\n",
    "            field_names = header.split(delimiter)\n",
    "            break\n",
    "\n",
    "    chrom_idx, pos_idx, ref_idx, alt_idx, gene_idx, zygosity_idx = None, None, None, None, None, None\n",
    "    mother_idx, father_idx = None, None\n",
    "\n",
    "    for idx in xrange(len(field_names)):\n",
    "        field = field_names[idx]\n",
    "        if re.match(r'chrom|#chrom', field, re.I): chrom_idx = idx\n",
    "        if re.match(r'pos|start', field, re.I): pos_idx = idx\n",
    "        if re.match(r'ref', field, re.I): ref_idx = idx\n",
    "        if re.match(r'alt|allele 1', field, re.I): alt_idx = idx\n",
    "        if re.match(r'gene \\(gene\\)|gene$', field, re.I): gene_idx = idx\n",
    "        if re.match(r'zygo', field, re.I): zygosity_idx = idx\n",
    "        if re.match(r'mot', field, re.I): mother_idx = idx\n",
    "        if re.match(r'fat', field, re.I): father_idx = idx\n",
    "\n",
    "    input_gene_list = []\n",
    "    CANDIDATE_GENES = []\n",
    "    candidate_vars_zygosity = []\n",
    "    for line in input_gene[1:]:\n",
    "        if not line:\n",
    "            continue\n",
    "        if line.startswith(\"#\"):\n",
    "            continue\n",
    "        line = line.rstrip()\n",
    "        # print line\n",
    "        parts = re.split(r'%s' % delimiter, line)\n",
    "        input_gene_list.append(parts)\n",
    "        gene, transcript, variant, variant_id, zygosity = '', '', '', '', ''\n",
    "        if gene_idx is not None:\n",
    "            gene = parts[gene_idx]\n",
    "            CANDIDATE_GENES.append(gene)\n",
    "        for part in parts:\n",
    "            # print part\n",
    "            if re.search(r'_.*:c\\.', part):\n",
    "                transcript, variant = part.split(':')\n",
    "            else:\n",
    "                if re.search(r'c\\.', part):\n",
    "                    variant = part\n",
    "                if re.search(r'NM_', part, re.I):\n",
    "                    transcript = part.split(':')[0]\n",
    "            if re.search(r'_.*:g\\.', part):\n",
    "                variant_id = 'chr' + part.split(':')[0].split('.')[-1] + part.split(':')[-1]\n",
    "            if re.search(r'chr.*:g\\.', part, re.I):\n",
    "                variant_id = part\n",
    "            if re.match(r'het|hom|hem|de |comp', part, re.I):\t\n",
    "                zygosity = part\n",
    "\n",
    "        if not variant_id and (chrom_idx is not None and pos_idx is not None and ref_idx is not None and alt_idx is not None):\n",
    "            chrome, pos, ref, alt = parts[chrom_idx], parts[pos_idx], parts[ref_idx], parts[alt_idx]\n",
    "            alts = alt.split(',')\n",
    "            for alt in alts:\n",
    "                try:\n",
    "                    variant_id = format_hgvs(chrome, pos, ref, alt)\n",
    "                except ValueError:\n",
    "                    pass\n",
    "                # print gene, variant, transcript, variant_id\n",
    "                if not gene and not variant and not transcript and not variant_id:\n",
    "                    continue\n",
    "                if mother_idx is not None and father_idx is not None:\n",
    "                    mother, father = parts[mother_idx], parts[father_idx]                   \n",
    "                    candidate_vars_zygosity.append((gene, variant, transcript, variant_id, ref, alt, mother, father))\n",
    "                candidate_vars.append((gene, variant, transcript, variant_id, zygosity))\n",
    "        else:\n",
    "            candidate_vars.append((gene, variant, transcript, variant_id, zygosity))\n",
    "    print candidate_vars\n",
    "    \n",
    "    def getZygosityFromVCF():\n",
    "        gene_zygosity = dict()\n",
    "        for item in candidate_vars_zygosity:\n",
    "            gene, variant, transcript, variant_id, ref, alt, mother, father = item\n",
    "            if gene in gene_zygosity:\n",
    "                gene_zygosity[gene].append((ref, alt, mother, father)) \n",
    "            else:\n",
    "                gene_zygosity[gene] = [(ref, alt, mother, father)]\n",
    "\n",
    "        comp_het_genes = [] \n",
    "        for gene in gene_zygosity.keys():\n",
    "            if len(gene_zygosity[gene]) > 1:\n",
    "                var_from_mother, var_from_father = False, False\n",
    "                for item in gene_zygosity[gene]:\n",
    "                    if mother == alt and father == ref:\n",
    "                        var_from_mother = True\n",
    "                    if mother == ref and father == alt:\n",
    "                        var_from_father = True\n",
    "                if var_from_mother and var_from_father:\n",
    "                    comp_het_genes.append(gene)\n",
    "        return comp_het_genes\n",
    "    \n",
    "#     print candidate_vars_zygosity\n",
    "    if candidate_vars_zygosity:\n",
    "        candidate_vars = []\n",
    "        comp_het_genes = getZygosityFromVCF()\n",
    "        for item in candidate_vars_zygosity:\n",
    "            gene, variant, transcript, variant_id, ref, alt, mother, father = item\n",
    "            if gene in comp_het_genes:\n",
    "                zygosity = 'comp het'\n",
    "            elif not mother or not father:\n",
    "                zygosity = 'hem'\n",
    "            else:\n",
    "                if mother == alt and father == alt:\n",
    "                    zygosity = 'hom'\n",
    "                elif mother == ref and father == ref:\n",
    "                    zygosity = 'de novo'\n",
    "                else:\n",
    "                    zygosity = 'het'\n",
    "            candidate_vars.append((gene, variant, transcript, variant_id, zygosity))\n",
    "    \n",
    "    print candidate_vars\n",
    "    \n",
    "    tmp_candidate_vars = []\n",
    "    gene_zygosity = dict()\n",
    "    for var in candidate_vars:\n",
    "        gene, variant, transcript, variant_id, zygosity = var\n",
    "        tmp_candidate_vars.append((gene, variant, transcript, variant_id))\n",
    "        if variant_id:\n",
    "            gene_zygosity[variant_id] = zygosity\n",
    "        if gene and variant:\n",
    "            gene_zygosity[(gene, variant)] = zygosity\n",
    "    candidate_vars = tmp_candidate_vars\n",
    "\n",
    "    # remove lines in the input file which has wrong number of fields\n",
    "    field_nums = []\n",
    "    for line in input_gene_list:\n",
    "        field_nums.append(len(line))\n",
    "    count = Counter(field_nums)\n",
    "    correct_field_num = count.most_common()[0][0]\n",
    "    correct_input_gene_list = []\n",
    "    for line in input_gene_list:\n",
    "        if len(line) == correct_field_num:\n",
    "            correct_input_gene_list.append(line)\n",
    "    df_genes = pd.DataFrame(correct_input_gene_list, columns = field_names)\n",
    "    return candidate_vars, CANDIDATE_GENES, df_genes, field_names, gene_zygosity "
   ]
  },
  {
   "cell_type": "code",
   "execution_count": 49,
   "metadata": {
    "collapsed": false
   },
   "outputs": [],
   "source": [
    "input_gene = open(\"/Users/Tianqi/Keep_Learning/bio-nlp/test_data/xiaonan_gene_2.txt\", \"r\").read()"
   ]
  },
  {
   "cell_type": "code",
   "execution_count": 50,
   "metadata": {
    "collapsed": false
   },
   "outputs": [
    {
     "name": "stdout",
     "output_type": "stream",
     "text": [
      "[('AARS', 'c.1786-5T>C', 'NM_001605.2', '', ''), ('AP4E1', 'c.2553A>T', 'NM_007347.4', '', ''), ('ARFGEF2', 'c.3120C>T', 'NM_006420.2', '', ''), ('ARL2BP', 'c.207C>T', 'NM_012106.3', '', ''), ('ASPM', 'c.7812A>T', 'NM_018136.4', '', ''), ('CD96', 'c.1295A>T', 'NM_198196.2', '', ''), ('CHAMP1', 'c.449_451delCTC', 'NM_001164144.1', '', ''), ('CREBBP', 'c.5354G>A', 'NM_004380.2', '', ''), ('DYNC1H1', 'c.634A>G', 'NM_001376.4', '', ''), ('DYNC2H1', 'c.2479A>G', 'NM_001080463.1', '', ''), ('ERCC6L2', 'c.4123A>C', 'NM_020207.4', '', ''), ('FRAS1', 'c.3065A>C', 'NM_025074.6', '', ''), ('GBA2', 'c.379C>T', 'NM_020944.2', '', ''), ('KAT6B', 'c.4097_4105dupAAGAGGAAG', 'NM_012330.3', '', ''), ('KLLN', 'c.17C>T', 'NM_001126049.1', '', ''), ('LARP7', 'c.-2-4A>G', 'NM_016648.3', '', ''), ('LIFR', 'c.46G>A', 'NM_002310.5', '', ''), ('MC1R', 'c.892T>C', 'NM_002386.3', '', ''), ('MCM4', 'c.2102G>A', 'NM_005914.3', '', ''), ('NBAS', 'c.5110C>T', 'NM_015909.3', '', ''), ('NBAS', 'c.2290C>T', 'NM_015909.3', '', ''), ('NFKB1', 'c.1601G>A', 'NM_003998.3', '', ''), ('PAH', 'c.1208C>T', 'NM_000277.1', '', ''), ('PDE6C', 'c.2087C>T', 'NM_006204.3', '', ''), ('PIGN', 'c.1372G>A', 'NM_176787.4', '', ''), ('POC1B', 'c.179A>G', 'NM_172240.2', '', ''), ('PRF1', 'c.1528T>C', 'NM_001083116.1', '', ''), ('PROP1', 'c.652A>C', 'NM_006261.4', '', ''), ('RELN', 'c.8795C>A', 'NM_005045.3', '', ''), ('RYR1', 'c.8959G>C', 'NM_000540.2', '', ''), ('SH3PXD2B', 'c.921G>C', 'NM_001017995.2', '', ''), ('SLC39A4', 'c.1126G>A', 'NM_130849.3', '', ''), ('SLC4A4', 'c.2542T>C', 'NM_003759.3', '', ''), ('SMPD1', 'c.108_109insGCG', 'NM_000543.4', '', ''), ('SRCAP', 'c.7853A>G', 'NM_006662.2', '', ''), ('TCOF1', 'c.925G>C', 'NM_001135243.1', '', ''), ('TG', 'c.2222C>T', 'NM_003235.4', '', ''), ('TMPRSS15', 'c.687T>G', 'NM_002772.2', '', ''), ('UBR1', 'c.3959T>C', 'NM_174916.2', '', ''), ('ZNF513', 'c.901G>A', 'NM_144631.5', '', '')]\n",
      "[('AARS', 'c.1786-5T>C', 'NM_001605.2', '', ''), ('AP4E1', 'c.2553A>T', 'NM_007347.4', '', ''), ('ARFGEF2', 'c.3120C>T', 'NM_006420.2', '', ''), ('ARL2BP', 'c.207C>T', 'NM_012106.3', '', ''), ('ASPM', 'c.7812A>T', 'NM_018136.4', '', ''), ('CD96', 'c.1295A>T', 'NM_198196.2', '', ''), ('CHAMP1', 'c.449_451delCTC', 'NM_001164144.1', '', ''), ('CREBBP', 'c.5354G>A', 'NM_004380.2', '', ''), ('DYNC1H1', 'c.634A>G', 'NM_001376.4', '', ''), ('DYNC2H1', 'c.2479A>G', 'NM_001080463.1', '', ''), ('ERCC6L2', 'c.4123A>C', 'NM_020207.4', '', ''), ('FRAS1', 'c.3065A>C', 'NM_025074.6', '', ''), ('GBA2', 'c.379C>T', 'NM_020944.2', '', ''), ('KAT6B', 'c.4097_4105dupAAGAGGAAG', 'NM_012330.3', '', ''), ('KLLN', 'c.17C>T', 'NM_001126049.1', '', ''), ('LARP7', 'c.-2-4A>G', 'NM_016648.3', '', ''), ('LIFR', 'c.46G>A', 'NM_002310.5', '', ''), ('MC1R', 'c.892T>C', 'NM_002386.3', '', ''), ('MCM4', 'c.2102G>A', 'NM_005914.3', '', ''), ('NBAS', 'c.5110C>T', 'NM_015909.3', '', ''), ('NBAS', 'c.2290C>T', 'NM_015909.3', '', ''), ('NFKB1', 'c.1601G>A', 'NM_003998.3', '', ''), ('PAH', 'c.1208C>T', 'NM_000277.1', '', ''), ('PDE6C', 'c.2087C>T', 'NM_006204.3', '', ''), ('PIGN', 'c.1372G>A', 'NM_176787.4', '', ''), ('POC1B', 'c.179A>G', 'NM_172240.2', '', ''), ('PRF1', 'c.1528T>C', 'NM_001083116.1', '', ''), ('PROP1', 'c.652A>C', 'NM_006261.4', '', ''), ('RELN', 'c.8795C>A', 'NM_005045.3', '', ''), ('RYR1', 'c.8959G>C', 'NM_000540.2', '', ''), ('SH3PXD2B', 'c.921G>C', 'NM_001017995.2', '', ''), ('SLC39A4', 'c.1126G>A', 'NM_130849.3', '', ''), ('SLC4A4', 'c.2542T>C', 'NM_003759.3', '', ''), ('SMPD1', 'c.108_109insGCG', 'NM_000543.4', '', ''), ('SRCAP', 'c.7853A>G', 'NM_006662.2', '', ''), ('TCOF1', 'c.925G>C', 'NM_001135243.1', '', ''), ('TG', 'c.2222C>T', 'NM_003235.4', '', ''), ('TMPRSS15', 'c.687T>G', 'NM_002772.2', '', ''), ('UBR1', 'c.3959T>C', 'NM_174916.2', '', ''), ('ZNF513', 'c.901G>A', 'NM_144631.5', '', '')]\n"
     ]
    }
   ],
   "source": [
    "candidate_vars, CANDIDATE_GENES, df_genes, field_names, gene_zygosity = read_input_gene_file(input_gene)"
   ]
  },
  {
   "cell_type": "code",
   "execution_count": 84,
   "metadata": {
    "collapsed": false
   },
   "outputs": [
    {
     "ename": "NameError",
     "evalue": "name 'candidate_vars' is not defined",
     "output_type": "error",
     "traceback": [
      "\u001b[0;31m---------------------------------------------------------------------------\u001b[0m",
      "\u001b[0;31mNameError\u001b[0m                                 Traceback (most recent call last)",
      "\u001b[0;32m<ipython-input-84-e93e443342dc>\u001b[0m in \u001b[0;36m<module>\u001b[0;34m()\u001b[0m\n\u001b[0;32m----> 1\u001b[0;31m \u001b[0mcandidate_vars\u001b[0m\u001b[0;34m\u001b[0m\u001b[0m\n\u001b[0m",
      "\u001b[0;31mNameError\u001b[0m: name 'candidate_vars' is not defined"
     ]
    }
   ],
   "source": [
    "candidate_vars"
   ]
  },
  {
   "cell_type": "code",
   "execution_count": 53,
   "metadata": {
    "collapsed": false
   },
   "outputs": [],
   "source": [
    "a = defaultdict(dict)"
   ]
  },
  {
   "cell_type": "code",
   "execution_count": 58,
   "metadata": {
    "collapsed": false
   },
   "outputs": [
    {
     "data": {
      "text/plain": [
       "[0, 12]"
      ]
     },
     "execution_count": 58,
     "metadata": {},
     "output_type": "execute_result"
    }
   ],
   "source": [
    "a.keys()"
   ]
  },
  {
   "cell_type": "code",
   "execution_count": 59,
   "metadata": {
    "collapsed": false
   },
   "outputs": [
    {
     "data": {
      "text/plain": [
       "{}"
      ]
     },
     "execution_count": 59,
     "metadata": {},
     "output_type": "execute_result"
    }
   ],
   "source": [
    "a[12]"
   ]
  },
  {
   "cell_type": "code",
   "execution_count": 103,
   "metadata": {
    "collapsed": true
   },
   "outputs": [],
   "source": [
    "from google import google"
   ]
  },
  {
   "cell_type": "code",
   "execution_count": 25,
   "metadata": {
    "collapsed": true
   },
   "outputs": [],
   "source": [
    "input_gene = 'AHDC1'"
   ]
  },
  {
   "cell_type": "code",
   "execution_count": null,
   "metadata": {
    "collapsed": true
   },
   "outputs": [],
   "source": []
  },
  {
   "cell_type": "code",
   "execution_count": 26,
   "metadata": {
    "collapsed": false
   },
   "outputs": [],
   "source": [
    "result = google.search('CUSP',1)"
   ]
  },
  {
   "cell_type": "code",
   "execution_count": 27,
   "metadata": {
    "collapsed": false,
    "scrolled": true
   },
   "outputs": [
    {
     "data": {
      "text/plain": [
       "u'Fashion-Forward Trends: CUSP at Neiman Marcus'"
      ]
     },
     "execution_count": 27,
     "metadata": {},
     "output_type": "execute_result"
    }
   ],
   "source": [
    "result[0].name"
   ]
  },
  {
   "cell_type": "code",
   "execution_count": 28,
   "metadata": {
    "collapsed": false
   },
   "outputs": [
    {
     "data": {
      "text/plain": [
       "u'Shop the styles that keep you on top of the latest fashion trends in the CUSP \\ncollection at Neiman Marcus. Stay ahead with free shipping on the looks we love.'"
      ]
     },
     "execution_count": 28,
     "metadata": {},
     "output_type": "execute_result"
    }
   ],
   "source": [
    "result[0].description"
   ]
  },
  {
   "cell_type": "code",
   "execution_count": 29,
   "metadata": {
    "collapsed": false,
    "scrolled": true
   },
   "outputs": [
    {
     "data": {
      "text/plain": [
       "u'http://www.neimanmarcus.com/CUSP/cat58930763/c.cat'"
      ]
     },
     "execution_count": 29,
     "metadata": {},
     "output_type": "execute_result"
    }
   ],
   "source": [
    "result[0].link"
   ]
  },
  {
   "cell_type": "code",
   "execution_count": 30,
   "metadata": {
    "collapsed": true
   },
   "outputs": [],
   "source": [
    "import pandas as pd"
   ]
  },
  {
   "cell_type": "code",
   "execution_count": 45,
   "metadata": {
    "collapsed": true
   },
   "outputs": [],
   "source": [
    "gene_input  = pd.read_csv('/Users/Tianqi/Keep_Learning/bio-nlp/test_data/tmem_gene.txt')\n",
    "gene_input = list(gene_input.Gene.unique())"
   ]
  },
  {
   "cell_type": "code",
   "execution_count": 33,
   "metadata": {
    "collapsed": false
   },
   "outputs": [
    {
     "data": {
      "text/plain": [
       "726"
      ]
     },
     "execution_count": 33,
     "metadata": {},
     "output_type": "execute_result"
    }
   ],
   "source": [
    "len(gene_input)"
   ]
  },
  {
   "cell_type": "code",
   "execution_count": 11,
   "metadata": {
    "collapsed": true
   },
   "outputs": [],
   "source": [
    "import time\n",
    "import random "
   ]
  },
  {
   "cell_type": "code",
   "execution_count": 12,
   "metadata": {
    "collapsed": false
   },
   "outputs": [
    {
     "data": {
      "text/plain": [
       "2"
      ]
     },
     "execution_count": 12,
     "metadata": {},
     "output_type": "execute_result"
    }
   ],
   "source": [
    "random.randint(1,3)"
   ]
  },
  {
   "cell_type": "code",
   "execution_count": 13,
   "metadata": {
    "collapsed": false,
    "scrolled": false
   },
   "outputs": [
    {
     "name": "stdout",
     "output_type": "stream",
     "text": [
      "Error accessing: http://www.google.com/search?q=BCL11B+loss+of+function&start=0&num=10&nl=en\n",
      "Error accessing: http://www.google.com/search?q=BCL6B+loss+of+function&start=0&num=10&nl=en\n",
      "Error accessing: http://www.google.com/search?q=BCLAF1+loss+of+function&start=0&num=10&nl=en\n",
      "Error accessing: http://www.google.com/search?q=BEST1+loss+of+function&start=0&num=10&nl=en\n",
      "Error accessing: http://www.google.com/search?q=BHLHE22+loss+of+function&start=0&num=10&nl=en\n",
      "Error accessing: http://www.google.com/search?q=BLZF1+loss+of+function&start=0&num=10&nl=en\n"
     ]
    },
    {
     "ename": "KeyboardInterrupt",
     "evalue": "",
     "output_type": "error",
     "traceback": [
      "\u001b[0;31m---------------------------------------------------------------------------\u001b[0m",
      "\u001b[0;31mKeyboardInterrupt\u001b[0m                         Traceback (most recent call last)",
      "\u001b[0;32m<ipython-input-13-65119b3ae1a4>\u001b[0m in \u001b[0;36m<module>\u001b[0;34m()\u001b[0m\n\u001b[1;32m      2\u001b[0m \u001b[0ma\u001b[0m \u001b[0;34m=\u001b[0m \u001b[0mtime\u001b[0m\u001b[0;34m.\u001b[0m\u001b[0mtime\u001b[0m\u001b[0;34m(\u001b[0m\u001b[0;34m)\u001b[0m\u001b[0;34m\u001b[0m\u001b[0m\n\u001b[1;32m      3\u001b[0m \u001b[0;32mfor\u001b[0m \u001b[0mk\u001b[0m \u001b[0;32min\u001b[0m \u001b[0mgene_input\u001b[0m\u001b[0;34m:\u001b[0m\u001b[0;34m\u001b[0m\u001b[0m\n\u001b[0;32m----> 4\u001b[0;31m     \u001b[0mtime\u001b[0m\u001b[0;34m.\u001b[0m\u001b[0msleep\u001b[0m\u001b[0;34m(\u001b[0m\u001b[0mrandom\u001b[0m\u001b[0;34m.\u001b[0m\u001b[0mrandint\u001b[0m\u001b[0;34m(\u001b[0m\u001b[0;36m5\u001b[0m\u001b[0;34m,\u001b[0m\u001b[0;36m50\u001b[0m\u001b[0;34m)\u001b[0m\u001b[0;34m)\u001b[0m\u001b[0;34m\u001b[0m\u001b[0m\n\u001b[0m\u001b[1;32m      5\u001b[0m     \u001b[0msearch_results\u001b[0m \u001b[0;34m=\u001b[0m \u001b[0mgoogle\u001b[0m\u001b[0;34m.\u001b[0m\u001b[0msearch\u001b[0m\u001b[0;34m(\u001b[0m\u001b[0mk\u001b[0m\u001b[0;34m+\u001b[0m\u001b[0;34m' loss of function'\u001b[0m\u001b[0;34m,\u001b[0m \u001b[0;36m1\u001b[0m\u001b[0;34m)\u001b[0m\u001b[0;34m\u001b[0m\u001b[0m\n\u001b[1;32m      6\u001b[0m     \u001b[0mlof\u001b[0m \u001b[0;34m=\u001b[0m \u001b[0;36m0\u001b[0m\u001b[0;34m\u001b[0m\u001b[0m\n",
      "\u001b[0;31mKeyboardInterrupt\u001b[0m: "
     ]
    }
   ],
   "source": [
    "res=[]\n",
    "a = time.time()\n",
    "for k in gene_input:\n",
    "    time.sleep(random.randint(()) \n",
    "    search_results = google.search(k+' loss of function', 1)\n",
    "    lof = 0\n",
    "    for i in search_results:\n",
    "        for j in i.description.split(\"...\"):\n",
    "            j = j.replace(\"\\n\", \"\")\n",
    "            if ('loss-of-function ' in j or ' loss of function ' in j or ' Loss of function 'in j) and (k in j) and (('no' and 'not' and 'whether') not in j):\n",
    "                lof = 1\n",
    "                break\n",
    "        else:\n",
    "            continue\n",
    "    res.append(lof)"
   ]
  },
  {
   "cell_type": "code",
   "execution_count": 25,
   "metadata": {
    "collapsed": false
   },
   "outputs": [
    {
     "name": "stdout",
     "output_type": "stream",
     "text": [
      "87.754529953\n"
     ]
    }
   ],
   "source": [
    "print time.time()-a"
   ]
  },
  {
   "cell_type": "code",
   "execution_count": 14,
   "metadata": {
    "collapsed": false
   },
   "outputs": [
    {
     "data": {
      "text/plain": [
       "87"
      ]
     },
     "execution_count": 14,
     "metadata": {},
     "output_type": "execute_result"
    }
   ],
   "source": [
    "len(res)"
   ]
  },
  {
   "cell_type": "code",
   "execution_count": 198,
   "metadata": {
    "collapsed": false,
    "scrolled": false
   },
   "outputs": [
    {
     "name": "stdout",
     "output_type": "stream",
     "text": [
      "1\n",
      "2\n",
      "3\n",
      "4\n",
      "21\n",
      "23\n",
      "26\n",
      "30\n",
      "45\n",
      "49\n",
      "51\n",
      "58\n",
      "66\n",
      "69\n",
      "73\n",
      "74\n",
      "77\n",
      "78\n",
      "81\n",
      "84\n",
      "87\n",
      "89\n",
      "109\n",
      "115\n"
     ]
    }
   ],
   "source": [
    "for j,i in enumerate(res):\n",
    "    if i == 1:\n",
    "        print j"
   ]
  },
  {
   "cell_type": "code",
   "execution_count": 167,
   "metadata": {
    "collapsed": false
   },
   "outputs": [
    {
     "data": {
      "text/plain": [
       "[GoogleResult(name=None\n",
       "              description=None,\n",
       " GoogleResult(name=Genes and Mutations - Types of Mutations - NDSU\n",
       "              description=If a mutation occurs in that allele, the function..,\n",
       " GoogleResult(name=Medical Definition of Loss-of-function mutation - Medic..\n",
       "              description=Loss-of-function mutation: A mutation that result..,\n",
       " GoogleResult(name=Glossary:Loss-of-function Mutation - Mouse Genome Infor..\n",
       "              description=Loss-of-function Mutation. MGI Glossary. Definiti..,\n",
       " GoogleResult(name=Mutation - Wikipedia\n",
       "              description=In biology, a mutation is the permanent alteratio..,\n",
       " GoogleResult(name=Mutant types - An Introduction to Genetic Analysis - NC..\n",
       "              description=Microbial cultures are convenient material for th..,\n",
       " GoogleResult(name=Loss of function of C9orf72 causes motor deficits in a ..\n",
       "              description=Ann Neurol. 2013 Aug;74(2):180-7. doi: 10.1002/an..,\n",
       " GoogleResult(name=Loss of function variants | MacArthur Lab\n",
       "              description=loss-of-function variants We're interested in the..,\n",
       " GoogleResult(name=Gain-of-function mutations: at a loss to explain molecu..\n",
       "              description=A loss-of-function mutation is 'a mutation that r..,\n",
       " GoogleResult(name=De novo gain-of-function and loss-of-function mutations..\n",
       "              description=This analysis demonstrated one mutation with gain..,\n",
       " GoogleResult(name=Loss-of-Function Genetic Screening - Cellecta, Inc\n",
       "              description=Our loss-of-function genetic screening technology..]"
      ]
     },
     "execution_count": 167,
     "metadata": {},
     "output_type": "execute_result"
    }
   ],
   "source": [
    "google.search(' loss of function', 1)"
   ]
  },
  {
   "cell_type": "code",
   "execution_count": 18,
   "metadata": {
    "collapsed": false
   },
   "outputs": [],
   "source": [
    "search_results = google.search(input_gene+' loss of function', 1)\n",
    "# wiki = list(set([i.name[:-12] for i in search_results if i.name[-9:]=='Wikipedia']))"
   ]
  },
  {
   "cell_type": "code",
   "execution_count": 19,
   "metadata": {
    "collapsed": false
   },
   "outputs": [],
   "source": [
    "for i in search_results:\n",
    "    for j in i.description.split(\"...\"):\n",
    "        j = j.replace(\"\\n\", \"\")\n",
    "        if ('loss-of-function ' in j or ' loss of function 'in j or ' Loss of function 'in j) and (input_gene in j) and (('no' and 'not' and 'whether') not in j):\n",
    "            print i\n",
    "            print j\n",
    "            print '1'\n",
    "            break\n",
    "    else:\n",
    "        continue\n",
    "    break"
   ]
  },
  {
   "cell_type": "code",
   "execution_count": 20,
   "metadata": {
    "collapsed": false
   },
   "outputs": [
    {
     "data": {
      "text/plain": [
       "[u'AHDC1. Approved Name: AT-hook DNA binding motif containing 1. \\nChromosomal ',\n",
       " u' Tier 1 Gene with three or more de novo pathogenic loss-of-\\nfunction variants.']"
      ]
     },
     "execution_count": 20,
     "metadata": {},
     "output_type": "execute_result"
    }
   ],
   "source": [
    "i.description.split(\"...\")"
   ]
  },
  {
   "cell_type": "code",
   "execution_count": 21,
   "metadata": {
    "collapsed": false
   },
   "outputs": [
    {
     "data": {
      "text/plain": [
       "u'AHDC1 - (ADMI) | Geisinger Health System'"
      ]
     },
     "execution_count": 21,
     "metadata": {},
     "output_type": "execute_result"
    }
   ],
   "source": [
    "i.name"
   ]
  },
  {
   "cell_type": "code",
   "execution_count": 13,
   "metadata": {
    "collapsed": false
   },
   "outputs": [
    {
     "data": {
      "text/plain": [
       "[GoogleResult(name=De novo truncating variants in the AHDC1 gene encoding ..\n",
       "              description=The AHDC1 gene has only one coding exon, and the ..,\n",
       " GoogleResult(name=AHDC1 Gene - GeneCards | AHDC1 Protein | AHDC1 Antibody\n",
       "              description=Complete information for AHDC1 gene (Protein Codi..,\n",
       " GoogleResult(name=New syndrome caused by mutations in AHDC1 -- ScienceDai..\n",
       "              description=May 1, 2014 ... \"Little is known about this gene ..,\n",
       " GoogleResult(name=AHDC1 - gene and developmental disorder implications ....\n",
       "              description=AHDC1 in the Development Disorder Genotype - Phen..,\n",
       " GoogleResult(name=AHDC1 - OMIM\n",
       "              description=Xia et al. (2014) reported that the deduced 1,603..,\n",
       " GoogleResult(name=Genic overlap for neurodevelopmental disorders. : Genet..\n",
       "              description=Oct 27, 2015 ... To assess the significance for o..,\n",
       " GoogleResult(name=Molecular characteristics - AHDC1 - Gensites Sites\n",
       "              description=All affected females to date have had a missense ..,\n",
       " GoogleResult(name=Bicuspid aortic valve, aortic coarctation and patent du..\n",
       "              description=... and Ahdc1. Matr3 is strongly expressed in the..,\n",
       " GoogleResult(name=AHDC1 - (ADMI) | Geisinger Health System\n",
       "              description=AHDC1. Approved Name: AT-hook DNA binding motif c..,\n",
       " GoogleResult(name=Ahdc1 (AT hook, DNA binding motif, containing 1) - Rat ..\n",
       "              description=May 9, 2017 ... ENCODES a protein that exhibits D..,\n",
       " GoogleResult(name=AHDC1 - AT-hook DNA-binding motif-containing protein 1 ..\n",
       "              description=AHDC1. Organism. Homo sapiens (Human). Status. Re..,\n",
       " GoogleResult(name=is sufficient to account for * English Examples * Ludwi..\n",
       "              description=Recent work (38) indicates that AHDC1 loss-of-fun..,\n",
       " GoogleResult(name=AHDC1 Gene - GeneCards | AHDC1 Protein | AHDC1 Antibody\n",
       "              description=Complete information for AHDC1 gene (protein-codi..,\n",
       " GoogleResult(name=Full data view for gene AHDC1 - LOVD 3.0 shared install..\n",
       "              description=LOVD 3.0 shared installation. AHDC1 (AT hook, DNA..,\n",
       " GoogleResult(name=Our Goals and Objectives for All Rotation Students - Wa..\n",
       "              description=Nov 22, 2016 ... What type of genetic mechanism (..,\n",
       " GoogleResult(name=A New Syndrome Caused by Mutations in AHDC1 - Science N..\n",
       "              description=May 1, 2014 ... A 12-hour Biological Clock Coordi..,\n",
       " GoogleResult(name=De novo truncating mutations in AHDC1 in individuals wi..\n",
       "              description=Feb 2, 2014 ... Using WES, we identified AHDC1 de..,\n",
       " GoogleResult(name=Prevalence, phenotype and architecture of developmental..\n",
       "              description=Apr 20, 2016 ... operating by a loss-of-function ..,\n",
       " GoogleResult(name=MATR3 disruption in human and mouse associated ... - Ha..\n",
       "              description=Jan 7, 2015 ... containing-1 protein, and AHDC1-t..]"
      ]
     },
     "execution_count": 13,
     "metadata": {},
     "output_type": "execute_result"
    }
   ],
   "source": [
    "search_results"
   ]
  },
  {
   "cell_type": "code",
   "execution_count": 7,
   "metadata": {
    "collapsed": false
   },
   "outputs": [
    {
     "data": {
      "text/plain": [
       "GoogleResult(name=AHDC1 - (ADMI) | Geisinger Health System\n",
       "             description=AHDC1. Approved Name: AT-hook DNA binding motif c.."
      ]
     },
     "execution_count": 7,
     "metadata": {},
     "output_type": "execute_result"
    }
   ],
   "source": [
    "i"
   ]
  },
  {
   "cell_type": "code",
   "execution_count": 104,
   "metadata": {
    "collapsed": true
   },
   "outputs": [],
   "source": [
    "import random"
   ]
  },
  {
   "cell_type": "code",
   "execution_count": 127,
   "metadata": {
    "collapsed": false
   },
   "outputs": [
    {
     "data": {
      "text/plain": [
       "0.6787176663350373"
      ]
     },
     "execution_count": 127,
     "metadata": {},
     "output_type": "execute_result"
    }
   ],
   "source": [
    "random.random()"
   ]
  },
  {
   "cell_type": "code",
   "execution_count": 66,
   "metadata": {
    "collapsed": false
   },
   "outputs": [],
   "source": [
    "genedf = pd.read_csv('/Users/Tianqi/Keep_Learning/Genonova/union_genes.csv')"
   ]
  },
  {
   "cell_type": "code",
   "execution_count": 68,
   "metadata": {
    "collapsed": false
   },
   "outputs": [],
   "source": [
    "gene_list = list(genedf['Gene'])"
   ]
  },
  {
   "cell_type": "code",
   "execution_count": 70,
   "metadata": {
    "collapsed": false
   },
   "outputs": [
    {
     "data": {
      "text/plain": [
       "60926"
      ]
     },
     "execution_count": 70,
     "metadata": {},
     "output_type": "execute_result"
    }
   ],
   "source": [
    "len(gene_list)"
   ]
  },
  {
   "cell_type": "code",
   "execution_count": 72,
   "metadata": {
    "collapsed": false
   },
   "outputs": [
    {
     "name": "stdout",
     "output_type": "stream",
     "text": [
      "APOA1BP\n",
      "C9orf91\n",
      "FIGF\n",
      "GYLTL1B\n"
     ]
    }
   ],
   "source": [
    "for i in gene_input:\n",
    "    if i not in gene_list:\n",
    "        print i"
   ]
  },
  {
   "cell_type": "code",
   "execution_count": 19,
   "metadata": {
    "collapsed": true
   },
   "outputs": [],
   "source": [
    "from MagicGoogle import MagicGoogle\n",
    "import pprint"
   ]
  },
  {
   "cell_type": "code",
   "execution_count": 20,
   "metadata": {
    "collapsed": true
   },
   "outputs": [],
   "source": [
    "PROXIES = [{\n",
    "    'http': 'http://192.168.2.207:1080',\n",
    "    'https': 'http://192.168.2.207:1080'\n",
    "}]"
   ]
  },
  {
   "cell_type": "code",
   "execution_count": 21,
   "metadata": {
    "collapsed": true
   },
   "outputs": [],
   "source": [
    "mg = MagicGoogle(PROXIES)\n"
   ]
  },
  {
   "cell_type": "code",
   "execution_count": 23,
   "metadata": {
    "collapsed": false,
    "scrolled": false
   },
   "outputs": [
    {
     "name": "stderr",
     "output_type": "stream",
     "text": [
      "ERROR:magic_google:No module named uts46data\n",
      "Traceback (most recent call last):\n",
      "  File \"/Users/Tianqi/anaconda/lib/python2.7/site-packages/MagicGoogle/magic_google.py\", line 73, in search_page\n",
      "    timeout=30)\n",
      "  File \"/Users/Tianqi/anaconda/lib/python2.7/site-packages/requests/api.py\", line 70, in get\n",
      "    \n",
      "  File \"/Users/Tianqi/anaconda/lib/python2.7/site-packages/requests/api.py\", line 56, in request\n",
      "    # cases, and look like a memory leak in others.\n",
      "  File \"/Users/Tianqi/anaconda/lib/python2.7/site-packages/requests/sessions.py\", line 474, in request\n",
      "    \"\"\"\n",
      "  File \"/Users/Tianqi/anaconda/lib/python2.7/site-packages/requests/sessions.py\", line 407, in prepare_request\n",
      "    # Bootstrap CookieJar.\n",
      "  File \"/Users/Tianqi/anaconda/lib/python2.7/site-packages/requests/models.py\", line 302, in prepare\n",
      "    \"\"\"Prepares the entire request with the given parameters.\"\"\"\n",
      "  File \"/Users/Tianqi/anaconda/lib/python2.7/site-packages/requests/models.py\", line 370, in prepare_url\n",
      "    try:\n",
      "  File \"/Users/Tianqi/anaconda/lib/python2.7/site-packages/requests/packages/idna/core.py\", line 340, in encode\n",
      "  File \"/Users/Tianqi/anaconda/lib/python2.7/site-packages/requests/packages/idna/core.py\", line 309, in uts46_remap\n",
      "ImportError: No module named uts46data\n"
     ]
    }
   ],
   "source": [
    "result = mg.search_page(query='python')"
   ]
  },
  {
   "cell_type": "code",
   "execution_count": 16,
   "metadata": {
    "collapsed": false
   },
   "outputs": [
    {
     "name": "stderr",
     "output_type": "stream",
     "text": [
      "ERROR:magic_google:No module named uts46data\n",
      "Traceback (most recent call last):\n",
      "  File \"/Users/Tianqi/anaconda/lib/python2.7/site-packages/MagicGoogle/magic_google.py\", line 73, in search_page\n",
      "    timeout=30)\n",
      "  File \"/Users/Tianqi/anaconda/lib/python2.7/site-packages/requests/api.py\", line 70, in get\n",
      "    \n",
      "  File \"/Users/Tianqi/anaconda/lib/python2.7/site-packages/requests/api.py\", line 56, in request\n",
      "    # cases, and look like a memory leak in others.\n",
      "  File \"/Users/Tianqi/anaconda/lib/python2.7/site-packages/requests/sessions.py\", line 474, in request\n",
      "    \"\"\"\n",
      "  File \"/Users/Tianqi/anaconda/lib/python2.7/site-packages/requests/sessions.py\", line 407, in prepare_request\n",
      "    # Bootstrap CookieJar.\n",
      "  File \"/Users/Tianqi/anaconda/lib/python2.7/site-packages/requests/models.py\", line 302, in prepare\n",
      "    \"\"\"Prepares the entire request with the given parameters.\"\"\"\n",
      "  File \"/Users/Tianqi/anaconda/lib/python2.7/site-packages/requests/models.py\", line 370, in prepare_url\n",
      "    try:\n",
      "  File \"/Users/Tianqi/anaconda/lib/python2.7/site-packages/requests/packages/idna/core.py\", line 340, in encode\n",
      "  File \"/Users/Tianqi/anaconda/lib/python2.7/site-packages/requests/packages/idna/core.py\", line 309, in uts46_remap\n",
      "ImportError: No module named uts46data\n",
      "ERROR:magic_google:No module named uts46data\n",
      "Traceback (most recent call last):\n",
      "  File \"/Users/Tianqi/anaconda/lib/python2.7/site-packages/MagicGoogle/magic_google.py\", line 73, in search_page\n",
      "    timeout=30)\n",
      "  File \"/Users/Tianqi/anaconda/lib/python2.7/site-packages/requests/api.py\", line 70, in get\n",
      "    \n",
      "  File \"/Users/Tianqi/anaconda/lib/python2.7/site-packages/requests/api.py\", line 56, in request\n",
      "    # cases, and look like a memory leak in others.\n",
      "  File \"/Users/Tianqi/anaconda/lib/python2.7/site-packages/requests/sessions.py\", line 474, in request\n",
      "    \"\"\"\n",
      "  File \"/Users/Tianqi/anaconda/lib/python2.7/site-packages/requests/sessions.py\", line 407, in prepare_request\n",
      "    # Bootstrap CookieJar.\n",
      "  File \"/Users/Tianqi/anaconda/lib/python2.7/site-packages/requests/models.py\", line 302, in prepare\n",
      "    \"\"\"Prepares the entire request with the given parameters.\"\"\"\n",
      "  File \"/Users/Tianqi/anaconda/lib/python2.7/site-packages/requests/models.py\", line 370, in prepare_url\n",
      "    try:\n",
      "  File \"/Users/Tianqi/anaconda/lib/python2.7/site-packages/requests/packages/idna/core.py\", line 340, in encode\n",
      "  File \"/Users/Tianqi/anaconda/lib/python2.7/site-packages/requests/packages/idna/core.py\", line 309, in uts46_remap\n",
      "ImportError: No module named uts46data\n"
     ]
    }
   ],
   "source": [
    "# Or PROXIES = None\n",
    "PROXIES = [{\n",
    "    'http': 'http://192.168.2.207:1080',\n",
    "    'https': 'http://192.168.2.207:1080'\n",
    "}]\n",
    "\n",
    "# Or MagicGoogle()\n",
    "mg = MagicGoogle(PROXIES)\n",
    "\n",
    "#  Crawling the whole page\n",
    "result = mg.search_page(query='python')\n",
    "\n",
    "# Crawling url\n",
    "# for url in mg.search_url(query='python'):\n",
    "#     pprint.pprint(url)\n",
    "    \n",
    "# Output\n",
    "# 'https://www.python.org/'\n",
    "# 'https://www.python.org/downloads/'\n",
    "# 'https://www.python.org/about/gettingstarted/'\n",
    "# 'https://docs.python.org/2/tutorial/'\n",
    "# 'https://docs.python.org/'\n",
    "# 'https://en.wikipedia.org/wiki/Python_(programming_language)'\n",
    "# 'https://www.codecademy.com/courses/introduction-to-python-6WeG3/0?curriculum_id=4f89dab3d788890003000096'\n",
    "# 'https://www.codecademy.com/learn/python'\n",
    "# 'https://developers.google.com/edu/python/'\n",
    "# 'https://learnpythonthehardway.org/book/'\n",
    "# 'https://www.continuum.io/downloads'\n",
    "\n",
    "# Get {'title','url','text'}\n",
    "for i in mg.search(query='python', num=1):\n",
    "    pprint.pprint(i)\n",
    "    \n",
    "# Output\n",
    "# {'text': 'The official home of the Python Programming Language.',\n",
    "# 'title': 'Welcome to Python .org',\n",
    "# 'url': 'https://www.python.org/'}"
   ]
  },
  {
   "cell_type": "code",
   "execution_count": 64,
   "metadata": {
    "collapsed": false
   },
   "outputs": [],
   "source": [
    "gene_input  = pd.read_csv('/Users/Tianqi/Keep_Learning/Genonova/基因解读/data/frequent_gene_list.txt',header=-1)"
   ]
  },
  {
   "cell_type": "code",
   "execution_count": 75,
   "metadata": {
    "collapsed": true
   },
   "outputs": [],
   "source": [
    "input_2 = pd.read_csv('/Users/Tianqi/Keep_Learning/Genonova/基因解读/data/NBKid_shortname_genesymbol.txt',sep='\\t')"
   ]
  },
  {
   "cell_type": "code",
   "execution_count": 77,
   "metadata": {
    "collapsed": false,
    "scrolled": true
   },
   "outputs": [],
   "source": [
    "fre_gene_2 = list(input_2['genesymbol'])"
   ]
  },
  {
   "cell_type": "code",
   "execution_count": 90,
   "metadata": {
    "collapsed": false
   },
   "outputs": [
    {
     "data": {
      "text/plain": [
       "1551"
      ]
     },
     "execution_count": 90,
     "metadata": {},
     "output_type": "execute_result"
    }
   ],
   "source": [
    "len(set(fre_gene_2))"
   ]
  },
  {
   "cell_type": "code",
   "execution_count": 65,
   "metadata": {
    "collapsed": false
   },
   "outputs": [],
   "source": [
    "fre_gene = list(gene_input[0])"
   ]
  },
  {
   "cell_type": "code",
   "execution_count": 91,
   "metadata": {
    "collapsed": false
   },
   "outputs": [
    {
     "data": {
      "text/plain": [
       "3480"
      ]
     },
     "execution_count": 91,
     "metadata": {},
     "output_type": "execute_result"
    }
   ],
   "source": [
    "len(set(fre_gene))"
   ]
  },
  {
   "cell_type": "code",
   "execution_count": 92,
   "metadata": {
    "collapsed": false
   },
   "outputs": [
    {
     "data": {
      "text/plain": [
       "96"
      ]
     },
     "execution_count": 92,
     "metadata": {},
     "output_type": "execute_result"
    }
   ],
   "source": [
    "len([i for i in set(fre_gene_2) if i not in fre_gene])"
   ]
  },
  {
   "cell_type": "code",
   "execution_count": 93,
   "metadata": {
    "collapsed": true
   },
   "outputs": [],
   "source": [
    "fre_gene_com = fre_gene + [i for i in set(fre_gene_2) if i not in fre_gene]"
   ]
  },
  {
   "cell_type": "code",
   "execution_count": 94,
   "metadata": {
    "collapsed": false
   },
   "outputs": [
    {
     "data": {
      "text/plain": [
       "3576"
      ]
     },
     "execution_count": 94,
     "metadata": {},
     "output_type": "execute_result"
    }
   ],
   "source": [
    "len(fre_gene_com)"
   ]
  },
  {
   "cell_type": "code",
   "execution_count": 95,
   "metadata": {
    "collapsed": true
   },
   "outputs": [],
   "source": [
    "gene_input  = pd.read_csv('/Users/Tianqi/Keep_Learning/bio-nlp/test_data/creb_gene.txt')\n",
    "gene_input = list(gene_input.Gene.unique())"
   ]
  },
  {
   "cell_type": "code",
   "execution_count": 96,
   "metadata": {
    "collapsed": false,
    "scrolled": false
   },
   "outputs": [],
   "source": [
    "count = 0\n",
    "for i in gene_input:\n",
    "    if i not in fre_gene_com:\n",
    "#         print i\n",
    "        count += 1"
   ]
  },
  {
   "cell_type": "code",
   "execution_count": 432,
   "metadata": {
    "collapsed": true
   },
   "outputs": [],
   "source": [
    "def save_search(ind):\n",
    "    inde = ind*100\n",
    "    search_info = []\n",
    "    for i in fre_gene_com[inde:inde+100]:\n",
    "        search_results = google.search(i+' de novo', 1)\n",
    "        search_info.append([i, [[j.name, j.description, j.link] for j in search_results]])\n",
    "    df = pd.DataFrame(search_info)\n",
    "    df.to_pickle('/Users/Tianqi/Keep_Learning/Genonova/基因解读/data/de_novo_search/deno_%i'%ind)\n",
    "    return df"
   ]
  },
  {
   "cell_type": "code",
   "execution_count": 506,
   "metadata": {
    "collapsed": false,
    "scrolled": true
   },
   "outputs": [
    {
     "data": {
      "text/html": [
       "<div>\n",
       "<table border=\"1\" class=\"dataframe\">\n",
       "  <thead>\n",
       "    <tr style=\"text-align: right;\">\n",
       "      <th></th>\n",
       "      <th>0</th>\n",
       "      <th>1</th>\n",
       "    </tr>\n",
       "  </thead>\n",
       "  <tbody>\n",
       "    <tr>\n",
       "      <th>0</th>\n",
       "      <td>MT-ATP6</td>\n",
       "      <td>[[MT-ATP6 Gene - GeneCards | ATP6 Protein | AT...</td>\n",
       "    </tr>\n",
       "    <tr>\n",
       "      <th>1</th>\n",
       "      <td>TUBB4A</td>\n",
       "      <td>[[TUBB4A de novo mutations cause isolated hypo...</td>\n",
       "    </tr>\n",
       "    <tr>\n",
       "      <th>2</th>\n",
       "      <td>C21orf59</td>\n",
       "      <td>[[De novo - Wikipedia, In general usage, de no...</td>\n",
       "    </tr>\n",
       "    <tr>\n",
       "      <th>3</th>\n",
       "      <td>DNAJC5</td>\n",
       "      <td>[[Neuronal Ceroid-Lipofuscinoses - GeneReviews...</td>\n",
       "    </tr>\n",
       "    <tr>\n",
       "      <th>4</th>\n",
       "      <td>DUX4L1</td>\n",
       "      <td>[[Definition of de novo mutation - NCI Diction...</td>\n",
       "    </tr>\n",
       "    <tr>\n",
       "      <th>5</th>\n",
       "      <td>MT-RNR1</td>\n",
       "      <td>[[MT-RNR1 Gene - GeneCards | MT-RNR1 RNA Gene,...</td>\n",
       "    </tr>\n",
       "    <tr>\n",
       "      <th>6</th>\n",
       "      <td>MT-CO1</td>\n",
       "      <td>[[DNA methyltransferase 1 mutations and mitoch...</td>\n",
       "    </tr>\n",
       "    <tr>\n",
       "      <th>7</th>\n",
       "      <td>MT-CO2</td>\n",
       "      <td>[[Case report: a novel frameshift mutation in ...</td>\n",
       "    </tr>\n",
       "    <tr>\n",
       "      <th>8</th>\n",
       "      <td>MT-CO3</td>\n",
       "      <td>[[MT-CO3 gene - Genetics Home Reference, Jul 2...</td>\n",
       "    </tr>\n",
       "    <tr>\n",
       "      <th>9</th>\n",
       "      <td>KIAA1549</td>\n",
       "      <td>[[Incidence of kiaa1549-braf fusion gene in Eg...</td>\n",
       "    </tr>\n",
       "    <tr>\n",
       "      <th>10</th>\n",
       "      <td>FAM189A2</td>\n",
       "      <td>[[De novo - Wikipedia, In general usage, de no...</td>\n",
       "    </tr>\n",
       "    <tr>\n",
       "      <th>11</th>\n",
       "      <td>MT-CYB</td>\n",
       "      <td>[[MT-CYB mitochondrially encoded cytochrome b ...</td>\n",
       "    </tr>\n",
       "    <tr>\n",
       "      <th>12</th>\n",
       "      <td>SDR9C7</td>\n",
       "      <td>[[De novo - Wikipedia, In general usage, de no...</td>\n",
       "    </tr>\n",
       "    <tr>\n",
       "      <th>13</th>\n",
       "      <td>USH1H</td>\n",
       "      <td>[[De novo - Wikipedia, In general usage, de no...</td>\n",
       "    </tr>\n",
       "    <tr>\n",
       "      <th>14</th>\n",
       "      <td>FOXH1</td>\n",
       "      <td>[[Production of De Novo Cardiomyocytes: Human ...</td>\n",
       "    </tr>\n",
       "    <tr>\n",
       "      <th>15</th>\n",
       "      <td>TMEM107</td>\n",
       "      <td>[[De novo - Wikipedia, In general usage, de no...</td>\n",
       "    </tr>\n",
       "    <tr>\n",
       "      <th>16</th>\n",
       "      <td>MT-TY</td>\n",
       "      <td>[[De Novo Transcriptome Analysis Provides Insi...</td>\n",
       "    </tr>\n",
       "    <tr>\n",
       "      <th>17</th>\n",
       "      <td>MT-TT</td>\n",
       "      <td>[[DEMO 2017 S KONA SHRED 26\" HARD-TAIL MOUNTAI...</td>\n",
       "    </tr>\n",
       "    <tr>\n",
       "      <th>18</th>\n",
       "      <td>MT-TW</td>\n",
       "      <td>[[A mutation in MT-TW causes a tRNA processing...</td>\n",
       "    </tr>\n",
       "    <tr>\n",
       "      <th>19</th>\n",
       "      <td>MT-TV</td>\n",
       "      <td>[[G1 Mato Grosso - MT TV 1ª Edição - Catálogo ...</td>\n",
       "    </tr>\n",
       "    <tr>\n",
       "      <th>20</th>\n",
       "      <td>MT-TQ</td>\n",
       "      <td>[[MELAS - GeneReviews® - NCBI Bookshelf, Feb 2...</td>\n",
       "    </tr>\n",
       "    <tr>\n",
       "      <th>21</th>\n",
       "      <td>MT-TP</td>\n",
       "      <td>[[Mice subjected to aP2-Cre mediated ablation ...</td>\n",
       "    </tr>\n",
       "    <tr>\n",
       "      <th>22</th>\n",
       "      <td>MT-TR</td>\n",
       "      <td>[[Detection of a new de novo mutation at codon...</td>\n",
       "    </tr>\n",
       "    <tr>\n",
       "      <th>23</th>\n",
       "      <td>MT-TM</td>\n",
       "      <td>[[MITOCHONDRIAL MYOPATHY WITH DYSTROPHIC FEATU...</td>\n",
       "    </tr>\n",
       "    <tr>\n",
       "      <th>24</th>\n",
       "      <td>MT-TI</td>\n",
       "      <td>[[Genome-wide characteristics of de novo mutat...</td>\n",
       "    </tr>\n",
       "    <tr>\n",
       "      <th>25</th>\n",
       "      <td>MT-TH</td>\n",
       "      <td>[[Integrated Model of De Novo and Inherited Ge...</td>\n",
       "    </tr>\n",
       "    <tr>\n",
       "      <th>26</th>\n",
       "      <td>MT-TK</td>\n",
       "      <td>[[MT-TK gene - Genetics Home Reference, Jul 25...</td>\n",
       "    </tr>\n",
       "    <tr>\n",
       "      <th>27</th>\n",
       "      <td>MT-TD</td>\n",
       "      <td>[[Teller II- Denovo - TD Bank Careers, Jul 23,...</td>\n",
       "    </tr>\n",
       "    <tr>\n",
       "      <th>28</th>\n",
       "      <td>MT-TF</td>\n",
       "      <td>[[MT-TF Gene - GeneCards | MT-TF RNA Gene, MT-...</td>\n",
       "    </tr>\n",
       "    <tr>\n",
       "      <th>29</th>\n",
       "      <td>MT-TA</td>\n",
       "      <td>[[MT - TA DE COPÃO 2017 - DJ DANIEL DE ITABORA...</td>\n",
       "    </tr>\n",
       "    <tr>\n",
       "      <th>...</th>\n",
       "      <td>...</td>\n",
       "      <td>...</td>\n",
       "    </tr>\n",
       "    <tr>\n",
       "      <th>46</th>\n",
       "      <td>DLL1</td>\n",
       "      <td>[[DLL1 delta like canonical Notch ligand 1 [ (...</td>\n",
       "    </tr>\n",
       "    <tr>\n",
       "      <th>47</th>\n",
       "      <td>MYO9A</td>\n",
       "      <td>[[MYO9A Arthrogryposis - ClinGen | Clinical Ge...</td>\n",
       "    </tr>\n",
       "    <tr>\n",
       "      <th>48</th>\n",
       "      <td>RANBP2</td>\n",
       "      <td>[[Infection-Triggered Familial or Recurrent Ca...</td>\n",
       "    </tr>\n",
       "    <tr>\n",
       "      <th>49</th>\n",
       "      <td>SMN2</td>\n",
       "      <td>[[New insights on the evolution of the SMN1 an...</td>\n",
       "    </tr>\n",
       "    <tr>\n",
       "      <th>50</th>\n",
       "      <td>CFHR1</td>\n",
       "      <td>[[Eculizumab and Belatacept for De Novo Atypic...</td>\n",
       "    </tr>\n",
       "    <tr>\n",
       "      <th>51</th>\n",
       "      <td>CFHR4</td>\n",
       "      <td>[[Genetic Atypical Hemolytic-Uremic Syndrome -...</td>\n",
       "    </tr>\n",
       "    <tr>\n",
       "      <th>52</th>\n",
       "      <td>MAT2A</td>\n",
       "      <td>[[Changes in methionine adenosyltransferase du...</td>\n",
       "    </tr>\n",
       "    <tr>\n",
       "      <th>53</th>\n",
       "      <td>RPS27</td>\n",
       "      <td>[[Loss of function mutations in RPL27 and RPS2...</td>\n",
       "    </tr>\n",
       "    <tr>\n",
       "      <th>54</th>\n",
       "      <td>ADGRA3</td>\n",
       "      <td>[[Definition of de novo mutation - NCI Diction...</td>\n",
       "    </tr>\n",
       "    <tr>\n",
       "      <th>55</th>\n",
       "      <td>FGF12</td>\n",
       "      <td>[[De novo FGF12 mutation in 2 patients with ne...</td>\n",
       "    </tr>\n",
       "    <tr>\n",
       "      <th>56</th>\n",
       "      <td>PJVK</td>\n",
       "      <td>[[De novo - Wikipedia, In general usage, de no...</td>\n",
       "    </tr>\n",
       "    <tr>\n",
       "      <th>57</th>\n",
       "      <td>MME</td>\n",
       "      <td>[[De novo - Wikipedia, In general usage, de no...</td>\n",
       "    </tr>\n",
       "    <tr>\n",
       "      <th>58</th>\n",
       "      <td>C8orf37</td>\n",
       "      <td>[[Retinitis Pigmentosa Overview - GeneReviews®...</td>\n",
       "    </tr>\n",
       "    <tr>\n",
       "      <th>59</th>\n",
       "      <td>MT-ND1</td>\n",
       "      <td>[[Progressive encephalopathy and complex I def...</td>\n",
       "    </tr>\n",
       "    <tr>\n",
       "      <th>60</th>\n",
       "      <td>MT-ND2</td>\n",
       "      <td>[[MT-ND2 - Wikipedia, Mitochondrially encoded ...</td>\n",
       "    </tr>\n",
       "    <tr>\n",
       "      <th>61</th>\n",
       "      <td>MT-ND3</td>\n",
       "      <td>[[De novo mutations in the mitochondrial ND3 g...</td>\n",
       "    </tr>\n",
       "    <tr>\n",
       "      <th>62</th>\n",
       "      <td>MT-ND4</td>\n",
       "      <td>[[WikiGenes - MT-ND4 - mitochondrially encoded...</td>\n",
       "    </tr>\n",
       "    <tr>\n",
       "      <th>63</th>\n",
       "      <td>MT-ND5</td>\n",
       "      <td>[[De novo mtDNA point mutations are common and...</td>\n",
       "    </tr>\n",
       "    <tr>\n",
       "      <th>64</th>\n",
       "      <td>MT-ND6</td>\n",
       "      <td>[[A De Novo Mutation in MTND6 Causes Generaliz...</td>\n",
       "    </tr>\n",
       "    <tr>\n",
       "      <th>65</th>\n",
       "      <td>SNX4</td>\n",
       "      <td>[[Reggies/flotillins interact with Rab11a and ...</td>\n",
       "    </tr>\n",
       "    <tr>\n",
       "      <th>66</th>\n",
       "      <td>MT-ND4L</td>\n",
       "      <td>[[MT-ND4L - Wikipedia, NADH-ubiquinone oxidore...</td>\n",
       "    </tr>\n",
       "    <tr>\n",
       "      <th>67</th>\n",
       "      <td>CLDN2</td>\n",
       "      <td>[[De novo - Wikipedia, In general usage, de no...</td>\n",
       "    </tr>\n",
       "    <tr>\n",
       "      <th>68</th>\n",
       "      <td>KCND2</td>\n",
       "      <td>[[Exome sequencing identifies de novo gain of ...</td>\n",
       "    </tr>\n",
       "    <tr>\n",
       "      <th>69</th>\n",
       "      <td>CRH</td>\n",
       "      <td>[[Corticotropin-releasing hormone directly sti...</td>\n",
       "    </tr>\n",
       "    <tr>\n",
       "      <th>70</th>\n",
       "      <td>C2orf71</td>\n",
       "      <td>[[Retinitis Pigmentosa Overview - GeneReviews®...</td>\n",
       "    </tr>\n",
       "    <tr>\n",
       "      <th>71</th>\n",
       "      <td>MT-TS2</td>\n",
       "      <td>[[De novo mtDNA point mutations are common and...</td>\n",
       "    </tr>\n",
       "    <tr>\n",
       "      <th>72</th>\n",
       "      <td>MT-TS1</td>\n",
       "      <td>[[TRNS1 tRNA [ (human)] - NCBI, Mar 14, 2017 ....</td>\n",
       "    </tr>\n",
       "    <tr>\n",
       "      <th>73</th>\n",
       "      <td>ATP2B3</td>\n",
       "      <td>[[De novo mutations in the autophagy gene WDR4...</td>\n",
       "    </tr>\n",
       "    <tr>\n",
       "      <th>74</th>\n",
       "      <td>SLMAP</td>\n",
       "      <td>[[WikiGenes - SLMAP - sarcolemma associated pr...</td>\n",
       "    </tr>\n",
       "    <tr>\n",
       "      <th>75</th>\n",
       "      <td>DISP1</td>\n",
       "      <td>[[Characterization of the chromosome 1q41q42. ...</td>\n",
       "    </tr>\n",
       "  </tbody>\n",
       "</table>\n",
       "<p>76 rows × 2 columns</p>\n",
       "</div>"
      ],
      "text/plain": [
       "           0                                                  1\n",
       "0    MT-ATP6  [[MT-ATP6 Gene - GeneCards | ATP6 Protein | AT...\n",
       "1     TUBB4A  [[TUBB4A de novo mutations cause isolated hypo...\n",
       "2   C21orf59  [[De novo - Wikipedia, In general usage, de no...\n",
       "3     DNAJC5  [[Neuronal Ceroid-Lipofuscinoses - GeneReviews...\n",
       "4     DUX4L1  [[Definition of de novo mutation - NCI Diction...\n",
       "5    MT-RNR1  [[MT-RNR1 Gene - GeneCards | MT-RNR1 RNA Gene,...\n",
       "6     MT-CO1  [[DNA methyltransferase 1 mutations and mitoch...\n",
       "7     MT-CO2  [[Case report: a novel frameshift mutation in ...\n",
       "8     MT-CO3  [[MT-CO3 gene - Genetics Home Reference, Jul 2...\n",
       "9   KIAA1549  [[Incidence of kiaa1549-braf fusion gene in Eg...\n",
       "10  FAM189A2  [[De novo - Wikipedia, In general usage, de no...\n",
       "11    MT-CYB  [[MT-CYB mitochondrially encoded cytochrome b ...\n",
       "12    SDR9C7  [[De novo - Wikipedia, In general usage, de no...\n",
       "13     USH1H  [[De novo - Wikipedia, In general usage, de no...\n",
       "14     FOXH1  [[Production of De Novo Cardiomyocytes: Human ...\n",
       "15   TMEM107  [[De novo - Wikipedia, In general usage, de no...\n",
       "16     MT-TY  [[De Novo Transcriptome Analysis Provides Insi...\n",
       "17     MT-TT  [[DEMO 2017 S KONA SHRED 26\" HARD-TAIL MOUNTAI...\n",
       "18     MT-TW  [[A mutation in MT-TW causes a tRNA processing...\n",
       "19     MT-TV  [[G1 Mato Grosso - MT TV 1ª Edição - Catálogo ...\n",
       "20     MT-TQ  [[MELAS - GeneReviews® - NCBI Bookshelf, Feb 2...\n",
       "21     MT-TP  [[Mice subjected to aP2-Cre mediated ablation ...\n",
       "22     MT-TR  [[Detection of a new de novo mutation at codon...\n",
       "23     MT-TM  [[MITOCHONDRIAL MYOPATHY WITH DYSTROPHIC FEATU...\n",
       "24     MT-TI  [[Genome-wide characteristics of de novo mutat...\n",
       "25     MT-TH  [[Integrated Model of De Novo and Inherited Ge...\n",
       "26     MT-TK  [[MT-TK gene - Genetics Home Reference, Jul 25...\n",
       "27     MT-TD  [[Teller II- Denovo - TD Bank Careers, Jul 23,...\n",
       "28     MT-TF  [[MT-TF Gene - GeneCards | MT-TF RNA Gene, MT-...\n",
       "29     MT-TA  [[MT - TA DE COPÃO 2017 - DJ DANIEL DE ITABORA...\n",
       "..       ...                                                ...\n",
       "46      DLL1  [[DLL1 delta like canonical Notch ligand 1 [ (...\n",
       "47     MYO9A  [[MYO9A Arthrogryposis - ClinGen | Clinical Ge...\n",
       "48    RANBP2  [[Infection-Triggered Familial or Recurrent Ca...\n",
       "49      SMN2  [[New insights on the evolution of the SMN1 an...\n",
       "50     CFHR1  [[Eculizumab and Belatacept for De Novo Atypic...\n",
       "51     CFHR4  [[Genetic Atypical Hemolytic-Uremic Syndrome -...\n",
       "52     MAT2A  [[Changes in methionine adenosyltransferase du...\n",
       "53     RPS27  [[Loss of function mutations in RPL27 and RPS2...\n",
       "54    ADGRA3  [[Definition of de novo mutation - NCI Diction...\n",
       "55     FGF12  [[De novo FGF12 mutation in 2 patients with ne...\n",
       "56      PJVK  [[De novo - Wikipedia, In general usage, de no...\n",
       "57       MME  [[De novo - Wikipedia, In general usage, de no...\n",
       "58   C8orf37  [[Retinitis Pigmentosa Overview - GeneReviews®...\n",
       "59    MT-ND1  [[Progressive encephalopathy and complex I def...\n",
       "60    MT-ND2  [[MT-ND2 - Wikipedia, Mitochondrially encoded ...\n",
       "61    MT-ND3  [[De novo mutations in the mitochondrial ND3 g...\n",
       "62    MT-ND4  [[WikiGenes - MT-ND4 - mitochondrially encoded...\n",
       "63    MT-ND5  [[De novo mtDNA point mutations are common and...\n",
       "64    MT-ND6  [[A De Novo Mutation in MTND6 Causes Generaliz...\n",
       "65      SNX4  [[Reggies/flotillins interact with Rab11a and ...\n",
       "66   MT-ND4L  [[MT-ND4L - Wikipedia, NADH-ubiquinone oxidore...\n",
       "67     CLDN2  [[De novo - Wikipedia, In general usage, de no...\n",
       "68     KCND2  [[Exome sequencing identifies de novo gain of ...\n",
       "69       CRH  [[Corticotropin-releasing hormone directly sti...\n",
       "70   C2orf71  [[Retinitis Pigmentosa Overview - GeneReviews®...\n",
       "71    MT-TS2  [[De novo mtDNA point mutations are common and...\n",
       "72    MT-TS1  [[TRNS1 tRNA [ (human)] - NCBI, Mar 14, 2017 ....\n",
       "73    ATP2B3  [[De novo mutations in the autophagy gene WDR4...\n",
       "74     SLMAP  [[WikiGenes - SLMAP - sarcolemma associated pr...\n",
       "75     DISP1  [[Characterization of the chromosome 1q41q42. ...\n",
       "\n",
       "[76 rows x 2 columns]"
      ]
     },
     "execution_count": 506,
     "metadata": {},
     "output_type": "execute_result"
    }
   ],
   "source": [
    "save_search(35)"
   ]
  },
  {
   "cell_type": "code",
   "execution_count": 639,
   "metadata": {
    "collapsed": true
   },
   "outputs": [],
   "source": [
    "pieces = []\n",
    "for i in range(36):    \n",
    "    pieces.append(pd.read_pickle('/Users/Tianqi/Keep_Learning/Genonova/基因解读/data/de_novo_search/deno_%i'%i))"
   ]
  },
  {
   "cell_type": "code",
   "execution_count": 640,
   "metadata": {
    "collapsed": false
   },
   "outputs": [],
   "source": [
    "df_denovo = pd.concat(pieces)"
   ]
  },
  {
   "cell_type": "code",
   "execution_count": 517,
   "metadata": {
    "collapsed": false
   },
   "outputs": [],
   "source": [
    "df_lof = df_lof.reset_index(drop=True)"
   ]
  },
  {
   "cell_type": "code",
   "execution_count": 518,
   "metadata": {
    "collapsed": false
   },
   "outputs": [
    {
     "data": {
      "text/plain": [
       "(3576, 2)"
      ]
     },
     "execution_count": 518,
     "metadata": {},
     "output_type": "execute_result"
    }
   ],
   "source": [
    "df_lof.shape"
   ]
  },
  {
   "cell_type": "code",
   "execution_count": 514,
   "metadata": {
    "collapsed": true
   },
   "outputs": [],
   "source": [
    "df_lof.to_pickle('/Users/Tianqi/Keep_Learning/Genonova/基因解读/data/de_novo_search/deno_all_3576.pkl')"
   ]
  },
  {
   "cell_type": "code",
   "execution_count": 4,
   "metadata": {
    "collapsed": true
   },
   "outputs": [],
   "source": [
    "import pandas as pd"
   ]
  },
  {
   "cell_type": "code",
   "execution_count": 6,
   "metadata": {
    "collapsed": false
   },
   "outputs": [],
   "source": [
    "df_lof = pd.read_pickle('/Users/Tianqi/Keep_Learning/Genonova/基因解读/data/lof_search/lof_all_3576.pkl')"
   ]
  },
  {
   "cell_type": "code",
   "execution_count": 8,
   "metadata": {
    "collapsed": true
   },
   "outputs": [],
   "source": [
    "import re"
   ]
  },
  {
   "cell_type": "code",
   "execution_count": 9,
   "metadata": {
    "collapsed": true
   },
   "outputs": [],
   "source": [
    "lof_gene = []\n",
    "non_lof_gene = []"
   ]
  },
  {
   "cell_type": "code",
   "execution_count": 10,
   "metadata": {
    "collapsed": false
   },
   "outputs": [],
   "source": [
    "lof_gene = []\n",
    "non_lof_gene = []\n",
    "\n",
    "for i in range(len(df_lof)):\n",
    "    gene = df_lof.iloc[i,0]\n",
    "    search = df_lof.iloc[i,1]\n",
    "    for k in search:\n",
    "        for j in k[1].split(\"...\"):\n",
    "            j = j.replace(\"\\n\", \"\")\n",
    "            if (gene in j) and (re.search(r'\\bloss-of-function\\b|\\bloss of function\\b', j, re.I) or re.search(r'\\bLOF\\b', j)) and not re.search(r'\\bno\\b|\\bnot\\b|\\bwhether\\b', j, re.I):\n",
    "#             if ('loss-of-function ' in j or ' loss of function 'in j or ' Loss of function 'in j) and (gene in j) and (('no' and 'not' and 'whether') not in j):\n",
    "                lof_gene.append(gene)\n",
    "                break\n",
    "        else:\n",
    "            continue"
   ]
  },
  {
   "cell_type": "code",
   "execution_count": 12,
   "metadata": {
    "collapsed": false
   },
   "outputs": [],
   "source": [
    "s=[]\n",
    "for i in lof_gene:\n",
    "    if i not in s:\n",
    "        s.append(i)"
   ]
  },
  {
   "cell_type": "code",
   "execution_count": 13,
   "metadata": {
    "collapsed": false,
    "scrolled": true
   },
   "outputs": [
    {
     "data": {
      "text/plain": [
       "1790"
      ]
     },
     "execution_count": 13,
     "metadata": {},
     "output_type": "execute_result"
    }
   ],
   "source": [
    "len(s)"
   ]
  },
  {
   "cell_type": "code",
   "execution_count": 14,
   "metadata": {
    "collapsed": true
   },
   "outputs": [],
   "source": [
    "lof_gene = s"
   ]
  },
  {
   "cell_type": "code",
   "execution_count": 15,
   "metadata": {
    "collapsed": true
   },
   "outputs": [],
   "source": [
    "all_gene = list(df_lof[0])"
   ]
  },
  {
   "cell_type": "code",
   "execution_count": 16,
   "metadata": {
    "collapsed": false,
    "scrolled": true
   },
   "outputs": [],
   "source": [
    "non_lof_gene = [i for i in all_gene if i not in lof_gene]"
   ]
  },
  {
   "cell_type": "code",
   "execution_count": 17,
   "metadata": {
    "collapsed": false
   },
   "outputs": [
    {
     "data": {
      "text/plain": [
       "3576"
      ]
     },
     "execution_count": 17,
     "metadata": {},
     "output_type": "execute_result"
    }
   ],
   "source": [
    "len(non_lof_gene)+len(lof_gene)"
   ]
  },
  {
   "cell_type": "code",
   "execution_count": 19,
   "metadata": {
    "collapsed": true
   },
   "outputs": [],
   "source": [
    "test_list = ['ABCD1', 'G6PD','NAA10','EIF2AK4','ATP1A3','NSD1','AHDC1','MECP2','TSHR','PPP1CB','EP300','UNC80','SYNGAP1','AHI1']"
   ]
  },
  {
   "cell_type": "code",
   "execution_count": 20,
   "metadata": {
    "collapsed": true
   },
   "outputs": [
    {
     "name": "stdout",
     "output_type": "stream",
     "text": [
      "ABCD1\n",
      "1\n",
      "lof\n",
      "---\n",
      "G6PD\n",
      "1\n",
      "lof\n",
      "---\n",
      "NAA10\n",
      "1\n",
      "lof\n",
      "---\n",
      "EIF2AK4\n",
      "1\n",
      "lof\n",
      "---\n",
      "ATP1A3\n",
      "1\n",
      "lof\n",
      "---\n",
      "NSD1\n",
      "1\n",
      "lof\n",
      "---\n",
      "AHDC1\n",
      "1\n",
      "non_lof\n",
      "---\n",
      "MECP2\n",
      "1\n",
      "lof\n",
      "---\n",
      "TSHR\n",
      "1\n",
      "lof\n",
      "---\n",
      "PPP1CB\n",
      "---\n",
      "EP300\n",
      "1\n",
      "lof\n",
      "---\n",
      "UNC80\n",
      "1\n",
      "lof\n",
      "---\n",
      "SYNGAP1\n",
      "1\n",
      "lof\n",
      "---\n",
      "AHI1\n",
      "1\n",
      "lof\n",
      "---\n"
     ]
    }
   ],
   "source": [
    "for i in test_list:\n",
    "    print i\n",
    "    if i in all_gene:\n",
    "        print 1\n",
    "        if i in lof_gene:\n",
    "            print 'lof'\n",
    "        else:\n",
    "            print 'non_lof'\n",
    "    print '---'\n",
    "        "
   ]
  },
  {
   "cell_type": "code",
   "execution_count": 636,
   "metadata": {
    "collapsed": true
   },
   "outputs": [],
   "source": [
    "import pickle"
   ]
  },
  {
   "cell_type": "code",
   "execution_count": 638,
   "metadata": {
    "collapsed": false
   },
   "outputs": [],
   "source": [
    "pickle.dump((lof_gene, non_lof_gene), open('/Users/Tianqi/Keep_Learning/Genonova/基因解读/data/lof_search/lof_gene_&_non_lof_gene.pkl', 'wb'))"
   ]
  },
  {
   "cell_type": "code",
   "execution_count": 642,
   "metadata": {
    "collapsed": true
   },
   "outputs": [],
   "source": [
    "denovo_gene = []\n",
    "non_denovo_gene = []\n",
    "\n",
    "for i in range(len(df_denovo)):\n",
    "    gene = df_denovo.iloc[i,0]\n",
    "    search = df_denovo.iloc[i,1]\n",
    "    for k in search:\n",
    "        for j in k[1].split(\"...\"):\n",
    "            j = j.replace(\"\\n\", \"\")\n",
    "            if (gene in j) and re.search(r'\\bde-novo\\b|\\bde novo\\b', j, re.I):\n",
    "                denovo_gene.append(gene)\n",
    "                break\n",
    "        else:\n",
    "            continue"
   ]
  },
  {
   "cell_type": "code",
   "execution_count": 645,
   "metadata": {
    "collapsed": true
   },
   "outputs": [],
   "source": [
    "s=[]\n",
    "for i in denovo_gene:\n",
    "    if i not in s:\n",
    "        s.append(i)\n",
    "denovo_gene=s"
   ]
  },
  {
   "cell_type": "code",
   "execution_count": 646,
   "metadata": {
    "collapsed": false
   },
   "outputs": [
    {
     "data": {
      "text/plain": [
       "1650"
      ]
     },
     "execution_count": 646,
     "metadata": {},
     "output_type": "execute_result"
    }
   ],
   "source": [
    "len(denovo_gene)"
   ]
  },
  {
   "cell_type": "code",
   "execution_count": 647,
   "metadata": {
    "collapsed": true
   },
   "outputs": [],
   "source": [
    "non_denovo_gene = [i for i in all_gene if i not in denovo_gene]"
   ]
  },
  {
   "cell_type": "code",
   "execution_count": 648,
   "metadata": {
    "collapsed": false
   },
   "outputs": [
    {
     "data": {
      "text/plain": [
       "1926"
      ]
     },
     "execution_count": 648,
     "metadata": {},
     "output_type": "execute_result"
    }
   ],
   "source": [
    "len(non_denovo_gene)"
   ]
  },
  {
   "cell_type": "code",
   "execution_count": 653,
   "metadata": {
    "collapsed": true
   },
   "outputs": [],
   "source": [
    "pickle.dump((denovo_gene, non_denovo_gene), open('/Users/Tianqi/Keep_Learning/Genonova/基因解读/data/de_novo_search/denovo_gene_&_non_denovo_gene.pkl', 'wb'))"
   ]
  },
  {
   "cell_type": "code",
   "execution_count": 23,
   "metadata": {
    "collapsed": true
   },
   "outputs": [],
   "source": [
    "import pickle"
   ]
  },
  {
   "cell_type": "code",
   "execution_count": 30,
   "metadata": {
    "collapsed": false
   },
   "outputs": [],
   "source": [
    "(lof_gene, non_lof_gene) = pickle.load(open( \"/Users/Tianqi/Keep_Learning/Genonova/基因解读/data/lof_search/lof_gene_&_non_lof_gene.pkl\", \"rb\" ) )"
   ]
  },
  {
   "cell_type": "code",
   "execution_count": 33,
   "metadata": {
    "collapsed": false
   },
   "outputs": [],
   "source": [
    "thefile = open('/Users/Tianqi/Keep_Learning/Genonova/基因解读/data/lof_search/non_lof_gene.txt', 'w')\n",
    "for item in non_lof_gene:\n",
    "    thefile.write(\"%s\\n\" % item)"
   ]
  },
  {
   "cell_type": "code",
   "execution_count": 34,
   "metadata": {
    "collapsed": false
   },
   "outputs": [
    {
     "data": {
      "text/plain": [
       "['A2ML1',\n",
       " 'AAGAB',\n",
       " 'AARS',\n",
       " 'ABCA1',\n",
       " 'ABCA12',\n",
       " 'ABCA3',\n",
       " 'ABCA4',\n",
       " 'ABCA5',\n",
       " 'ABCB11',\n",
       " 'ABCB4',\n",
       " 'ABCB6',\n",
       " 'ABCC2',\n",
       " 'ABCC6',\n",
       " 'ABCC8',\n",
       " 'ABCC9',\n",
       " 'ABCD1',\n",
       " 'ABCD3',\n",
       " 'ABCD4',\n",
       " 'ABCG5',\n",
       " 'ABCG8',\n",
       " 'ABHD12',\n",
       " 'ABHD5',\n",
       " 'ACE',\n",
       " 'ACO2',\n",
       " 'ACOX1',\n",
       " 'ACP5',\n",
       " 'ACTA1',\n",
       " 'ACTC1',\n",
       " 'ACTG2',\n",
       " 'ACTN2',\n",
       " 'ACVR1',\n",
       " 'ACVR2B',\n",
       " 'ACVRL1',\n",
       " 'ACY1',\n",
       " 'ADA2',\n",
       " 'ADAM10',\n",
       " 'ADAM17',\n",
       " 'ADAMTS13',\n",
       " 'ADAMTS18',\n",
       " 'ADAMTSL2',\n",
       " 'ADAMTSL4',\n",
       " 'ADAR',\n",
       " 'ADGRG1',\n",
       " 'ADGRG2',\n",
       " 'ADNP',\n",
       " 'ADRA2B',\n",
       " 'ADSL',\n",
       " 'AFF2',\n",
       " 'AFG3L2',\n",
       " 'AGK',\n",
       " 'AGL',\n",
       " 'AGPAT2',\n",
       " 'AHI1',\n",
       " 'AICDA',\n",
       " 'AIMP1',\n",
       " 'AIP',\n",
       " 'AIRE',\n",
       " 'AK2',\n",
       " 'AKT1',\n",
       " 'AKT2',\n",
       " 'AKT3',\n",
       " 'ALAS2',\n",
       " 'ALDH18A1',\n",
       " 'ALDH1A3',\n",
       " 'ALDH2',\n",
       " 'ALG1',\n",
       " 'ALG12',\n",
       " 'ALG2',\n",
       " 'ALG3',\n",
       " 'ALG6',\n",
       " 'ALG8',\n",
       " 'ALG9',\n",
       " 'ALK',\n",
       " 'ALMS1',\n",
       " 'ALOX12B',\n",
       " 'ALOXE3',\n",
       " 'ALPL',\n",
       " 'ALX1',\n",
       " 'ALX3',\n",
       " 'ALX4',\n",
       " 'AMACR',\n",
       " 'AMBN',\n",
       " 'AMHR2',\n",
       " 'AMMECR1',\n",
       " 'AMPD1',\n",
       " 'ANG',\n",
       " 'ANGPTL3',\n",
       " 'ANK2',\n",
       " 'ANK3',\n",
       " 'ANKH',\n",
       " 'ANKRD1',\n",
       " 'ANKRD11',\n",
       " 'ANO5',\n",
       " 'ANOS1',\n",
       " 'ANTXR1',\n",
       " 'ANTXR2',\n",
       " 'AP1S1',\n",
       " 'AP1S2',\n",
       " 'AP2S1',\n",
       " 'AP4E1',\n",
       " 'AP4M1',\n",
       " 'AP4S1',\n",
       " 'APC2',\n",
       " 'APOA1',\n",
       " 'APOA5',\n",
       " 'APOB',\n",
       " 'APOC2',\n",
       " 'APOC3',\n",
       " 'APOE',\n",
       " 'APP',\n",
       " 'APTX',\n",
       " 'AQP2',\n",
       " 'AR',\n",
       " 'ARG1',\n",
       " 'ARHGDIA',\n",
       " 'ARHGEF9',\n",
       " 'ARID1A',\n",
       " 'ARID1B',\n",
       " 'ARL6',\n",
       " 'ARL6IP1',\n",
       " 'ARMC4',\n",
       " 'ARNT2',\n",
       " 'ARSA',\n",
       " 'ARX',\n",
       " 'ASAH1',\n",
       " 'ASCC1',\n",
       " 'ASNS',\n",
       " 'ASPA',\n",
       " 'ASPM',\n",
       " 'ASPSCR1',\n",
       " 'ASXL1',\n",
       " 'ASXL3',\n",
       " 'ATF6',\n",
       " 'ATL1',\n",
       " 'ATM',\n",
       " 'ATP13A2',\n",
       " 'ATP1A2',\n",
       " 'ATP1A3',\n",
       " 'ATP2A2',\n",
       " 'ATP6V0A2',\n",
       " 'ATP6V1B1',\n",
       " 'ATP7A',\n",
       " 'ATR',\n",
       " 'ATRIP',\n",
       " 'ATRX',\n",
       " 'ATXN1',\n",
       " 'ATXN2',\n",
       " 'ATXN3',\n",
       " 'ATXN7',\n",
       " 'AUTS2',\n",
       " 'AVPR2',\n",
       " 'AXIN1',\n",
       " 'AXIN2',\n",
       " 'AXL',\n",
       " 'B2M',\n",
       " 'B3GALT6',\n",
       " 'B4GALT7',\n",
       " 'BAG3',\n",
       " 'BAP1',\n",
       " 'BAZ1B',\n",
       " 'BBS10',\n",
       " 'BBS4',\n",
       " 'BBS9',\n",
       " 'BCAP31',\n",
       " 'BCKDHA',\n",
       " 'BCKDHB',\n",
       " 'BCL6',\n",
       " 'BCOR',\n",
       " 'BCR',\n",
       " 'BEST1',\n",
       " 'BGN',\n",
       " 'BIN1',\n",
       " 'BLK',\n",
       " 'BLM',\n",
       " 'BLOC1S3',\n",
       " 'BMP1',\n",
       " 'BMP15',\n",
       " 'BMP4',\n",
       " 'BMPR1A',\n",
       " 'BMPR1B',\n",
       " 'BRAF',\n",
       " 'BRCA1',\n",
       " 'BRCA2',\n",
       " 'BRF1',\n",
       " 'BRIP1',\n",
       " 'BRWD3',\n",
       " 'BSCL2',\n",
       " 'BSND',\n",
       " 'BTD',\n",
       " 'BTK',\n",
       " 'BTNL2',\n",
       " 'BTRC',\n",
       " 'C1R',\n",
       " 'C2CD3',\n",
       " 'C3',\n",
       " 'C4ORF26',\n",
       " 'C8ORF37',\n",
       " 'C9',\n",
       " 'C9ORF72',\n",
       " 'CA12',\n",
       " 'CA8',\n",
       " 'CABP2',\n",
       " 'CACNA1A',\n",
       " 'CACNA1C',\n",
       " 'CACNA1D',\n",
       " 'CACNA1F',\n",
       " 'CACNA1S',\n",
       " 'CACNB2',\n",
       " 'CAD',\n",
       " 'CALR',\n",
       " 'CALR3',\n",
       " 'CAMTA1',\n",
       " 'CAPN3',\n",
       " 'CAPN5',\n",
       " 'CARD11',\n",
       " 'CARD9',\n",
       " 'CASK',\n",
       " 'CASQ1',\n",
       " 'CASQ2',\n",
       " 'CAST',\n",
       " 'CATSPER1',\n",
       " 'CBL',\n",
       " 'CBS',\n",
       " 'CBX2',\n",
       " 'CC2D2A',\n",
       " 'CCBE1',\n",
       " 'CCDC103',\n",
       " 'CCDC114',\n",
       " 'CCDC115',\n",
       " 'CCDC151',\n",
       " 'CCDC174',\n",
       " 'CCDC39',\n",
       " 'CCDC40',\n",
       " 'CCDC78',\n",
       " 'CCDC8',\n",
       " 'CCM2',\n",
       " 'CCNF',\n",
       " 'CCNO',\n",
       " 'CD151',\n",
       " 'CD2AP',\n",
       " 'CD3D',\n",
       " 'CD40',\n",
       " 'CD40LG',\n",
       " 'CD79B',\n",
       " 'CDC6',\n",
       " 'CDC73',\n",
       " 'CDCA7',\n",
       " 'CDH1',\n",
       " 'CDH3',\n",
       " 'CDK5',\n",
       " 'CDK5RAP2',\n",
       " 'CDK6',\n",
       " 'CDKL5',\n",
       " 'CDKN1A',\n",
       " 'CDKN1B',\n",
       " 'CDKN1C',\n",
       " 'CDKN2A',\n",
       " 'CDON',\n",
       " 'CDSN',\n",
       " 'CEBPA',\n",
       " 'CEBPE',\n",
       " 'CENPJ',\n",
       " 'CEP135',\n",
       " 'CEP152',\n",
       " 'CEP19',\n",
       " 'CEP290',\n",
       " 'CEP41',\n",
       " 'CEP57',\n",
       " 'CETP',\n",
       " 'CFAP53',\n",
       " 'CFB',\n",
       " 'CFC1',\n",
       " 'CFH',\n",
       " 'CFHR5',\n",
       " 'CFI',\n",
       " 'CFTR',\n",
       " 'CHAMP1',\n",
       " 'CHCHD10',\n",
       " 'CHD2',\n",
       " 'CHD7',\n",
       " 'CHEK2',\n",
       " 'CHKB',\n",
       " 'CHL1',\n",
       " 'CHM',\n",
       " 'CHMP1A',\n",
       " 'CHRNA1',\n",
       " 'CHRNA2',\n",
       " 'CHRNA7',\n",
       " 'CHRNB1',\n",
       " 'CHRNB2',\n",
       " 'CHRNE',\n",
       " 'CHST14',\n",
       " 'CHST3',\n",
       " 'CHST6',\n",
       " 'CHST8',\n",
       " 'CHSY1',\n",
       " 'CIITA',\n",
       " 'CKAP2L',\n",
       " 'CLCN1',\n",
       " 'CLCN5',\n",
       " 'CLCN7',\n",
       " 'CLCNKA',\n",
       " 'CLCNKB',\n",
       " 'CLDN16',\n",
       " 'CLIC2',\n",
       " 'CLMP',\n",
       " 'CLN3',\n",
       " 'CLRN1',\n",
       " 'CNBP',\n",
       " 'CNGA3',\n",
       " 'CNKSR2',\n",
       " 'CNNM2',\n",
       " 'CNTN2',\n",
       " 'COG1',\n",
       " 'COG5',\n",
       " 'COG7',\n",
       " 'COL10A1',\n",
       " 'COL11A1',\n",
       " 'COL11A2',\n",
       " 'COL12A1',\n",
       " 'COL13A1',\n",
       " 'COL14A1',\n",
       " 'COL17A1',\n",
       " 'COL1A2',\n",
       " 'COL25A1',\n",
       " 'COL2A1',\n",
       " 'COL3A1',\n",
       " 'COL6A1',\n",
       " 'COL6A3',\n",
       " 'COL9A1',\n",
       " 'COL9A2',\n",
       " 'COL9A3',\n",
       " 'COLQ',\n",
       " 'COQ2',\n",
       " 'COQ6',\n",
       " 'COQ8B',\n",
       " 'COQ9',\n",
       " 'COX10',\n",
       " 'COX14',\n",
       " 'CPA1',\n",
       " 'CPA6',\n",
       " 'CPN1',\n",
       " 'CPT1C',\n",
       " 'CPT2',\n",
       " 'CR2',\n",
       " 'CRB1',\n",
       " 'CRB2',\n",
       " 'CREBBP',\n",
       " 'CRELD1',\n",
       " 'CRKL',\n",
       " 'CRLF1',\n",
       " 'CRTAP',\n",
       " 'CRYAB',\n",
       " 'CSF1R',\n",
       " 'CSF2RB',\n",
       " 'CSF3R',\n",
       " 'CSPP1',\n",
       " 'CSTA',\n",
       " 'CSTB',\n",
       " 'CTC1',\n",
       " 'CTCF',\n",
       " 'CTNNA3',\n",
       " 'CTNNB1',\n",
       " 'CTNND2',\n",
       " 'CTNS',\n",
       " 'CTPS1',\n",
       " 'CTRC',\n",
       " 'CTSA',\n",
       " 'CTSC',\n",
       " 'CTSH',\n",
       " 'CTSK',\n",
       " 'CUBN',\n",
       " 'CUL3',\n",
       " 'CUL4B',\n",
       " 'CUL7',\n",
       " 'CWF19L1',\n",
       " 'CYBA',\n",
       " 'CYBB',\n",
       " 'CYC1',\n",
       " 'CYLD',\n",
       " 'CYP11A1',\n",
       " 'CYP11B2',\n",
       " 'CYP17A1',\n",
       " 'CYP19A1',\n",
       " 'CYP1B1',\n",
       " 'CYP21A2',\n",
       " 'CYP24A1',\n",
       " 'CYP26C1',\n",
       " 'CYP27A1',\n",
       " 'CYP27B1',\n",
       " 'CYP2A6',\n",
       " 'CYP2C19',\n",
       " 'CYP2C9',\n",
       " 'CYP2R1',\n",
       " 'CYP2U1',\n",
       " 'CYP7A1',\n",
       " 'CYP7B1',\n",
       " 'D2HGDH',\n",
       " 'DACT1',\n",
       " 'DAG1',\n",
       " 'DBT',\n",
       " 'DCAF17',\n",
       " 'DCAF8',\n",
       " 'DCC',\n",
       " 'DCDC2',\n",
       " 'DCHS1',\n",
       " 'DCLRE1C',\n",
       " 'DCPS',\n",
       " 'DCX',\n",
       " 'DDB2',\n",
       " 'DDC',\n",
       " 'DDR2',\n",
       " 'DDX3X',\n",
       " 'DDX3Y',\n",
       " 'DEPDC5',\n",
       " 'DFNB59',\n",
       " 'DGAT1',\n",
       " 'DGKE',\n",
       " 'DGUOK',\n",
       " 'DHCR24',\n",
       " 'DHCR7',\n",
       " 'DHFR',\n",
       " 'DHH',\n",
       " 'DHODH',\n",
       " 'DHTKD1',\n",
       " 'DIAPH1',\n",
       " 'DIAPH3',\n",
       " 'DICER1',\n",
       " 'DIRC2',\n",
       " 'DIS3L2',\n",
       " 'DKC1',\n",
       " 'DLC1',\n",
       " 'DLEC1',\n",
       " 'DLG3',\n",
       " 'DLL4',\n",
       " 'DLX3',\n",
       " 'DMD',\n",
       " 'DMGDH',\n",
       " 'DMP1',\n",
       " 'DMPK',\n",
       " 'DMRT1',\n",
       " 'DNAAF3',\n",
       " 'DNAH11',\n",
       " 'DNAH5',\n",
       " 'DNAI1',\n",
       " 'DNAI2',\n",
       " 'DNAJB13',\n",
       " 'DNAJB2',\n",
       " 'DNAJB6',\n",
       " 'DNAJC3',\n",
       " 'DNAJC6',\n",
       " 'DNASE1L3',\n",
       " 'DNM1L',\n",
       " 'DNM2',\n",
       " 'DNMT1',\n",
       " 'DNMT3A',\n",
       " 'DOCK2',\n",
       " 'DOCK6',\n",
       " 'DOCK8',\n",
       " 'DOK7',\n",
       " 'DPAGT1',\n",
       " 'DPM1',\n",
       " 'DPP6',\n",
       " 'DPYD',\n",
       " 'DRC1',\n",
       " 'DRD2',\n",
       " 'DSC2',\n",
       " 'DSG1',\n",
       " 'DSP',\n",
       " 'DST',\n",
       " 'DSTYK',\n",
       " 'DTNA',\n",
       " 'DUOX2',\n",
       " 'DUOXA2',\n",
       " 'DYNC2H1',\n",
       " 'DYNC2LI1',\n",
       " 'DYRK1A',\n",
       " 'DYRK1B',\n",
       " 'DYSF',\n",
       " 'EBP',\n",
       " 'ECE1',\n",
       " 'ECEL1',\n",
       " 'ECM1',\n",
       " 'EFHC1',\n",
       " 'EFNB1',\n",
       " 'EFTUD2',\n",
       " 'EGF',\n",
       " 'EGFR',\n",
       " 'EGLN1',\n",
       " 'EHMT1',\n",
       " 'EIF2AK4',\n",
       " 'EIF2B5',\n",
       " 'EIF4A3',\n",
       " 'ELAC2',\n",
       " 'ELANE',\n",
       " 'ELOVL5',\n",
       " 'ELP1',\n",
       " 'ELP2',\n",
       " 'ENPP1',\n",
       " 'EP300',\n",
       " 'EPAS1',\n",
       " 'EPB41',\n",
       " 'EPG5',\n",
       " 'EPHA2',\n",
       " 'EPHA4',\n",
       " 'EPM2A',\n",
       " 'EPOR',\n",
       " 'ERAP1',\n",
       " 'ERBB4',\n",
       " 'ERCC2',\n",
       " 'ERCC6',\n",
       " 'ERF',\n",
       " 'ERLIN2',\n",
       " 'ESCO2',\n",
       " 'ESR1',\n",
       " 'ETHE1',\n",
       " 'ETV6',\n",
       " 'EVC',\n",
       " 'EVC2',\n",
       " 'EXOSC3',\n",
       " 'EXPH5',\n",
       " 'EXT1',\n",
       " 'EXT2',\n",
       " 'EYA1',\n",
       " 'EZH2',\n",
       " 'F9',\n",
       " 'FA2H',\n",
       " 'FADD',\n",
       " 'FAH',\n",
       " 'FAM111A',\n",
       " 'FAM161A',\n",
       " 'FAM20A',\n",
       " 'FAM20C',\n",
       " 'FAM58A',\n",
       " 'FAN1',\n",
       " 'FANCB',\n",
       " 'FANCF',\n",
       " 'FANCI',\n",
       " 'FANCL',\n",
       " 'FANCM',\n",
       " 'FAR1',\n",
       " 'FARS2',\n",
       " 'FAS',\n",
       " 'FASTKD2',\n",
       " 'FBLN5',\n",
       " 'FBXL4',\n",
       " 'FBXO31',\n",
       " 'FBXO38',\n",
       " 'FBXO7',\n",
       " 'FECH',\n",
       " 'FERMT1',\n",
       " 'FERMT3',\n",
       " 'FEZF1',\n",
       " 'FGD1',\n",
       " 'FGF10',\n",
       " 'FGF14',\n",
       " 'FGF23',\n",
       " 'FGF5',\n",
       " 'FGF8',\n",
       " 'FGF9',\n",
       " 'FGFR1',\n",
       " 'FGFR2',\n",
       " 'FGFR3',\n",
       " 'FH',\n",
       " 'FHL1',\n",
       " 'FIG4',\n",
       " 'FKBP10',\n",
       " 'FKBP14',\n",
       " 'FKTN',\n",
       " 'FLAD1',\n",
       " 'FLCN',\n",
       " 'FLG',\n",
       " 'FLNA',\n",
       " 'FLNB',\n",
       " 'FLNC',\n",
       " 'FLT3',\n",
       " 'FLVCR1',\n",
       " 'FLVCR2',\n",
       " 'FMN2',\n",
       " 'FMO3',\n",
       " 'FMR1',\n",
       " 'FOLR1',\n",
       " 'FOXC1',\n",
       " 'FOXC2',\n",
       " 'FOXE1',\n",
       " 'FOXF1',\n",
       " 'FOXG1',\n",
       " 'FOXL2',\n",
       " 'FOXN1',\n",
       " 'FOXP1',\n",
       " 'FOXP2',\n",
       " 'FOXP3',\n",
       " 'FOXRED1',\n",
       " 'FRAS1',\n",
       " 'FREM1',\n",
       " 'FREM2',\n",
       " 'FRMD7',\n",
       " 'FSHR',\n",
       " 'FTO',\n",
       " 'FTSJ1',\n",
       " 'FUCA1',\n",
       " 'FUS',\n",
       " 'FXN',\n",
       " 'FZD4',\n",
       " 'FZD6',\n",
       " 'G6PC',\n",
       " 'G6PC3',\n",
       " 'G6PD',\n",
       " 'GAA',\n",
       " 'GABRA3',\n",
       " 'GABRG2',\n",
       " 'GAL',\n",
       " 'GALC',\n",
       " 'GANAB',\n",
       " 'GARS',\n",
       " 'GAS8',\n",
       " 'GATA2',\n",
       " 'GATA3',\n",
       " 'GATA4',\n",
       " 'GATA5',\n",
       " 'GATA6',\n",
       " 'GATAD2B',\n",
       " 'GBA',\n",
       " 'GBA2',\n",
       " 'GCH1',\n",
       " 'GCK',\n",
       " 'GDAP1',\n",
       " 'GDF1',\n",
       " 'GDF2',\n",
       " 'GDF3',\n",
       " 'GDF5',\n",
       " 'GDI1',\n",
       " 'GDNF',\n",
       " 'GFAP',\n",
       " 'GFI1',\n",
       " 'GGCX',\n",
       " 'GH1',\n",
       " 'GHRHR',\n",
       " 'GJA1',\n",
       " 'GJA5',\n",
       " 'GJB1',\n",
       " 'GJB2',\n",
       " 'GJB6',\n",
       " 'GJC2',\n",
       " 'GK',\n",
       " 'GLI2',\n",
       " 'GLI3',\n",
       " 'GLIS2',\n",
       " 'GLRA1',\n",
       " 'GLRB',\n",
       " 'GLUL',\n",
       " 'GLYCTK',\n",
       " 'GMPPA',\n",
       " 'GMPPB',\n",
       " 'GNA11',\n",
       " 'GNAL',\n",
       " 'GNAO1',\n",
       " 'GNAQ',\n",
       " 'GNAS',\n",
       " 'GNAT1',\n",
       " 'GNB1',\n",
       " 'GNPTAB',\n",
       " 'GNRH1',\n",
       " 'GNRHR',\n",
       " 'GNS',\n",
       " 'GORAB',\n",
       " 'GOSR2',\n",
       " 'GPC3',\n",
       " 'GPD1',\n",
       " 'GPD1L',\n",
       " 'GPI',\n",
       " 'GPIHBP1',\n",
       " 'GPR143',\n",
       " 'GPR179',\n",
       " 'GPR35',\n",
       " 'GPT2',\n",
       " 'GRIA3',\n",
       " 'GRID2',\n",
       " 'GRIK2',\n",
       " 'GRIN2A',\n",
       " 'GRIN2B',\n",
       " 'GRIP1',\n",
       " 'GRN',\n",
       " 'GRXCR2',\n",
       " 'GUCY1A3',\n",
       " 'GUCY2C',\n",
       " 'GYG1',\n",
       " 'GYS1',\n",
       " 'GYS2',\n",
       " 'H19',\n",
       " 'HABP2',\n",
       " 'HACD1',\n",
       " 'HACE1',\n",
       " 'HADH',\n",
       " 'HARS',\n",
       " 'HAX1',\n",
       " 'HCCS',\n",
       " 'HCFC1',\n",
       " 'HCN1',\n",
       " 'HCN4',\n",
       " 'HDAC6',\n",
       " 'HDAC8',\n",
       " 'HELLS',\n",
       " 'HERC2',\n",
       " 'HEXA',\n",
       " 'HEXB',\n",
       " 'HGF',\n",
       " 'HHAT',\n",
       " 'HINT1',\n",
       " 'HIRA',\n",
       " 'HK1',\n",
       " 'HLCS',\n",
       " 'HMGA2',\n",
       " 'HMGCL',\n",
       " 'HMX1',\n",
       " 'HNF1A',\n",
       " 'HNF4A',\n",
       " 'HNMT',\n",
       " 'HNRNPA2B1',\n",
       " 'HNRNPK',\n",
       " 'HOGA1',\n",
       " 'HOXB1',\n",
       " 'HOXC13',\n",
       " 'HOXD10',\n",
       " 'HOXD13',\n",
       " 'HPGD',\n",
       " 'HPRT1',\n",
       " 'HPS5',\n",
       " 'HPS6',\n",
       " 'HPSE2',\n",
       " 'HRAS',\n",
       " 'HSD11B2',\n",
       " 'HSD17B10',\n",
       " 'HSD3B2',\n",
       " 'HSF4',\n",
       " 'HSPA9',\n",
       " 'HSPB8',\n",
       " 'HSPG2',\n",
       " 'HUWE1',\n",
       " 'HYDIN',\n",
       " 'IBA57',\n",
       " 'ICK',\n",
       " 'ICOS',\n",
       " 'IDH1',\n",
       " 'IDH2',\n",
       " 'IDH3B',\n",
       " 'IDUA',\n",
       " 'IFIH1',\n",
       " 'IFITM5',\n",
       " 'IFNGR1',\n",
       " 'IFNGR2',\n",
       " 'IFT140',\n",
       " 'IFT27',\n",
       " 'IFT52',\n",
       " 'IGF1',\n",
       " 'IGF1R',\n",
       " 'IGF2',\n",
       " 'IGF2R',\n",
       " 'IGHMBP2',\n",
       " 'IGSF1',\n",
       " 'IHH',\n",
       " 'IKBKG',\n",
       " 'IL10RA',\n",
       " 'IL10RB',\n",
       " 'IL11RA',\n",
       " 'IL12RB1',\n",
       " 'IL17RC',\n",
       " 'IL17RD',\n",
       " 'IL1RAPL1',\n",
       " 'IL1RN',\n",
       " 'IL21',\n",
       " 'IL21R',\n",
       " 'IL23R',\n",
       " 'IL2RA',\n",
       " 'IL36RN',\n",
       " 'IL7R',\n",
       " 'ILDR1',\n",
       " 'IMPAD1',\n",
       " 'IMPG2',\n",
       " 'ING1',\n",
       " 'INPP5E',\n",
       " 'INSL3',\n",
       " 'IPW',\n",
       " 'IQSEC2',\n",
       " 'IRAK4',\n",
       " 'IRF6',\n",
       " 'IRF7',\n",
       " 'ISCA2',\n",
       " 'ISCU',\n",
       " 'ISG15',\n",
       " 'ISPD',\n",
       " 'ITCH',\n",
       " 'ITGA3',\n",
       " 'ITGA8',\n",
       " 'ITGB3',\n",
       " 'ITGB4',\n",
       " 'ITGB6',\n",
       " 'ITK',\n",
       " 'ITPA',\n",
       " 'ITPR1',\n",
       " 'ITPR2',\n",
       " 'JAG1',\n",
       " 'JAK2',\n",
       " 'JAK3',\n",
       " 'JAM3',\n",
       " 'JPH2',\n",
       " 'JPH3',\n",
       " 'KANK2',\n",
       " 'KANSL1',\n",
       " 'KBTBD13',\n",
       " 'KCNA1',\n",
       " 'KCNA2',\n",
       " 'KCNA5',\n",
       " 'KCNC1',\n",
       " 'KCNE1',\n",
       " 'KCNE2',\n",
       " 'KCNH1',\n",
       " 'KCNH2',\n",
       " 'KCNJ10',\n",
       " 'KCNJ11',\n",
       " 'KCNJ18',\n",
       " 'KCNJ2',\n",
       " 'KCNJ6',\n",
       " 'KCNJ8',\n",
       " 'KCNK3',\n",
       " 'KCNQ1',\n",
       " 'KCNQ2',\n",
       " 'KCNQ3',\n",
       " 'KCNQ4',\n",
       " 'KCNT1',\n",
       " 'KCNV2',\n",
       " 'KCTD7',\n",
       " 'KDM1A',\n",
       " 'KDM6A',\n",
       " 'KDR',\n",
       " 'KEAP1',\n",
       " 'KIF11',\n",
       " 'KIF14',\n",
       " 'KIF1A',\n",
       " 'KIF1B',\n",
       " 'KIF1C',\n",
       " 'KIF2A',\n",
       " 'KIF5A',\n",
       " 'KISS1',\n",
       " 'KISS1R',\n",
       " 'KIT',\n",
       " 'KITLG',\n",
       " 'KIZ',\n",
       " 'KLC2',\n",
       " 'KLF1',\n",
       " 'KLF11',\n",
       " 'KLF13',\n",
       " 'KLF6',\n",
       " 'KLHL3',\n",
       " 'KLHL40',\n",
       " 'KLHL7',\n",
       " 'KLK4',\n",
       " 'KLKB1',\n",
       " 'KMT2A',\n",
       " 'KMT2D',\n",
       " 'KNL1',\n",
       " 'KPTN',\n",
       " 'KRAS',\n",
       " 'KRIT1',\n",
       " 'KRT17',\n",
       " 'KRT5',\n",
       " 'KRT71',\n",
       " 'KRT83',\n",
       " 'KRT9',\n",
       " 'L1CAM',\n",
       " 'LAMA1',\n",
       " 'LAMA2',\n",
       " 'LAMA4',\n",
       " 'LAMB1',\n",
       " 'LAMB2',\n",
       " 'LAMB3',\n",
       " 'LAMC2',\n",
       " 'LAMP2',\n",
       " 'LARP7',\n",
       " 'LAS1L',\n",
       " 'LBR',\n",
       " 'LCAT',\n",
       " 'LDB3',\n",
       " 'LDLR',\n",
       " 'LDLRAP1',\n",
       " 'LEMD3',\n",
       " 'LEPR',\n",
       " 'LETM1',\n",
       " 'LGI1',\n",
       " 'LHCGR',\n",
       " 'LHX3',\n",
       " 'LIN28B',\n",
       " 'LIPA',\n",
       " 'LIPE',\n",
       " 'LIPH',\n",
       " 'LITAF',\n",
       " 'LMAN1',\n",
       " 'LMBRD1',\n",
       " 'LMF1',\n",
       " 'LMOD3',\n",
       " 'LMX1B',\n",
       " 'LONP1',\n",
       " 'LOX',\n",
       " 'LPAR6',\n",
       " 'LPL',\n",
       " 'LRAT',\n",
       " 'LRBA',\n",
       " 'LRP4',\n",
       " 'LRP5',\n",
       " 'LRP6',\n",
       " 'LRPAP1',\n",
       " 'LRPPRC',\n",
       " 'LRRC6',\n",
       " 'LRSAM1',\n",
       " 'LTBP2',\n",
       " 'LTBP4',\n",
       " 'LYST',\n",
       " 'LZTR1',\n",
       " 'LZTS1',\n",
       " 'MAF',\n",
       " 'MAFB',\n",
       " 'MAGEL2',\n",
       " 'MAGT1',\n",
       " 'MALT1',\n",
       " 'MAMLD1',\n",
       " 'MAOA',\n",
       " 'MAP3K1',\n",
       " 'MAPT',\n",
       " 'MAT1A',\n",
       " 'MBD5',\n",
       " 'MBTPS2',\n",
       " 'MC1R',\n",
       " 'MC2R',\n",
       " 'MC4R',\n",
       " 'MCFD2',\n",
       " 'MCM8',\n",
       " 'MCM9',\n",
       " 'MCOLN1',\n",
       " 'MCPH1',\n",
       " 'MECP2',\n",
       " 'MED12',\n",
       " 'MED13L',\n",
       " 'MED23',\n",
       " 'MED25',\n",
       " 'MEFV',\n",
       " 'MEGF10',\n",
       " 'MEGF8',\n",
       " 'MEIS2',\n",
       " 'MEN1',\n",
       " 'MERTK',\n",
       " 'MET',\n",
       " 'METTL23',\n",
       " 'MFAP5',\n",
       " 'MFN2',\n",
       " 'MFSD2A',\n",
       " 'MFSD8',\n",
       " 'MGAT2',\n",
       " 'MGME1',\n",
       " 'MGP',\n",
       " 'MIB1',\n",
       " 'MICU1',\n",
       " 'MID1',\n",
       " 'MIP',\n",
       " 'MITF',\n",
       " 'MKKS',\n",
       " 'MKRN3',\n",
       " 'MLC1',\n",
       " 'MLH1',\n",
       " 'MMP13',\n",
       " 'MMP9',\n",
       " 'MN1',\n",
       " 'MNX1',\n",
       " 'MOG',\n",
       " 'MOGS',\n",
       " 'MPC1',\n",
       " 'MPDU1',\n",
       " 'MPL',\n",
       " 'MPO',\n",
       " 'MPV17',\n",
       " 'MPZ',\n",
       " 'MRAP',\n",
       " 'MRE11',\n",
       " 'MS4A1',\n",
       " 'MSH2',\n",
       " 'MSH3',\n",
       " 'MSH6',\n",
       " 'MSR1',\n",
       " 'MSRB3',\n",
       " 'MST1',\n",
       " 'MTFMT',\n",
       " 'MTHFR',\n",
       " 'MTM1',\n",
       " 'MTMR2',\n",
       " 'MTPAP',\n",
       " 'MTTP',\n",
       " 'MUT',\n",
       " 'MUTYH',\n",
       " 'MVK',\n",
       " 'MYC',\n",
       " 'MYCN',\n",
       " ...]"
      ]
     },
     "execution_count": 34,
     "metadata": {},
     "output_type": "execute_result"
    }
   ],
   "source": [
    "lof_gene"
   ]
  },
  {
   "cell_type": "code",
   "execution_count": null,
   "metadata": {
    "collapsed": true
   },
   "outputs": [],
   "source": []
  }
 ],
 "metadata": {
  "kernelspec": {
   "display_name": "Python 2",
   "language": "python",
   "name": "python2"
  },
  "language_info": {
   "codemirror_mode": {
    "name": "ipython",
    "version": 2
   },
   "file_extension": ".py",
   "mimetype": "text/x-python",
   "name": "python",
   "nbconvert_exporter": "python",
   "pygments_lexer": "ipython2",
   "version": "2.7.9"
  }
 },
 "nbformat": 4,
 "nbformat_minor": 0
}
